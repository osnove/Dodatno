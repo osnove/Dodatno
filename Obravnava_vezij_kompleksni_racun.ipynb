{
 "cells": [
  {
   "cell_type": "markdown",
   "metadata": {},
   "source": [
    "#  <center> Obravnava vezij vzbujanih z izmeničnimi signali s kompleksnim računom  </center>"
   ]
  },
  {
   "cell_type": "markdown",
   "metadata": {},
   "source": [
    "<br>\n",
    "<center>Dejan Križaj, 2019</center>\n",
    "\n",
    "**Namen:** Zvezek (Notebook) je namenjen seznanjanju študentov z uporabo Jupytra za analizo vezij vzbujanih z izmeničnimi signali z uporabo kompleksnega računa. Prikazali bomo izračun nadomestne impedance ter prehod iz časovnega v kompleksni prostor in nazaj v časovnega. Rezultate bomo prikazali tako v časovnem prostoru kot v kompleksni ravnini s kompleksorji toka in napetosti. \n",
    "\n",
    "**Povezani zvezki:**\n"
   ]
  },
  {
   "cell_type": "markdown",
   "metadata": {},
   "source": [
    "<div class=\"alert alert-block alert-info\">\n",
    "<b>Namig:</b> Obstajata dve verziji tega dokumenta. Ena je v obliki html datoteke (končnica html), ki je ni mogoče izvajati, druga pa ima končnico ipny (Jupyter Notebook), ki jo lahko izvajamo z Jupyter aplikacijo. To aplikacijo imate lahko naloženo na vašem računalniku in se izvaja v brskalniku, lahko jo ogledujete s spletno aplikacijo nbViewer, s spletnimi aplikacijami Binder ali Google Colab pa jo lahko tudi zaganjate in spreminjate. Več o tem si preberite v \n",
    "<a href=\"http://lbm.fe.uni-lj.si/index.php?option=com_content&view=article&id=59&Itemid=135&lang=si\">tem članku</a>.\n",
    "<br>    \n",
    "Za izvajanje tega zvezka ne potrebujete posebnega znanja programiranja v Pythonu, lahko pa poljubno spreminjate kodo in se sproti učite tudi uporabe programskega jezika. Več podobnih primerov je na Githubu na https://github.com/osnove/Dodatno/\n",
    "</div>"
   ]
  },
  {
   "cell_type": "markdown",
   "metadata": {},
   "source": [
    "## Teorija supernakratko\n",
    "\n",
    "Koncept impedance je povezan z uporabo kompleksnega računa pri obravnavi vezij, vzbujanih z izmeničnimi signali.\n",
    "\n",
    "Vzemimo preprost primer vzbujanja \n",
    "zaporedne vezave upora in tuljave na izmenični vir napetosti. Za analizo takega preprostega vezja morali rešiti diferencialno enačbo $u_g(t)=R i(t)+L \\frac {d i(t)}{dt}$. Temu se lahko izognemo, če uporabimo kompleksni račun in upoštevamo t.i. Eulerjevo enačbo $e^{jx}=\\cos (x) +j \\sin (x)$. Vzbujalni signal $u_g(t)=U_g \\cos(\\omega t)$ lahko torej zapišemo kot $ Re[U_g e^{j \\omega t} ]$.\n",
    "Vemo tudi, da bosta tako tok in napetost na elementih pri vzbujanju z izmeničnim signalom tudi izmenična signala, ki ju določa amplituda in fazni kot (faza). Splošna oblika toka bo tako $i(t)=I \\cos(\\omega t +\\varphi_i) = Re[I e^{j \\omega t + \\varphi_i}] =  Re[I e^{j \\varphi_i} e^{j \\omega t} ] = Re[\\underline{I}e^{j \\omega t} ] $. $\\underline{I}=I e^{j \\varphi_i}$ imenujemo kompleksor toka. Vsebuje informacijo o amplitudi in faznemu kotu, kar pa je tudi vse, kar določa tok v vezju.\n",
    "\n",
    "Zgornji zapis toka lahko uporabimo v diferencialni enačbi. Z odvajanjem eksponentne funkcije dobimo zopet eksponentno funkcijo, tako lahko diferencialno enačbo prevedemo v preprosto algebrajsko enačbo\n",
    "$\\underline{U}=R \\underline{I}+j\\omega L \\underline{I}$. Od tod sledi, da je kompleksor toka \n",
    "$\\underline{I}=\\frac{\\underline{U}}{R +j\\omega L }$. Rešitev prevedemo na realni in imaginarni del ali pa amplitudo in fazo. Nato lahko sestavimo nazaj časovni signal tako, da rešitev pomnožimo z $e^{j \\omega t }$ in upoštevamo le realni del. \n",
    "\n",
    "V kompleksnem zapisu lahko torej Ohmov zakon zapišemo v obliki $\\underline{U}=\\underline{Z}\\underline{I}$. \n",
    "$\\underline{Z}$ imenujemo impedanca, in je kvocient med kompleksorjem napetosti in toka:\n",
    "\n",
    "$\\underline{Z}=\\frac{\\underline{U}}{\\underline{I}}$. Poznamo tudi pojem admitance, ki je $\\underline{Y}=\\frac{{1}}{\\underline{Z}}=\\frac{\\underline{I}}{\\underline{U}}$.\n",
    "\n",
    "Impedanca upora je očitno $\\underline{Z}_R=R$, tuljave $\\underline{Z}_L={j\\omega L}$ in kondenzatorja $\\underline{Z}_C=\\frac{1}{j\\omega C}$ .\n",
    "\n",
    "Admitanca upora je $\\underline{Y}_R=1/R = G$, tuljave $\\underline{Y}_L=\\frac{1}{j\\omega L}$ in kondenzatorja $\\underline{Y}_C={j\\omega C}$ .\n"
   ]
  },
  {
   "cell_type": "markdown",
   "metadata": {},
   "source": [
    "***\n",
    "## Jupyter in kompleksni račun\n",
    "\n",
    "Imaginarno število Python \"razume\", če za številom dodamo črko j. Če napišeš j pred število, Python javi napako. Poglejmo par spodnjih računov."
   ]
  },
  {
   "cell_type": "code",
   "execution_count": 2,
   "metadata": {},
   "outputs": [
    {
     "name": "stdout",
     "output_type": "stream",
     "text": [
      "(3+3j)\n",
      "(-2+3j)\n",
      "(5+12j)\n",
      "(-1+0j)\n"
     ]
    }
   ],
   "source": [
    "a=3+2j\n",
    "b=1j\n",
    "c=-1-2j\n",
    "print(a+b)\n",
    "print(a*b)\n",
    "print(a*a)\n",
    "print(b*b)"
   ]
  },
  {
   "cell_type": "markdown",
   "metadata": {},
   "source": [
    "Druga varianta je, da uporabimo ukaz complex(x,y), ki naredi kompleksno število x+jy."
   ]
  },
  {
   "cell_type": "code",
   "execution_count": 3,
   "metadata": {},
   "outputs": [
    {
     "data": {
      "text/plain": [
       "(3+2j)"
      ]
     },
     "execution_count": 3,
     "metadata": {},
     "output_type": "execute_result"
    }
   ],
   "source": [
    "z=complex(3,2)\n",
    "z"
   ]
  },
  {
   "cell_type": "markdown",
   "metadata": {},
   "source": [
    "Realni del, imaginarni del in fazni kot dobimo na sledeč način"
   ]
  },
  {
   "cell_type": "code",
   "execution_count": 4,
   "metadata": {},
   "outputs": [
    {
     "name": "stdout",
     "output_type": "stream",
     "text": [
      "3.0\n",
      "2.0\n"
     ]
    },
    {
     "ename": "NameError",
     "evalue": "name 'phase' is not defined",
     "output_type": "error",
     "traceback": [
      "\u001b[1;31m---------------------------------------------------------------------------\u001b[0m",
      "\u001b[1;31mNameError\u001b[0m                                 Traceback (most recent call last)",
      "\u001b[1;32m<ipython-input-4-c4cfc276172e>\u001b[0m in \u001b[0;36m<module>\u001b[1;34m\u001b[0m\n\u001b[0;32m      1\u001b[0m \u001b[0mprint\u001b[0m\u001b[1;33m(\u001b[0m\u001b[0ma\u001b[0m\u001b[1;33m.\u001b[0m\u001b[0mreal\u001b[0m\u001b[1;33m)\u001b[0m\u001b[1;33m\u001b[0m\u001b[0m\n\u001b[0;32m      2\u001b[0m \u001b[0mprint\u001b[0m\u001b[1;33m(\u001b[0m\u001b[0ma\u001b[0m\u001b[1;33m.\u001b[0m\u001b[0mimag\u001b[0m\u001b[1;33m)\u001b[0m\u001b[1;33m\u001b[0m\u001b[0m\n\u001b[1;32m----> 3\u001b[1;33m \u001b[0mprint\u001b[0m\u001b[1;33m(\u001b[0m\u001b[0mphase\u001b[0m\u001b[1;33m(\u001b[0m\u001b[0ma\u001b[0m\u001b[1;33m)\u001b[0m\u001b[1;33m)\u001b[0m\u001b[1;33m\u001b[0m\u001b[0m\n\u001b[0m",
      "\u001b[1;31mNameError\u001b[0m: name 'phase' is not defined"
     ]
    }
   ],
   "source": [
    "print(a.real)\n",
    "print(a.imag)\n",
    "print(phase(a))"
   ]
  },
  {
   "cell_type": "markdown",
   "metadata": {},
   "source": [
    "Jupyter javi napako, ker ukaz phase spada v knjižnico (modul) cmath. Če vključimo ta modul, lahko uporabimo še druge ukaze. Poleg tega vključimo še modul numpy, ki z nekoliko drugačnimi ukazi tudi omogoča račune s kompleksnimi števili."
   ]
  },
  {
   "cell_type": "code",
   "execution_count": 14,
   "metadata": {},
   "outputs": [
    {
     "name": "stdout",
     "output_type": "stream",
     "text": [
      "1.5707963267948966\n",
      "90.0\n",
      "-116.56505117707799\n",
      "Fazni kot = 1.1071487177940904\n",
      "Fazni kot v stopinjah= 63.43494882292201\n",
      "-116.56505117707799\n",
      "3.6055512754639896\n",
      "Preverim abs: 3.605551275463989\n",
      "3.6055512754639896\n",
      "Real(a) =  3.0\n",
      "Imag(a) =  2.0\n",
      "Fazni kot(a) =  0.5880026035475675\n",
      "Fazni kot(a) v stopinjah =  33.690067525979785\n",
      "Conjugate(a) =  (3-2j)\n"
     ]
    }
   ],
   "source": [
    "import cmath as cm # pred ukaze iz te knjižnice moramo dati cm.\n",
    "import numpy as np # dodamo še numerično knjižico \n",
    "\n",
    "# Izračun faznega kota\n",
    "print(cm.phase(b))  # fazni kot v radianih\n",
    "print(cm.phase(b)*180/cm.pi)  # fazni kot v stopinjah\n",
    "print(cm.phase(c)*180/cm.pi)  # fazni kot v radianih\n",
    "fi=np.arctan(c.imag/c.real) # primerjam z izračunom z arcus tanges\n",
    "print('Fazni kot =',fi)\n",
    "print('Fazni kot v stopinjah=',np.rad2deg(fi)) # pretvorba iz rad v deg\n",
    "#POZOR: cm.phase() pravilno upošteva, da je kompleksor v tretjem kvadrantu, medtem ko izračun z Arctan \n",
    "#       da rezultat kot v prvem kvadrantu. Rešitev je ta, da sami prištejemo pi ali pa da uporabimo funkcijo arctan2()\n",
    "print(np.arctan2(c.imag,c.real)*180/cm.pi) # uporaba arctan2()\n",
    "\n",
    "\n",
    "# Absolutna vrednost\n",
    "print(abs(a))  # abs vrednost od a\n",
    "print('Preverim abs:',np.sqrt(a.real*a.real+a.imag*a.imag))\n",
    "print(np.abs(a))  # abs vrednost od a s knjižnico numpy\n",
    "\n",
    "# Uporaba Numpy modula\n",
    "print('Real(a) = ', np.real(a)) \n",
    "print('Imag(a) = ', np.imag(a))\n",
    "print('Fazni kot(a) = ', np.angle(a))\n",
    "print('Fazni kot(a) v stopinjah = ', np.angle(a,deg=True))\n",
    "print('Conjugate(a) = ', np.conj(a))"
   ]
  },
  {
   "cell_type": "markdown",
   "metadata": {},
   "source": [
    "Modul cmath ima tudi ukaze $polar()$, ki iz rektangularnega zapisa prevede v polarni in funkcijo $rect()$, ki iz polarnega zapisa naredi rektangularnega."
   ]
  },
  {
   "cell_type": "code",
   "execution_count": 15,
   "metadata": {},
   "outputs": [
    {
     "name": "stdout",
     "output_type": "stream",
     "text": [
      "(3.6055512754639896, 0.5880026035475675)\n",
      "<class 'tuple'>\n",
      "3.6055512754639896 0.5880026035475675\n",
      "(3.0000000000000004+1.9999999999999998j)\n",
      "(3+2j)\n"
     ]
    }
   ],
   "source": [
    "d=cm.polar(a) # pretvorba v polarni zapis z amplitudo in fazo\n",
    "print(d)\n",
    "print(type(d)) # d je tipa tuple, po slovensko terka\n",
    "print(d[0],d[1]) # prvi člen d-ja dobimo kot d[0], drugega kot d[1]\n",
    "a_nazaj=cm.rect(d[0],d[1]) # pretvorba iz polarnega v rektangularnega\n",
    "print(a_nazaj )\n",
    "# ugotovimo, da pridemo do problema zaokroževanja, ki sicer ne vpliva mnogo na končen rezulat ...\n",
    "# ni pa zelo praktičen ali lep izpis. Lahko ga \"popravimo\", če uporabimo funkcijo zaokroževanja round)()\n",
    "print(np.round(a_nazaj,2) )"
   ]
  },
  {
   "cell_type": "markdown",
   "metadata": {},
   "source": [
    "### Zdaj pa ti\n",
    "Imamo dve kompleksni števili z1=2+j in z2=-1-j3. \n",
    "Določi:\n",
    "* absolutno vrednost produkta z1 in z2\n",
    "* absolutno vrednost z1 primerjaj z izrazom, ki pretvori rektangularni v polarni zapis\n",
    "* absolutno vrednost z1 primerjaj z izrazom, ki ga dobiš z množenjem s konjugirano vrednostjo\n",
    "* na tri načine poišči fazni kot kompleksorja z2\n",
    "\n",
    "(V spodnjo celico vneseš izraze in celico zaženeš s Ctrl-Enter. Rešitve so na koncu zvezka.)"
   ]
  },
  {
   "cell_type": "code",
   "execution_count": null,
   "metadata": {},
   "outputs": [],
   "source": []
  },
  {
   "cell_type": "markdown",
   "metadata": {},
   "source": [
    "## Risanje kompleksorjev v kompleksni ravnini\n",
    "\n",
    "V ta namen moramo sami ustvariti obliko koordinatnega sistema. Spodaj je prikazanih nekaj možnih načinov. V prvem uporabimo klasično strukturo grafa in dodamo kompleksorje kot puščice. V drugem dodamo puščice za označitev kompleksne ravnine iz središča (0,0). V tretjem premaknemo X in Y os na sredino. Na koncu poglavja je dodan še poseben primer, v katerem prikažemo možnost uporabe funkcij, shranjenih v ločeni datoteki.\n",
    "Izrišimo kompleksorje a, b in c iz prejšnje obravnave."
   ]
  },
  {
   "cell_type": "markdown",
   "metadata": {},
   "source": [
    "### Izris kompleksorjev v običajnem grafu"
   ]
  },
  {
   "cell_type": "code",
   "execution_count": 7,
   "metadata": {},
   "outputs": [
    {
     "name": "stderr",
     "output_type": "stream",
     "text": [
      "c:\\users\\dean\\appdata\\local\\programs\\python\\python37-32\\lib\\site-packages\\numpy\\core\\numeric.py:538: ComplexWarning: Casting complex values to real discards the imaginary part\n",
      "  return array(a, dtype, copy=False, order=order)\n"
     ]
    },
    {
     "data": {
      "image/png": "[encoded data removed]",
      "text/plain": [
       "<Figure size 432x288 with 1 Axes>"
      ]
     },
     "metadata": {
      "needs_background": "light"
     },
     "output_type": "display_data"
    }
   ],
   "source": [
    "import matplotlib.pyplot as plt\n",
    "%matplotlib inline\n",
    "\n",
    "plt.figure()\n",
    "plt.grid()\n",
    "plt.xlim(-4,4)\n",
    "plt.ylim(-4,4)\n",
    "plt.xlabel('Re [ ]')\n",
    "plt.ylabel('Im [ ]')\n",
    "plt.arrow(0, 0, a.real, a.imag, head_width=a/20, head_length=a/20, fc='b', ec='b');\n",
    "plt.arrow(0, 0, b.real, b.imag, head_width=a/20, head_length=a/20, fc='b', ec='b');\n",
    "plt.arrow(0, 0, c.real, c.imag, head_width=a/20, head_length=a/20, fc='b', ec='b');"
   ]
  },
  {
   "cell_type": "markdown",
   "metadata": {},
   "source": [
    "### Izris z dodano označitvijo kompleksne ravnine\n",
    "Če želimo, lahko z nekaj dodatnega dela ustvarimo še obliko in označbo osi, kot smo jo vajeni - tako, ki poteka skozi koordinatno izhodišče. Preprosto dodamo še dva vektorja in označitve osi."
   ]
  },
  {
   "cell_type": "code",
   "execution_count": 8,
   "metadata": {},
   "outputs": [
    {
     "data": {
      "text/plain": [
       "Text(3.044441020371192, -0.380555127546399, 'Re')"
      ]
     },
     "execution_count": 8,
     "metadata": {},
     "output_type": "execute_result"
    },
    {
     "data": {
      "image/png": "[encoded data removed]",
      "text/plain": [
       "<Figure size 432x288 with 1 Axes>"
      ]
     },
     "metadata": {
      "needs_background": "light"
     },
     "output_type": "display_data"
    }
   ],
   "source": [
    "w=abs(a)+0.2 # velikost osi določimo relativno glede na velikost kompleksorja a\n",
    "\n",
    "plt.figure()\n",
    "plt.axis(\"on\")\n",
    "plt.grid()\n",
    "plt.xlim(-w,w)\n",
    "plt.ylim(-w,w)\n",
    "plt.arrow(0, 0, a.real, a.imag, head_width=w/20, head_length=w/20, fc='b', ec='b');\n",
    "plt.arrow(0, 0, b.real, b.imag, head_width=w/20, head_length=w/20, fc='b', ec='b');\n",
    "plt.arrow(0, 0, c.real, c.imag, head_width=w/20, head_length=w/20, fc='b', ec='b');\n",
    "plt.arrow(0, -w, 0, 1.9*w, head_width=w/20, head_length=w/20, fc='k', ec='k');\n",
    "plt.arrow(-w, 0, 1.9*w, 0, head_width=w/20, head_length=w/20, fc='k', ec='k');\n",
    "plt.text(-0.1*w, 0.8*w, \"Im\", fontsize=14)\n",
    "plt.text( 0.8*w,-0.1*w, \"Re\", fontsize=14)\n",
    "# Ugotovimo, da head_length naredi puščico, ki šele začne od točke, ki jo kaže kompleksor"
   ]
  },
  {
   "cell_type": "markdown",
   "metadata": {},
   "source": [
    "### Izris s premaknitvijo X in Y osi na sredino"
   ]
  },
  {
   "cell_type": "code",
   "execution_count": 9,
   "metadata": {},
   "outputs": [
    {
     "data": {
      "image/png": "[encoded data removed]",
      "text/plain": [
       "<Figure size 432x288 with 1 Axes>"
      ]
     },
     "metadata": {
      "needs_background": "light"
     },
     "output_type": "display_data"
    }
   ],
   "source": [
    "fig, ax = plt.subplots()\n",
    "# Move left y-axis and bottim x-axis to centre, passing through (0,0)\n",
    "ax.spines['left'].set_position('center')\n",
    "ax.spines['bottom'].set_position('center')\n",
    "\n",
    "# Eliminate upper and right axes\n",
    "ax.spines['right'].set_color('none')\n",
    "ax.spines['top'].set_color('none')\n",
    "\n",
    "# Show ticks in the left and lower axes only\n",
    "ax.xaxis.set_ticks_position('bottom')\n",
    "ax.yaxis.set_ticks_position('left')\n",
    "\n",
    "ax.set_xlabel('                                                 Re []')\n",
    "ax.set_ylabel('                                                 Im []')\n",
    "plt.xlim(-w,w)\n",
    "plt.ylim(-w,w)\n",
    "plt.arrow(-w, 0, 1.95*w, 0, head_width=w/20, head_length=w/20, fc='k', ec='k');\n",
    "plt.arrow(0, -w, 0, 1.95*w, head_width=w/20, head_length=w/20, fc='k', ec='k');\n",
    "plt.arrow(0, 0, a.real, a.imag, head_width=w/20, head_length=w/20, fc='b', ec='b');\n",
    "plt.arrow(0, 0, b.real, b.imag, head_width=w/20, head_length=w/20, fc='b', ec='b');\n",
    "plt.arrow(0, 0, c.real, c.imag, head_width=w/20, head_length=w/20, fc='b', ec='b');"
   ]
  },
  {
   "cell_type": "markdown",
   "metadata": {},
   "source": [
    "### Zdaj pa ti\n",
    "\n",
    "* dodaj v graf še kompleksorja z1 in z2 (z1=2+j , z2=-1-j3). Npr. z rdečo barvo.\n",
    "* bi znal izračunati z3=z2-z1 in prikazati na grafu z izhodiščem v točki z2?\n",
    "* <b> In še mali programerski izziv: </b> V zgornjem primeru bi bilo lepše, če bi se puščica zaključila v točki, ki jo določa kompleksor. Sedaj je tako, da se puščica doda na koncu daljice, kar povzroči, da konica puščice kaže nekoliko dlje, kot je pravilno. Poiščite način, da bi to popravili. (Rešitev je na koncu zvezka.)"
   ]
  },
  {
   "cell_type": "code",
   "execution_count": null,
   "metadata": {},
   "outputs": [],
   "source": []
  },
  {
   "cell_type": "markdown",
   "metadata": {},
   "source": [
    "### Še možnost uporabe polarnega koordinatnega sistema"
   ]
  },
  {
   "cell_type": "code",
   "execution_count": 10,
   "metadata": {},
   "outputs": [
    {
     "data": {
      "text/plain": [
       "[<matplotlib.lines.Line2D at 0xb8daed0>]"
      ]
     },
     "execution_count": 10,
     "metadata": {},
     "output_type": "execute_result"
    },
    {
     "data": {
      "image/png": "[encoded data removed]",
      "text/plain": [
       "<Figure size 432x288 with 1 Axes>"
      ]
     },
     "metadata": {
      "needs_background": "light"
     },
     "output_type": "display_data"
    }
   ],
   "source": [
    "plt.figure()\n",
    "plt.polar([0,np.angle(a)],[0,abs(a)],marker='')\n",
    "plt.polar([0,np.angle(b)],[0,abs(b)],marker='')\n",
    "plt.polar([0,np.angle(c)],[0,abs(c)],marker='')"
   ]
  },
  {
   "cell_type": "markdown",
   "metadata": {},
   "source": [
    "## Obravnava izmeničnih vezij s kompleksnim računom\n",
    "\n",
    "Kot smo ugotovili v uvodu, lahko vezje vzbujano z izmeničnim signalom obravnavamo z uporabo kompleksnega računa.\n",
    "V prvem primeru bomo poiskali nadomestno impedanco vezja, v drugem primeru pa bomo celovito obravnavali preprosto zaporedno vezavo upora in tuljave priključeno na  izmenični napetostni vir."
   ]
  },
  {
   "cell_type": "markdown",
   "metadata": {},
   "source": [
    "### Izračun nadomestne impedance vezja\n",
    "\n",
    "Računanje nadomestne impedance je preprosto. Pogledati je potrebno, kako so vezani posamezni elementi in jih ustrezno (vzporedno ali zaporedno) seštevati. V določenih primerih je možno, da so elementi vezja povezani tako, da vzporedno-zaporedna vezava ni možna. Ena od takih variant je lahko vezava v trikot ali zvezdo, ki se jo z ustreznimi enačbami da pretvarjati med sabo. V še bolj splošnih primerih pa lahko nadomestno impedanco izračunamo z analizo vezja, kjer se predpostavi, da je na vezje priključen nek napetostni ali tokovni vir in se izračuna tok ali napetost na zunanjih sponkah. Potem je $\\underline{Z}_{nad}=\\frac{\\underline{U}}{\\underline{I}}$. Analizo vezij, kjer je potrebno rešiti sistem enačb, obravnavamo v posebnem zvezku.\n",
    "\n",
    "V tem podpoglavju bomo izračunali nadomestno impedanco spodnjega vezja."
   ]
  },
  {
   "cell_type": "markdown",
   "metadata": {},
   "source": [
    "\n",
    "<img src=\"https://raw.githubusercontent.com/osnove/Slike/master/impedanca_2.png\" style=\"height:150px\" align=\"left\"> \n",
    "Izračunajmo nadomestno impedanco vezja za podatke:\n",
    "\n",
    "$\\quad C=1 \\, \\mu $F <br>\n",
    "$\\quad L=2 $mH <br>\n",
    "$\\quad R = 20 \\, \\Omega$ <br>\n",
    "$\\quad f = 5 \\, $ kHz"
   ]
  },
  {
   "cell_type": "code",
   "execution_count": 11,
   "metadata": {},
   "outputs": [
    {
     "name": "stdout",
     "output_type": "stream",
     "text": [
      "Nadomestna impedanca je Znad = (18.16-26.05j)\n"
     ]
    }
   ],
   "source": [
    "C=1e-6\n",
    "L=2e-3\n",
    "R=20\n",
    "freq=5e3\n",
    "omega=2*np.pi*freq\n",
    "\n",
    "# Izračun impedanc\n",
    "ZL=1j*omega*L # POZOR: ČE BI NAPISAL SAMO j, BI JUPYTER JAVIL NAPAKO. \n",
    "ZC=1/(1j*omega*C)\n",
    "\n",
    "# Vzporedna vezava L in R\n",
    "YRL=1/R+1/ZL\n",
    "ZRL=1/YRL\n",
    "\n",
    "# Zaporedna vezava C in ZRL\n",
    "Znad=ZC+ZRL\n",
    "print(\"Nadomestna impedanca je Znad =\",np.round(Znad,3))"
   ]
  },
  {
   "cell_type": "code",
   "execution_count": 12,
   "metadata": {},
   "outputs": [
    {
     "name": "stdout",
     "output_type": "stream",
     "text": [
      "Nadomestna impedanca je Znad = (18.16-26.05j)\n"
     ]
    }
   ],
   "source": [
    "# Enako kot prej samo vse v enem koraku\n",
    "\n",
    "Znad=1/(1j*omega*C)+1/(1/R+1/(1j*omega*L))\n",
    "print(\"Nadomestna impedanca je Znad =\",np.round(Znad,3))"
   ]
  },
  {
   "cell_type": "markdown",
   "metadata": {},
   "source": [
    "### Primer obravnave RL vezja s kompleksnim računom\n",
    "\n",
    "Z uporabo kompleksnega računa bomo izračunali impedanco vezja ter nato tok in napetost na posameznih elementih. Kompleksorje bomo pretvorili v časovni signal in jih prikazali grafično.\n",
    "\n",
    "\n",
    "<img src=\"https://raw.githubusercontent.com/osnove/Slike/master/impedanca_1.png\" style=\"height:150px\" align=\"left\"> \n",
    "\n",
    "Izračunajmo tok in napetosti v vezju za naslednje podatke:\n",
    "\n",
    "$\\quad u_G(t)=50 \\cos (20 t) $  V  <br>\n",
    "$\\quad L=100 $ mH <br>\n",
    "$\\quad R = 2 \\, \\Omega$ <br>"
   ]
  },
  {
   "cell_type": "code",
   "execution_count": 13,
   "metadata": {},
   "outputs": [
    {
     "name": "stdout",
     "output_type": "stream",
     "text": [
      "ZRL =  (2+2j)\n",
      "I =  (12.5-12.5j)\n",
      "Iabs =  17.67766952966369\n",
      "Faza =  -45.0\n"
     ]
    }
   ],
   "source": [
    "L=100e-3\n",
    "R=2\n",
    "U=50\n",
    "omega=20\n",
    "ZL=1j*omega*L\n",
    "\n",
    "# Izračun impedance\n",
    "ZRL=R+ZL\n",
    "print('ZRL = ',ZRL)\n",
    "\n",
    "# Izračun kompleksorja toka\n",
    "I=U/ZRL\n",
    "print('I = ',I)\n",
    "\n",
    "# Izračun amplitude in faze\n",
    "Iabs=abs(I); print('Iabs = ',Iabs)\n",
    "fi=np.angle(I,deg=True); print('Faza = ',fi)"
   ]
  },
  {
   "cell_type": "markdown",
   "metadata": {},
   "source": [
    "Določili smo amplitudo in fazni kot toka. Sedaj lahko tvorimo časovni signal, kot smo to opisali v uvodu. Formalno to naredimo tako, da pomnožimo dobljeni kompleksor z $e^{j \\omega t}$ in vzamemo realni del. V praksi to pomeni, da je rezultat $i(t)=I \\cos (\\omega t + \\varphi)$. \n",
    "V konkretnem primeru torej $i(t)=17.68 \\cos (20 t -45)$ A. (Če boš spreminjal vrednosti parametrov, se seveda spremenijo tudi vrednosti v enačbi).\n",
    "\n",
    "Signala lahko še izrišemo v grafu, najbolje tako, da napetostni in tokovni signal rišemo na dveh ločenih Y oseh. Glej primer na strani https://github.com/osnove/Dodatno/blob/master/oe1_Q_i.ipynb."
   ]
  },
  {
   "cell_type": "code",
   "execution_count": 33,
   "metadata": {},
   "outputs": [
    {
     "data": {
      "image/png": "[encoded data removed]",
      "text/plain": [
       "<Figure size 432x288 with 2 Axes>"
      ]
     },
     "metadata": {
      "needs_background": "light"
     },
     "output_type": "display_data"
    }
   ],
   "source": [
    "import matplotlib\n",
    "import matplotlib.pyplot as plt\n",
    "%matplotlib inline \n",
    "\n",
    "t = np.linspace(0.0, 10/omega, 1000)\n",
    "ug=U*np.sin(omega*t)\n",
    "i=Iabs*np.sin(omega*t+fi)\n",
    "\n",
    "\n",
    "fig, ax1 = plt.subplots()\n",
    "\n",
    "color = 'tab:red'\n",
    "ax1.set_xlabel('Čas (s)')\n",
    "ax1.set_ylabel('Napetost ug / V', color=color)\n",
    "ax1.plot(t, ug, color=color)\n",
    "\n",
    "ax1.tick_params(axis='y', labelcolor=color)\n",
    "ax1.grid(axis='x')\n",
    "\n",
    "ax2 = ax1.twinx()  # x os za drugi plot naj bo enaka x osi prvega plota\n",
    "color = 'tab:blue'\n",
    "ax2.set_ylabel('Tok / A', color=color)  \n",
    "ax2.plot(t, i, color=color)\n",
    "ax2.tick_params(axis='y', labelcolor=color)\n",
    "plt.show()"
   ]
  },
  {
   "cell_type": "markdown",
   "metadata": {},
   "source": [
    "#### Opravi naslednje analize:\n",
    "1. Spreminjaj vrednosti upora in tuljave in opazuj spremembe.\n",
    "2. Spreminjaj frekvenco signala in opazuj spremembe. Na videz ni dosti sprememb, ker je časovni prikaz normiran na prikaz slabih dveh period. Enako je s prikazom toka, ki je normiran na maksimalno vrednost, zato je potrebno opazovati vrednosti na Y osi.\n",
    "3. Dodaj grafu še izris napetosti na uporu in tuljavi. (Rešitev je na koncu zvezka). Opazujte napetost na uporu in tuljavi pri frekvencah 20 Hz in 200 Hz.\n",
    "4. Prikaži kompleksorje toka in napetosti v kompleksni ravnini. Pozor: kompleksorji toka in napetosti so različnih velikosti zato moramo izbrati različna merila za tok in napetost, da jih lahko rišemo v istem grafu. (Rešitev je na koncu zvezka).\n"
   ]
  },
  {
   "cell_type": "code",
   "execution_count": null,
   "metadata": {},
   "outputs": [],
   "source": []
  },
  {
   "cell_type": "markdown",
   "metadata": {},
   "source": [
    "### Zdaj pa ti\n",
    "\n",
    "\n",
    "<img src=\"https://raw.githubusercontent.com/osnove/Slike/master/impedanca_2.png\" style=\"height:150px\" align=\"left\"> \n",
    "Vzemi že obravnavano vezje in izračunaj tokove v vezju ter jih prikaži v kompleksni ravnini za vzbujanje vezja \n",
    "z napetostnim signalom $\\; u_G(t)=20 \\cos (1000 t) $  V . \n",
    "Rešitev je na koncu zvezka.<br> \n",
    "\n",
    "$\\quad C=50 \\, \\mu $F <br>\n",
    "$\\quad L=5 $mH <br>\n",
    "$\\quad R = 2 \\, \\Omega$ <br>\n"
   ]
  },
  {
   "cell_type": "markdown",
   "metadata": {},
   "source": [
    "## Zaključek\n",
    "\n",
    "V zvezku smo spoznali način obravnave vezij vzbujanih z izmeničnimi signali s kompleksnim računom. Pri tem je potrebno znati zapisati impedance posameznih elementov vezja ter njihovo vezavo. Poznati je potrebno tudi način pretvorbe časovnega signala v kompleksor in obratno - iz kompleksorja zapisati časovni signal.\n",
    "\n",
    "Spoznali smo več načinov izrisa rezultatov: lahko z risanjem časovnega poteka tokov in napetosti, z risanjem amplitude in faze kot funkcijo frekvence ali pa s kazalci v kompleksni ravnini. Vsak način zase nam da določen vpogled v tokovno/napetostne razmere v vezju. \n",
    "\n",
    "**Naslednje branje:** Obravnava resonančnega pojava"
   ]
  },
  {
   "cell_type": "markdown",
   "metadata": {},
   "source": [
    "## Dodatno - zapis funkcije v drugi datoteki in vnos\n",
    "Spodnja celica naredi kompleksno ravnino s pomočjo funkcije complex_plane, ta pa se nahaja v datoteki funkcije.py, ki jo pokličemo z ukazom **from funkcije import complex_plane**, enako, kot vnesemo druge module. Datoteka funkcije.py se mora nahajati v isti mapi, kot ta zvezek. Vsebina datoteke funkcije je prikazana v celici na koncu zvezka. Lahko jo tudi izvedete (s Ctrl-Enter), kar bo tudi omogočalo izvajanje funkcij v spodnji celici. \n",
    "\n",
    "Funcija cc() zmanjša velikost vektorja za velikost puščice."
   ]
  },
  {
   "cell_type": "code",
   "execution_count": 34,
   "metadata": {},
   "outputs": [
    {
     "data": {
      "image/png": "[encoded data removed]",
      "text/plain": [
       "<Figure size 432x288 with 1 Axes>"
      ]
     },
     "metadata": {
      "needs_background": "light"
     },
     "output_type": "display_data"
    }
   ],
   "source": [
    "from funkcije import complex_plane, cc\n",
    "import matplotlib.pyplot as plt\n",
    "%matplotlib inline\n",
    "\n",
    "w=abs(a)   # koordinatni sistem določim glede na največji kompleksor, ki jih rišem     \n",
    "complex_plane(w,True) # w je največji kompleksor, True je za prikaz mreže, False brez\n",
    "%config InlineBackend.close_figures=False # keep figures open in pyplot # da ostane graf odprt za dodatne plote\n",
    "plt.arrow(0, 0, cc(a,w).real, cc(a,w).imag, head_width=w/20, head_length=w/20, fc='b', ec='b');\n",
    "plt.arrow(0, 0, cc(b,w).real, cc(b,w).imag, head_width=w/20, head_length=w/20, fc='b', ec='b');\n",
    "plt.arrow(0, 0, cc(c,w).real, cc(c,w).imag, head_width=w/20, head_length=w/20, fc='b', ec='b');"
   ]
  },
  {
   "cell_type": "markdown",
   "metadata": {},
   "source": [
    "## Rešitve"
   ]
  },
  {
   "cell_type": "code",
   "execution_count": 18,
   "metadata": {},
   "outputs": [
    {
     "name": "stdout",
     "output_type": "stream",
     "text": [
      "7.0710678118654755\n",
      "2.23606797749979 2.23606797749979\n",
      "(2.23606797749979+0j)\n",
      "1.892546881191539\n",
      "1.892546881191539\n",
      "1.892546881191539\n"
     ]
    }
   ],
   "source": [
    "\"\"\" Rešitev iz 2.1: Imamo dve kompleksni števili z1=2+j in z2=-1-j3. \n",
    "Določi:\n",
    "* absolutno vrednost produkta z1 in z2\n",
    "* absolutno vrednost z1 primerjaj z izrazom, ki pretvori rektangularni v polarni zapis\n",
    "* absolutno vrednost z1 primerjaj z izrazom, ki ga dobiš z množenjem s konjugirano vrednostjo\n",
    "* na tri načine poišči fazni kot kompleksorja z2 \"\"\"\n",
    "z1=2+1j\n",
    "z2=-1+3j\n",
    "\n",
    "print(abs(z1*z2))\n",
    "\n",
    "print(abs(z1),cm.polar(z1)[0])\n",
    "\n",
    "print(np.sqrt(z1*np.conj(z1))) # še vedno vrne kompleksno število, je pa Imag del enak nič\n",
    "\n",
    "# Fazni kot z2 na tri načine\n",
    "print(np.angle(z2))\n",
    "print(cm.phase(z2))\n",
    "print(np.arctan2(z2.imag,z2.real))"
   ]
  },
  {
   "cell_type": "code",
   "execution_count": null,
   "metadata": {},
   "outputs": [],
   "source": [
    "\"\"\" Rešitev malega programerskega izziva iz 3.4:\n",
    "odšteti moramo dolžino vektorja tako, da upoštevamo velikost puščice v Re in Im smeri.\n",
    "\"\"\"\n",
    "fi_a=np.angle(a)\n",
    "plt.arrow(0, 0, a.real-a/20*np.cos(fi_a), a.imag-a/20*np.sin(fi_a), head_width=a/20, head_length=a/20, fc='b', ec='b');\n"
   ]
  },
  {
   "cell_type": "code",
   "execution_count": null,
   "metadata": {},
   "outputs": [],
   "source": [
    "\"\"\" Vsebina datoteke funkcije.py. Skopiraj vsebino te celice v datoteko funkcije.py in \n",
    "jo postavi v mapo v kateri je tudi ta zvezek (impedanca.ipny).\"\"\"\n",
    "\n",
    "import matplotlib.pyplot as plt\n",
    "import numpy as np # dodamo še numerično knjižico \n",
    "get_ipython().run_line_magic('matplotlib', 'inline')\n",
    "\n",
    "\n",
    "def complex_plane(w,axis_on=False):\n",
    "    \"\"\"Naredi kompleksno ravnino za\n",
    "    w=največji kompleksor, ki bo v ravnini\n",
    "    axis_on=True za prikaz mreže\"\"\"\n",
    "    w=abs(w)\n",
    "    if axis_on==True: \n",
    "        plt.axis(\"on\")\n",
    "    else: \n",
    "        plt.axis(\"off\")\n",
    "    plt.grid()\n",
    "    plt.xlim(-w,w)\n",
    "    plt.ylim(-w,w)\n",
    "    plt.arrow(0, -w, 0, 1.9*w, head_width=w/20, head_length=w/20, fc='k', ec='k');\n",
    "    plt.arrow(-w, 0, 1.9*w, 0, head_width=w/20, head_length=w/20, fc='k', ec='k');\n",
    "    plt.text(-0.15*w, 0.8*w, \"Im\", fontsize=14)\n",
    "    plt.text( 0.8*w,-0.15*w, \"Re\", fontsize=14)\n",
    "    \n",
    "\n",
    "def cc(z,w):\n",
    "    \"\"\"Popravi kompleksor za izris v kompleksni ravnini\n",
    "    z= vhodni kompleksor\n",
    "    w=največji kompleksor, s katerim je bila narejena ravnina\"\"\"\n",
    "    fi_a=np.angle(z)\n",
    "    x=z.real -abs(w)/20*np.cos(fi_a)\n",
    "    y=z.imag-abs(w)/20*np.sin(fi_a)\n",
    "    return np.complex(x,y)"
   ]
  },
  {
   "cell_type": "code",
   "execution_count": null,
   "metadata": {},
   "outputs": [],
   "source": [
    "\"\"\"Rešitev iz 4.1: izračun napetosti na uR in uL\n",
    "V kodi dodamo naslednje vrstice \"\"\"\n",
    "\n",
    "uR=R*i\n",
    "uL=ug-uR\n",
    "\n",
    "ax1.plot(t, uR, color='b')\n",
    "ax1.plot(t, uL, color='b')"
   ]
  },
  {
   "cell_type": "code",
   "execution_count": null,
   "metadata": {},
   "outputs": [],
   "source": [
    "\"\"\"Rešitev iz 4.2: izris kompleksorjev toka in napetosti v vezju \"\"\"\n",
    "\n",
    "L=100e-3\n",
    "R=2\n",
    "# Najprej določimo kompleksorje napetosti vira, krožno frekvenco, ZL\n",
    "U=50\n",
    "omega=20\n",
    "ZL=1j*omega*L\n",
    "\n",
    "U=50\n",
    "Znad=R+ZL\n",
    "I=U/Znad\n",
    "UR=R*I\n",
    "UL=1j*omega*L*I\n",
    "print(UR,UL,I,U-UR)\n",
    "I1=I*abs(Znad)\n",
    "\n",
    "w=50*1.5\n",
    "fig, ax = plt.subplots()\n",
    "# Move left y-axis and bottim x-axis to centre, passing through (0,0)\n",
    "ax.spines['left'].set_position('center')\n",
    "ax.spines['bottom'].set_position('center')\n",
    "\n",
    "# Eliminate upper and right axes\n",
    "ax.spines['right'].set_color('none')\n",
    "ax.spines['top'].set_color('none')\n",
    "\n",
    "# Show ticks in the left and lower axes only\n",
    "ax.xaxis.set_ticks_position('bottom')\n",
    "ax.yaxis.set_ticks_position('left')\n",
    "\n",
    "ax.set_xlabel('                                                 Re []')\n",
    "ax.set_ylabel('                                                 Im []')\n",
    "plt.xlim(-w,w)\n",
    "plt.ylim(-w,w)\n",
    "plt.arrow(-w, 0, 1.95*w, 0, head_width=w/20, head_length=w/20, fc='k', ec='k');\n",
    "plt.arrow(0, -w, 0, 1.95*w, head_width=w/20, head_length=w/20, fc='k', ec='k');\n",
    "plt.arrow(0, 0, U, 0, head_width=w/20, head_length=w/20, fc='b', ec='b');\n",
    "plt.arrow(0, 0, UR.real, UR.imag, head_width=w/20, head_length=w/20, fc='b', ec='b');\n",
    "plt.arrow(0, 0, UL.real, UL.imag, head_width=w/20, head_length=w/20, fc='b', ec='b');\n",
    "plt.arrow(0, 0, I1.real, I1.imag, head_width=w/20, head_length=w/20, fc='r', ec='r');"
   ]
  },
  {
   "cell_type": "code",
   "execution_count": 19,
   "metadata": {},
   "outputs": [
    {
     "name": "stdout",
     "output_type": "stream",
     "text": [
      "(0.09174311926605505+1.0275229357798166j)\n",
      "(0.3669724770642202+0.11009174311926606j)\n",
      "(-0.27522935779816515+0.9174311926605505j)\n"
     ]
    },
    {
     "data": {
      "image/png": "[encoded data removed]",
      "text/plain": [
       "<Figure size 432x288 with 1 Axes>"
      ]
     },
     "metadata": {
      "needs_background": "light"
     },
     "output_type": "display_data"
    }
   ],
   "source": [
    "\"\"\"Rešitev izziva 4.3: Obravnava vezja in prikaz s kompleksorji v kompleksni ravnini\"\"\"\n",
    "C=5e-5\n",
    "L=5e-3\n",
    "R=2\n",
    "omega=1000\n",
    "U=20\n",
    "\n",
    "# Izračun impedanc\n",
    "ZL=1j*omega*L # POZOR: ČE BI NAPISAL SAMO j, BI JUPYTER JAVIL NAPAKO. \n",
    "ZC=1/(1j*omega*C)\n",
    "\n",
    "# Vzporedna vezava L in R\n",
    "YRL=1/R+1/ZL\n",
    "ZRL=1/YRL\n",
    "\n",
    "# Zaporedna vezava C in ZRL\n",
    "Znad=ZC+ZRL\n",
    "\n",
    "# Izračun tokov\n",
    "I=U/Znad; print(I)\n",
    "IL=I*R/(R+ZL); print(IL)  # tokovni delilnik\n",
    "IR=I*ZL/(R+ZL); print(IR) # tokovni delilnik\n",
    "# print(I-IR-IL) # mora priti cca 0\n",
    "\n",
    "# Izris kompleksorjev \n",
    "w=abs(I)*1.5\n",
    "fig, ax = plt.subplots()\n",
    "# Move left y-axis and bottim x-axis to centre, passing through (0,0)\n",
    "ax.spines['left'].set_position('center')\n",
    "ax.spines['bottom'].set_position('center')\n",
    "\n",
    "# Eliminate upper and right axes\n",
    "ax.spines['right'].set_color('none')\n",
    "ax.spines['top'].set_color('none')\n",
    "\n",
    "# Show ticks in the left and lower axes only\n",
    "ax.xaxis.set_ticks_position('bottom')\n",
    "ax.yaxis.set_ticks_position('left')\n",
    "\n",
    "ax.set_xlabel('                                                 Re []')\n",
    "ax.set_ylabel('                                                 Im []')\n",
    "plt.xlim(-w,w)\n",
    "plt.ylim(-w,w)\n",
    "plt.arrow(-w, 0, 1.95*w, 0, head_width=w/20, head_length=w/20, fc='k', ec='k');\n",
    "plt.arrow(0, -w, 0, 1.95*w, head_width=w/20, head_length=w/20, fc='k', ec='k');\n",
    "plt.arrow(0, 0, U, 0, head_width=w/20, head_length=w/20, fc='b', ec='b');\n",
    "plt.arrow(0, 0, IR.real, IR.imag, head_width=w/20, head_length=w/20, fc='b', ec='b');\n",
    "plt.arrow(0, 0, IL.real, IL.imag, head_width=w/20, head_length=w/20, fc='b', ec='b');\n",
    "plt.arrow(0, 0, I.real, I.imag, head_width=w/20, head_length=w/20, fc='r', ec='r');"
   ]
  },
  {
   "cell_type": "code",
   "execution_count": null,
   "metadata": {},
   "outputs": [],
   "source": []
  }
 ],
 "metadata": {
  "kernelspec": {
   "display_name": "Python 3",
   "language": "python",
   "name": "python3"
  },
  "language_info": {
   "codemirror_mode": {
    "name": "ipython",
    "version": 3
   },
   "file_extension": ".py",
   "mimetype": "text/x-python",
   "name": "python",
   "nbconvert_exporter": "python",
   "pygments_lexer": "ipython3",
   "version": "3.7.0"
  },
  "nbTranslate": {
   "displayLangs": [
    "*"
   ],
   "hotkey": "alt-t",
   "langInMainMenu": true,
   "sourceLang": "en",
   "targetLang": "fr",
   "useGoogleTranslate": true
  },
  "toc": {
   "base_numbering": 1,
   "nav_menu": {},
   "number_sections": true,
   "sideBar": true,
   "skip_h1_title": true,
   "title_cell": "Kazalo",
   "title_sidebar": "Kazalo",
   "toc_cell": false,
   "toc_position": {
    "height": "calc(100% - 180px)",
    "left": "10px",
    "top": "150px",
    "width": "165px"
   },
   "toc_section_display": true,
   "toc_window_display": true
  }
 },
 "nbformat": 4,
 "nbformat_minor": 2
}
