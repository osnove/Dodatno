{
 "cells": [
  {
   "cell_type": "markdown",
   "metadata": {},
   "source": [
    "# Primeri uporabe simbolnega računa za izračun prehodnega pojava RLC vezja \n",
    "\n"
   ]
  },
  {
   "cell_type": "markdown",
   "metadata": {},
   "source": [
    "<div class=\"alert alert-block alert-info\">\n",
    "<b>Namig:</b> Obstajata dve verziji tega dokumenta. Ena je v obliki html datoteke (končnica html), ki je ni mogoče izvajati, druga pa ima končnico ipny (Jupyter Notebook), ki jo lahko izvajamo z Jupyter aplikacijo. To aplikacijo imate lahko naloženo na vašem računalniku in se izvaja v brskalniku, lahko jo ogledujete s spletno aplikacijo nbViewer, s spletnimi aplikacijami Binder ali Google Colab pa jo lahko tudi zaganjate in spreminjate. Več o tem si preberite v \n",
    "<a href=\"http://lbm.fe.uni-lj.si/index.php?option=com_content&view=article&id=59&Itemid=135&lang=si\">tem članku</a>.\n",
    "<br>    \n",
    "Za izvajanje tega zvezka ne potrebujete posebnega znanja programiranja v Pythonu, lahko pa poljubno spreminjate kodo in se sproti učite tudi uporabe programskega jezika. Več podobnih primerov je na Githubu na https://github.com/osnove/Dodatno/\n",
    "</div>"
   ]
  },
  {
   "cell_type": "markdown",
   "metadata": {},
   "source": [
    "Rešujemo enačbo\n",
    "\n",
    "$0=\\frac{\\text{d}i}{\\text{d}t}R+\\frac{1}{C}i+L\\frac{{{\\text{d}}^{\\text{2}}}i}{\\text{d}{{t}^{2}}}$.\n",
    "\n",
    "Ta problem je bolj obširno rešen in razložen na strani https://github.com/osnove/Dodatno/blob/master/Primer_diff_enacbe_analiticno-numericno_RLC.ipynb\n",
    "V tem zvezku si bomo ogledali nekoliko drugačen zapis, ki se ga pogosto uporabi pri analizi RLC vezja.\n",
    "\n",
    "\n",
    "Običajno se za analizo odziva obravnavane diferencialne enačbe le to nekoliko predela. In sicer tako, da se jo deli z $L$ in iz $\\frac{{{\\text{d}}^{\\text{2}}}i}{\\text{d}{{t}^{2}}}+\\frac{\\text{d}i}{\\text{d}t}R/L+\\frac{1}{C L}i=0$ zapiše obliko\n",
    "$\\frac{{{\\text{d}}^{\\text{2}}}i}{\\text{d}{{t}^{2}}}+2 \\alpha \\frac{\\text{d}i}{\\text{d}t}+\\omega _0^2 i=0$, kjer je očitno $\\alpha = \\frac{R}{2L}$ in $\\omega _0 = \\frac{1}{\\sqrt {C L}}$. $\\omega_0$ imenujemo krožna resonančna frekvenca, $\\alpha$ pa je faktor dušenja oz. atenuacije. \n",
    "\n",
    "Za več, si poglej na primer https://en.wikipedia.org/wiki/RLC_circuit "
   ]
  },
  {
   "cell_type": "markdown",
   "metadata": {},
   "source": [
    "Priprava potrebnih knjižnic:"
   ]
  },
  {
   "cell_type": "code",
   "execution_count": 1,
   "metadata": {
    "collapsed": true
   },
   "outputs": [],
   "source": [
    "import numpy as np\n",
    "from sympy import *\n",
    "from IPython.display import *\n",
    "import matplotlib.pyplot as plt\n",
    "%matplotlib inline \n",
    "init_printing(use_latex=True)\n",
    "#import warnings\n",
    "#warnings.filterwarnings('ignore')"
   ]
  },
  {
   "cell_type": "markdown",
   "metadata": {},
   "source": [
    "Priprava simbolnih spremenljivk, zapis differencialne enačbe in reševanje z uporabo funkcije $dsolve$."
   ]
  },
  {
   "cell_type": "code",
   "execution_count": 37,
   "metadata": {},
   "outputs": [
    {
     "data": {
      "image/png": "[encoded data removed]",
      "text/latex": [
       "$$\\omega_0^{2} i{\\left (t \\right )} + 2 a \\frac{d}{d t} i{\\left (t \\right )} + \\frac{d^{2}}{d t^{2}}  i{\\left (t \\right )} = 0$$"
      ],
      "text/plain": [
       "                                 2          \n",
       "       2            d           d           \n",
       "\\omega₀ ⋅i(t) + 2⋅a⋅──(i(t)) + ───(i(t)) = 0\n",
       "                    dt           2          \n",
       "                               dt           "
      ]
     },
     "metadata": {},
     "output_type": "display_data"
    },
    {
     "data": {
      "image/png": "[encoded data removed]",
      "text/latex": [
       "$$i{\\left (t \\right )} = C_{1} e^{t \\left(- a - \\sqrt{- \\omega_0^{2} + a^{2}}\\right)} + C_{2} e^{t \\left(- a + \\sqrt{- \\omega_0^{2} + a^{2}}\\right)}$$"
      ],
      "text/plain": [
       "             ⎛        _________________⎞         ⎛        _________________⎞\n",
       "             ⎜       ╱          2    2 ⎟         ⎜       ╱          2    2 ⎟\n",
       "           t⋅⎝-a - ╲╱  - \\omega₀  + a  ⎠       t⋅⎝-a + ╲╱  - \\omega₀  + a  ⎠\n",
       "i(t) = C₁⋅ℯ                              + C₂⋅ℯ                             "
      ]
     },
     "metadata": {},
     "output_type": "display_data"
    }
   ],
   "source": [
    "var('R C L t  Ug i0 C1 C2') # priprava spremenljivk\n",
    "om=symbols('\\omega_0')\n",
    "alfa=symbols('a')\n",
    "i = Function(\"i\")(t) # funkcija toka\n",
    "de = Eq(i.diff(t,2)+2*alfa*i.diff(t)+(om*om)*i) # zapis diferencialne enačbe\n",
    "display(de) # izpis enačbe\n",
    "des = dsolve(de,i) # rešitev enačbe\n",
    "display(des) # izpis rešitve\n"
   ]
  },
  {
   "cell_type": "markdown",
   "metadata": {},
   "source": [
    "Rešitev vsebuje konstanti $C_1$ in $C_2$, ki ju moramo izraziti z začetnimi pogoji. \n",
    "Konstanto $C_1$ bomo zamenjali z začetnim pogojem za tok, t.j. $i(t=0)=0$.\n",
    "\n",
    "To naredimo tako, da izrazimo enačbo za čas $t=0$ in jo rešimo za $C_1$."
   ]
  },
  {
   "cell_type": "code",
   "execution_count": 38,
   "metadata": {},
   "outputs": [
    {
     "data": {
      "image/png": "[encoded data removed]",
      "text/latex": [
       "$$i_{0} = C_{1} + C_{2}$$"
      ],
      "text/plain": [
       "i₀ = C₁ + C₂"
      ]
     },
     "metadata": {},
     "output_type": "display_data"
    },
    {
     "data": {
      "image/png": "[encoded data removed]",
      "text/latex": [
       "$$\\left [ - C_{2} + i_{0}\\right ]$$"
      ],
      "text/plain": [
       "[-C₂ + i₀]"
      ]
     },
     "metadata": {},
     "output_type": "display_data"
    }
   ],
   "source": [
    "t0=des.args[1].subs({'t':0})\n",
    "eq_init = Eq(i0, t0)  # izrazimo enačbo pri t=0\n",
    "display(eq_init)  # prikažemo i0\n",
    "\n",
    "init1_solve=solve(eq_init, C1) # rešimo enačbo za C1\n",
    "\n",
    "display(init1_solve)  # prikažemo rešitev"
   ]
  },
  {
   "cell_type": "code",
   "execution_count": 39,
   "metadata": {},
   "outputs": [
    {
     "data": {
      "image/png": "[encoded data removed]",
      "text/latex": [
       "$$i{\\left (t \\right )} = C_{2} e^{t \\left(- a + \\sqrt{- \\omega_0^{2} + a^{2}}\\right)} + \\left(- C_{2} + i_{0}\\right) e^{t \\left(- a - \\sqrt{- \\omega_0^{2} + a^{2}}\\right)}$$"
      ],
      "text/plain": [
       "             ⎛        _________________⎞                 ⎛        ____________\n",
       "             ⎜       ╱          2    2 ⎟                 ⎜       ╱          2 \n",
       "           t⋅⎝-a + ╲╱  - \\omega₀  + a  ⎠               t⋅⎝-a - ╲╱  - \\omega₀  \n",
       "i(t) = C₂⋅ℯ                              + (-C₂ + i₀)⋅ℯ                       \n",
       "\n",
       "_____⎞\n",
       "   2 ⎟\n",
       "+ a  ⎠\n",
       "      "
      ]
     },
     "execution_count": 39,
     "metadata": {},
     "output_type": "execute_result"
    }
   ],
   "source": [
    "C1_solve = des.subs(C1, init1_solve[0]) # v rešitev vstavimo C1 in dobimo\n",
    "C1_solve"
   ]
  },
  {
   "cell_type": "code",
   "execution_count": 40,
   "metadata": {},
   "outputs": [
    {
     "data": {
      "image/png": "[encoded data removed]",
      "text/latex": [
       "$$i{\\left (t \\right )} = C_{2} e^{- a t} e^{t \\sqrt{- \\omega_0^{2} + a^{2}}} - C_{2} e^{- a t} e^{- t \\sqrt{- \\omega_0^{2} + a^{2}}} + i_{0} e^{- a t} e^{- t \\sqrt{- \\omega_0^{2} + a^{2}}}$$"
      ],
      "text/plain": [
       "                      _________________                   _________________   \n",
       "                     ╱          2    2                   ╱          2    2    \n",
       "           -a⋅t  t⋅╲╱  - \\omega₀  + a         -a⋅t  -t⋅╲╱  - \\omega₀  + a     \n",
       "i(t) = C₂⋅ℯ    ⋅ℯ                       - C₂⋅ℯ    ⋅ℯ                        + \n",
       "\n",
       "                _________________\n",
       "               ╱          2    2 \n",
       "    -a⋅t  -t⋅╲╱  - \\omega₀  + a  \n",
       "i₀⋅ℯ    ⋅ℯ                       "
      ]
     },
     "execution_count": 40,
     "metadata": {},
     "output_type": "execute_result"
    }
   ],
   "source": [
    "expand(C1_solve)  # drugačen izpis"
   ]
  },
  {
   "cell_type": "markdown",
   "metadata": {},
   "source": [
    "Vstavimo začetni pogoj $i(t=0)=i_0=0$ in za krajši zapis nadomestimo $R_1=\\sqrt {R^2-\\frac{4 l}{C}}$."
   ]
  },
  {
   "cell_type": "code",
   "execution_count": 41,
   "metadata": {},
   "outputs": [
    {
     "data": {
      "image/png": "[encoded data removed]",
      "text/latex": [
       "$$i{\\left (t \\right )} = - C_{2} e^{t \\left(- a - \\sqrt{- \\omega_0^{2} + a^{2}}\\right)} + C_{2} e^{t \\left(- a + \\sqrt{- \\omega_0^{2} + a^{2}}\\right)}$$"
      ],
      "text/plain": [
       "               ⎛        _________________⎞         ⎛        _________________⎞\n",
       "               ⎜       ╱          2    2 ⎟         ⎜       ╱          2    2 ⎟\n",
       "             t⋅⎝-a - ╲╱  - \\omega₀  + a  ⎠       t⋅⎝-a + ╲╱  - \\omega₀  + a  ⎠\n",
       "i(t) = - C₂⋅ℯ                              + C₂⋅ℯ                             "
      ]
     },
     "metadata": {},
     "output_type": "display_data"
    }
   ],
   "source": [
    "zacetni_pogoji = {'i0': 0}\n",
    "i2=C1_solve.subs(zacetni_pogoji)\n",
    "R_1=symbols('R_1')\n",
    "i2b=i2.subs(sqrt(R**2-4*L/C),R_1)\n",
    "display(i2b)"
   ]
  },
  {
   "cell_type": "markdown",
   "metadata": {},
   "source": [
    "Poiščemo še rešitev za $C_2$ iz odvoda toka. Ker je odvod toka krat induktivnost enaka napetosti na tuljavi $u_L=L \\frac{di}{dt}$, je torej potrebno pogledati, kolikšna je ta napetost ob preklopu. Ker se napetost na kondenzatorju ob preklopu ne more spremeniti, bo ta ob preklopu enaka nič, prav tako bo ob preklopu enaka nič tudi napetost na uporu, saj je tok ob preklopu enak nič. Torej bo vsa napetost ob preklopu na tuljavi in bo kar enaka napetosti vira $u_L(t=0)=U_g$. Iz tega sledi, da bo $u_L(t=0)=L \\frac{di(t=0)}{dt}=U_g$ oziroma $\\frac{di(t=0)}{dt}=U_g/L$."
   ]
  },
  {
   "cell_type": "code",
   "execution_count": 42,
   "metadata": {},
   "outputs": [
    {
     "data": {
      "image/png": "[encoded data removed]",
      "text/latex": [
       "$$C_{2} \\left(- \\left(a - \\sqrt{- \\omega_0^{2} + a^{2}}\\right) e^{t \\left(a + \\sqrt{- \\omega_0^{2} + a^{2}}\\right)} + \\left(a + \\sqrt{- \\omega_0^{2} + a^{2}}\\right) e^{t \\left(a - \\sqrt{- \\omega_0^{2} + a^{2}}\\right)}\\right) e^{- 2 a t}$$"
      ],
      "text/plain": [
       "   ⎛                                ⎛       _________________⎞                \n",
       "   ⎜  ⎛       _________________⎞    ⎜      ╱          2    2 ⎟   ⎛       _____\n",
       "   ⎜  ⎜      ╱          2    2 ⎟  t⋅⎝a + ╲╱  - \\omega₀  + a  ⎠   ⎜      ╱     \n",
       "C₂⋅⎝- ⎝a - ╲╱  - \\omega₀  + a  ⎠⋅ℯ                             + ⎝a + ╲╱  - \\o\n",
       "\n",
       "                 ⎛       _________________⎞⎞        \n",
       "____________⎞    ⎜      ╱          2    2 ⎟⎟        \n",
       "     2    2 ⎟  t⋅⎝a - ╲╱  - \\omega₀  + a  ⎠⎟  -2⋅a⋅t\n",
       "mega₀  + a  ⎠⋅ℯ                            ⎠⋅ℯ      "
      ]
     },
     "execution_count": 42,
     "metadata": {},
     "output_type": "execute_result"
    }
   ],
   "source": [
    "C2=symbols('C2')\n",
    "C2_solve=i2b.rhs.diff(t) # izračunamo odvod\n",
    "simplify(C2_solve) # izpišemo odvod"
   ]
  },
  {
   "cell_type": "markdown",
   "metadata": {},
   "source": [
    "Zgornja enačba izraža odvod toka po času. Sedaj jo izrazimo ob času $t=0$ in $C_2$ izrazimo z odvodom pri t=0."
   ]
  },
  {
   "cell_type": "code",
   "execution_count": 43,
   "metadata": {},
   "outputs": [
    {
     "data": {
      "image/png": "[encoded data removed]",
      "text/latex": [
       "$$di0dt = - C_{2} \\left(- a - \\sqrt{- \\omega_0^{2} + a^{2}}\\right) + C_{2} \\left(- a + \\sqrt{- \\omega_0^{2} + a^{2}}\\right)$$"
      ],
      "text/plain": [
       "             ⎛        _________________⎞      ⎛        _________________⎞\n",
       "             ⎜       ╱          2    2 ⎟      ⎜       ╱          2    2 ⎟\n",
       "di0dt = - C₂⋅⎝-a - ╲╱  - \\omega₀  + a  ⎠ + C₂⋅⎝-a + ╲╱  - \\omega₀  + a  ⎠"
      ]
     },
     "metadata": {},
     "output_type": "display_data"
    },
    {
     "data": {
      "image/png": "[encoded data removed]",
      "text/latex": [
       "$$\\left [ \\frac{di0dt}{2 \\sqrt{- \\omega_0^{2} + a^{2}}}\\right ]$$"
      ],
      "text/plain": [
       "⎡        di0dt         ⎤\n",
       "⎢──────────────────────⎥\n",
       "⎢     _________________⎥\n",
       "⎢    ╱          2    2 ⎥\n",
       "⎣2⋅╲╱  - \\omega₀  + a  ⎦"
      ]
     },
     "metadata": {},
     "output_type": "display_data"
    }
   ],
   "source": [
    "di0dt=symbols('di0dt')\n",
    "t0=C2_solve.subs({'t':0})\n",
    "eq_init2 = Eq(di0dt, t0)  # izrazimo enačbo pri t=0\n",
    "display(eq_init2)  # prikažemo di/dt(t=0)\n",
    "\n",
    "init2_solve=solve(eq_init2, C2) # rešimo enačbo za C2\n",
    "\n",
    "display(simplify(init2_solve))  # prikažemo rešitev C2="
   ]
  },
  {
   "cell_type": "markdown",
   "metadata": {},
   "source": [
    "Končno obliko zapisa enačbe za $i(t)$ dobimo z nadomestitvijo konstante $C_2$ z odvodom toka  $\\frac{di(t=0)}{dt}$, tega pa z  $U_g/L$."
   ]
  },
  {
   "cell_type": "code",
   "execution_count": 44,
   "metadata": {},
   "outputs": [
    {
     "data": {
      "image/png": "[encoded data removed]",
      "text/latex": [
       "$$i{\\left (t \\right )} = \\frac{Ug e^{- a t}}{L \\sqrt{- \\omega_0^{2} + a^{2}}} \\sinh{\\left (t \\sqrt{- \\omega_0^{2} + a^{2}} \\right )}$$"
      ],
      "text/plain": [
       "                    ⎛     _________________⎞\n",
       "           -a⋅t     ⎜    ╱          2    2 ⎟\n",
       "       Ug⋅ℯ    ⋅sinh⎝t⋅╲╱  - \\omega₀  + a  ⎠\n",
       "i(t) = ─────────────────────────────────────\n",
       "                    _________________       \n",
       "                   ╱          2    2        \n",
       "               L⋅╲╱  - \\omega₀  + a         "
      ]
     },
     "execution_count": 44,
     "metadata": {},
     "output_type": "execute_result"
    }
   ],
   "source": [
    "C3_solve = i2b.subs(C2, init2_solve[0]) # v rešitev vstavimo C2 in dobimo\n",
    "C3_solve\n",
    "i3=C3_solve.subs(di0dt,Ug/L) # Zamenjamo di/dt(0) z Ug/L\n",
    "simplify(i3)"
   ]
  },
  {
   "cell_type": "markdown",
   "metadata": {},
   "source": [
    "### Priprava za izračune in izris\n",
    "\n",
    "Pripravimo podatke za izračune in izris. Za to uporabimo funkcijo $lambdify$, ki pretvori zapis enačbe iz simbolnega zapisa v funkcijo za numerične izračune. <a name='pripravi za izračune' />"
   ]
  },
  {
   "cell_type": "code",
   "execution_count": 48,
   "metadata": {},
   "outputs": [
    {
     "name": "stdout",
     "output_type": "stream",
     "text": [
      "R/(2*L)\n",
      "0.999500998253119\n",
      "{C: 0.1, L: 10.02, R: 20.01, Ug: 10, 'a': 0.998502994011976, \\omega_0: 0.999001497504367}\n",
      "Eq(i(t), 15.8133650950391*I*exp(t*(-0.998502994011976 - 0.031555712083352*I)) - 15.8133650950391*I*exp(t*(-0.998502994011976 + 0.031555712083352*I)))\n"
     ]
    },
    {
     "data": {
      "text/plain": [
       "'kritično dušenje'"
      ]
     },
     "metadata": {},
     "output_type": "display_data"
    },
    {
     "name": "stdout",
     "output_type": "stream",
     "text": [
      "Tok pri 0s: 0.000997008+0j A\n"
     ]
    }
   ],
   "source": [
    "podatki = {C:0.1, L: 10.02, R: 20.01,  Ug: 10}  # podam podatke v obliki \"slovarja\" (Dictionary), https://www.w3schools.com/python/python_dictionaries.asp\n",
    "#podatki = {C:1e-5, L: 5e-3, R: 5, Ug: 2}  # podam podatke v obliki \"slovarja\" (Dictionary), https://www.w3schools.com/python/python_dictionaries.asp\n",
    "alpha=R/(2*L)\n",
    "print(alpha)\n",
    "omega=1/sqrt(L*C)\n",
    "alpha_subs=alpha.subs(podatki)  # Izračunam alfa\n",
    "zeta=alpha/omega\n",
    "zeta_subs=zeta.subs(podatki)\n",
    "podatki[\"a\"]= alpha_subs  # Dodam izračunano vrednost R1 v slovar\n",
    "podatki[om]= omega.subs(podatki)  # Dodam izračunano vrednost R1 v slovar\n",
    "print(zeta_subs)\n",
    "\n",
    "print((podatki))\n",
    "\n",
    "ifin=i3.subs(podatki)\n",
    "print(ifin)\n",
    "s='nadkritično dušenje'\n",
    "if zeta_subs<1: \n",
    "    s='podkritično dušenje'\n",
    "if zeta_subs > 0.9 and zeta_subs<1.1: s='kritično dušenje'\n",
    "display(s) # Izpiše slovar\n",
    "\n",
    "tok = lambdify(t, i3.args[1].subs(podatki), 'numpy') # tok kot funkcija časa\n",
    "\n",
    "print('Tok pri 0s: {:g} A'.format(tok(1e-3))) # preverim tok za eno vrednost t\n"
   ]
  },
  {
   "cell_type": "markdown",
   "metadata": {},
   "source": [
    "Sledi izris rezultatov. Za primerjavo rišemo primer kritičnega dušenja"
   ]
  },
  {
   "cell_type": "code",
   "execution_count": 49,
   "metadata": {},
   "outputs": [
    {
     "name": "stderr",
     "output_type": "stream",
     "text": [
      "C:\\ProgramData\\Anaconda3\\lib\\site-packages\\numpy\\core\\numeric.py:531: ComplexWarning: Casting complex values to real discards the imaginary part\n",
      "  return array(a, dtype, copy=False, order=order)\n"
     ]
    },
    {
     "data": {
      "image/png": "[encoded data removed]",
      "text/plain": [
       "<matplotlib.figure.Figure at 0x237f71bf668>"
      ]
     },
     "metadata": {},
     "output_type": "display_data"
    }
   ],
   "source": [
    "cas = np.linspace(0, 10, 1000) # spremeni po potrebi za drugačen izris\n",
    "\n",
    "def slika():\n",
    "    plt.plot(cas, (tok(cas)), 'C0',label=s)\n",
    "    #ianalit=5*np.exp(-cas)*np.sin(2*cas)\n",
    "    plt.plot(cas, [f(t,20,10,10) for t in cas], 'C3',label='kritično dušenje') # za primerjavo kritičnega odziva\n",
    "    \n",
    "    plt.xlabel('Čas [s]')\n",
    "    plt.ylabel('Tok [A] ')\n",
    "    plt.legend()\n",
    "    plt.show()\n",
    "slika()"
   ]
  },
  {
   "cell_type": "markdown",
   "metadata": {},
   "source": [
    "### Opravi naslednje analize:\n",
    "1. Spreminjaj upornost upora in opazuj spremembe.\n",
    "2. Spreminjaj kapacitivnost kondenzatorja in opazuj spremembe.\n",
    "3. Spreminjaj induktivnost tuljave in opazuj spremembe.\n"
   ]
  },
  {
   "cell_type": "markdown",
   "metadata": {},
   "source": [
    "### Kratka razlaga\n",
    "Opazovali smo odziv zaporedne vezave RLC vezja na priklop na enosmerni napetosti vir. \n",
    "Pred priklopom na vezje v vezju ni bilo toka, po izteku prehodnega pojava pa tudi ne, saj kondenzator \"blokira\" prehod toka. \n",
    "Na njem je po koncu prehodnega pojava celotna napetost vira. Odziv vezja je lahko precej različen, odvisen je od vrednosti elementov R, L in C. Te smo v konkretnem pprimeru \"skrili\" znotraj parametrov $\\alpha = \\frac{R}{2L}$ in $\\omega _0 = \\frac{1}{\\sqrt {C L}}$.\n",
    "\n",
    "Poleg tega tvorimo še en parameter (zeta), ki je $\\zeta = \\frac{\\alpha}{\\omega_0}$. Z vstavitvijo R, L in C pa je $ \\zeta = \\frac{R}{2} \\sqrt\\frac{C}{L}$. Ta faktor imenujemo faktor dušenja (damping factor), od njegove vrednosti je odvisna oblika odziva.\n",
    "\n",
    "Za $ \\zeta < 1$ je odziv vezja podkrtično dušenje, za $ \\zeta > 1$ je dušenje nadkritično, za $ \\zeta =1$ pa kritično.\n",
    "Spreminjate lahko vrednosti parametrov in opazujete odziv vezja.\n"
   ]
  },
  {
   "cell_type": "markdown",
   "metadata": {},
   "source": [
    "### Dodatni izračuni - napetosti na elementih vezja\n",
    "Ko imamo rešitev za tok, lahko enostavno dobimo še zapise za napetosti na elementih vezja. \n",
    "\n",
    "Napetost na uporu je kar $u_R(t) = R i(t)$, napetost na tuljavi $u_L(t) = L \\frac{di}{dt}$ in na kondenzatorju $u_C(t) = 1 / C \\int {i dt}$. \n",
    "\n",
    "Ob integraciji je potrebno upoštevati še dodatno konstanto, ki jo je potrebno določiti iz začetnih pogojev. V konkretnem primeru bi morali določiti konstanto iz pogoja, da mora biti $u_C(t=0) = 0$. Temu dodatnemu delu se lahko izognemo tako, da namesto z integracijo toka  napetost na kondenzatorju določimo iz zveze $u_C(t) = Ug - u_L(t) - u_R(t)$."
   ]
  },
  {
   "cell_type": "code",
   "execution_count": 50,
   "metadata": {},
   "outputs": [
    {
     "data": {
      "image/png": "[encoded data removed]",
      "text/latex": [
       "$$R \\left(- \\frac{Ug e^{t \\left(- a - \\sqrt{- \\omega_0^{2} + a^{2}}\\right)}}{2 L \\sqrt{- \\omega_0^{2} + a^{2}}} + \\frac{Ug e^{t \\left(- a + \\sqrt{- \\omega_0^{2} + a^{2}}\\right)}}{2 L \\sqrt{- \\omega_0^{2} + a^{2}}}\\right)$$"
      ],
      "text/plain": [
       "  ⎛        ⎛        _________________⎞         ⎛        _________________⎞⎞\n",
       "  ⎜        ⎜       ╱          2    2 ⎟         ⎜       ╱          2    2 ⎟⎟\n",
       "  ⎜      t⋅⎝-a - ╲╱  - \\omega₀  + a  ⎠       t⋅⎝-a + ╲╱  - \\omega₀  + a  ⎠⎟\n",
       "  ⎜  Ug⋅ℯ                                Ug⋅ℯ                             ⎟\n",
       "R⋅⎜- ───────────────────────────────── + ─────────────────────────────────⎟\n",
       "  ⎜              _________________                   _________________    ⎟\n",
       "  ⎜             ╱          2    2                   ╱          2    2     ⎟\n",
       "  ⎝       2⋅L⋅╲╱  - \\omega₀  + a              2⋅L⋅╲╱  - \\omega₀  + a      ⎠"
      ]
     },
     "metadata": {},
     "output_type": "display_data"
    },
    {
     "data": {
      "image/png": "[encoded data removed]",
      "text/latex": [
       "$$\\frac{Ug e^{- 2 a t}}{2 \\sqrt{- \\omega_0^{2} + a^{2}}} \\left(- \\left(a - \\sqrt{- \\omega_0^{2} + a^{2}}\\right) e^{t \\left(a + \\sqrt{- \\omega_0^{2} + a^{2}}\\right)} + \\left(a + \\sqrt{- \\omega_0^{2} + a^{2}}\\right) e^{t \\left(a - \\sqrt{- \\omega_0^{2} + a^{2}}\\right)}\\right)$$"
      ],
      "text/plain": [
       "   ⎛                                ⎛       _________________⎞                \n",
       "   ⎜  ⎛       _________________⎞    ⎜      ╱          2    2 ⎟   ⎛       _____\n",
       "   ⎜  ⎜      ╱          2    2 ⎟  t⋅⎝a + ╲╱  - \\omega₀  + a  ⎠   ⎜      ╱     \n",
       "Ug⋅⎝- ⎝a - ╲╱  - \\omega₀  + a  ⎠⋅ℯ                             + ⎝a + ╲╱  - \\o\n",
       "──────────────────────────────────────────────────────────────────────────────\n",
       "                                                           _________________  \n",
       "                                                          ╱          2    2   \n",
       "                                                      2⋅╲╱  - \\omega₀  + a    \n",
       "\n",
       "                 ⎛       _________________⎞⎞        \n",
       "____________⎞    ⎜      ╱          2    2 ⎟⎟        \n",
       "     2    2 ⎟  t⋅⎝a - ╲╱  - \\omega₀  + a  ⎠⎟  -2⋅a⋅t\n",
       "mega₀  + a  ⎠⋅ℯ                            ⎠⋅ℯ      \n",
       "────────────────────────────────────────────────────\n",
       "                                                    \n",
       "                                                    \n",
       "                                                    "
      ]
     },
     "metadata": {},
     "output_type": "display_data"
    }
   ],
   "source": [
    "u_R=R*i3.rhs\n",
    "display(u_R)\n",
    "uR = lambdify(t, u_R.subs(podatki), 'numpy') # napetost na uporu\n",
    "u_L=L*i3.rhs.diff(t)\n",
    "display(simplify(u_L))\n",
    "uL = lambdify(t, u_L.subs(podatki), 'numpy') # napetost na tuljavi\n",
    "#print(uL(0))\n",
    "# u_C=i3.rhs.integrate(t)/C\n",
    "#display(u_C)\n",
    "#uC = lambdify(t, u_C.subs(podatki), 'numpy') # tok kot funkcija časa\n",
    "u_C=Ug-u_L-u_R\n",
    "#display(simplify(u_C))\n",
    "uC = lambdify(t, u_C.subs(podatki), 'numpy') # napetost na kondenzatorju\n",
    "\n",
    "uRLC=lambdify(t, u_C.subs(podatki)+ u_R.subs(podatki)+ u_L.subs(podatki), 'numpy') # vsota vseh napetosti"
   ]
  },
  {
   "cell_type": "code",
   "execution_count": 54,
   "metadata": {},
   "outputs": [
    {
     "name": "stderr",
     "output_type": "stream",
     "text": [
      "C:\\ProgramData\\Anaconda3\\lib\\site-packages\\numpy\\core\\numeric.py:531: ComplexWarning: Casting complex values to real discards the imaginary part\n",
      "  return array(a, dtype, copy=False, order=order)\n"
     ]
    },
    {
     "data": {
      "image/png": "[encoded data removed]",
      "text/plain": [
       "<matplotlib.figure.Figure at 0x237f83052e8>"
      ]
     },
     "metadata": {},
     "output_type": "display_data"
    }
   ],
   "source": [
    "cas = np.linspace(0, 10, 1000)\n",
    "\n",
    "def slika():\n",
    "    #plt.plot(cas, tok(cas), 'C0', label='Tok [A]')\n",
    "    plt.plot(cas, (uR(cas)), 'C1', label='$u_R $')\n",
    "    plt.plot(cas, (uL(cas)), 'C0', label='$u_L $')\n",
    "    plt.plot(cas, (uC(cas)), 'C2', label='$u_C $')\n",
    "    #plt.plot(cas, (uRLC(cas)), '--', label='$u_R + u_L + u_C $') # iz neznanih razlogov včasih nagaja\n",
    "    plt.xlabel('Čas [s]')\n",
    "    plt.ylabel('Napetost [V] ')\n",
    "    plt.legend(loc=(1.01, 0));\n",
    "    plt.show()\n",
    "slika()"
   ]
  },
  {
   "cell_type": "code",
   "execution_count": null,
   "metadata": {
    "collapsed": true
   },
   "outputs": [],
   "source": []
  }
 ],
 "metadata": {
  "kernelspec": {
   "display_name": "Python 3",
   "language": "python",
   "name": "python3"
  },
  "language_info": {
   "codemirror_mode": {
    "name": "ipython",
    "version": 3
   },
   "file_extension": ".py",
   "mimetype": "text/x-python",
   "name": "python",
   "nbconvert_exporter": "python",
   "pygments_lexer": "ipython3",
   "version": "3.6.1"
  },
  "toc": {
   "base_numbering": 1,
   "nav_menu": {},
   "number_sections": true,
   "sideBar": true,
   "skip_h1_title": true,
   "title_cell": "Kazalo",
   "title_sidebar": "Kazalo",
   "toc_cell": false,
   "toc_position": {},
   "toc_section_display": true,
   "toc_window_display": false
  }
 },
 "nbformat": 4,
 "nbformat_minor": 2
}
