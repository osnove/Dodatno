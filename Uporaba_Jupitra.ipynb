{
 "cells": [
  {
   "cell_type": "markdown",
   "metadata": {},
   "source": [
    "# Uporaba oblačnega računanja z Jupytrom\n",
    "\n",
    "<p><span style=\"font-size: 10pt;\">Vedno bolj popularna je uporaba oblačnih storitev (Cloud computing) za izračune in izrise. Ne samo v pedagoške namene, tudi v raziskovalne in poslovne. To področje se hitro razvija, zato bodo lahko opisane storitve čez nekaj let popolnoma drugačne. Pa vendar, zanima nas trenutno (2019) stanje na tem področju.&nbsp;</span></p>\n",
    "<p><span style=\"font-size: 10pt;\">Osredotočil se bom le na možnosti uporabe oblačnih storitev za programski jezik Python, čeprav mnoge spletne strani omogočajo tudi uporabo drugih programskih jezikov. Načeloma lahko Python kodo napišemo v poljubnem urejevalniku (editorju), vendar je za pedagoške (in tudi druge namene) zanimiva izdelava Python zvezka (Jupyter Notebook), ki poleg kode lahko vključuje tudi tekst in slike. Za tiste, ki bi želeli kreirati Python zvezke na svojem računalniku, je morda najlažje naložiti Python in ostala potrebna orodja z aplikacijo <a href=\"https://www.anaconda.com/distribution/\" title=\"https://www.anaconda.com/distribution/\">Anaconda</a>. Za pisanje enačb v zvezku je potrebno uporabiti sintakso Latex, ki je tudi sicer zanimiva alternativa Wordu za izdelavo seminarjev, diplom,&nbsp;</span><span style=\"font-size: 10pt; line-height: 107%;\">učbenikov, doktoratov </span><span style=\"font-size: 10pt; line-height: 107%; font-family: Wingdings;\">J</span><span style=\"font-size: 10pt; line-height: 107%;\">. Trenutno je popularna uporaba oblačne storitve </span><a href=\"https://www.overleaf.com/\" title=\"https://www.overleaf.com/\"><span style=\"font-size: 10pt; line-height: 107%;\">Overleaf</span></a><span style=\"font-size: 10pt; line-height: 107%;\">, ki omogoča tudi skupinsko delo.</span></p>\n",
    "<p>&nbsp;</p>\n",
    "<h2>Bralnik Nbviewer</h2>\n",
    "<p><span style=\"font-size: 10pt; line-height: 107%;\">Obstaja več spletnih portalov, ki omogočajo branje, urejanje in zaganjanje Pythonovih zvezkov. Najbolj enostaven je bralnik nbviewer </span><span style=\"line-height: 107%;\">(</span><a href=\"https://nbviewer.jupyter.org/\" title=\"https://nbviewer.jupyter.org/\"><span style=\"font-size: 10pt;\">https://nbviewer.jupyter.org</span>/</a><span style=\"font-size: 10pt; line-height: 107%;\">).&nbsp;</span></p>\n",
    "<p><span style=\"font-size: 10pt; line-height: 107%;\">Omogoča sicer le ogled Jupyter zvezkov, ne more pa se jih z njim urejati.</span></p>\n",
    "<p>&nbsp;</p>\n",
    "\n",
    "<p><img style=\"display: block; margin-left: auto; margin-right: auto;\" src=\"https://raw.githubusercontent.com/osnove/Slike/master/slika1.png\" alt=\"image001\" width=\"600\" height=\"287\" /></p>\n",
    "\n",
    "\n",
    "<p><span style=\"font-size: 10pt; line-height: 107%;\">Se pa lahko stran shrani ali pa s klikom zažene v portalu Binder (</span><a href=\"https://mybinder.org/\"><span style=\"font-size: 10pt;\">https://mybinder.org/</span></a><span style=\"font-size: 10pt; line-height: 107%;\">), ki pa omogoča tudi urejanje in shranjevanje zvezkov. Na primer, na githubu je shranjen Jupyter zvezek oe1_Q_i.ipnb s polnim naslovom </span><a href=\"https://github.com/osnove/Dodatno/blob/master/oe1_Q_i.ipynb\" title=\"https://github.com/osnove/Dodatno/blob/master/oe1_Q_i.ipynb\"><span style=\"font-size: 10pt; line-height: 107%;\">https://github.com/osnove/Dodatno/blob/master/oe1_Q_i.ipynb</span></a><span style=\"font-size: 10pt; line-height: 107%;\"> .To povezavo se lahko vpiše na strani </span><a href=\"https://nbviewer.jupyter.org/\" title=\"https://nbviewer.jupyter.org/\"><span style=\"font-size: 10pt; line-height: 107%;\">nbviewer</span></a><span style=\"font-size: 10pt; line-height: 107%;\">; odpre se Jupyter zvezek, ki se ga lahko pregleduje, ne more pa se ga spreminjati.&nbsp;</span></p>\n",
    "<p>&nbsp;</p>\n",
    "<p><img style=\"display: block; margin-left: auto; margin-right: auto;\" src=\"https://raw.githubusercontent.com/osnove/Slike/master/slika2.png\" alt=\"Slika 2\" width=\"600\" height=\"345\" /></p>\n",
    "<h2>Binder</h2>\n",
    "<p><span style=\"font-size: 10pt;\">S klikom na tri krogce v bralniku Nbviewer desno zgoraj, se bo zvezek odprl v okolju Binder, ki omogoča tako izvajanje, kot tudi urejanje in shranjevanje.</span><span style=\"font-size: 10pt;\">&nbsp;Druga možnost je, da se na strani <a href=\"https://mybinder.org/\">mybinder.org</a> vpiše naslov osnovne mape, kjer so shranjeni Jupyter zvezki (<a href=\"https://github.com/osnove/Dodatno\">https://github.com/osnove/Dodatno</a>) in zažene (Launch) Binder. Ali pa se zažene direktno s klikom na povezavo, ki jo predlaga Binder glede na vpisan git naslov.</span></p>\n",
    "<p><img style=\"display: block; margin-left: auto; margin-right: auto;\" src=\"https://raw.githubusercontent.com/osnove/Slike/master/slika4.png\" alt=\"Binder\" width=\"600\" height=\"497\" /></p>\n",
    "<p><span style=\"font-size: 10pt;\">&nbsp;V konkretnem primeru je to&nbsp;</span><span style=\"font-size: 10pt;\"><a href=\"https://mybinder.org/v2/gh/osnove/Dodatno/master\" style=\"font-size: 11px;\" title=\"https://mybinder.org/v2/gh/osnove/Dodatno/master\"><span style=\"font-size: 10pt; line-height: 14.2667px;\">https://mybinder.org/v2/gh/osnove/Dodatno/master</span></a><span style=\"font-size: 10pt; line-height: 14.2667px;\">.&nbsp; Nato je potrebno malo potrpljenja, da Binder pripravi vse potrebno za delo. Za tiste, ki bi radi sami ustvarili svoje gite, velja opozoriti, da je potrebno znotraj mape kreirati datoteko&nbsp;<em>requirements.txt</em>, v katero se vpiše module, ki jih mora naložiti Binder, da bo Jupyter pravilno konfiguriran.&nbsp;&nbsp;</span></span></p>\n",
    "<p>&nbsp;&nbsp;</p>\n",
    "\n",
    "<h2>Google Colaboratory&nbsp;</h2>\n",
    "<p><span style=\"font-size: 10pt; line-height: 107%;\">Podobno se da izvajati Jupyter zvezke v Googlovi oblačni storitvi </span><a href=\"https://colab.research.google.com/notebooks/welcome.ipynb\" title=\"https://colab.research.google.com/notebooks/welcome.ipynb\"><span style=\"font-size: 10pt; line-height: 107%;\">Colaboratory</span></a><span style=\"font-size: 10pt; line-height: 107%;\">. &nbsp;V Colabu lahko izvajate Jupyter zvezke le, če imate odprt Googlov račun (gmail), saj se zvezek naloži v Gdrive na vašem računu. Ena možnost </span><span style=\"font-size: 10pt; line-height: 107%;\">zagona zvezka v okolju Colab je, da se poda dikretno povezavo na zvezek v Gdrive-u, </span><a href=\"https://drive.google.com/open?id=1jsUFR6xOM4tzQUX7WuRGGbWms02bqyQ9\" title=\"https://drive.google.com/open?id=1jsUFR6xOM4tzQUX7WuRGGbWms02bqyQ9\"><span style=\"font-size: 10pt; line-height: 107%;\">klikni primer</span></a><span style=\"font-size: 10pt; line-height: 107%;\">.&nbsp;</span></p>\n",
    "<p><img style=\"display: block; margin-left: auto; margin-right: auto;\" src=\"https://raw.githubusercontent.com/osnove/Slike/master/slika3.png\" alt=\"slika 3\" width=\"600\" height=\"402\" /></p>\n",
    "<p><span style=\"font-size: 10pt; line-height: 107%;\">Za lažje delo je dobro imeti naložen vtičnik (extension) “Open in Colab”, ki omogoča zaganjanje zvezkov neposredno iz GDrivea.&nbsp; &nbsp;&nbsp;Lahko pa se odpre spletno stran </span><a href=\"https://colab.research.google.com/\" title=\"https://colab.research.google.com/\"><span style=\"font-size: 10pt; line-height: 107%;\">Colaboratory</span></a><span style=\"font-size: 10pt; line-height: 107%;\"> in se izbere File/Open Notebook in nato Github ali Gdrive naslov. Lahko pa se zažene zvezek neposredno v Colabu. &nbsp;Naslov je sestavljen iz naslova spletne strani Colaba&nbsp;</span></p>\n",
    "<p><span style=\"font-size: 10pt;\"><span style=\"font-size: 10pt; line-height: 107%;\"><a href=\"https://colab.research.google.com/\" style=\"font-size: 11px;\"><span style=\"font-size: 10pt; line-height: 107%;\">https://colab.research.google.com/</span></a><span style=\"font-size: 10pt; line-height: 107%;\"> z dodatkom naslova Git datoteke npr. github/osnove/Dodatno/blob/master/oe1_Q_i.ipynb . <a href=\"https://colab.research.google.com/github/osnove/Dodatno/blob/master/oe1_Q_i.ipynb\" title=\"https://colab.research.google.com/github/osnove/Dodatno/blob/master/oe1_Q_i.ipynb\">Povezava je sestavljena iz naslova Colaba in Gita</a>. Colab omogoča uporabo več knjižnic. Nekaj primerov uporabe je <a href=\"https://colab.research.google.com/notebooks/charts.ipynb#scrollTo=60f2SO4jIfQz\" title=\"https://colab.research.google.com/notebooks/charts.ipynb#scrollTo=60f2SO4jIfQz\">tu</a>. Bistvena prednost Colaba v primerjavi z Binderjem je v hitrosti nalaganja Jupyter zvezka, saj Colab mnogo hitreje odpre zvezek in omogoča delo z njim. Vendar trenutno kaže, da Colab ne omogoča vseh interaktivnih možnosti, kot jih omogoča Binder.&nbsp;</span></span></span></p>\n",
    "<p>&nbsp;&nbsp;</p>\n",
    "\n",
    "<p><span style=\"font-size: 10pt; line-height: 107%;\">Obstajajo tudi druge spletne strani, ki omogočajo “oblačno” delo z Jupyter zvezki. Za primerjavo različnih platform si preberite </span><a href=\"https://www.dataschool.io/cloud-services-for-jupyter-notebook/\" title=\"https://www.dataschool.io/cloud-services-for-jupyter-notebook/\"><span style=\"font-size: 10pt; line-height: 107%;\">to stran</span></a><span style=\"font-size: 10pt; line-height: 107%;\">.</span></p>\n",
    "\n",
    "\n",
    "<p>&nbsp;</p>\n",
    "<h2>Super na kratko o urejanju Jypter zvezkov</h2>\n",
    "<p><span style=\"font-size: 10pt;\">Še par besed o delu z Jupyter zvezki:&nbsp;zvezek je sestavljen iz posameznih celic, ki so lahko tekstovne&nbsp; ali pa računalniška koda. S klikom na posamezno celico se jo lahko ureja. Zažene se lahko celoten zvezek z Runtime→Run all ali pa posamezno celico s Ctrl Enter.&nbsp; Zvezek se lahko shrani lokalno, na gdrive ali na github; lahko se odpre novega , praznega, itd.&nbsp; \n",
    "    <img style=\"display: block; margin-left: auto; margin-right: auto;\" src=\"https://raw.githubusercontent.com/osnove/Slike/master/slika5.png\" alt=\"Slika 4\" width=\"600\" height=\"425\" /></span></p>\n",
    "<p><span style=\"font-size: 10pt;\">Na spletu lahko najdete več informacij, za začetek npr. na <a href=\"https://towardsdatascience.com/a-beginners-tutorial-to-jupyter-notebooks-1b2f8705888a\" title=\"https://towardsdatascience.com/a-beginners-tutorial-to-jupyter-notebooks-1b2f8705888a\">tej strani</a>.</span><span style=\"font-size: 10pt; line-height: 107%; font-family: Calibri, sans-serif;\"><br clear=\"all\" /></span></p>"
   ]
  },
  {
   "cell_type": "code",
   "execution_count": 4,
   "metadata": {},
   "outputs": [
    {
     "name": "stdout",
     "output_type": "stream",
     "text": [
      "(20+6.280000000000001j)\n",
      "navidezna moč je (90+28.260000000000005j)\n"
     ]
    }
   ],
   "source": [
    "# To je tipična celica s kodo\n",
    "\n",
    "import numpy as np  # vnos modula numpy\n",
    "L=100e-3\n",
    "R=20\n",
    "f=10\n",
    "I=3\n",
    "\n",
    "omega=2*3.14*f\n",
    "Z=R+1j*omega*L # izračun impedance, 1j je imaginarno število\n",
    "print(Z) # izpis impedance\n",
    "\n",
    "S=I*I*Z/2 # izračun moči\n",
    "print('navidezna moč je',S)"
   ]
  },
  {
   "cell_type": "code",
   "execution_count": null,
   "metadata": {},
   "outputs": [],
   "source": []
  }
 ],
 "metadata": {
  "kernelspec": {
   "display_name": "Python 3",
   "language": "python",
   "name": "python3"
  },
  "language_info": {
   "codemirror_mode": {
    "name": "ipython",
    "version": 3
   },
   "file_extension": ".py",
   "mimetype": "text/x-python",
   "name": "python",
   "nbconvert_exporter": "python",
   "pygments_lexer": "ipython3",
   "version": "3.7.0"
  },
  "nbTranslate": {
   "displayLangs": [
    "*"
   ],
   "hotkey": "alt-t",
   "langInMainMenu": true,
   "sourceLang": "en",
   "targetLang": "fr",
   "useGoogleTranslate": true
  },
  "toc": {
   "base_numbering": 1,
   "nav_menu": {},
   "number_sections": true,
   "sideBar": true,
   "skip_h1_title": true,
   "title_cell": "Kazalo",
   "title_sidebar": "Kazalo",
   "toc_cell": false,
   "toc_position": {},
   "toc_section_display": true,
   "toc_window_display": false
  }
 },
 "nbformat": 4,
 "nbformat_minor": 2
}
