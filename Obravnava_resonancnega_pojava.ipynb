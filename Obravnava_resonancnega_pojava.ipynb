{
  "nbformat": 4,
  "nbformat_minor": 0,
  "metadata": {
    "kernelspec": {
      "display_name": "Python 3",
      "language": "python",
      "name": "python3"
    },
    "language_info": {
      "codemirror_mode": {
        "name": "ipython",
        "version": 3
      },
      "file_extension": ".py",
      "mimetype": "text/x-python",
      "name": "python",
      "nbconvert_exporter": "python",
      "pygments_lexer": "ipython3",
      "version": "3.7.0"
    },
    "nbTranslate": {
      "displayLangs": [
        "*"
      ],
      "hotkey": "alt-t",
      "langInMainMenu": true,
      "sourceLang": "en",
      "targetLang": "fr",
      "useGoogleTranslate": true
    },
    "toc": {
      "base_numbering": 1,
      "nav_menu": {},
      "number_sections": true,
      "sideBar": true,
      "skip_h1_title": true,
      "title_cell": "Kazalo",
      "title_sidebar": "Kazalo",
      "toc_cell": false,
      "toc_position": {
        "height": "calc(100% - 180px)",
        "left": "10px",
        "top": "150px",
        "width": "165px"
      },
      "toc_section_display": true,
      "toc_window_display": true
    },
    "colab": {
      "name": "Obravnava_resonancnega_pojava.ipynb",
      "provenance": []
    },
    "widgets": {
      "application/vnd.jupyter.widget-state+json": {
        "e086060fcbd248da96cac694a3c8254a": {
          "model_module": "@jupyter-widgets/controls",
          "model_name": "VBoxModel",
          "state": {
            "_view_name": "VBoxView",
            "_dom_classes": [
              "widget-interact"
            ],
            "_model_name": "VBoxModel",
            "_view_module": "@jupyter-widgets/controls",
            "_model_module_version": "1.5.0",
            "_view_count": null,
            "_view_module_version": "1.5.0",
            "box_style": "",
            "layout": "IPY_MODEL_0ce19e31692d4948885f407db9638997",
            "_model_module": "@jupyter-widgets/controls",
            "children": [
              "IPY_MODEL_1f4f5e502b8347b8ad651b2917aef0ed",
              "IPY_MODEL_2fa210640b7b49888ed93fc211d09c51"
            ]
          }
        },
        "0ce19e31692d4948885f407db9638997": {
          "model_module": "@jupyter-widgets/base",
          "model_name": "LayoutModel",
          "state": {
            "_view_name": "LayoutView",
            "grid_template_rows": null,
            "right": null,
            "justify_content": null,
            "_view_module": "@jupyter-widgets/base",
            "overflow": null,
            "_model_module_version": "1.2.0",
            "_view_count": null,
            "flex_flow": null,
            "width": null,
            "min_width": null,
            "border": null,
            "align_items": null,
            "bottom": null,
            "_model_module": "@jupyter-widgets/base",
            "top": null,
            "grid_column": null,
            "overflow_y": null,
            "overflow_x": null,
            "grid_auto_flow": null,
            "grid_area": null,
            "grid_template_columns": null,
            "flex": null,
            "_model_name": "LayoutModel",
            "justify_items": null,
            "grid_row": null,
            "max_height": null,
            "align_content": null,
            "visibility": null,
            "align_self": null,
            "height": null,
            "min_height": null,
            "padding": null,
            "grid_auto_rows": null,
            "grid_gap": null,
            "max_width": null,
            "order": null,
            "_view_module_version": "1.2.0",
            "grid_template_areas": null,
            "object_position": null,
            "object_fit": null,
            "grid_auto_columns": null,
            "margin": null,
            "display": null,
            "left": null
          }
        },
        "1f4f5e502b8347b8ad651b2917aef0ed": {
          "model_module": "@jupyter-widgets/controls",
          "model_name": "IntSliderModel",
          "state": {
            "_view_name": "IntSliderView",
            "style": "IPY_MODEL_90eb45f0926b4a17b4c4784395ebacfc",
            "_dom_classes": [],
            "description": "omega",
            "step": 25,
            "_model_name": "IntSliderModel",
            "orientation": "horizontal",
            "max": 1500,
            "_view_module": "@jupyter-widgets/controls",
            "_model_module_version": "1.5.0",
            "value": 575,
            "_view_count": null,
            "disabled": false,
            "_view_module_version": "1.5.0",
            "min": 500,
            "continuous_update": true,
            "readout_format": "d",
            "description_tooltip": null,
            "readout": true,
            "_model_module": "@jupyter-widgets/controls",
            "layout": "IPY_MODEL_08c7568f11f84707a1d9e95c13327205"
          }
        },
        "2fa210640b7b49888ed93fc211d09c51": {
          "model_module": "@jupyter-widgets/output",
          "model_name": "OutputModel",
          "state": {
            "_view_name": "OutputView",
            "msg_id": "",
            "_dom_classes": [],
            "_model_name": "OutputModel",
            "outputs": [
              {
                "output_type": "display_data",
                "metadata": {
                  "tags": []
                },
                "image/png": "iVBORw0KGgoAAAANSUhEUgAAAaoAAAEICAYAAAAOW7ATAAAABHNCSVQICAgIfAhkiAAAAAlwSFlz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\n",
                "text/plain": "<Figure size 432x288 with 2 Axes>"
              }
            ],
            "_view_module": "@jupyter-widgets/output",
            "_model_module_version": "1.0.0",
            "_view_count": null,
            "_view_module_version": "1.0.0",
            "layout": "IPY_MODEL_43678e797fd5444aa3ec750461e002d8",
            "_model_module": "@jupyter-widgets/output"
          }
        },
        "90eb45f0926b4a17b4c4784395ebacfc": {
          "model_module": "@jupyter-widgets/controls",
          "model_name": "SliderStyleModel",
          "state": {
            "_view_name": "StyleView",
            "handle_color": null,
            "_model_name": "SliderStyleModel",
            "description_width": "",
            "_view_module": "@jupyter-widgets/base",
            "_model_module_version": "1.5.0",
            "_view_count": null,
            "_view_module_version": "1.2.0",
            "_model_module": "@jupyter-widgets/controls"
          }
        },
        "08c7568f11f84707a1d9e95c13327205": {
          "model_module": "@jupyter-widgets/base",
          "model_name": "LayoutModel",
          "state": {
            "_view_name": "LayoutView",
            "grid_template_rows": null,
            "right": null,
            "justify_content": null,
            "_view_module": "@jupyter-widgets/base",
            "overflow": null,
            "_model_module_version": "1.2.0",
            "_view_count": null,
            "flex_flow": null,
            "width": null,
            "min_width": null,
            "border": null,
            "align_items": null,
            "bottom": null,
            "_model_module": "@jupyter-widgets/base",
            "top": null,
            "grid_column": null,
            "overflow_y": null,
            "overflow_x": null,
            "grid_auto_flow": null,
            "grid_area": null,
            "grid_template_columns": null,
            "flex": null,
            "_model_name": "LayoutModel",
            "justify_items": null,
            "grid_row": null,
            "max_height": null,
            "align_content": null,
            "visibility": null,
            "align_self": null,
            "height": null,
            "min_height": null,
            "padding": null,
            "grid_auto_rows": null,
            "grid_gap": null,
            "max_width": null,
            "order": null,
            "_view_module_version": "1.2.0",
            "grid_template_areas": null,
            "object_position": null,
            "object_fit": null,
            "grid_auto_columns": null,
            "margin": null,
            "display": null,
            "left": null
          }
        },
        "f3669e074ccd4910b0b0f79bc320d77b": {
          "model_module": "@jupyter-widgets/controls",
          "model_name": "VBoxModel",
          "state": {
            "_view_name": "VBoxView",
            "_dom_classes": [
              "widget-interact"
            ],
            "_model_name": "VBoxModel",
            "_view_module": "@jupyter-widgets/controls",
            "_model_module_version": "1.5.0",
            "_view_count": null,
            "_view_module_version": "1.5.0",
            "box_style": "",
            "layout": "IPY_MODEL_81d742305c51448a9901b0be53074de1",
            "_model_module": "@jupyter-widgets/controls",
            "children": [
              "IPY_MODEL_d35ec25657954e57bbb7553087e7c5d8",
              "IPY_MODEL_27d85c6ac42241a7b622014c2a00c4f1"
            ]
          }
        },
        "81d742305c51448a9901b0be53074de1": {
          "model_module": "@jupyter-widgets/base",
          "model_name": "LayoutModel",
          "state": {
            "_view_name": "LayoutView",
            "grid_template_rows": null,
            "right": null,
            "justify_content": null,
            "_view_module": "@jupyter-widgets/base",
            "overflow": null,
            "_model_module_version": "1.2.0",
            "_view_count": null,
            "flex_flow": null,
            "width": null,
            "min_width": null,
            "border": null,
            "align_items": null,
            "bottom": null,
            "_model_module": "@jupyter-widgets/base",
            "top": null,
            "grid_column": null,
            "overflow_y": null,
            "overflow_x": null,
            "grid_auto_flow": null,
            "grid_area": null,
            "grid_template_columns": null,
            "flex": null,
            "_model_name": "LayoutModel",
            "justify_items": null,
            "grid_row": null,
            "max_height": null,
            "align_content": null,
            "visibility": null,
            "align_self": null,
            "height": null,
            "min_height": null,
            "padding": null,
            "grid_auto_rows": null,
            "grid_gap": null,
            "max_width": null,
            "order": null,
            "_view_module_version": "1.2.0",
            "grid_template_areas": null,
            "object_position": null,
            "object_fit": null,
            "grid_auto_columns": null,
            "margin": null,
            "display": null,
            "left": null
          }
        },
        "d35ec25657954e57bbb7553087e7c5d8": {
          "model_module": "@jupyter-widgets/controls",
          "model_name": "IntSliderModel",
          "state": {
            "_view_name": "IntSliderView",
            "style": "IPY_MODEL_77f2bcdae8df42258bbd0ad5ef2da345",
            "_dom_classes": [],
            "description": "omega",
            "step": 25,
            "_model_name": "IntSliderModel",
            "orientation": "horizontal",
            "max": 1500,
            "_view_module": "@jupyter-widgets/controls",
            "_model_module_version": "1.5.0",
            "value": 875,
            "_view_count": null,
            "disabled": false,
            "_view_module_version": "1.5.0",
            "min": 500,
            "continuous_update": true,
            "readout_format": "d",
            "description_tooltip": null,
            "readout": true,
            "_model_module": "@jupyter-widgets/controls",
            "layout": "IPY_MODEL_6aa36c675ab347f09db7fd6926aa0a6d"
          }
        },
        "27d85c6ac42241a7b622014c2a00c4f1": {
          "model_module": "@jupyter-widgets/output",
          "model_name": "OutputModel",
          "state": {
            "_view_name": "OutputView",
            "msg_id": "",
            "_dom_classes": [],
            "_model_name": "OutputModel",
            "outputs": [
              {
                "output_type": "display_data",
                "metadata": {
                  "tags": []
                },
                "image/png": "iVBORw0KGgoAAAANSUhEUgAAApAAAAF1CAYAAABf1Nr8AAAABHNCSVQICAgIfAhkiAAAAAlwSFlz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\niIh4RQGkiIiIiHjl/wNk4xZufRcESQAAAABJRU5ErkJggg==\n",
                "text/plain": "<Figure size 720x432 with 2 Axes>"
              }
            ],
            "_view_module": "@jupyter-widgets/output",
            "_model_module_version": "1.0.0",
            "_view_count": null,
            "_view_module_version": "1.0.0",
            "layout": "IPY_MODEL_a59a602ce01643de9628cd36aa980bab",
            "_model_module": "@jupyter-widgets/output"
          }
        },
        "77f2bcdae8df42258bbd0ad5ef2da345": {
          "model_module": "@jupyter-widgets/controls",
          "model_name": "SliderStyleModel",
          "state": {
            "_view_name": "StyleView",
            "handle_color": null,
            "_model_name": "SliderStyleModel",
            "description_width": "",
            "_view_module": "@jupyter-widgets/base",
            "_model_module_version": "1.5.0",
            "_view_count": null,
            "_view_module_version": "1.2.0",
            "_model_module": "@jupyter-widgets/controls"
          }
        },
        "6aa36c675ab347f09db7fd6926aa0a6d": {
          "model_module": "@jupyter-widgets/base",
          "model_name": "LayoutModel",
          "state": {
            "_view_name": "LayoutView",
            "grid_template_rows": null,
            "right": null,
            "justify_content": null,
            "_view_module": "@jupyter-widgets/base",
            "overflow": null,
            "_model_module_version": "1.2.0",
            "_view_count": null,
            "flex_flow": null,
            "width": null,
            "min_width": null,
            "border": null,
            "align_items": null,
            "bottom": null,
            "_model_module": "@jupyter-widgets/base",
            "top": null,
            "grid_column": null,
            "overflow_y": null,
            "overflow_x": null,
            "grid_auto_flow": null,
            "grid_area": null,
            "grid_template_columns": null,
            "flex": null,
            "_model_name": "LayoutModel",
            "justify_items": null,
            "grid_row": null,
            "max_height": null,
            "align_content": null,
            "visibility": null,
            "align_self": null,
            "height": null,
            "min_height": null,
            "padding": null,
            "grid_auto_rows": null,
            "grid_gap": null,
            "max_width": null,
            "order": null,
            "_view_module_version": "1.2.0",
            "grid_template_areas": null,
            "object_position": null,
            "object_fit": null,
            "grid_auto_columns": null,
            "margin": null,
            "display": null,
            "left": null
          }
        },
        "c28964bf8ec749c3b180d8cb9e1a43c6": {
          "model_module": "@jupyter-widgets/controls",
          "model_name": "VBoxModel",
          "state": {
            "_view_name": "VBoxView",
            "_dom_classes": [
              "widget-interact"
            ],
            "_model_name": "VBoxModel",
            "_view_module": "@jupyter-widgets/controls",
            "_model_module_version": "1.5.0",
            "_view_count": null,
            "_view_module_version": "1.5.0",
            "box_style": "",
            "layout": "IPY_MODEL_10adc0be74f04ac0b7cda0486a02a1ea",
            "_model_module": "@jupyter-widgets/controls",
            "children": [
              "IPY_MODEL_ef281d48afc947b09838145b1eaec236",
              "IPY_MODEL_32add9493f304a0fbf51fd8b7e038c61"
            ]
          }
        },
        "10adc0be74f04ac0b7cda0486a02a1ea": {
          "model_module": "@jupyter-widgets/base",
          "model_name": "LayoutModel",
          "state": {
            "_view_name": "LayoutView",
            "grid_template_rows": null,
            "right": null,
            "justify_content": null,
            "_view_module": "@jupyter-widgets/base",
            "overflow": null,
            "_model_module_version": "1.2.0",
            "_view_count": null,
            "flex_flow": null,
            "width": null,
            "min_width": null,
            "border": null,
            "align_items": null,
            "bottom": null,
            "_model_module": "@jupyter-widgets/base",
            "top": null,
            "grid_column": null,
            "overflow_y": null,
            "overflow_x": null,
            "grid_auto_flow": null,
            "grid_area": null,
            "grid_template_columns": null,
            "flex": null,
            "_model_name": "LayoutModel",
            "justify_items": null,
            "grid_row": null,
            "max_height": null,
            "align_content": null,
            "visibility": null,
            "align_self": null,
            "height": null,
            "min_height": null,
            "padding": null,
            "grid_auto_rows": null,
            "grid_gap": null,
            "max_width": null,
            "order": null,
            "_view_module_version": "1.2.0",
            "grid_template_areas": null,
            "object_position": null,
            "object_fit": null,
            "grid_auto_columns": null,
            "margin": null,
            "display": null,
            "left": null
          }
        },
        "ef281d48afc947b09838145b1eaec236": {
          "model_module": "@jupyter-widgets/controls",
          "model_name": "FloatSliderModel",
          "state": {
            "_view_name": "FloatSliderView",
            "style": "IPY_MODEL_228f94b113674abbaa4865b989d70b80",
            "_dom_classes": [],
            "description": "omega",
            "step": 25,
            "_model_name": "FloatSliderModel",
            "orientation": "horizontal",
            "max": 950,
            "_view_module": "@jupyter-widgets/controls",
            "_model_module_version": "1.5.0",
            "value": 650,
            "_view_count": null,
            "disabled": false,
            "_view_module_version": "1.5.0",
            "min": 650,
            "continuous_update": true,
            "readout_format": ".2f",
            "description_tooltip": null,
            "readout": true,
            "_model_module": "@jupyter-widgets/controls",
            "layout": "IPY_MODEL_2a2e352af55947d6883726d799bce72c"
          }
        },
        "32add9493f304a0fbf51fd8b7e038c61": {
          "model_module": "@jupyter-widgets/output",
          "model_name": "OutputModel",
          "state": {
            "_view_name": "OutputView",
            "msg_id": "",
            "_dom_classes": [],
            "_model_name": "OutputModel",
            "outputs": [
              {
                "output_type": "stream",
                "metadata": {
                  "tags": []
                },
                "text": "UR= (6+16j)\nUL= (-77+27j)\nUC= (121-43j)\n",
                "stream": "stdout"
              },
              {
                "output_type": "pyerr",
                "metadata": {
                  "tags": []
                },
                "ename": "NameError",
                "evalue": "ignored",
                "traceback": [
                  "\u001b[0;31m---------------------------------------------------------------------------\u001b[0m",
                  "\u001b[0;31mNameError\u001b[0m                                 Traceback (most recent call last)",
                  "\u001b[0;32m/usr/local/lib/python3.6/dist-packages/ipywidgets/widgets/interaction.py\u001b[0m in \u001b[0;36mupdate\u001b[0;34m(self, *args)\u001b[0m\n\u001b[1;32m    254\u001b[0m                     \u001b[0mvalue\u001b[0m \u001b[0;34m=\u001b[0m \u001b[0mwidget\u001b[0m\u001b[0;34m.\u001b[0m\u001b[0mget_interact_value\u001b[0m\u001b[0;34m(\u001b[0m\u001b[0;34m)\u001b[0m\u001b[0;34m\u001b[0m\u001b[0;34m\u001b[0m\u001b[0m\n\u001b[1;32m    255\u001b[0m                     \u001b[0mself\u001b[0m\u001b[0;34m.\u001b[0m\u001b[0mkwargs\u001b[0m\u001b[0;34m[\u001b[0m\u001b[0mwidget\u001b[0m\u001b[0;34m.\u001b[0m\u001b[0m_kwarg\u001b[0m\u001b[0;34m]\u001b[0m \u001b[0;34m=\u001b[0m \u001b[0mvalue\u001b[0m\u001b[0;34m\u001b[0m\u001b[0;34m\u001b[0m\u001b[0m\n\u001b[0;32m--> 256\u001b[0;31m                 \u001b[0mself\u001b[0m\u001b[0;34m.\u001b[0m\u001b[0mresult\u001b[0m \u001b[0;34m=\u001b[0m \u001b[0mself\u001b[0m\u001b[0;34m.\u001b[0m\u001b[0mf\u001b[0m\u001b[0;34m(\u001b[0m\u001b[0;34m**\u001b[0m\u001b[0mself\u001b[0m\u001b[0;34m.\u001b[0m\u001b[0mkwargs\u001b[0m\u001b[0;34m)\u001b[0m\u001b[0;34m\u001b[0m\u001b[0;34m\u001b[0m\u001b[0m\n\u001b[0m\u001b[1;32m    257\u001b[0m                 \u001b[0mshow_inline_matplotlib_plots\u001b[0m\u001b[0;34m(\u001b[0m\u001b[0;34m)\u001b[0m\u001b[0;34m\u001b[0m\u001b[0;34m\u001b[0m\u001b[0m\n\u001b[1;32m    258\u001b[0m                 \u001b[0;32mif\u001b[0m \u001b[0mself\u001b[0m\u001b[0;34m.\u001b[0m\u001b[0mauto_display\u001b[0m \u001b[0;32mand\u001b[0m \u001b[0mself\u001b[0m\u001b[0;34m.\u001b[0m\u001b[0mresult\u001b[0m \u001b[0;32mis\u001b[0m \u001b[0;32mnot\u001b[0m \u001b[0;32mNone\u001b[0m\u001b[0;34m:\u001b[0m\u001b[0;34m\u001b[0m\u001b[0;34m\u001b[0m\u001b[0m\n",
                  "\u001b[0;32m<ipython-input-11-ccdb826be566>\u001b[0m in \u001b[0;36mrun_complex\u001b[0;34m(omega)\u001b[0m\n\u001b[1;32m     14\u001b[0m \u001b[0;34m\u001b[0m\u001b[0m\n\u001b[1;32m     15\u001b[0m     \u001b[0mKazalci\u001b[0m\u001b[0;34m=\u001b[0m\u001b[0;34m[\u001b[0m\u001b[0mUR\u001b[0m\u001b[0;34m,\u001b[0m\u001b[0mUL\u001b[0m\u001b[0;34m,\u001b[0m\u001b[0mUC\u001b[0m\u001b[0;34m]\u001b[0m\u001b[0;34m\u001b[0m\u001b[0;34m\u001b[0m\u001b[0m\n\u001b[0;32m---> 16\u001b[0;31m     \u001b[0mcomplex_plane3\u001b[0m\u001b[0;34m(\u001b[0m\u001b[0mKazalci\u001b[0m\u001b[0;34m,\u001b[0m\u001b[0;36m2\u001b[0m\u001b[0;34m,\u001b[0m\u001b[0;36m300\u001b[0m\u001b[0;34m)\u001b[0m  \u001b[0;31m# po potrebi razširi za ogled kode\u001b[0m\u001b[0;34m\u001b[0m\u001b[0;34m\u001b[0m\u001b[0m\n\u001b[0m\u001b[1;32m     17\u001b[0m \u001b[0;34m\u001b[0m\u001b[0m\n\u001b[1;32m     18\u001b[0m \u001b[0minteract\u001b[0m\u001b[0;34m(\u001b[0m\u001b[0mrun_complex\u001b[0m\u001b[0;34m,\u001b[0m\u001b[0momega\u001b[0m\u001b[0;34m=\u001b[0m\u001b[0mFloatSlider\u001b[0m\u001b[0;34m(\u001b[0m\u001b[0mmin\u001b[0m\u001b[0;34m=\u001b[0m\u001b[0;36m650\u001b[0m\u001b[0;34m,\u001b[0m \u001b[0mmax\u001b[0m\u001b[0;34m=\u001b[0m\u001b[0;36m950\u001b[0m\u001b[0;34m,\u001b[0m \u001b[0mstep\u001b[0m\u001b[0;34m=\u001b[0m\u001b[0;36m25\u001b[0m\u001b[0;34m)\u001b[0m\u001b[0;34m)\u001b[0m\u001b[0;34m;\u001b[0m\u001b[0;34m\u001b[0m\u001b[0;34m\u001b[0m\u001b[0m\n",
                  "\u001b[0;31mNameError\u001b[0m: name 'complex_plane3' is not defined"
                ]
              }
            ],
            "_view_module": "@jupyter-widgets/output",
            "_model_module_version": "1.0.0",
            "_view_count": null,
            "_view_module_version": "1.0.0",
            "layout": "IPY_MODEL_7c41bb3f2c954aba90c74dbb8fbed653",
            "_model_module": "@jupyter-widgets/output"
          }
        },
        "228f94b113674abbaa4865b989d70b80": {
          "model_module": "@jupyter-widgets/controls",
          "model_name": "SliderStyleModel",
          "state": {
            "_view_name": "StyleView",
            "handle_color": null,
            "_model_name": "SliderStyleModel",
            "description_width": "",
            "_view_module": "@jupyter-widgets/base",
            "_model_module_version": "1.5.0",
            "_view_count": null,
            "_view_module_version": "1.2.0",
            "_model_module": "@jupyter-widgets/controls"
          }
        },
        "2a2e352af55947d6883726d799bce72c": {
          "model_module": "@jupyter-widgets/base",
          "model_name": "LayoutModel",
          "state": {
            "_view_name": "LayoutView",
            "grid_template_rows": null,
            "right": null,
            "justify_content": null,
            "_view_module": "@jupyter-widgets/base",
            "overflow": null,
            "_model_module_version": "1.2.0",
            "_view_count": null,
            "flex_flow": null,
            "width": null,
            "min_width": null,
            "border": null,
            "align_items": null,
            "bottom": null,
            "_model_module": "@jupyter-widgets/base",
            "top": null,
            "grid_column": null,
            "overflow_y": null,
            "overflow_x": null,
            "grid_auto_flow": null,
            "grid_area": null,
            "grid_template_columns": null,
            "flex": null,
            "_model_name": "LayoutModel",
            "justify_items": null,
            "grid_row": null,
            "max_height": null,
            "align_content": null,
            "visibility": null,
            "align_self": null,
            "height": null,
            "min_height": null,
            "padding": null,
            "grid_auto_rows": null,
            "grid_gap": null,
            "max_width": null,
            "order": null,
            "_view_module_version": "1.2.0",
            "grid_template_areas": null,
            "object_position": null,
            "object_fit": null,
            "grid_auto_columns": null,
            "margin": null,
            "display": null,
            "left": null
          }
        }
      }
    }
  },
  "cells": [
    {
      "cell_type": "markdown",
      "metadata": {
        "id": "C0sMEXVqtWNA",
        "colab_type": "text"
      },
      "source": [
        "#   Obravnava resonančnega pojava"
      ]
    },
    {
      "cell_type": "markdown",
      "metadata": {
        "id": "ISL9pg10tWNC",
        "colab_type": "text"
      },
      "source": [
        "<br>\n",
        "<center>Dejan Križaj, 2019</center>\n",
        "\n",
        "**Namen:** Zvezek je namenjen seznanjanju študentov z uporabo Jupytra za analizo resonančnega pojava. Pri tem bomo uporabili analizo vezja s kompleksnim računom. Spoznali boste različne načine obravnave in vizualizacije resonančnega pojava, tako v časovnem prostoru kot tudi s kazalci v kompleksni ravnini in predvsem s prikazom v frekvenčnem prostoru. Pokazali bomo tudi, kako se računalniško določi pomembne parametre kot so resonančna frekvenca, bočni frekvenci in pasovna širina.\n",
        "\n",
        "**Povezani zvezki**:\n",
        "* O obravnavi vezij vzbujanih z izmeničnimi signali s kompleksnim računom"
      ]
    },
    {
      "cell_type": "markdown",
      "metadata": {
        "id": "0_Eu8sJDtWND",
        "colab_type": "text"
      },
      "source": [
        "<div class=\"alert alert-block alert-info\">\n",
        "<b>Namig:</b> Obstajata dve verziji tega dokumenta. Ena je v obliki html datoteke (končnica html), ki je ni mogoče izvajati, druga pa ima končnico ipny (Jupyter Notebook), ki jo lahko izvajamo z Jupyter aplikacijo. To aplikacijo imate lahko naloženo na vašem računalniku in se izvaja v brskalniku, lahko jo ogledujete s spletno aplikacijo nbViewer, s spletnimi aplikacijami Binder ali Google Colab pa jo lahko tudi zaganjate in spreminjate. Več o tem si preberite v \n",
        "<a href=\"http://lbm.fe.uni-lj.si/index.php?option=com_content&view=article&id=59&Itemid=135&lang=si\">tem članku</a>.\n",
        "<br>    \n",
        "Za izvajanje tega zvezka ne potrebujete posebnega znanja programiranja v Pythonu, lahko pa poljubno spreminjate kodo in se sproti učite tudi uporabe programskega jezika. Več podobnih primerov je na Githubu na https://github.com/osnove/Dodatno/\n",
        "</div>"
      ]
    },
    {
      "cell_type": "markdown",
      "metadata": {
        "id": "jxtR2mGptWND",
        "colab_type": "text"
      },
      "source": [
        "## Teorija - supernakratko\n",
        "\n",
        "Analizo vezij s kompleksnim računom smo že spoznali v predhodnem zvezku. Analiza resonančnega pojava se nanaša na analizo vezja, vzbujanega z izmeničnim signalom, s pomočjo kompleksnega računa. Resonančni pojav nastopi tedaj, ko pride v vezju do največjega prehajanja iz magnetne energije v električno in nazaj. Tedaj pride v vezju do bolj ali manj izrazitega povečanja tokov ali napetosti, kar  imenujemo tokovna ali napetostna resonanca. Očitno je za to potrebno, da imamo v vezju vsaj en element, ki je sposoben shranjevati električno energijo (kondezator) in en element, ki je sposoben shranjevati magnetno energijo (tuljava). V praksi pa je to lahko tudi en sam element, na primer tuljava, ki pa ima zaradi realne strukture tudi medovojne kapacitivnosti, ki povzročijo, da ima sama tuljava resonančne lastnosti pri določeni frekvenci.\n",
        "\n",
        "Vzemimo preprost primer vzbujanja zaporedne vezave upora, kondenzatorja in tuljave na izmenični vir napetosti. Za analizo takega preprostega vezja bi morali rešiti enačbo \n",
        "\n",
        "$u_g(t)=R i(t)+\\frac{1}{C}\\int{i(t) dt} + L \\frac {d i(t)}{dt}$. \n",
        "\n",
        "To enačbo bi morali prevesti v diferencialno enačbo in jo rešiti, kar je tudi potrebno, če analiziramo prehodni pojav. Če pa nas zanima kvazistacionarno stanje (prehodni pojav že izzveni), pa tako tok kot napetosti nihajo z vzbujalno napetostjo. Analizo takega vezja lahko opravimo s prehodom v kompleksni račun, ki zgornjo enačbo prevede v algebrajsko enačbo za kompleksor toka $\\underline{I}$ \n",
        "\n",
        "$\\underline{U}=R \\underline{I}+j\\omega L \\underline{I} + \\frac{ 1}{j\\omega C}\\underline{I} $. \n",
        "\n",
        "Od tod sledi, da je kompleksor toka \n",
        "$\\underline{I}=\\frac{\\underline{U}}{R +j\\omega L +1/(j\\omega C)}$. \n",
        "\n",
        "Če analiziramo zgornjo enačbo, ugotovimo, da bo tok največji tedaj, ko bo imenovalec najmanjši, to pa bo, ko bo $ \\omega L = 1/(\\omega C)$. Tedaj bo vezje v resonanci, tok pa bo enak kar $I=U/R$.\n",
        "\n",
        "V nadaljevanju si oglejmo, kako izračunavamo in analiziramo resonančni pojav z Jupytrom."
      ]
    },
    {
      "cell_type": "markdown",
      "metadata": {
        "id": "ush0doG7tWNF",
        "colab_type": "text"
      },
      "source": [
        "## Obravnava zaporednega RLC vezja s kompleksnim računom\n",
        "<img src=\"https://raw.githubusercontent.com/osnove/Slike/master/impedanca_RLC2.png\" style=\"height:120px\" align=\"left\"> \n",
        "\n",
        "Izračunajmo tok v vezju za naslednje podatke:\n",
        "\n",
        "$\\quad u_G(t)=50 \\cos (20 t) $  V  <br>\n",
        "$\\quad L=100 $ mH <br>\n",
        "$\\quad R = 2 \\, \\Omega$ <br>\n",
        "$\\quad C = 2 10^{-6} \\, $ F <br>"
      ]
    },
    {
      "cell_type": "code",
      "metadata": {
        "id": "LZb50iaWtWNG",
        "colab_type": "code",
        "colab": {
          "base_uri": "https://localhost:8080/",
          "height": 117
        },
        "outputId": "148cef63-750e-4711-eb06-932ac95e0b98"
      },
      "source": [
        "import numpy as np\n",
        "L=150e-3\n",
        "R=20\n",
        "C=1e-5\n",
        "U=50\n",
        "omega=1000\n",
        "ZL=1j*omega*L\n",
        "ZC=1/(1j*omega*C)\n",
        "# Izračun impedance\n",
        "ZRLC=R+ZL+ZC\n",
        "print('ZRLC = ',ZRLC)\n",
        "om0=1/(np.sqrt(L*C))\n",
        "print(om0)\n",
        "\n",
        "# Izračun kompleksorja toka\n",
        "I=U/ZRLC\n",
        "print('I = ',I)\n",
        "\n",
        "# Izračun amplitude in faze\n",
        "Iabs=abs(I); print('Iabs = ',Iabs)\n",
        "fi=np.angle(I,deg=True); print('Faza = ',fi)\n",
        "print('i(t) = ',np.round(Iabs,2),'sin (',np.round(omega,0),'t + ',np.round(fi),') A')"
      ],
      "execution_count": 32,
      "outputs": [
        {
          "output_type": "stream",
          "text": [
            "ZRLC =  (20+50j)\n",
            "816.496580927726\n",
            "I =  (0.3448275862068966-0.8620689655172413j)\n",
            "Iabs =  0.9284766908852593\n",
            "Faza =  -68.19859051364818\n",
            "i(t) =  0.93 sin ( 1000 t +  -68.0 ) A\n"
          ],
          "name": "stdout"
        }
      ]
    },
    {
      "cell_type": "markdown",
      "metadata": {
        "id": "MVZLJpsBtWNK",
        "colab_type": "text"
      },
      "source": [
        "### Prikaz toka in napetosti v časovnem prostoru\n",
        "Določili smo amplitudo in fazni kot toka. Sedaj lahko tvorimo časovni signal, kot smo to opisali v uvodu. Formalno to naredimo tako, da pomnožimo dobljeni kompleksor z $e^{j \\omega t}$ in vzamemo realni del. V praksi to pomeni, da je rezultat $i(t)=I \\cos (\\omega t + \\varphi)$. "
      ]
    },
    {
      "cell_type": "code",
      "metadata": {
        "id": "eOardC_NtWNK",
        "colab_type": "code",
        "colab": {
          "base_uri": "https://localhost:8080/",
          "height": 281
        },
        "outputId": "7315700b-6638-4529-ddbe-d7b6cea8d2b3"
      },
      "source": [
        "import matplotlib\n",
        "import matplotlib.pyplot as plt\n",
        "%matplotlib inline \n",
        "\n",
        "t = np.linspace(0.0, 20/omega, 1000)\n",
        "ug=U*np.cos(omega*t)\n",
        "i=Iabs*np.cos(omega*t+fi)\n",
        "\n",
        "fig, ax1 = plt.subplots()\n",
        "\n",
        "color = 'tab:red'\n",
        "ax1.set_xlabel('Čas (s)')\n",
        "ax1.set_ylabel('Napetost ug / V', color=color)\n",
        "ax1.plot(t, ug, color=color)\n",
        "\n",
        "ax1.tick_params(axis='y', labelcolor=color)\n",
        "ax1.grid(axis='x')\n",
        "\n",
        "ax2 = ax1.twinx()  # x os za drugi plot naj bo enaka x osi prvega plota\n",
        "ax2.set_ylim(-U/R,U/R)\n",
        "color = 'tab:blue'\n",
        "ax2.set_ylabel('Tok / A', color=color)  \n",
        "ax2.plot(t, i, color=color)\n",
        "ax2.tick_params(axis='y', labelcolor=color)\n",
        "plt.show()"
      ],
      "execution_count": 33,
      "outputs": [
        {
          "output_type": "display_data",
          "data": {
            "image/png": "[encoded data removed]",
            "text/plain": [
              "<Figure size 432x288 with 2 Axes>"
            ]
          },
          "metadata": {
            "tags": []
          }
        }
      ]
    },
    {
      "cell_type": "markdown",
      "metadata": {
        "id": "7MiHXKA-tWNN",
        "colab_type": "text"
      },
      "source": [
        "#### Opravi naslednje analize:\n",
        "1. Spreminjaj vrednosti krožne frekvence od 200 do 1200 s$^{-1}$ in opazuj amplitudo in fazni kot toka. X os je izdelana tako, da se normira na ogled par časovnih period, Y os je fiksirana na največjo možno amplitudo."
      ]
    },
    {
      "cell_type": "markdown",
      "metadata": {
        "id": "ABXuG5mOtWNO",
        "colab_type": "text"
      },
      "source": [
        "Nekoliko nerodno je stalno spreminjati krožno frekvenco in opazovati spremembe na grafu. Bolj elegantno se da to storiti z uporabo interaktivnih gradnikov, kot je na primer ipwidget. Spodnja celica kaže, kako narediti drsnik (slider), s katerim lahko spreminjamo krožno frekvenco vezja in opazujemo spremembe na grafu."
      ]
    },
    {
      "cell_type": "code",
      "metadata": {
        "code_folding": [
          2
        ],
        "id": "ZAUe7Z6utWNO",
        "colab_type": "code",
        "colab": {
          "base_uri": "https://localhost:8080/",
          "height": 313,
          "referenced_widgets": [
            "e086060fcbd248da96cac694a3c8254a",
            "0ce19e31692d4948885f407db9638997",
            "1f4f5e502b8347b8ad651b2917aef0ed",
            "2fa210640b7b49888ed93fc211d09c51",
            "90eb45f0926b4a17b4c4784395ebacfc",
            "08c7568f11f84707a1d9e95c13327205"
          ]
        },
        "outputId": "79a8518e-d909-4bd4-839c-fdb7432d4e09"
      },
      "source": [
        "from ipywidgets import interactive\n",
        "\n",
        "def f(omega):\n",
        "    ZRLC=R+1j*omega*L+1/(1j*omega*C)\n",
        "    I=U/ZRLC\n",
        "    t = np.linspace(0.0, 20/omega, 1000)\n",
        "    ug=U*np.cos(omega*t)\n",
        "    i=abs(I)*np.cos(omega*t+np.angle(I,deg=True))\n",
        "\n",
        "    fig, ax1 = plt.subplots()\n",
        "    color = 'tab:red'\n",
        "    ax1.set_xlabel('Čas (s)')\n",
        "    ax1.set_ylabel('Napetost ug / V', color=color)\n",
        "    ax1.plot(t, ug, color=color)\n",
        "    ax1.tick_params(axis='y', labelcolor=color)\n",
        "    ax1.grid(axis='x')\n",
        "    ax2 = ax1.twinx()  # x os za drugi plot naj bo enaka x osi prvega plota\n",
        "    ax2.set_ylim(-U/R,U/R)\n",
        "    color = 'tab:blue'\n",
        "    ax2.set_ylabel('Tok / A', color=color)  \n",
        "    ax2.plot(t, i, color=color)\n",
        "    ax2.tick_params(axis='y', labelcolor=color)\n",
        "    plt.show()      # tok se izračunava znotraj funkcije, ki tudi vsakič znova izdela graf za vsako spremembo omega  # Razširi, če želiš videti vsebino\n",
        "\n",
        "interactive_plot = interactive(f, omega=(500, 1500,25)) # spreminjamo omega od 500 do 1500 s korakom po 25\n",
        "output = interactive_plot.children[-1]\n",
        "interactive_plot"
      ],
      "execution_count": 34,
      "outputs": [
        {
          "output_type": "display_data",
          "data": {
            "application/vnd.jupyter.widget-view+json": {
              "model_id": "e086060fcbd248da96cac694a3c8254a",
              "version_minor": 0,
              "version_major": 2
            },
            "text/plain": [
              "interactive(children=(IntSlider(value=1000, description='omega', max=1500, min=500, step=25), Output()), _dom_…"
            ]
          },
          "metadata": {
            "tags": []
          }
        }
      ]
    },
    {
      "cell_type": "markdown",
      "metadata": {
        "id": "9kiLc8qgtWNR",
        "colab_type": "text"
      },
      "source": [
        "Ob spreminjanju frekvence vzbujalnega signala ugotovimo, da pri določeni krožni frekvenci, ki je v konkretnem primeru okoli 825 1/s, tok doseže največjo amplitudo. To stanje vezja imenujemo **tokovna resonanca**. \n",
        "\n",
        "Zanimivo je pogledati tudi napetosti na posameznih elementih vezja pri spreminjanju frekvence. Pripravimo naslednjo celico tako, da bo prikazovala napetosti na posameznih elementih in tok v vezju. (Graf bo nekoliko natlačen, zato ga za lažje opazovanje povečamo.)"
      ]
    },
    {
      "cell_type": "code",
      "metadata": {
        "code_folding": [],
        "id": "C8Wov4hitWNR",
        "colab_type": "code",
        "colab": {
          "base_uri": "https://localhost:8080/",
          "height": 422,
          "referenced_widgets": [
            "f3669e074ccd4910b0b0f79bc320d77b",
            "81d742305c51448a9901b0be53074de1",
            "d35ec25657954e57bbb7553087e7c5d8",
            "27d85c6ac42241a7b622014c2a00c4f1",
            "77f2bcdae8df42258bbd0ad5ef2da345",
            "6aa36c675ab347f09db7fd6926aa0a6d"
          ]
        },
        "outputId": "4ca20c37-b06e-4b5d-d230-fe7df198e5a2"
      },
      "source": [
        "from ipywidgets import interactive\n",
        "\n",
        "def f(omega):\n",
        "    ZRLC=R+1j*omega*L+1/(1j*omega*C)\n",
        "    I=U/ZRLC\n",
        "    UL=1j*omega*L*I\n",
        "    UC=I/(1j*omega*C)\n",
        "    UR=R*I\n",
        "    t = np.linspace(0.0, 20/omega, 1000)\n",
        "    ug=U*np.cos(omega*t)\n",
        "    i=abs(I)*np.cos(omega*t+np.angle(I,deg=True))\n",
        "    ur=i*R\n",
        "    uL=abs(UL)*np.cos(omega*t+np.angle(UL,deg=True))\n",
        "    uC=abs(UC)*np.cos(omega*t+np.angle(UC,deg=True))\n",
        "    \n",
        "    fig, ax1 = plt.subplots(figsize=(10, 6))\n",
        "    color = 'tab:red'\n",
        "    ax1.set_xlabel('Čas (s)')\n",
        "    ax1.set_ylabel('Napetost ug / V', color=color)\n",
        "    ax1.plot(t, ug, color=color,label='ug')\n",
        "    ax1.plot(t, uL,linestyle='--',color=color,label='uL')\n",
        "    ax1.plot(t, uC,linestyle=':',color=color,label='uC')\n",
        "    ax1.plot(t, ur,linestyle='-.',color='black',label='uR')\n",
        "    ax1.legend()\n",
        "    ax1.tick_params(axis='y', labelcolor=color)\n",
        "    ax1.grid(axis='x')\n",
        "    ax1.set_ylim(-10*U,10*U)\n",
        "    ax2 = ax1.twinx()  # x os za drugi plot naj bo enaka x osi prvega plota\n",
        "    ax2.set_ylim(-U/R,U/R)\n",
        "    color = 'tab:blue'\n",
        "    ax2.set_ylabel('Tok / A', color=color)  \n",
        "    ax2.plot(t, i, color=color)\n",
        "    ax2.tick_params(axis='y', labelcolor=color)\n",
        "    plt.show()      # tok se izračunava znotraj funkcije, ki tudi vsakič znova izdela graf za vsako spremembo omega  # po potrebi razširi za ogled kode\n",
        "    \n",
        "\n",
        "interactive_plot = interactive(f, omega=(500, 1500,25)) # spreminjamo omega od 500 do 1500 s korakom po 25\n",
        "output = interactive_plot.children[-1]\n",
        "interactive_plot"
      ],
      "execution_count": 36,
      "outputs": [
        {
          "output_type": "display_data",
          "data": {
            "application/vnd.jupyter.widget-view+json": {
              "model_id": "f3669e074ccd4910b0b0f79bc320d77b",
              "version_minor": 0,
              "version_major": 2
            },
            "text/plain": [
              "interactive(children=(IntSlider(value=1000, description='omega', max=1500, min=500, step=25), Output()), _dom_…"
            ]
          },
          "metadata": {
            "tags": []
          }
        }
      ]
    },
    {
      "cell_type": "markdown",
      "metadata": {
        "id": "qklljkfctWNU",
        "colab_type": "text"
      },
      "source": [
        "**Analiza opazovanja:** \n",
        "1. Najprej ugotovimo, da so napetosti na posameznih elementih vezja precej večje od amplitude napajalne napetosti. To je seveda možno, saj mora biti vsota vseh napetosti na elementih enaka vzbujalni napetosti, ker pa so napetosti na elementih vezja med sabo zamaknjene za četrt periode, so lahko v določenih razmerah zelo velike, a se med seboj \"navzven\" odštejejo. Predvsem to velja za napetost na kondenzatorju in tuljavi. Napetost na kondenzatorju zaostaja za tokom za četrt periode, na tuljavi pa ga prehiteva za četrt periode. Napetost na kondenzatorju in tuljavi sta tako fazno zamaknjeni za pol periode ali 180 stopinj, kar pomeni, da se med seboj (navzven) odštevata.\n",
        "2. Ker napetosti na posameznih elementih vezja precej presegajo napetost vzbujanja, to popravi v zgornji celici (išči ylim) in jo ponovno zaženi.\n",
        "3. Kako izrazita je resonanca (kako izrazito je povečanje toka), je odvisno od velikosti upora. Če je ta majhen v primerjavi z reaktancama pri resonanci ($\\omega_0 L$ in $\\frac{1}{\\omega_0 C}$), bo povečanje toka ob resonanci izrazito, sicer pa ne. Preveri to s spreminjanjem upornosti in ponovnim zagonom celic.\n"
      ]
    },
    {
      "cell_type": "markdown",
      "metadata": {
        "id": "tKcD93HLtWNU",
        "colab_type": "text"
      },
      "source": [
        "### Prikaz  kazalcev (kompleksorjev) toka in napetosti v kompleksni ravnini \n",
        "\n",
        "Način prikaza vzamemo iz datoteke <a href=\"https://github.com/osnove/Dodatno/blob/master/Obravnava_vezij_kompleksni_racun.ipynb\">Obravnava_vezij_kompleksni_racun.ipynb </a>\n",
        "  in uporabimo že izdelano funkcijo complex_plane3. Funkcija se nahaja v datoteki  <a href=\"https://github.com/osnove/other/blob/master/funkcije.py\">funkcije.py </a>. To funkcijo morate imeti naloženo v isti mapi od koder zaganjate Jupytra. Če delate preko Colaba pa je najlažje, da se iz datoteke funkcije.py skopira funkcijo complex_plane3 v novo celico in se jo zažene, s čemer postane aktivna znotraj celotnega zvezka. V tem primer je potrebno zakomentirati prvo vrstico *from funkcije import complex_plane3*, saj je funkcija že zagnana znotraj zvezka.\n",
        "\n",
        "Vsi kompleksorji napetosti so relativni na napetost vzbujanja, ki ima kazalec usmerjen v smeri realne osi (ker je fazni kot enak nič). Kazalec toka je odvisen od vrednosti impedanc, te pa od vrednosti elementov v vezju in frekvence. \n",
        "\n",
        "Kazalec napetosti na uporu je na sredini med kazalcema napetosti na kondenzatorju in tuljavi in je v fazi s kazalcev toka (ga ne rišemo, a vemo, da je tako). Če ima ta kazalec pozitivni fazni kot, pomeni, da tok v vezju prehiteva napetost na zunanjih sponkah. Takrat ima vezje kapacitivni značaj - napetost na kondenzatorju bo večja od napetosti na tuljavi. To bo pri nižjih frekvencah od resonančne, saj je tedaj reaktanca kondenzatorja velika.\n",
        "\n",
        "Z višanjem frekvence pa narašča napetost na tuljavi. Pri frekvenci večji od resonančne bo napetost na tuljavi večja od napetosti na kondenzatorju.\n",
        "\n",
        "Pri resonančni frekvenci bo kazalec toka poravnan s kazalcem vzbujalne napetosti - torej usmerjen v smeri realne osi. Kazalca napetosti na tuljavi bosta tedaj enako velika."
      ]
    },
    {
      "cell_type": "code",
      "metadata": {
        "id": "2pm8u-LPtWNV",
        "colab_type": "code",
        "colab": {
          "base_uri": "https://localhost:8080/",
          "height": 33
        },
        "outputId": "7628ee6f-bd1e-454b-b84c-a1458cfd2fb4"
      },
      "source": [
        "complex_plane3?"
      ],
      "execution_count": 37,
      "outputs": [
        {
          "output_type": "stream",
          "text": [
            "Object `complex_plane3` not found.\n"
          ],
          "name": "stdout"
        }
      ]
    },
    {
      "cell_type": "code",
      "metadata": {
        "id": "KIXCDwyztWNY",
        "colab_type": "code",
        "colab": {
          "base_uri": "https://localhost:8080/",
          "height": 245
        },
        "outputId": "149c5ba7-1a33-412f-ca76-b25c83e0e637"
      },
      "source": [
        "#from funkcije import complex_plane3\n",
        "\n",
        "omega=820\n",
        "ZRLC=R+1j*omega*L+1/(1j*omega*C)\n",
        "I=U/ZRLC\n",
        "UL=1j*omega*L*I\n",
        "UC=I/(1j*omega*C)\n",
        "UR=R*I\n",
        "print('UR=',np.round(UR))\n",
        "print('UL=',np.round(UL))\n",
        "print('UC=',np.round(UC))\n",
        "\n",
        "Kazalci=[UR,UL,UC]\n",
        "complex_plane3(Kazalci,2,300) "
      ],
      "execution_count": 38,
      "outputs": [
        {
          "output_type": "stream",
          "text": [
            "UR= (50-3j)\n",
            "UL= (16+307j)\n",
            "UC= (-16-304j)\n"
          ],
          "name": "stdout"
        },
        {
          "output_type": "error",
          "ename": "NameError",
          "evalue": "ignored",
          "traceback": [
            "\u001b[0;31m---------------------------------------------------------------------------\u001b[0m",
            "\u001b[0;31mNameError\u001b[0m                                 Traceback (most recent call last)",
            "\u001b[0;32m<ipython-input-38-0e516b7d37cf>\u001b[0m in \u001b[0;36m<module>\u001b[0;34m()\u001b[0m\n\u001b[1;32m     11\u001b[0m \u001b[0;34m\u001b[0m\u001b[0m\n\u001b[1;32m     12\u001b[0m \u001b[0mKazalci\u001b[0m\u001b[0;34m=\u001b[0m\u001b[0;34m[\u001b[0m\u001b[0mUR\u001b[0m\u001b[0;34m,\u001b[0m\u001b[0mUL\u001b[0m\u001b[0;34m,\u001b[0m\u001b[0mUC\u001b[0m\u001b[0;34m]\u001b[0m\u001b[0;34m\u001b[0m\u001b[0;34m\u001b[0m\u001b[0m\n\u001b[0;32m---> 13\u001b[0;31m \u001b[0mcomplex_plane3\u001b[0m\u001b[0;34m(\u001b[0m\u001b[0mKazalci\u001b[0m\u001b[0;34m,\u001b[0m\u001b[0;36m2\u001b[0m\u001b[0;34m,\u001b[0m\u001b[0;36m300\u001b[0m\u001b[0;34m)\u001b[0m\u001b[0;34m\u001b[0m\u001b[0;34m\u001b[0m\u001b[0m\n\u001b[0m",
            "\u001b[0;31mNameError\u001b[0m: name 'complex_plane3' is not defined"
          ]
        }
      ]
    },
    {
      "cell_type": "markdown",
      "metadata": {
        "id": "Ra0Fl2jDtWNc",
        "colab_type": "text"
      },
      "source": [
        "Za lažje opazovanje zopet izdelajmo interaktivni gradnik (widget), s katerim lahko spreminjamo krožno frekvenco. Ugotovimo, da se kazalci \"vrtijo\" v odvisnosti od izbrane frekvence. To je OK, saj je fiksiran kazalec vzbujalne napetosti (ker gre za vzbujanje s kosinusnim signalom brez dodane faze, je njegov kompleksor usmerjen v smeri realne osi), kazalec toka pa je odvisen od impedance, ta pa od frekvence. Kazalec toka ne izrisujemo, vendar vemo, da je usmerjen v isti smeri kot kompleksor napetosti na uporu, ki je umeščen med kazalca napetosti na kondenzatorju in tuljavi. \n",
        "Kazalec napetosti na tuljavi prehiteva kazalec toka za četrt periode, kazalec napetosti na kondenzatorju pa zaostaja za kazalcem toka za četrt periode.\n",
        "\n",
        "Ko je vezje v resonanci, je kazalec toka usmerjen v isti smeri kot kazalec vzbujalne napetosti - torej v smeri realne osi. Tedaj sta kazalca napetosti na kondenzatorju in tuljavi največja. V bistvu so največji vsi trije kazalci. \n",
        "\n",
        "(Za bolj natančno spreminjanje frekvence spremeni step v ukazu interact.)"
      ]
    },
    {
      "cell_type": "code",
      "metadata": {
        "code_folding": [
          4
        ],
        "id": "31iO4cbstWNd",
        "colab_type": "code",
        "colab": {
          "base_uri": "https://localhost:8080/",
          "height": 427,
          "referenced_widgets": [
            "c28964bf8ec749c3b180d8cb9e1a43c6",
            "10adc0be74f04ac0b7cda0486a02a1ea",
            "ef281d48afc947b09838145b1eaec236",
            "32add9493f304a0fbf51fd8b7e038c61",
            "228f94b113674abbaa4865b989d70b80",
            "2a2e352af55947d6883726d799bce72c"
          ]
        },
        "outputId": "4f6c9422-a9ab-409d-89c4-0908090f6950"
      },
      "source": [
        "from ipywidgets import FloatSlider\n",
        "from ipywidgets import interact, interactive, fixed, interact_manual\n",
        "import ipywidgets as widgets\n",
        "\n",
        "def run_complex(omega):\n",
        "    ZRLC=R+1j*omega*L+1/(1j*omega*C)\n",
        "    I=U/ZRLC\n",
        "    UL=1j*omega*L*I\n",
        "    UC=I/(1j*omega*C)\n",
        "    UR=R*I\n",
        "    print('UR=',np.round(UR))\n",
        "    print('UL=',np.round(UL))\n",
        "    print('UC=',np.round(UC))\n",
        "\n",
        "    Kazalci=[UR,UL,UC]\n",
        "    complex_plane3(Kazalci,2,300)  # po potrebi razširi za ogled kode\n",
        "\n",
        "interact(run_complex,omega=FloatSlider(min=650, max=950, step=25));"
      ],
      "execution_count": 11,
      "outputs": [
        {
          "output_type": "display_data",
          "data": {
            "application/vnd.jupyter.widget-view+json": {
              "model_id": "c28964bf8ec749c3b180d8cb9e1a43c6",
              "version_minor": 0,
              "version_major": 2
            },
            "text/plain": [
              "interactive(children=(FloatSlider(value=650.0, description='omega', max=950.0, min=650.0, step=25.0), Output()…"
            ]
          },
          "metadata": {
            "tags": []
          }
        }
      ]
    },
    {
      "cell_type": "markdown",
      "metadata": {
        "id": "70i81kvZtWNf",
        "colab_type": "text"
      },
      "source": [
        "### Prikaz toka, napetosti in faze v frekvenčnem prostoru\n",
        "\n",
        "Še najbolj informativen pa je prikaz v frekvenčnem prostoru. To pomeni, da nas zanima, kako se spreminjajo veličine (tok, napetost, faza) s spreminjanjem frekvence. Na X osi bo torej frekvenca, na Y osi pa absolutne vrednosti toka ali napetosti,  ali pa fazni kot."
      ]
    },
    {
      "cell_type": "code",
      "metadata": {
        "code_folding": [
          14
        ],
        "id": "1SAJDirRtWNf",
        "colab_type": "code",
        "colab": {
          "base_uri": "https://localhost:8080/",
          "height": 283
        },
        "outputId": "6bd95649-4978-49bb-e0aa-5e22d41a1ed1"
      },
      "source": [
        "## Prikaz v frekvenčnem prostoru\n",
        "L=150e-3\n",
        "R=50\n",
        "C=1e-5\n",
        "U=50\n",
        "freq=np.arange(1,500,1)\n",
        "omega=2*np.pi*freq\n",
        "\n",
        "\n",
        "ZRLC=R+1j*omega*L+1/(1j*omega*C)\n",
        "I=U/ZRLC\n",
        "Uc=I/(1j*omega*C)\n",
        "UL=I*1j*omega*L\n",
        "\n",
        "def f():\n",
        "    fig, ax1 = plt.subplots()\n",
        "\n",
        "    color = 'tab:red'\n",
        "    ax1.set_xlabel('Frekvenca (Hz)')\n",
        "    ax1.set_ylabel('Napetost  / V', color=color)\n",
        "    ax1.plot(freq, abs(Uc), color=color,label='Uc')\n",
        "    ax1.plot(freq, abs(UL), color=color,Linestyle='--',label='UL')\n",
        "    ax1.plot(freq, abs(I*R), color=color,Linestyle=':',label='UR')\n",
        "    ax1.legend()\n",
        "    ax1.tick_params(axis='y', labelcolor=color)\n",
        "    ax1.grid(axis='x')\n",
        "\n",
        "    ax2 = ax1.twinx()  # x os za drugi plot naj bo enaka x osi prvega plota\n",
        "    ax2.set_ylim(0,U/R)\n",
        "    color = 'tab:blue'\n",
        "    ax2.set_ylabel('Tok / A', color=color)  \n",
        "    ax2.plot(freq, abs(I), color=color)\n",
        "    ax2.tick_params(axis='y', labelcolor=color)\n",
        "    plt.show() # po potrebi razširi\n",
        "f() # razširi po potrebi"
      ],
      "execution_count": 39,
      "outputs": [
        {
          "output_type": "display_data",
          "data": {
            "image/png": "[encoded data removed]",
            "text/plain": [
              "<Figure size 432x288 with 2 Axes>"
            ]
          },
          "metadata": {
            "tags": []
          }
        }
      ]
    },
    {
      "cell_type": "markdown",
      "metadata": {
        "id": "zLFWkvxttWNh",
        "colab_type": "text"
      },
      "source": [
        "**Razlaga slike:** Zgornja slika nazorno prikaže frekvence, pri katerih je odziv vezja (tok) največji. Ko je tok največji, so največje tudi napetosti na posameznih elementih vezja. Napetost na tuljavi je enako velika kot napetost na kondenzatorju. Sta pa ti napetosti v protifazi (zamaknjeni za $\\pi$), kar pa na tej sliki ni razvidno. Za ta vpogled je boljši prikaz v časovnem prostoru ali prikaz s kompleksorji v kompleksni ravnini. Napetost na kondenzatorju in tuljavi lahko tudi večkratno preseže amplitudo napajalne napetosti.\n",
        "\n",
        "Opazimo tudi, da je pri nizkih frekvencah večina napetosti na kondenzatorju (ki ima veliko upornost pri nizkih frekvencah ($1/\\omega C$), pri frekvencah nad resonančno pa je večina napetosti na tuljavi (saj upornost (reaktanca) tuljave linearno narašča s frekvenco - $\\omega L$."
      ]
    },
    {
      "cell_type": "markdown",
      "metadata": {
        "id": "7VXZV3MvtWNi",
        "colab_type": "text"
      },
      "source": [
        "#### Opravi naslednje analize:\n",
        "1. Spreminjaj kapacitivnost kondenzatorja in opazuj spremembe odziva.\n",
        "2. Spreminjaj induktivnost tuljave in opazuj spremembe odziva.\n",
        "3. Spreminjaj upornost in opazuj spremembe odziva.\n",
        "4. Spremeni graf tako, da bo namesto napetosti in toka prikazoval fazni kot in tok. Poišči razlago za spreminjanje faze in poglej, koliko je fazni kot v resonanci. Za boljše opazovanje nariši še dodatno črto pri faznem kotu enakem 0 za celo frekvenčno področje. (Rešitev je na koncu zvezka)\n",
        "5. Spremeni graf tako, da boš izrisal več krivulj toka za več različnih upornosti (lahko tudi kapacitivnosti ali induktivnosti). Za primer poglej zadnji primer v https://github.com/osnove/Dodatno/blob/master/Primer_diff_enacbe_analiticno.ipynb. (Rešitev je na koncu zvezka)"
      ]
    },
    {
      "cell_type": "markdown",
      "metadata": {
        "id": "uliCtT_ptWNk",
        "colab_type": "text"
      },
      "source": [
        "### Dodatni izračuni - resonančna frekvenca, bočni frekvenci, pasovna širina, kvaliteta vezja\n",
        "\n",
        "Iz teorije vemo, da je pri zaporednemu RLC vezju resonančna krožna frekvenca $\\omega_0 = \\frac{1}{\\sqrt (LC)}$. Za bolj splošno RLC vezje je težje priti do analitičnega izraza, zato si poglejmo, kako bi ga določili iz grafa. Poiskati moramo največjo vrednost toka in pogledati, pri kateri frekvenci nastopi. Podoben primer smo obravnavali že pri iskanju časovne konstante v tem zvezku: https://github.com/osnove/Dodatno/blob/master/Primer_diff_enacbe_analiticno.ipynb.\n",
        "\n",
        "Bočni frekvenci in pasovna širina sta podatka, ki dajeta informacije o obliki resonančne krivulje. Bočni frekvenci poiščemo tako, da poiščemo frekvenci, pri kateri je amplituda toka za koren iz 2 manjša od amplitude toka pri resonanci, torej $f_{bočna} = f(I=I(f_0)/\\sqrt2)$. Za zaporedno RLC vezje jo je mogoče določiti analitično, mi bomo to naredili numerično, podobno, kot smo poiskali resonančno frekvenco.\n",
        "\n",
        "Pasovna širina je preprosto razlika med zgornjo in spodnjo bočno frekvenco: $B=f_{zgornja}-f_{spodnja}$.\n",
        "\n",
        "Poznamo tudi pojem normirane pasovne širine - normiramo jo z resonančno frekvenco, torej $B_{norm}=\\frac{f_{zgornja}-f_{spodnja}}{f_0}$. Obratna vrednost od normirane pasovne širine je kvaliteta vezja $Q$. \n",
        "\n",
        "**Sam dopiši enačbe za izračun in izpis normirane pasovne širine in kvalitete v spodnjo celico.**"
      ]
    },
    {
      "cell_type": "code",
      "metadata": {
        "code_folding": [],
        "id": "W3p6Xi1vtWNl",
        "colab_type": "code",
        "colab": {
          "base_uri": "https://localhost:8080/",
          "height": 117
        },
        "outputId": "01c604fa-85a7-4f60-98c6-668d18d162e0"
      },
      "source": [
        "## Analitičen izračun resonančne frekvence\n",
        "freq_0=1/(2*np.pi*np.sqrt(L*C))\n",
        "print('Resonančna frekvenca = ',freq_0)\n",
        "\n",
        "index_tok=np.where(abs(I)==max( abs(I))) # indeksi, kjer je izpolnjen pogoj\n",
        "res_freq=freq[index_tok]\n",
        "print('Iz grafa določena resonančna frekvenca = ',res_freq)\n",
        "print()\n",
        "\n",
        "## Poiščemo indekse, kjer je I>I/sqrt(2)\n",
        "index_tok=np.where(abs(I)>( abs(max(I))/np.sqrt(2))) # indeksi, kjer je izpolnjen pogoj\n",
        "#print(index_tok) # prvi indeks je kjer je spodnja bočna, zadnji, kjer je zgornja bočna frekvenca\n",
        "f_spodnja=freq[index_tok[0][0]]\n",
        "f_zgornja=freq[max(index_tok[0])]\n",
        "f_pasovna=f_zgornja-f_spodnja\n",
        "print('Spodnja bočna frekvenca = ',f_spodnja)\n",
        "print('Zgornja bočna frekvenca = ',f_zgornja)\n",
        "print('Pasovna širina = ',f_pasovna)"
      ],
      "execution_count": 14,
      "outputs": [
        {
          "output_type": "stream",
          "text": [
            "Resonančna frekvenca =  129.94946687227934\n",
            "Iz grafa določena resonančna frekvenca =  [130]\n",
            "\n",
            "Spodnja bočna frekvenca =  107\n",
            "Zgornja bočna frekvenca =  159\n",
            "Pasovna širina =  52\n"
          ],
          "name": "stdout"
        }
      ]
    },
    {
      "cell_type": "markdown",
      "metadata": {
        "id": "ajyf6EXZtWNn",
        "colab_type": "text"
      },
      "source": [
        "Spodaj je izris spodnje in zgornje bočne frekvence, ki sta izračunani v zgornji celici. \n",
        "\n",
        "**Opravi naslednje analize:** Spreminjaj vrednost upornosti in opazuj spremembe pasovne širine. Ali sprememba kapacitivnosti ali induktivnosti vpliva na spremembo pasovne širine? "
      ]
    },
    {
      "cell_type": "code",
      "metadata": {
        "code_folding": [
          0
        ],
        "id": "XD-JBAGbtWNo",
        "colab_type": "code",
        "colab": {
          "base_uri": "https://localhost:8080/",
          "height": 302
        },
        "outputId": "bf347c38-6571-4611-9aae-75944ff95a04"
      },
      "source": [
        "def f():\n",
        "    fig, ax2 = plt.subplots()\n",
        "    ax2.set_ylim(0,U/R)\n",
        "    color = 'tab:blue'\n",
        "    ax2.set_ylabel('Tok / A', color=color)  \n",
        "    ax2.plot(freq, abs(I), color=color)\n",
        "    #ax2.plot([min(freq),max(freq)], [max(I)/np.sqrt(2),max(I)/np.sqrt(2)], color=color,Linestyle=':') # naredi linijo pri faza=0\n",
        "    #ax2.plot([f_spodnja,f_spodnja], [0,U/R], color=color,Linestyle=':') # naredi linijo pri f_spodnja\n",
        "    #ax2.plot([f_zgornja,f_zgornja], [0,U/R], color=color,Linestyle=':') # naredi linijo pri f_zgornja\n",
        "    ax2.axhline(max(I)/np.sqrt(2),Linestyle=':') # horizontalna linija\n",
        "    ax2.axvline(f_zgornja,Linestyle=':') # krajši zapis za vertikalno linijo\n",
        "    ax2.axvline(f_spodnja,Linestyle=':')\n",
        "    ax2.axvspan(f_spodnja, f_zgornja, facecolor='g', alpha=0.1) # zelena površina\n",
        "    \n",
        "    ax2.tick_params(axis='y', labelcolor=color)\n",
        "    plt.show()\n",
        "f()"
      ],
      "execution_count": 29,
      "outputs": [
        {
          "output_type": "stream",
          "text": [
            "/usr/local/lib/python3.6/dist-packages/numpy/core/_asarray.py:85: ComplexWarning: Casting complex values to real discards the imaginary part\n",
            "  return array(a, dtype, copy=False, order=order)\n"
          ],
          "name": "stderr"
        },
        {
          "output_type": "display_data",
          "data": {
            "image/png": "[encoded data removed]",
            "text/plain": [
              "<Figure size 432x288 with 1 Axes>"
            ]
          },
          "metadata": {
            "tags": []
          }
        }
      ]
    },
    {
      "cell_type": "code",
      "metadata": {
        "id": "xP86tLuVtWNr",
        "colab_type": "code",
        "colab": {}
      },
      "source": [
        "### Dodatni prikazi in izračuni"
      ],
      "execution_count": 0,
      "outputs": []
    },
    {
      "cell_type": "markdown",
      "metadata": {
        "id": "qkAyEqdatWNt",
        "colab_type": "text"
      },
      "source": [
        "### Zdaj pa ti\n",
        "\n",
        "V tem zvezku smo pokazali možno obravnavo zaporednega RLC vezja in resonančnega pojava. V bistvu ima vsako vezje, ki vsebuje več kot en reaktivni element (element, ki shranjuje energijo v magnetnem ali električnem polju) možno resonančno stanje. Druga najbolj pogosta analiza je analiza vezja vporedno vezanih RLC elementov. Tam je seveda skupna enaka napetost, različni pa so tokovi v vezju. Privošči si analizo takega ali kakšnega podobnega vezja. Najlažje tako, da ta zvezek skopiraš, ga preimenuješ in preoblikuješ po svojih potrebah.\n"
      ]
    },
    {
      "cell_type": "markdown",
      "metadata": {
        "id": "WE1lfMsltWNu",
        "colab_type": "text"
      },
      "source": [
        "## Zaključek\n",
        "\n",
        "V zvezku smo spoznali način obravnave resonančnega pojava s kompleksnim računom. Pokazali smo, da je za resonanco značilno izrazito povečanje toka ali napetosti na zunanjih sponkah vezja, kar pa se odraža tudi na tokovih ali napetostih v vezju, ki lahko celo večkratno presežejo vrednost napajalne napetosti ali toka. To je lahko v določenih aplikacijah izkoriščeno v prid, v drugih pa je morda lahko velik problem in povzroči uničenje elementov oz. naprave.\n",
        "\n",
        "Za karakterizacijo resonančne krivulje uporabimo pojem spodnje in zgornje bočne frekvence, ki je določena kot frekvenca, pri kateri se tok ali napetost (odvisno kaj \"resonira\") pri resonanci zmanjša za $\\sqrt 2$. Razliko med bočnima frekvencama imenujemo pasovna širina, obratna vrednost od normirane pasovna širine pa je kvaliteta.\n",
        "\n",
        "**Naslednje branje:** O frekvečnih lastnostih realnih elementov."
      ]
    },
    {
      "cell_type": "code",
      "metadata": {
        "id": "XiEOmbBrtWNu",
        "colab_type": "code",
        "colab": {}
      },
      "source": [
        ""
      ],
      "execution_count": 0,
      "outputs": []
    },
    {
      "cell_type": "code",
      "metadata": {
        "id": "cecgf-ZqtWNw",
        "colab_type": "code",
        "colab": {}
      },
      "source": [
        ""
      ],
      "execution_count": 0,
      "outputs": []
    },
    {
      "cell_type": "markdown",
      "metadata": {
        "id": "MUnWuCIytWNy",
        "colab_type": "text"
      },
      "source": [
        "## Rešitve"
      ]
    },
    {
      "cell_type": "code",
      "metadata": {
        "code_folding": [
          0,
          12
        ],
        "id": "jKy09tR_tWNz",
        "colab_type": "code",
        "colab": {},
        "outputId": "367db2ac-8c39-4a39-b5ba-123f87ae473e"
      },
      "source": [
        "## Izris faznega kota in toka v odvisnosti od frekvence - izziv 2.3.1\n",
        "L=150e-3\n",
        "R=20\n",
        "C=1e-5\n",
        "U=50\n",
        "freq=np.arange(1,500,1)\n",
        "omega=2*np.pi*freq\n",
        "\n",
        "ZRLC=R+1j*omega*L+1/(1j*omega*C)\n",
        "I=U/ZRLC\n",
        "faza= np.angle(I)\n",
        "\n",
        "def f():\n",
        "    fig, ax1 = plt.subplots()\n",
        "\n",
        "    color = 'tab:red'\n",
        "    ax1.set_xlabel('Frekvenca (Hz)')\n",
        "    ax1.set_ylabel('fazni kot / stopinje', color=color)\n",
        "    ax1.plot(freq, faza, color=color)\n",
        "    ax1.plot([min(freq),max(freq)], [0,0], color=color,Linestyle=':') # naredi linijo pri faza=0\n",
        "    ax1.tick_params(axis='y', labelcolor=color)\n",
        "    ax1.grid(axis='x')\n",
        "\n",
        "    ax2 = ax1.twinx()  # x os za drugi plot naj bo enaka x osi prvega plota\n",
        "    ax2.set_ylim(0,U/R)\n",
        "    color = 'tab:blue'\n",
        "    ax2.set_ylabel('Tok / A', color=color)  \n",
        "    ax2.plot(freq, abs(I), color=color)\n",
        "    ax2.tick_params(axis='y', labelcolor=color)\n",
        "    plt.show()\n",
        "f()"
      ],
      "execution_count": 0,
      "outputs": [
        {
          "output_type": "display_data",
          "data": {
            "text/html": [
              "<script src='https://www.gstatic.com/external_hosted/mathjax/latest/MathJax.js?config=default'></script>"
            ],
            "text/plain": [
              "<IPython.core.display.HTML object>"
            ]
          },
          "metadata": {
            "tags": []
          }
        },
        {
          "output_type": "display_data",
          "data": {
            "text/html": [
              "<script src='https://www.gstatic.com/external_hosted/mathjax/latest/MathJax.js?config=default'></script>"
            ],
            "text/plain": [
              "<IPython.core.display.HTML object>"
            ]
          },
          "metadata": {
            "tags": []
          }
        },
        {
          "output_type": "display_data",
          "data": {
            "image/png": "[encoded data removed]",
            "text/plain": [
              "<Figure size 432x288 with 2 Axes>"
            ]
          },
          "metadata": {
            "tags": [],
            "needs_background": "light"
          }
        }
      ]
    },
    {
      "cell_type": "code",
      "metadata": {
        "code_folding": [
          0
        ],
        "id": "XZpj2ZZwtWN3",
        "colab_type": "code",
        "colab": {},
        "outputId": "2641a79b-3646-4fa7-cb60-69dc3e8a6895"
      },
      "source": [
        "## Izris resonančne krivulje za več upornosti\n",
        "R=[10,20,50]\n",
        "C=1e-5\n",
        "U=50\n",
        "freq=np.arange(1,300,1)\n",
        "omega=2*np.pi*freq\n",
        "\n",
        "Linestyle=['-','--',':']\n",
        "\n",
        "\n",
        "fig, ax2 = plt.subplots()\n",
        "\n",
        "ax2.set_ylim(0,U/min(R))\n",
        "color = 'tab:blue'\n",
        "for i in range(len(R)):\n",
        "    ZRLC=R[i]+1j*omega*L+1/(1j*omega*C)\n",
        "    I=U/ZRLC\n",
        "    labela=r'$R = $'+str(R[i] ) + r'$ \\;\\Omega $'\n",
        "    ax2.plot(freq, abs(I), Linestyle=Linestyle[i],color=color,label=labela)\n",
        "\n",
        "ax2.set_ylabel('Tok / A', color=color)\n",
        "ax2.legend()\n",
        "ax2.tick_params(axis='y', labelcolor=color)\n",
        "plt.show() # po potrebi razširi"
      ],
      "execution_count": 0,
      "outputs": [
        {
          "output_type": "display_data",
          "data": {
            "text/html": [
              "<script src='https://www.gstatic.com/external_hosted/mathjax/latest/MathJax.js?config=default'></script>"
            ],
            "text/plain": [
              "<IPython.core.display.HTML object>"
            ]
          },
          "metadata": {
            "tags": []
          }
        },
        {
          "output_type": "display_data",
          "data": {
            "text/html": [
              "<script src='https://www.gstatic.com/external_hosted/mathjax/latest/MathJax.js?config=default'></script>"
            ],
            "text/plain": [
              "<IPython.core.display.HTML object>"
            ]
          },
          "metadata": {
            "tags": []
          }
        },
        {
          "output_type": "display_data",
          "data": {
            "image/png": "[encoded data removed]",
            "text/plain": [
              "<Figure size 432x288 with 1 Axes>"
            ]
          },
          "metadata": {
            "tags": [],
            "needs_background": "light"
          }
        }
      ]
    },
    {
      "cell_type": "code",
      "metadata": {
        "id": "ja7nPIKItWN6",
        "colab_type": "code",
        "colab": {}
      },
      "source": [
        ""
      ],
      "execution_count": 0,
      "outputs": []
    }
  ]
}