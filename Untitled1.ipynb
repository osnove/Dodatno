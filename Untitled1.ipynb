{
  "nbformat": 4,
  "nbformat_minor": 0,
  "metadata": {
    "colab": {
      "name": "Untitled1.ipynb",
      "provenance": [],
      "include_colab_link": true
    },
    "kernelspec": {
      "name": "python3",
      "display_name": "Python 3"
    }
  },
  "cells": [
    {
      "cell_type": "markdown",
      "metadata": {
        "id": "view-in-github",
        "colab_type": "text"
      },
      "source": [
        "<a href=\"https://colab.research.google.com/github/osnove/Dodatno/blob/master/Untitled1.ipynb\" target=\"_parent\"><img src=\"https://colab.research.google.com/assets/colab-badge.svg\" alt=\"Open In Colab\"/></a>"
      ]
    },
    {
      "cell_type": "code",
      "metadata": {
        "id": "263hLeOuFJWi",
        "colab_type": "code",
        "colab": {}
      },
      "source": [
        ""
      ],
      "execution_count": 0,
      "outputs": []
    },
    {
      "cell_type": "markdown",
      "metadata": {
        "id": "DC7JFnHNFLL3",
        "colab_type": "text"
      },
      "source": [
        "Uporaba »oblačnih« strani za izračune in izrise\n",
        "\n",
        "Vedno bolj popularna je uporaba oblačnih storitev (Cloud computing) za izračune in izrise. Ne samo v pedagoške namene, tudi v raziskovalne in poslovne. To področje se hitro razvija, zato bodo lahko opisane storitve čez nekaj let popolnoma drugačne. Pa vendar, zanima nas trenutno (2019) stanje na tem področju. Osredotočil se bom le na možnosti uporabe oblačnih storitev za programski jezik Python, čeprav mnoge spletne strani omogočajo tudi druge jezike. Osnova je izdelava Python kode, ki jo lahko naredimo v poljubnem editorju, vendar je za pedagoške (in tudi druge namene) zanimiva izdelava Python zvezka (Jupyter Notebook), ki poleg kode lahko vključuje tudi tekst in slike. Za tiste, ki bi želeli kreirati Python zvezke na svojem računalniku, je morda najlažje naložiti Python in ostala potrebna orodja z aplikacijo Anaconda. Za pisanje enačb v zvezku je potrebno uporabiti sintakso Latex, ki je tudi sicer zanimiva alternativa Wordu za izdelavo seminarjev, diplom, učbenikov, doktoratov . Trenutno je popularna uporaba oblačne storitve Overleaf, ki omogoča tudi skupinsko delo. Python zvezek se lahko naloži na Googlov Gdrive ali pa na GitHub za odprto rabo. \n"
      ]
    }
  ]
}