{
  "nbformat": 4,
  "nbformat_minor": 0,
  "metadata": {
    "kernelspec": {
      "display_name": "Python 3",
      "language": "python",
      "name": "python3"
    },
    "language_info": {
      "codemirror_mode": {
        "name": "ipython",
        "version": 3
      },
      "file_extension": ".py",
      "mimetype": "text/x-python",
      "name": "python",
      "nbconvert_exporter": "python",
      "pygments_lexer": "ipython3",
      "version": "3.7.0"
    },
    "toc": {
      "base_numbering": 1,
      "nav_menu": {},
      "number_sections": true,
      "sideBar": true,
      "skip_h1_title": true,
      "title_cell": "Kazalo",
      "title_sidebar": "Kazalo",
      "toc_cell": false,
      "toc_position": {},
      "toc_section_display": true,
      "toc_window_display": true
    },
    "colab": {
      "name": "Primer_diff_enacbe_analiticno.ipynb",
      "provenance": [],
      "include_colab_link": true
    }
  },
  "cells": [
    {
      "cell_type": "markdown",
      "metadata": {
        "id": "view-in-github",
        "colab_type": "text"
      },
      "source": [
        "<a href=\"https://colab.research.google.com/github/osnove/Dodatno/blob/master/Primer_diff_enacbe_analiticno_Colab.ipynb\" target=\"_parent\"><img src=\"https://colab.research.google.com/assets/colab-badge.svg\" alt=\"Open In Colab\"/></a>"
      ]
    },
    {
      "cell_type": "markdown",
      "metadata": {
        "id": "pUMPiVRLaAb0",
        "colab_type": "text"
      },
      "source": [
        "# Primeri uporabe simbolnega računa za analitičen izračun prehodnega pojava\n",
        "\n",
        "Prikazali bomo primer uporabe knjižnice Sympy za analitičen izračun diferencialne enačbe prvega reda za nekaj primerov RLC vezij.Pri tem bomo v vsakem primeru pokazali malo drugačen način reševanja ali izrisa rešitve.\n"
      ]
    },
    {
      "cell_type": "markdown",
      "metadata": {
        "id": "RgBhQgf9aAb2",
        "colab_type": "text"
      },
      "source": [
        "***\n",
        "## Vklop zaporedne vezave kondenzatorja in upora na enosmerni napetostni vir \n",
        "Rešujemo diferencialno enačbo $R\\frac{\\text{d}i}{\\text{d}t}+\\frac{i}{C}=0$."
      ]
    },
    {
      "cell_type": "markdown",
      "metadata": {
        "id": "qSVSEifSaAb3",
        "colab_type": "text"
      },
      "source": [
        "Vnesemo potrebne knjižnice, pripravimo spremenljivke, tvorimo enačbo in jo rešimo."
      ]
    },
    {
      "cell_type": "code",
      "metadata": {
        "id": "jkwubJesaAb4",
        "colab_type": "code",
        "colab": {
          "base_uri": "https://localhost:8080/",
          "height": 125
        },
        "outputId": "42ba5990-32c8-4950-bcde-83dc7bf404ad"
      },
      "source": [
        "import numpy as np\n",
        "from sympy import *\n",
        "from IPython.display import *\n",
        "import matplotlib.pyplot as plt\n",
        "#matplotlib inline \n",
        "from IPython.display import Math, HTML\n",
        "\n",
        "def load_mathjax_in_cell_output():  # Te vrstice so potrebne, da se izpišejo enačbe. Potrebno le za Colab \n",
        "  display(HTML(\"<script src='https://www.gstatic.com/external_hosted/\"\n",
        "               \"mathjax/latest/MathJax.js?config=default'></script>\"))\n",
        "get_ipython().events.register('pre_run_cell', load_mathjax_in_cell_output)\n",
        "import sympy\n",
        "sympy.init_printing()\n",
        "init_printing(use_latex=True)\n",
        "\n",
        "var('R C t C1 a Ug') # priprava spremenljivk\n",
        "i = Function(\"i\")(t) # funkcija toka\n",
        "\n",
        "de = Eq(i/C+R*i.diff(t)) # zapis diferencialne enačbe\n",
        "display(de) # izpis enačbe\n",
        "des = dsolve(de,i) # rešitev enačbe\n",
        "display(des) # izpis rešitve\n"
      ],
      "execution_count": 2,
      "outputs": [
        {
          "output_type": "display_data",
          "data": {
            "text/html": [
              "<script src='https://www.gstatic.com/external_hosted/mathjax/latest/MathJax.js?config=default'></script>"
            ],
            "text/plain": [
              "<IPython.core.display.HTML object>"
            ]
          },
          "metadata": {
            "tags": []
          }
        },
        {
          "output_type": "display_data",
          "data": {
            "image/png": "[encoded data removed]",
            "text/latex": "$$R \\frac{d}{d t} i{\\left (t \\right )} + \\frac{1}{C} i{\\left (t \\right )} = 0$$",
            "text/plain": [
              "  d          i(t)    \n",
              "R⋅──(i(t)) + ──── = 0\n",
              "  dt          C      "
            ]
          },
          "metadata": {
            "tags": []
          }
        },
        {
          "output_type": "display_data",
          "data": {
            "image/png": "[encoded data removed]",
            "text/latex": "$$i{\\left (t \\right )} = e^{\\frac{1}{R} \\left(C_{1} - \\frac{t}{C}\\right)}$$",
            "text/plain": [
              "             t\n",
              "        C₁ - ─\n",
              "             C\n",
              "        ──────\n",
              "          R   \n",
              "i(t) = ℯ      "
            ]
          },
          "metadata": {
            "tags": []
          }
        }
      ]
    },
    {
      "cell_type": "markdown",
      "metadata": {
        "id": "NTumMNjvaAb8",
        "colab_type": "text"
      },
      "source": [
        "Rešitev diferencialne enačbe je ustrezna, le iz začetnega pogoja je potrebno še določiti konstanto $C_1$. Ta mora izhajati iz pogoja $u_C(t=0^+)=u_C(t=0^-)$. Torej mora biti napetost na kondezatorju ob preklopu enaka nič. Ker mora biti hkrati zadoščeno 2. Kirchoffovemu zakonu, mora biti napetost generatorja ob preklopu enaka napetosti na uporu $u_g(t=0)=U_g=u_R(t=0)=R i(t=0)$ in torej $i(t=0)=U_g/R$.\n",
        "\n",
        "V tem primeru bomo to upoštevali \"ročno\", tako, da bomo sami preuredili rešitev enačbe, saj lahko člen $e^{C_1} $ zapišemo z novo konstanto $a$, torej lahko tvorimo enačbo $i(t)=a e^{\\frac{-t}{RC}}$. V ta namen bomo uporabili funkcijo $Lambda$. \n",
        "\n",
        "Ker je $i(t=0)= a$, je $a=U_g/R$. S tem smo prišli do končne oblike rešitve."
      ]
    },
    {
      "cell_type": "code",
      "metadata": {
        "id": "EfV6F-V0aAb8",
        "colab_type": "code",
        "colab": {
          "base_uri": "https://localhost:8080/",
          "height": 87
        },
        "outputId": "12d40489-591c-49a2-a325-0b9c3a643226"
      },
      "source": [
        "des = des.subs(C1,0) # za C1 vstavimo 0 in nato s funkcijo Lambda spremenimo rešitev v bolj praktično obliko\n",
        "display(des)\n",
        "\n",
        "\n",
        "f = Lambda((t,R,C,a),(a* des.rhs)) # ki je a*(desna stran enačbe - rhs=right hand side)\n",
        "a=Ug/R # a je očitno tok ob času t=0, ki je enak Ug/R\n",
        "display(Latex('$i(t) = ' + str(latex(f(t,R,C,a))) + '$')) # izpišemo rešitev z uporabo Latex sintakse"
      ],
      "execution_count": 3,
      "outputs": [
        {
          "output_type": "display_data",
          "data": {
            "text/html": [
              "<script src='https://www.gstatic.com/external_hosted/mathjax/latest/MathJax.js?config=default'></script>"
            ],
            "text/plain": [
              "<IPython.core.display.HTML object>"
            ]
          },
          "metadata": {
            "tags": []
          }
        },
        {
          "output_type": "display_data",
          "data": {
            "text/html": [
              "<script src='https://www.gstatic.com/external_hosted/mathjax/latest/MathJax.js?config=default'></script>"
            ],
            "text/plain": [
              "<IPython.core.display.HTML object>"
            ]
          },
          "metadata": {
            "tags": []
          }
        },
        {
          "output_type": "display_data",
          "data": {
            "image/png": "[encoded data removed]",
            "text/latex": "$$i{\\left (t \\right )} = e^{- \\frac{t}{C R}}$$",
            "text/plain": [
              "        -t \n",
              "        ───\n",
              "        C⋅R\n",
              "i(t) = ℯ   "
            ]
          },
          "metadata": {
            "tags": []
          }
        },
        {
          "output_type": "display_data",
          "data": {
            "text/latex": "$i(t) = \\frac{Ug}{R} e^{- \\frac{t}{C R}}$",
            "text/plain": [
              "<IPython.core.display.Latex object>"
            ]
          },
          "metadata": {
            "tags": []
          }
        }
      ]
    },
    {
      "cell_type": "code",
      "metadata": {
        "id": "lHR_Nt9OaAb_",
        "colab_type": "code",
        "colab": {
          "base_uri": "https://localhost:8080/",
          "height": 283
        },
        "outputId": "e8d326b7-b0b6-43c7-c19f-078fed474831"
      },
      "source": [
        "#Pripravimo za iziris\n",
        "x = np.linspace(0,15,100)  # niz vrednosti za x-os - čas\n",
        "plt.grid(True)\n",
        "plt.xlabel('Čas  /s',fontsize=12)\n",
        "plt.ylabel('Tok  / A',fontsize=16)\n",
        "plt.plot(x,[f(t,1,4,1) for t in x],color='#008000') # ob izrisu vstavimo vrednosti za R, C in a (1,4,1)\n",
        "plt.show()"
      ],
      "execution_count": 4,
      "outputs": [
        {
          "output_type": "display_data",
          "data": {
            "text/html": [
              "<script src='https://www.gstatic.com/external_hosted/mathjax/latest/MathJax.js?config=default'></script>"
            ],
            "text/plain": [
              "<IPython.core.display.HTML object>"
            ]
          },
          "metadata": {
            "tags": []
          }
        },
        {
          "output_type": "display_data",
          "data": {
            "text/html": [
              "<script src='https://www.gstatic.com/external_hosted/mathjax/latest/MathJax.js?config=default'></script>"
            ],
            "text/plain": [
              "<IPython.core.display.HTML object>"
            ]
          },
          "metadata": {
            "tags": []
          }
        },
        {
          "output_type": "display_data",
          "data": {
            "image/png": "[encoded data removed]",
            "text/plain": [
              "<Figure size 432x288 with 1 Axes>"
            ]
          },
          "metadata": {
            "tags": []
          }
        }
      ]
    },
    {
      "cell_type": "markdown",
      "metadata": {
        "id": "oTQU0V1xaAcB",
        "colab_type": "text"
      },
      "source": [
        "## Vklop tuljave\n",
        "\n",
        "Rešujemo enačbo ${{U}_{g}}={{u}_{R}}(t)+{{u}_{L}}(t)=iR+L\\frac{\\text{d}i}{\\text{d}t}$.\n",
        "V tem primeru bomo preuredili rešitev tako, da bo možno neposredno uporabiti začetni pogoj, ki je $i(t=0)=0$.\n",
        "\n",
        "Najprej zapišemo enačbo v obliki $ L \\frac{\\text{d}i}{\\text{d}t} ={{U}_{g}}-i R$ in nato poiščemo njeno rešitev.\n",
        "\n"
      ]
    },
    {
      "cell_type": "code",
      "metadata": {
        "id": "ij9JP_IIaAcC",
        "colab_type": "code",
        "colab": {
          "base_uri": "https://localhost:8080/",
          "height": 82
        },
        "outputId": "aee8db8d-047a-4f62-e53c-dfcf5482f680"
      },
      "source": [
        "i = Function(\"i\") # pripravimo funkcijo in spremenljivke ter zapišemo dif enačbo\n",
        "L, R, Ug, t, i0, C1 = symbols('L, R, U_g, t, i0 C1')\n",
        "eq = Eq(L*i(t).diff(t,1),  Ug-R*i(t))\n",
        "display(eq)"
      ],
      "execution_count": 5,
      "outputs": [
        {
          "output_type": "display_data",
          "data": {
            "text/html": [
              "<script src='https://www.gstatic.com/external_hosted/mathjax/latest/MathJax.js?config=default'></script>"
            ],
            "text/plain": [
              "<IPython.core.display.HTML object>"
            ]
          },
          "metadata": {
            "tags": []
          }
        },
        {
          "output_type": "display_data",
          "data": {
            "text/html": [
              "<script src='https://www.gstatic.com/external_hosted/mathjax/latest/MathJax.js?config=default'></script>"
            ],
            "text/plain": [
              "<IPython.core.display.HTML object>"
            ]
          },
          "metadata": {
            "tags": []
          }
        },
        {
          "output_type": "display_data",
          "data": {
            "image/png": "[encoded data removed]",
            "text/latex": "$$L \\frac{d}{d t} i{\\left (t \\right )} = - R i{\\left (t \\right )} + U_{g}$$",
            "text/plain": [
              "  d                       \n",
              "L⋅──(i(t)) = -R⋅i(t) + U_g\n",
              "  dt                      "
            ]
          },
          "metadata": {
            "tags": []
          }
        }
      ]
    },
    {
      "cell_type": "code",
      "metadata": {
        "id": "Dq_VtxnPaAcE",
        "colab_type": "code",
        "colab": {
          "base_uri": "https://localhost:8080/",
          "height": 81
        },
        "outputId": "74a9be68-6bd4-4640-bee9-f4713c6dfc22"
      },
      "source": [
        "dsol = dsolve(eq, i(t))  # rešimo diff enačbo\n",
        "display(dsol)"
      ],
      "execution_count": 14,
      "outputs": [
        {
          "output_type": "display_data",
          "data": {
            "text/html": [
              "<script src='https://www.gstatic.com/external_hosted/mathjax/latest/MathJax.js?config=default'></script>"
            ],
            "text/plain": [
              "<IPython.core.display.HTML object>"
            ]
          },
          "metadata": {
            "tags": []
          }
        },
        {
          "output_type": "display_data",
          "data": {
            "text/html": [
              "<script src='https://www.gstatic.com/external_hosted/mathjax/latest/MathJax.js?config=default'></script>"
            ],
            "text/plain": [
              "<IPython.core.display.HTML object>"
            ]
          },
          "metadata": {
            "tags": []
          }
        },
        {
          "output_type": "display_data",
          "data": {
            "image/png": "[encoded data removed]",
            "text/latex": "$$i{\\left (t \\right )} = \\frac{1}{R} \\left(U_{g} + e^{\\frac{R}{L} \\left(C_{1} - t\\right)}\\right)$$",
            "text/plain": [
              "              R⋅(C₁ - t)\n",
              "              ──────────\n",
              "                  L     \n",
              "       U_g + ℯ          \n",
              "i(t) = ─────────────────\n",
              "               R        "
            ]
          },
          "metadata": {
            "tags": []
          }
        }
      ]
    },
    {
      "cell_type": "markdown",
      "metadata": {
        "id": "Y_0Cj-FdaAcG",
        "colab_type": "text"
      },
      "source": [
        "Sedaj se želimo \"znebiti\" konstante $C_1$ in izraziti enačbo z začetnim pogojem, t.j. $i(t=0^+)=0$.\n",
        "\n",
        "To naredimo tako, da izrazimo enačbo za čas $t=0$ in jo rešimo za $C_1$."
      ]
    },
    {
      "cell_type": "code",
      "metadata": {
        "id": "T4m32wN0aAcH",
        "colab_type": "code",
        "colab": {
          "base_uri": "https://localhost:8080/",
          "height": 143
        },
        "outputId": "3179cb69-5077-41e0-a2d0-6f8610caec83"
      },
      "source": [
        "it0=dsol.subs({'t':0})\n",
        "display(it0)\n",
        "\n",
        "init_solve=solve(it0, C1) # rešimo enačbo za C1\n",
        "\n",
        "display(init_solve)  # prikažemo rešitev"
      ],
      "execution_count": 8,
      "outputs": [
        {
          "output_type": "display_data",
          "data": {
            "text/html": [
              "<script src='https://www.gstatic.com/external_hosted/mathjax/latest/MathJax.js?config=default'></script>"
            ],
            "text/plain": [
              "<IPython.core.display.HTML object>"
            ]
          },
          "metadata": {
            "tags": []
          }
        },
        {
          "output_type": "display_data",
          "data": {
            "text/html": [
              "<script src='https://www.gstatic.com/external_hosted/mathjax/latest/MathJax.js?config=default'></script>"
            ],
            "text/plain": [
              "<IPython.core.display.HTML object>"
            ]
          },
          "metadata": {
            "tags": []
          }
        },
        {
          "output_type": "display_data",
          "data": {
            "image/png": "[encoded data removed]",
            "text/latex": "$$i{\\left (0 \\right )} = \\frac{1}{R} \\left(U_{g} + e^{\\frac{C_{1} R}{L}}\\right)$$",
            "text/plain": [
              "              C₁⋅R\n",
              "              ────\n",
              "               L  \n",
              "       U_g + ℯ    \n",
              "i(0) = ───────────\n",
              "            R     "
            ]
          },
          "metadata": {
            "tags": []
          }
        },
        {
          "output_type": "display_data",
          "data": {
            "image/png": "[encoded data removed]",
            "text/latex": "$$\\left [ \\frac{L}{R} \\log{\\left (R i{\\left (0 \\right )} - U_{g} \\right )}\\right ]$$",
            "text/plain": [
              "⎡L⋅log(R⋅i(0) - U_g)⎤\n",
              "⎢───────────────────⎥\n",
              "⎣         R         ⎦"
            ]
          },
          "metadata": {
            "tags": []
          }
        }
      ]
    },
    {
      "cell_type": "code",
      "metadata": {
        "id": "YJnltAQxaAcJ",
        "colab_type": "code",
        "colab": {
          "base_uri": "https://localhost:8080/",
          "height": 87
        },
        "outputId": "457daa68-9f3a-4e0d-a126-6df7e2bbc853"
      },
      "source": [
        "final = dsol.subs(C1, init_solve[0]) # v rešitev vstavimo C1 in dobimo končno enačbo\n",
        "final"
      ],
      "execution_count": 9,
      "outputs": [
        {
          "output_type": "display_data",
          "data": {
            "text/html": [
              "<script src='https://www.gstatic.com/external_hosted/mathjax/latest/MathJax.js?config=default'></script>"
            ],
            "text/plain": [
              "<IPython.core.display.HTML object>"
            ]
          },
          "metadata": {
            "tags": []
          }
        },
        {
          "output_type": "display_data",
          "data": {
            "text/html": [
              "<script src='https://www.gstatic.com/external_hosted/mathjax/latest/MathJax.js?config=default'></script>"
            ],
            "text/plain": [
              "<IPython.core.display.HTML object>"
            ]
          },
          "metadata": {
            "tags": []
          }
        },
        {
          "output_type": "execute_result",
          "data": {
            "image/png": "[encoded data removed]",
            "text/latex": "$$i{\\left (t \\right )} = \\frac{1}{R} \\left(U_{g} + e^{\\frac{R}{L} \\left(\\frac{L}{R} \\log{\\left (R i{\\left (0 \\right )} - U_{g} \\right )} - t\\right)}\\right)$$",
            "text/plain": [
              "                ⎛L⋅log(R⋅i(0) - U_g)    ⎞\n",
              "              R⋅⎜─────────────────── - t⎟\n",
              "                ⎝         R             ⎠\n",
              "              ───────────────────────────\n",
              "                           L             \n",
              "       U_g + ℯ                           \n",
              "i(t) = ──────────────────────────────────\n",
              "                       R                 "
            ]
          },
          "metadata": {
            "tags": []
          },
          "execution_count": 9
        }
      ]
    },
    {
      "cell_type": "code",
      "metadata": {
        "id": "l_aDVobvaAcL",
        "colab_type": "code",
        "colab": {
          "base_uri": "https://localhost:8080/",
          "height": 84
        },
        "outputId": "58935f99-6f9d-4488-e182-841dbb19a96c"
      },
      "source": [
        "expand(final)  # drugačen izpis"
      ],
      "execution_count": 10,
      "outputs": [
        {
          "output_type": "display_data",
          "data": {
            "text/html": [
              "<script src='https://www.gstatic.com/external_hosted/mathjax/latest/MathJax.js?config=default'></script>"
            ],
            "text/plain": [
              "<IPython.core.display.HTML object>"
            ]
          },
          "metadata": {
            "tags": []
          }
        },
        {
          "output_type": "display_data",
          "data": {
            "text/html": [
              "<script src='https://www.gstatic.com/external_hosted/mathjax/latest/MathJax.js?config=default'></script>"
            ],
            "text/plain": [
              "<IPython.core.display.HTML object>"
            ]
          },
          "metadata": {
            "tags": []
          }
        },
        {
          "output_type": "execute_result",
          "data": {
            "image/png": "[encoded data removed]",
            "text/latex": "$$i{\\left (t \\right )} = i{\\left (0 \\right )} e^{- \\frac{R t}{L}} + \\frac{U_{g}}{R} - \\frac{U_{g}}{R} e^{- \\frac{R t}{L}}$$",
            "text/plain": [
              "                                -R⋅t \n",
              "             -R⋅t               ─────\n",
              "             ─────                L  \n",
              "               L     U_g   U_g⋅ℯ     \n",
              "i(t) = i(0)⋅ℯ      + ─── - ──────────\n",
              "                      R        R     "
            ]
          },
          "metadata": {
            "tags": []
          },
          "execution_count": 10
        }
      ]
    },
    {
      "cell_type": "markdown",
      "metadata": {
        "id": "MxFcQslfaAcQ",
        "colab_type": "text"
      },
      "source": [
        "Vstavimo začetni pogoj $i(t=0^+)=i_0=0$ in dobimo končno obliko:"
      ]
    },
    {
      "cell_type": "code",
      "metadata": {
        "id": "X-lbpvIEaAcR",
        "colab_type": "code",
        "colab": {
          "base_uri": "https://localhost:8080/",
          "height": 84
        },
        "outputId": "cc4f9d95-8d73-4048-ef4d-577371970183"
      },
      "source": [
        "zacetni_pogoji = {i(0): 0}\n",
        "i2=final.subs(zacetni_pogoji)\n",
        "simplify(i2)"
      ],
      "execution_count": 28,
      "outputs": [
        {
          "output_type": "display_data",
          "data": {
            "text/html": [
              "<script src='https://www.gstatic.com/external_hosted/mathjax/latest/MathJax.js?config=default'></script>"
            ],
            "text/plain": [
              "<IPython.core.display.HTML object>"
            ]
          },
          "metadata": {
            "tags": []
          }
        },
        {
          "output_type": "display_data",
          "data": {
            "text/html": [
              "<script src='https://www.gstatic.com/external_hosted/mathjax/latest/MathJax.js?config=default'></script>"
            ],
            "text/plain": [
              "<IPython.core.display.HTML object>"
            ]
          },
          "metadata": {
            "tags": []
          }
        },
        {
          "output_type": "execute_result",
          "data": {
            "image/png": "[encoded data removed]",
            "text/latex": "$$i{\\left (t \\right )} = \\frac{U_{g}}{R} - \\frac{U_{g}}{R} e^{- \\frac{R t}{L}}$$",
            "text/plain": [
              "                  -R⋅t \n",
              "                  ─────\n",
              "                    L  \n",
              "       U_g   U_g⋅ℯ     \n",
              "i(t) = ─── - ──────────\n",
              "        R        R     "
            ]
          },
          "metadata": {
            "tags": []
          },
          "execution_count": 28
        }
      ]
    },
    {
      "cell_type": "markdown",
      "metadata": {
        "id": "zmKaJT89aAcT",
        "colab_type": "text"
      },
      "source": [
        "Poiščemo še rešitev za napetost z odvajanjem toka (desne strani enačbe i2) in množenjem z induktivnostjo L."
      ]
    },
    {
      "cell_type": "code",
      "metadata": {
        "id": "eJ1_SqzkaAcU",
        "colab_type": "code",
        "colab": {
          "base_uri": "https://localhost:8080/",
          "height": 71
        },
        "outputId": "0e1ab950-fcba-461b-b018-42ed1637a414"
      },
      "source": [
        "u2=symbols('u2')\n",
        "u2=L*i2.rhs.diff(t) # množenje z L in odvodom desne strani enačbe\n",
        "expand(u2)"
      ],
      "execution_count": 29,
      "outputs": [
        {
          "output_type": "display_data",
          "data": {
            "text/html": [
              "<script src='https://www.gstatic.com/external_hosted/mathjax/latest/MathJax.js?config=default'></script>"
            ],
            "text/plain": [
              "<IPython.core.display.HTML object>"
            ]
          },
          "metadata": {
            "tags": []
          }
        },
        {
          "output_type": "display_data",
          "data": {
            "text/html": [
              "<script src='https://www.gstatic.com/external_hosted/mathjax/latest/MathJax.js?config=default'></script>"
            ],
            "text/plain": [
              "<IPython.core.display.HTML object>"
            ]
          },
          "metadata": {
            "tags": []
          }
        },
        {
          "output_type": "execute_result",
          "data": {
            "image/png": "[encoded data removed]",
            "text/latex": "$$U_{g} e^{- \\frac{R t}{L}}$$",
            "text/plain": [
              "     -R⋅t \n",
              "     ─────\n",
              "       L  \n",
              "U_g⋅ℯ     "
            ]
          },
          "metadata": {
            "tags": []
          },
          "execution_count": 29
        }
      ]
    },
    {
      "cell_type": "markdown",
      "metadata": {
        "id": "tDIR0uLdaAcW",
        "colab_type": "text"
      },
      "source": [
        "### Pripravimo enačbe za izračune\n",
        "\n",
        "Pripravimo podatke in uporabimo funkcijo \"lambdify\" za pretvorbo iz simbolnega zapisa v numeričnega."
      ]
    },
    {
      "cell_type": "code",
      "metadata": {
        "id": "NifqUA9SaAcW",
        "colab_type": "code",
        "colab": {
          "base_uri": "https://localhost:8080/",
          "height": 88
        },
        "outputId": "e96b0642-c86b-4658-c733-407775a16dd6"
      },
      "source": [
        "podatki = {L: 1e-3, R: 5, Ug:3} \n",
        "tau=L/R  # časovna konstanta\n",
        "tau2=tau.subs(podatki)  # numeričen izračun časovne konstante z zamenjavo oz. vstavitvijo vrednosti za L in R\n",
        "print('Tau = ',tau2,' s')\n",
        "print(podatki)\n",
        "tok = lambdify(t, i2.args[1].subs(podatki), 'numpy') # tok kot funkcija časa\n",
        "napetost = lambdify(t,u2.subs(podatki), 'numpy')  # napetost kot funkcija časa\n",
        "\n",
        "\n",
        "print('Tok pri 0s: {:g} A'.format(tok(0)))\n",
        "print('Napetost pri 0s: {:g} V'.format(napetost(0)))\n"
      ],
      "execution_count": 31,
      "outputs": [
        {
          "output_type": "display_data",
          "data": {
            "text/html": [
              "<script src='https://www.gstatic.com/external_hosted/mathjax/latest/MathJax.js?config=default'></script>"
            ],
            "text/plain": [
              "<IPython.core.display.HTML object>"
            ]
          },
          "metadata": {
            "tags": []
          }
        },
        {
          "output_type": "display_data",
          "data": {
            "text/html": [
              "<script src='https://www.gstatic.com/external_hosted/mathjax/latest/MathJax.js?config=default'></script>"
            ],
            "text/plain": [
              "<IPython.core.display.HTML object>"
            ]
          },
          "metadata": {
            "tags": []
          }
        },
        {
          "output_type": "stream",
          "text": [
            "Tau =  0.000200000000000000  s\n",
            "{L: 0.001, R: 5, U_g: 3}\n",
            "Tok pri 0s: 0 A\n",
            "Napetost pri 0s: 3 V\n"
          ],
          "name": "stdout"
        }
      ]
    },
    {
      "cell_type": "markdown",
      "metadata": {
        "id": "3OV9yfP1aAcY",
        "colab_type": "text"
      },
      "source": [
        "Sledi priprava enačb za izrise. Naredimo dva niza: cas za izpis gladke krivulje z več točkami in cas2 za izris simbolov v redkih točkah:"
      ]
    },
    {
      "cell_type": "code",
      "metadata": {
        "id": "no89PIKkaAcZ",
        "colab_type": "code",
        "colab": {
          "base_uri": "https://localhost:8080/",
          "height": 17
        },
        "outputId": "63c97061-4d90-4ce4-dbcc-fc2ca94a48eb"
      },
      "source": [
        "cas = np.linspace(0, 1e-3, 100)\n",
        "cas2 = np.linspace(0, 1e-3, 5)"
      ],
      "execution_count": 32,
      "outputs": [
        {
          "output_type": "display_data",
          "data": {
            "text/html": [
              "<script src='https://www.gstatic.com/external_hosted/mathjax/latest/MathJax.js?config=default'></script>"
            ],
            "text/plain": [
              "<IPython.core.display.HTML object>"
            ]
          },
          "metadata": {
            "tags": []
          }
        },
        {
          "output_type": "display_data",
          "data": {
            "text/html": [
              "<script src='https://www.gstatic.com/external_hosted/mathjax/latest/MathJax.js?config=default'></script>"
            ],
            "text/plain": [
              "<IPython.core.display.HTML object>"
            ]
          },
          "metadata": {
            "tags": []
          }
        }
      ]
    },
    {
      "cell_type": "code",
      "metadata": {
        "id": "B8Sb175LaAcb",
        "colab_type": "code",
        "colab": {
          "base_uri": "https://localhost:8080/",
          "height": 17
        },
        "outputId": "10c6fb79-5ce3-449c-d6cc-6f5e9a1deb86"
      },
      "source": [
        "def slika():\n",
        "    plt.plot(cas, tok(cas), 'C0', label='Tok [A]')\n",
        "    plt.plot(cas, napetost(cas), 'C1', label='Napetost [V]')\n",
        "    plt.plot(cas2, tok(cas2), 'C0o', label='Tok - velik korak')\n",
        "    plt.plot(cas2, napetost(cas2), 'C1o', label='Napetost - velik korak')\n",
        "    plt.xlabel('Čas [s]')\n",
        "    plt.ylabel('Tok [A] / Napetost [V]')\n",
        "    plt.legend(loc=(1.01, 0));\n",
        "    plt.show()"
      ],
      "execution_count": 33,
      "outputs": [
        {
          "output_type": "display_data",
          "data": {
            "text/html": [
              "<script src='https://www.gstatic.com/external_hosted/mathjax/latest/MathJax.js?config=default'></script>"
            ],
            "text/plain": [
              "<IPython.core.display.HTML object>"
            ]
          },
          "metadata": {
            "tags": []
          }
        },
        {
          "output_type": "display_data",
          "data": {
            "text/html": [
              "<script src='https://www.gstatic.com/external_hosted/mathjax/latest/MathJax.js?config=default'></script>"
            ],
            "text/plain": [
              "<IPython.core.display.HTML object>"
            ]
          },
          "metadata": {
            "tags": []
          }
        }
      ]
    },
    {
      "cell_type": "code",
      "metadata": {
        "id": "1rB8x_B3aAcd",
        "colab_type": "code",
        "colab": {
          "base_uri": "https://localhost:8080/",
          "height": 281
        },
        "outputId": "3184ad78-1a4e-44a5-dead-af1b15d2f2bc"
      },
      "source": [
        "slika()"
      ],
      "execution_count": 34,
      "outputs": [
        {
          "output_type": "display_data",
          "data": {
            "text/html": [
              "<script src='https://www.gstatic.com/external_hosted/mathjax/latest/MathJax.js?config=default'></script>"
            ],
            "text/plain": [
              "<IPython.core.display.HTML object>"
            ]
          },
          "metadata": {
            "tags": []
          }
        },
        {
          "output_type": "display_data",
          "data": {
            "text/html": [
              "<script src='https://www.gstatic.com/external_hosted/mathjax/latest/MathJax.js?config=default'></script>"
            ],
            "text/plain": [
              "<IPython.core.display.HTML object>"
            ]
          },
          "metadata": {
            "tags": []
          }
        },
        {
          "output_type": "display_data",
          "data": {
            "image/png": "[encoded data removed]",
            "text/plain": [
              "<Figure size 432x288 with 1 Axes>"
            ]
          },
          "metadata": {
            "tags": []
          }
        }
      ]
    },
    {
      "cell_type": "markdown",
      "metadata": {
        "id": "UbNcA-FZaAcf",
        "colab_type": "text"
      },
      "source": [
        "## <font color='blue'>Vklop kondenzatorja na izmenični vir napetosti</font>"
      ]
    },
    {
      "cell_type": "markdown",
      "metadata": {
        "id": "Ung_oQy6aAcf",
        "colab_type": "text"
      },
      "source": [
        "Rešujemo enačbo ${{u}_{g}}=RC\\frac{\\text{d}{{u}_{C}}}{\\text{d}t}+{{u}_{C}}$, \n",
        "kjer je ${{u}_{g}}(t)={{U}_{g}}\\sin {(\\omega t})$."
      ]
    },
    {
      "cell_type": "code",
      "metadata": {
        "id": "2aDLEawBaAcg",
        "colab_type": "code",
        "colab": {
          "base_uri": "https://localhost:8080/",
          "height": 82
        },
        "outputId": "eeac6bb1-8e39-4d22-e7fd-00413b1cc42f"
      },
      "source": [
        "u = Function('u') # pripravimo funkcijo in spremenljivke ter zapišemo dif enačbo\n",
        "C, R, t, Ug, omega, u0 = symbols('C, R, t, U_g, omega, u0')\n",
        "eq = Eq(R*C*u(t).diff(t),  Ug*sin(omega*t)-u(t))\n",
        "eq"
      ],
      "execution_count": 35,
      "outputs": [
        {
          "output_type": "display_data",
          "data": {
            "text/html": [
              "<script src='https://www.gstatic.com/external_hosted/mathjax/latest/MathJax.js?config=default'></script>"
            ],
            "text/plain": [
              "<IPython.core.display.HTML object>"
            ]
          },
          "metadata": {
            "tags": []
          }
        },
        {
          "output_type": "display_data",
          "data": {
            "text/html": [
              "<script src='https://www.gstatic.com/external_hosted/mathjax/latest/MathJax.js?config=default'></script>"
            ],
            "text/plain": [
              "<IPython.core.display.HTML object>"
            ]
          },
          "metadata": {
            "tags": []
          }
        },
        {
          "output_type": "execute_result",
          "data": {
            "image/png": "[encoded data removed]",
            "text/latex": "$$C R \\frac{d}{d t} u{\\left (t \\right )} = U_{g} \\sin{\\left (\\omega t \\right )} - u{\\left (t \\right )}$$",
            "text/plain": [
              "    d                             \n",
              "C⋅R⋅──(u(t)) = U_g⋅sin(ω⋅t) - u(t)\n",
              "    dt                            "
            ]
          },
          "metadata": {
            "tags": []
          },
          "execution_count": 35
        }
      ]
    },
    {
      "cell_type": "markdown",
      "metadata": {
        "id": "H9hd1LUaaAci",
        "colab_type": "text"
      },
      "source": [
        "Najprej poskušamo identificirati tip diferencialne enačbe. V ta namen uporabimo funkcijo classify_ode."
      ]
    },
    {
      "cell_type": "code",
      "metadata": {
        "id": "IsdGaVyZaAcj",
        "colab_type": "code",
        "colab": {
          "base_uri": "https://localhost:8080/",
          "height": 212
        },
        "outputId": "5da2e90d-a15d-4b35-d129-a655b7c72428"
      },
      "source": [
        "classify_ode(eq, u(t))"
      ],
      "execution_count": 36,
      "outputs": [
        {
          "output_type": "display_data",
          "data": {
            "text/html": [
              "<script src='https://www.gstatic.com/external_hosted/mathjax/latest/MathJax.js?config=default'></script>"
            ],
            "text/plain": [
              "<IPython.core.display.HTML object>"
            ]
          },
          "metadata": {
            "tags": []
          }
        },
        {
          "output_type": "display_data",
          "data": {
            "text/html": [
              "<script src='https://www.gstatic.com/external_hosted/mathjax/latest/MathJax.js?config=default'></script>"
            ],
            "text/plain": [
              "<IPython.core.display.HTML object>"
            ]
          },
          "metadata": {
            "tags": []
          }
        },
        {
          "output_type": "execute_result",
          "data": {
            "text/plain": [
              "('1st_linear',\n",
              " 'Bernoulli',\n",
              " 'almost_linear',\n",
              " '1st_power_series',\n",
              " 'lie_group',\n",
              " 'nth_linear_constant_coeff_undetermined_coefficients',\n",
              " 'nth_linear_constant_coeff_variation_of_parameters',\n",
              " '1st_linear_Integral',\n",
              " 'Bernoulli_Integral',\n",
              " 'almost_linear_Integral',\n",
              " 'nth_linear_constant_coeff_variation_of_parameters_Integral')"
            ]
          },
          "metadata": {
            "tags": []
          },
          "execution_count": 36
        }
      ]
    },
    {
      "cell_type": "markdown",
      "metadata": {
        "id": "AiZ7kyzdaAcl",
        "colab_type": "text"
      },
      "source": [
        "Preiskusimo lahko vse zgoraj naštete možne tipe. V našem primeru dobro deluje nth_linear_constant_coeff_undetermined_coefficients"
      ]
    },
    {
      "cell_type": "code",
      "metadata": {
        "id": "NRCYKWONaAcm",
        "colab_type": "code",
        "colab": {
          "base_uri": "https://localhost:8080/",
          "height": 87
        },
        "outputId": "6b930ed0-4a23-47ea-f2b5-488e9ed2fac7"
      },
      "source": [
        "dsol = dsolve(eq, u(t),'nth_linear_constant_coeff_undetermined_coefficients')  # rešimo diff enačbo\n",
        "display(dsol)"
      ],
      "execution_count": 42,
      "outputs": [
        {
          "output_type": "display_data",
          "data": {
            "text/html": [
              "<script src='https://www.gstatic.com/external_hosted/mathjax/latest/MathJax.js?config=default'></script>"
            ],
            "text/plain": [
              "<IPython.core.display.HTML object>"
            ]
          },
          "metadata": {
            "tags": []
          }
        },
        {
          "output_type": "display_data",
          "data": {
            "text/html": [
              "<script src='https://www.gstatic.com/external_hosted/mathjax/latest/MathJax.js?config=default'></script>"
            ],
            "text/plain": [
              "<IPython.core.display.HTML object>"
            ]
          },
          "metadata": {
            "tags": []
          }
        },
        {
          "output_type": "display_data",
          "data": {
            "image/png": "[encoded data removed]",
            "text/latex": "$$u{\\left (t \\right )} = - \\frac{C R U_{g} \\omega \\cos{\\left (\\omega t \\right )}}{C^{2} R^{2} \\omega^{2} + 1} + C_{1} e^{- \\frac{t}{C R}} + \\frac{U_{g} \\sin{\\left (\\omega t \\right )}}{C^{2} R^{2} \\omega^{2} + 1}$$",
            "text/plain": [
              "                                  -t                \n",
              "                                  ───               \n",
              "         C⋅R⋅U_g⋅ω⋅cos(ω⋅t)       C⋅R   U_g⋅sin(ω⋅t)\n",
              "u(t) = - ────────────────── + C₁⋅ℯ    + ────────────\n",
              "             2  2  2                     2  2  2    \n",
              "            C ⋅R ⋅ω  + 1                C ⋅R ⋅ω  + 1"
            ]
          },
          "metadata": {
            "tags": []
          }
        }
      ]
    },
    {
      "cell_type": "markdown",
      "metadata": {
        "id": "GYhgtNP0aAcw",
        "colab_type": "text"
      },
      "source": [
        "Podobno kot v prejšnjem primeru, zamenjamo konstanto $C_1$ za začetni pogoj, $u(t=0)$:"
      ]
    },
    {
      "cell_type": "code",
      "metadata": {
        "id": "q0OtjldNaAcw",
        "colab_type": "code",
        "colab": {
          "base_uri": "https://localhost:8080/",
          "height": 202
        },
        "outputId": "e4d2726a-8d34-43d7-c9f9-569fbadb1641"
      },
      "source": [
        "t0=dsol.args[1].subs({'t':0})\n",
        "eq_init = Eq(u0, t0)  # izrazimo enačbo pri t=0\n",
        "display(eq_init)  # prikažemo i0\n",
        "\n",
        "init_solve=solve(eq_init, C1) # rešimo enačbo za C1\n",
        "\n",
        "display(init_solve)  # prikažemo rešitev\n",
        "final = dsol.subs(C1, init_solve[0]) # v rešitev vstavimo C1 in dobimo končno enačbo\n",
        "final"
      ],
      "execution_count": 44,
      "outputs": [
        {
          "output_type": "display_data",
          "data": {
            "text/html": [
              "<script src='https://www.gstatic.com/external_hosted/mathjax/latest/MathJax.js?config=default'></script>"
            ],
            "text/plain": [
              "<IPython.core.display.HTML object>"
            ]
          },
          "metadata": {
            "tags": []
          }
        },
        {
          "output_type": "display_data",
          "data": {
            "text/html": [
              "<script src='https://www.gstatic.com/external_hosted/mathjax/latest/MathJax.js?config=default'></script>"
            ],
            "text/plain": [
              "<IPython.core.display.HTML object>"
            ]
          },
          "metadata": {
            "tags": []
          }
        },
        {
          "output_type": "display_data",
          "data": {
            "image/png": "[encoded data removed]",
            "text/latex": "$$u_{0} = - \\frac{C R U_{g} \\omega}{C^{2} R^{2} \\omega^{2} + 1} + C_{1}$$",
            "text/plain": [
              "        C⋅R⋅U_g⋅ω       \n",
              "u₀ = - ──────────── + C₁\n",
              "        2  2  2         \n",
              "       C ⋅R ⋅ω  + 1     "
            ]
          },
          "metadata": {
            "tags": []
          }
        },
        {
          "output_type": "display_data",
          "data": {
            "image/png": "[encoded data removed]",
            "text/latex": "$$\\left [ \\frac{1}{C^{2} R^{2} \\omega^{2} + 1} \\left(C^{2} R^{2} \\omega^{2} u_{0} + C R U_{g} \\omega + u_{0}\\right)\\right ]$$",
            "text/plain": [
              "⎡ 2  2  2                    ⎤\n",
              "⎢C ⋅R ⋅ω ⋅u₀ + C⋅R⋅U_g⋅ω + u₀⎥\n",
              "⎢────────────────────────────⎥\n",
              "⎢         2  2  2            ⎥\n",
              "⎣        C ⋅R ⋅ω  + 1        ⎦"
            ]
          },
          "metadata": {
            "tags": []
          }
        },
        {
          "output_type": "execute_result",
          "data": {
            "image/png": "[encoded data removed]",
            "text/latex": "$$u{\\left (t \\right )} = - \\frac{C R U_{g} \\omega \\cos{\\left (\\omega t \\right )}}{C^{2} R^{2} \\omega^{2} + 1} + \\frac{U_{g} \\sin{\\left (\\omega t \\right )}}{C^{2} R^{2} \\omega^{2} + 1} + \\frac{e^{- \\frac{t}{C R}}}{C^{2} R^{2} \\omega^{2} + 1} \\left(C^{2} R^{2} \\omega^{2} u_{0} + C R U_{g} \\omega + u_{0}\\right)$$",
            "text/plain": [
              "                                                                             -\n",
              "                                                                             ─\n",
              "                                             ⎛ 2  2  2                    ⎞  C\n",
              "         C⋅R⋅U_g⋅ω⋅cos(ω⋅t)   U_g⋅sin(ω⋅t)   ⎝C ⋅R ⋅ω ⋅u₀ + C⋅R⋅U_g⋅ω + u₀⎠⋅ℯ \n",
              "u(t) = - ────────────────── + ──────────── + ─────────────────────────────────\n",
              "             2  2  2           2  2  2                    2  2  2             \n",
              "            C ⋅R ⋅ω  + 1      C ⋅R ⋅ω  + 1               C ⋅R ⋅ω  + 1         \n",
              "\n",
              "t \n",
              "──\n",
              "⋅R\n",
              "  \n",
              "──\n",
              "  \n",
              "  "
            ]
          },
          "metadata": {
            "tags": []
          },
          "execution_count": 44
        }
      ]
    },
    {
      "cell_type": "markdown",
      "metadata": {
        "id": "k2NYILoyaAcy",
        "colab_type": "text"
      },
      "source": [
        "Vstavimo začetni pogoj in dobimo končno rešitev:"
      ]
    },
    {
      "cell_type": "code",
      "metadata": {
        "id": "VEFKFDI1aAcz",
        "colab_type": "code",
        "colab": {
          "base_uri": "https://localhost:8080/",
          "height": 93
        },
        "outputId": "c03d2851-07c4-44c9-eb89-e310174976cb"
      },
      "source": [
        "zacetni_pogoji = {'u0': 0}\n",
        "u2=final.subs(zacetni_pogoji)\n",
        "display((u2))"
      ],
      "execution_count": 50,
      "outputs": [
        {
          "output_type": "display_data",
          "data": {
            "text/html": [
              "<script src='https://www.gstatic.com/external_hosted/mathjax/latest/MathJax.js?config=default'></script>"
            ],
            "text/plain": [
              "<IPython.core.display.HTML object>"
            ]
          },
          "metadata": {
            "tags": []
          }
        },
        {
          "output_type": "display_data",
          "data": {
            "text/html": [
              "<script src='https://www.gstatic.com/external_hosted/mathjax/latest/MathJax.js?config=default'></script>"
            ],
            "text/plain": [
              "<IPython.core.display.HTML object>"
            ]
          },
          "metadata": {
            "tags": []
          }
        },
        {
          "output_type": "display_data",
          "data": {
            "image/png": "[encoded data removed]",
            "text/latex": "$$u{\\left (t \\right )} = - \\frac{C R U_{g} \\omega \\cos{\\left (\\omega t \\right )}}{C^{2} R^{2} \\omega^{2} + 1} + \\frac{C R U_{g} \\omega e^{- \\frac{t}{C R}}}{C^{2} R^{2} \\omega^{2} + 1} + \\frac{U_{g} \\sin{\\left (\\omega t \\right )}}{C^{2} R^{2} \\omega^{2} + 1}$$",
            "text/plain": [
              "                                         -t                \n",
              "                                         ───               \n",
              "                                         C⋅R               \n",
              "         C⋅R⋅U_g⋅ω⋅cos(ω⋅t)   C⋅R⋅U_g⋅ω⋅ℯ      U_g⋅sin(ω⋅t)\n",
              "u(t) = - ────────────────── + ────────────── + ────────────\n",
              "             2  2  2            2  2  2         2  2  2    \n",
              "            C ⋅R ⋅ω  + 1       C ⋅R ⋅ω  + 1    C ⋅R ⋅ω  + 1"
            ]
          },
          "metadata": {
            "tags": []
          }
        }
      ]
    },
    {
      "cell_type": "markdown",
      "metadata": {
        "id": "luSwOuJwaAc1",
        "colab_type": "text"
      },
      "source": [
        "Izračunamo še tok kot $i=C\\frac{\\text{d}{{u}_{C}}}{\\text{d}t}$"
      ]
    },
    {
      "cell_type": "code",
      "metadata": {
        "id": "9wUopLmwaAc1",
        "colab_type": "code",
        "colab": {
          "base_uri": "https://localhost:8080/",
          "height": 93
        },
        "outputId": "d3c01104-2a07-4464-ee8e-caf370041e26"
      },
      "source": [
        "i2=symbols('i2')\n",
        "i2=C*u2.rhs.diff(t) # množenje s C in odvodom desne strani enačbe\n",
        "simplify(i2)"
      ],
      "execution_count": 51,
      "outputs": [
        {
          "output_type": "display_data",
          "data": {
            "text/html": [
              "<script src='https://www.gstatic.com/external_hosted/mathjax/latest/MathJax.js?config=default'></script>"
            ],
            "text/plain": [
              "<IPython.core.display.HTML object>"
            ]
          },
          "metadata": {
            "tags": []
          }
        },
        {
          "output_type": "display_data",
          "data": {
            "text/html": [
              "<script src='https://www.gstatic.com/external_hosted/mathjax/latest/MathJax.js?config=default'></script>"
            ],
            "text/plain": [
              "<IPython.core.display.HTML object>"
            ]
          },
          "metadata": {
            "tags": []
          }
        },
        {
          "output_type": "execute_result",
          "data": {
            "image/png": "[encoded data removed]",
            "text/latex": "$$\\frac{C U_{g} \\omega e^{- \\frac{t}{C R}}}{C^{2} R^{2} \\omega^{2} + 1} \\left(\\left(C R \\omega \\sin{\\left (\\omega t \\right )} + \\cos{\\left (\\omega t \\right )}\\right) e^{\\frac{t}{C R}} - 1\\right)$$",
            "text/plain": [
              "        ⎛                              t     ⎞  -t \n",
              "        ⎜                             ───    ⎟  ───\n",
              "        ⎜                             C⋅R    ⎟  C⋅R\n",
              "C⋅U_g⋅ω⋅⎝(C⋅R⋅ω⋅sin(ω⋅t) + cos(ω⋅t))⋅ℯ    - 1⎠⋅ℯ   \n",
              "───────────────────────────────────────────────────\n",
              "                     2  2  2                       \n",
              "                    C ⋅R ⋅ω  + 1                   "
            ]
          },
          "metadata": {
            "tags": []
          },
          "execution_count": 51
        }
      ]
    },
    {
      "cell_type": "markdown",
      "metadata": {
        "id": "5BEU1yoAaAc3",
        "colab_type": "text"
      },
      "source": [
        "Sedaj lahko ocenimo še pravilnost enačbe. Čeprav je zapis zapleten, lahko ocenimo rešitev pri $CR\\omega >>1$. Najprej izbrišemo 1 in $cos(ut)$, nato še eksponenta, ki se izničita. Ostane nam\n",
        "\n",
        "$\\frac{C U_g \\omega }{C^{2} R^{2} \\omega^{2}} \\left(\\left(C R \\omega \\sin{\\left (\\omega t \\right )}\\right) \\right)$,\n",
        "\n",
        "od koder sledi\n",
        "\n",
        "$\\frac{U_g }{R} \\left(\\left(\\sin{\\left (\\omega t \\right )}\\right) \\right)$,\n",
        "\n",
        "kar je tok, ki ga diktira upornost $R$.\n",
        "\n",
        "Če pa je $CR\\omega << 1$, pa se ohrani cosinusni člen, eksponenta se za velike čase izničita, ostane \n",
        "$\\frac{C U_g \\omega }{C^{2} R^{2} \\omega^{2}+1} \\left(\\left(\\cos{\\left (\\omega t \\right )}\\right) \\right)$ in nato \n",
        "$\\frac{C \\omega U_g}{1} \\left(\\left(\\cos{\\left (\\omega t \\right )}\\right) \\right)$. V tem primeru, npr. nizkih frekvencah, tok skozi vezje diktira \"upornost\" kondenzatorja, ki jo pri izmeničnih signalih imenujemo reaktanca in je enaka $\\frac{1}{\\omega C}$.  \n"
      ]
    },
    {
      "cell_type": "code",
      "metadata": {
        "id": "QO18r9XMaAc4",
        "colab_type": "code",
        "colab": {
          "base_uri": "https://localhost:8080/",
          "height": 70
        },
        "outputId": "53d71dd4-dd7d-4445-93a1-0577b0051aeb"
      },
      "source": [
        "podatki = {C: 5e-5, R: 5e5, Ug: 2, omega:1000} \n",
        "tau=R*C  # časovna konstanta\n",
        "tau2=tau.subs(podatki)  # numeričen izračun konstante z zamenjavo oz. vstavitvijo vrednosti za L in R\n",
        "print('Tau = ',tau2,' s')\n",
        "\n",
        "napetost = lambdify(t,u2.args[1].subs(podatki), 'numpy')  # napetost kot funkcija časa\n",
        "tok = lambdify(t, i2.subs(podatki), 'numpy') # tok kot funkcija časa\n",
        "\n",
        "print('Tok pri 0s: {:g} A'.format(tok(1)))\n",
        "print('Napetost pri 0s: {:g} V'.format(napetost(1)))"
      ],
      "execution_count": 52,
      "outputs": [
        {
          "output_type": "display_data",
          "data": {
            "text/html": [
              "<script src='https://www.gstatic.com/external_hosted/mathjax/latest/MathJax.js?config=default'></script>"
            ],
            "text/plain": [
              "<IPython.core.display.HTML object>"
            ]
          },
          "metadata": {
            "tags": []
          }
        },
        {
          "output_type": "display_data",
          "data": {
            "text/html": [
              "<script src='https://www.gstatic.com/external_hosted/mathjax/latest/MathJax.js?config=default'></script>"
            ],
            "text/plain": [
              "<IPython.core.display.HTML object>"
            ]
          },
          "metadata": {
            "tags": []
          }
        },
        {
          "output_type": "stream",
          "text": [
            "Tau =  25.0000000000000  s\n",
            "Tok pri 0s: 3.30745e-06 A\n",
            "Napetost pri 0s: 3.18755e-05 V\n"
          ],
          "name": "stdout"
        }
      ]
    },
    {
      "cell_type": "code",
      "metadata": {
        "id": "tGRJN9XpaAc5",
        "colab_type": "code",
        "colab": {
          "base_uri": "https://localhost:8080/",
          "height": 265
        },
        "outputId": "dda63983-bf1e-45b5-d80a-93b9e1557b21"
      },
      "source": [
        "cas = np.linspace(0, 1, 50)\n",
        "\n",
        "def slika():\n",
        "    plt.plot(cas, tok(cas), 'C0', label='Tok [A]')\n",
        "    plt.plot(cas, napetost(cas), 'C1', label='Napetost [V]')\n",
        "    plt.ylabel('Tok [A]  /  Napetost [V]')\n",
        "    plt.legend(loc=(1.01, 0));\n",
        "    plt.show()\n",
        "slika()"
      ],
      "execution_count": 53,
      "outputs": [
        {
          "output_type": "display_data",
          "data": {
            "text/html": [
              "<script src='https://www.gstatic.com/external_hosted/mathjax/latest/MathJax.js?config=default'></script>"
            ],
            "text/plain": [
              "<IPython.core.display.HTML object>"
            ]
          },
          "metadata": {
            "tags": []
          }
        },
        {
          "output_type": "display_data",
          "data": {
            "text/html": [
              "<script src='https://www.gstatic.com/external_hosted/mathjax/latest/MathJax.js?config=default'></script>"
            ],
            "text/plain": [
              "<IPython.core.display.HTML object>"
            ]
          },
          "metadata": {
            "tags": []
          }
        },
        {
          "output_type": "display_data",
          "data": {
            "image/png": "[encoded data removed]",
            "text/plain": [
              "<Figure size 432x288 with 1 Axes>"
            ]
          },
          "metadata": {
            "tags": []
          }
        }
      ]
    },
    {
      "cell_type": "markdown",
      "metadata": {
        "id": "lC0O6zDGaAc7",
        "colab_type": "text"
      },
      "source": [
        "Zgornji prikaz ni napačen, problem je le, da sta lahko napetost in tok različnih velikostnih razredov. Zato je bolj primerno izrisati tok in napetost na dveh različnih grafih ali pa na enem grafu ampak z dvema različnima ordinatnima osema. Poleg tega časovni korak ni izbran najbolj ustrezno in ga je potrebno 2zgostiti\". Glej spodaj:"
      ]
    },
    {
      "cell_type": "code",
      "metadata": {
        "id": "XY6VGTQsaAc8",
        "colab_type": "code",
        "colab": {
          "base_uri": "https://localhost:8080/",
          "height": 281
        },
        "outputId": "239b8cb3-39e9-418c-8405-8a6e76291477"
      },
      "source": [
        "cas = np.linspace(0, 2e-2, 5000)\n",
        "\n",
        "fig, ax1 = plt.subplots()\n",
        "\n",
        "color = 'tab:red'\n",
        "ax1.set_xlabel('Čas (s)')\n",
        "ax1.set_ylabel('Tok (A)', color=color)\n",
        "ax1.plot(cas, tok(cas), color=color)\n",
        "ax1.tick_params(axis='y', labelcolor=color)\n",
        "\n",
        "ax2 = ax1.twinx()  # x os za drugi plot naj bo enaka x osi prvega plota\n",
        "\n",
        "color = 'tab:blue'\n",
        "ax2.set_ylabel('Napetost (V)', color=color)  \n",
        "ax2.plot(cas, napetost(cas), color=color)\n",
        "ax2.tick_params(axis='y', labelcolor=color)\n",
        "\n",
        "plt.show()"
      ],
      "execution_count": 54,
      "outputs": [
        {
          "output_type": "display_data",
          "data": {
            "text/html": [
              "<script src='https://www.gstatic.com/external_hosted/mathjax/latest/MathJax.js?config=default'></script>"
            ],
            "text/plain": [
              "<IPython.core.display.HTML object>"
            ]
          },
          "metadata": {
            "tags": []
          }
        },
        {
          "output_type": "display_data",
          "data": {
            "text/html": [
              "<script src='https://www.gstatic.com/external_hosted/mathjax/latest/MathJax.js?config=default'></script>"
            ],
            "text/plain": [
              "<IPython.core.display.HTML object>"
            ]
          },
          "metadata": {
            "tags": []
          }
        },
        {
          "output_type": "display_data",
          "data": {
            "image/png": "[encoded data removed]",
            "text/plain": [
              "<Figure size 432x288 with 2 Axes>"
            ]
          },
          "metadata": {
            "tags": []
          }
        }
      ]
    },
    {
      "cell_type": "markdown",
      "metadata": {
        "id": "uim_FKtMaAc-",
        "colab_type": "text"
      },
      "source": [
        "Več:\n",
        "- o uporabi simbolnega računa:\n",
        "    - https://www.southampton.ac.uk/~fangohr/teaching/python/book/html/12-symbolic-computation.html\n",
        "    -"
      ]
    }
  ]
}