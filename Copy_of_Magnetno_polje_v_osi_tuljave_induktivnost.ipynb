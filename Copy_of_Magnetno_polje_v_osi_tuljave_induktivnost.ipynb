{
  "nbformat": 4,
  "nbformat_minor": 0,
  "metadata": {
    "anaconda-cloud": {
      "attach-environment": true,
      "summary": "Magnetno polje v osi tuljave",
      "thumbnail": "data:image/png;base64,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"
    },
    "environment": {
      "channels": [
        "defaults"
      ],
      "dependencies": [
        "_license=1.1",
        "_nb_ext_conf=0.3.0",
        "alabaster=0.7.9",
        "anaconda-clean=1.0.0",
        "anaconda-client=1.5.1",
        "anaconda-navigator=1.3.1",
        "anaconda=4.2.0",
        "argcomplete=1.0.0",
        "astroid=1.4.7",
        "astropy=1.2.1",
        "babel=2.3.4",
        "backports=1.0",
        "beautifulsoup4=4.5.1",
        "bitarray=0.8.1",
        "blaze=0.10.1",
        "bokeh=0.12.2",
        "boto=2.42.0",
        "bottleneck=1.1.0",
        "bzip2=1.0.6",
        "cffi=1.7.0",
        "chest=0.2.3",
        "click=6.6",
        "cloudpickle=0.2.1",
        "clyent=1.2.2",
        "colorama=0.3.7",
        "comtypes=1.1.2",
        "conda-build=2.0.2",
        "conda-env=2.6.0",
        "conda=4.2.13",
        "configobj=5.0.6",
        "console_shortcut=0.1.1",
        "contextlib2=0.5.3",
        "cryptography=1.5",
        "curl=7.49.0",
        "cycler=0.10.0",
        "cython=0.24.1",
        "cytoolz=0.8.0",
        "dask=0.11.0",
        "datashape=0.5.2",
        "decorator=4.0.10",
        "dill=0.2.5",
        "docutils=0.12",
        "dynd-python=0.7.2",
        "entrypoints=0.2.2",
        "et_xmlfile=1.0.1",
        "fastcache=1.0.2",
        "filelock=2.0.6",
        "flask-cors=2.1.2",
        "flask=0.11.1",
        "freetype=2.5.5",
        "get_terminal_size=1.0.0",
        "gevent=1.1.2",
        "glueviz=0.9.1",
        "greenlet=0.4.10",
        "h5py=2.6.0",
        "hdf5=1.8.15.1",
        "heapdict=1.0.0",
        "icu=57.1",
        "idna=2.1",
        "imagesize=0.7.1",
        "ipykernel=4.5.0",
        "ipython=5.1.0",
        "ipython_genutils=0.1.0",
        "ipywidgets=5.2.2",
        "itsdangerous=0.24",
        "jdcal=1.2",
        "jedi=0.9.0",
        "jinja2=2.8",
        "jpeg=8d",
        "jsonschema=2.5.1",
        "jupyter=1.0.0",
        "jupyter_client=4.4.0",
        "jupyter_console=5.0.0",
        "jupyter_core=4.2.0",
        "lazy-object-proxy=1.2.1",
        "libdynd=0.7.2",
        "libpng=1.6.22",
        "libtiff=4.0.6",
        "llvmlite=0.13.0",
        "locket=0.2.0",
        "lxml=3.6.4",
        "markupsafe=0.23",
        "matplotlib=1.5.3",
        "menuinst=1.4.1",
        "mistune=0.7.3",
        "mkl-service=1.1.2",
        "mkl=11.3.3",
        "mpmath=0.19",
        "multipledispatch=0.4.8",
        "nb_anacondacloud=1.2.0",
        "nb_conda=2.0.0",
        "nb_conda_kernels=2.0.0",
        "nbconvert=4.2.0",
        "nbformat=4.1.0",
        "nbpresent=3.0.2",
        "networkx=1.11",
        "nltk=3.2.1",
        "nose=1.3.7",
        "notebook=4.2.3",
        "numba=0.28.1",
        "numexpr=2.6.1",
        "numpy=1.11.1",
        "odo=0.5.0",
        "openpyxl=2.3.2",
        "openssl=1.0.2j",
        "pandas=0.18.1",
        "partd=0.3.6",
        "path.py=8.2.1",
        "pathlib2=2.1.0",
        "patsy=0.4.1",
        "pep8=1.7.0",
        "pickleshare=0.7.4",
        "pillow=3.3.1",
        "pip=8.1.2",
        "pkginfo=1.3.2",
        "ply=3.9",
        "prompt_toolkit=1.0.3",
        "psutil=4.3.1",
        "py=1.4.31",
        "pyasn1=0.1.9",
        "pycosat=0.6.1",
        "pycparser=2.14",
        "pycrypto=2.6.1",
        "pycurl=7.43.0",
        "pyflakes=1.3.0",
        "pygments=2.1.3",
        "pylint=1.5.4",
        "pyopenssl=16.0.0",
        "pyparsing=2.1.4",
        "pyqt=5.6.0",
        "pytables=3.2.2",
        "pytest=2.9.2",
        "python-dateutil=2.5.3",
        "python=3.5.2",
        "pytz=2016.6.1",
        "pywin32=220",
        "pyyaml=3.12",
        "pyzmq=15.4.0",
        "qt=5.6.0",
        "qtawesome=0.3.3",
        "qtconsole=4.2.1",
        "qtpy=1.1.2",
        "requests=2.11.1",
        "rope=0.9.4",
        "ruamel_yaml=0.11.14",
        "scikit-image=0.12.3",
        "scikit-learn=0.17.1",
        "scipy=0.18.1",
        "setuptools=27.2.0",
        "simplegeneric=0.8.1",
        "singledispatch=3.4.0.3",
        "sip=4.18",
        "six=1.10.0",
        "snowballstemmer=1.2.1",
        "sockjs-tornado=1.0.3",
        "sphinx=1.4.6",
        "spyder=3.0.0",
        "sqlalchemy=1.0.13",
        "statsmodels=0.6.1",
        "sympy=1.0",
        "tk=8.5.18",
        "toolz=0.8.0",
        "tornado=4.4.1",
        "traitlets=4.3.0",
        "unicodecsv=0.14.1",
        "vs2015_runtime=14.0.25123",
        "wcwidth=0.1.7",
        "werkzeug=0.11.11",
        "wheel=0.29.0",
        "widgetsnbextension=1.2.6",
        "win_unicode_console=0.5",
        "wrapt=1.10.6",
        "xlrd=1.0.0",
        "xlsxwriter=0.9.3",
        "xlwings=0.10.0",
        "xlwt=1.1.2",
        "zlib=1.2.8",
        {
          "pip": [
            "backports.shutil-get-terminal-size",
            "dynd",
            "rope-py3k",
            "ruamel-yaml-",
            "tables"
          ]
        }
      ],
      "name": "notebook-magnetno-polje-v-osi-tuljave-ipynb"
    },
    "kernelspec": {
      "display_name": "Python 3",
      "language": "python",
      "name": "python3"
    },
    "language_info": {
      "codemirror_mode": {
        "name": "ipython",
        "version": 3
      },
      "file_extension": ".py",
      "mimetype": "text/x-python",
      "name": "python",
      "nbconvert_exporter": "python",
      "pygments_lexer": "ipython3",
      "version": "3.7.3"
    },
    "colab": {
      "name": "Copy of Magnetno-polje-v-osi-tuljave_induktivnost.ipynb",
      "provenance": [],
      "collapsed_sections": [],
      "include_colab_link": true
    }
  },
  "cells": [
    {
      "cell_type": "markdown",
      "metadata": {
        "id": "view-in-github",
        "colab_type": "text"
      },
      "source": [
        "<a href=\"https://colab.research.google.com/github/osnove/Dodatno/blob/master/Copy_of_Magnetno_polje_v_osi_tuljave_induktivnost.ipynb\" target=\"_parent\"><img src=\"https://colab.research.google.com/assets/colab-badge.svg\" alt=\"Open In Colab\"/></a>"
      ]
    },
    {
      "cell_type": "markdown",
      "metadata": {
        "collapsed": true,
        "id": "CdlZUKx1U5ma",
        "colab_type": "text"
      },
      "source": [
        "# Izračun polja v osi tuljave\n",
        "\n",
        "R je polmer tuljave\n",
        "NI je N*I\n",
        "l je dolžina tuljave (z2-z1)\n",
        "\n",
        "Formula za izračun polja v osi tuljave je:\n",
        "\n",
        "$$ {B_z} =\\frac{{{\\mu _0}NI}}{{2l}}\\left( {\\frac{{{z_2} - z}}{{\\sqrt {{{\\left( {z - {z_2}} \\right)}^2} + {R^2}} }} - \\frac{{({z_1} - z)}}{{\\sqrt {{{\\left( {z - {z_1}} \\right)}^2} + {R^2}} }}} \\right)$$\n"
      ]
    },
    {
      "cell_type": "code",
      "metadata": {
        "id": "JC_wFK1XU5mc",
        "colab_type": "code",
        "colab": {}
      },
      "source": [
        "from IPython.display import Image\n",
        "from IPython.core.display import HTML "
      ],
      "execution_count": 0,
      "outputs": []
    },
    {
      "cell_type": "code",
      "metadata": {
        "id": "MSp5PUXJU5mf",
        "colab_type": "code",
        "outputId": "385faba0-b903-48c4-9a8e-abee77fc6b6f",
        "colab": {
          "base_uri": "https://localhost:8080/",
          "height": 401
        }
      },
      "source": [
        "Image(url= \"https://raw.githubusercontent.com/osnove/Slike/master/oe2_solenoid.png\")"
      ],
      "execution_count": 0,
      "outputs": [
        {
          "output_type": "execute_result",
          "data": {
            "text/html": [
              "<img src=\"https://raw.githubusercontent.com/osnove/Slike/master/oe2_solenoid.png\"/>"
            ],
            "text/plain": [
              "<IPython.core.display.Image object>"
            ]
          },
          "metadata": {
            "tags": []
          },
          "execution_count": 26
        }
      ]
    },
    {
      "cell_type": "markdown",
      "metadata": {
        "id": "tG3dPtmr-zOw",
        "colab_type": "text"
      },
      "source": [
        ""
      ]
    },
    {
      "cell_type": "code",
      "metadata": {
        "id": "0lmnMLTjU5mi",
        "colab_type": "code",
        "outputId": "2f0cec91-5106-438c-d805-bf09eb4f3122",
        "colab": {
          "base_uri": "https://localhost:8080/",
          "height": 642
        }
      },
      "source": [
        "import numpy as np\n",
        "import math\n",
        "import matplotlib.pyplot as plt\n",
        "\n",
        "NI=6000   # tok\n",
        "R=5e-2     # polmer\n",
        "mi0=4*np.pi*1e-7  # permeabilnost\n",
        "z1=-5e-2\n",
        "z2=5e-2\n",
        "l=z2-z1    # dolžina\n",
        "\n",
        "z=np.arange(-15,15,0.11)*1e-2\n",
        "\n",
        "B=mi0*NI/(2*l)*((z2-z)/np.sqrt((z-z2)**2+R**2)-(z1-z)/np.sqrt((z-z1)**2+R**2))\n",
        "plt.figure(figsize=(15,10))\n",
        "plt.title('Polje v osi tuljave',fontsize=18)\n",
        "plt.xlabel('Razdalja / cm',fontsize=18)\n",
        "plt.ylabel('Gostota magnetnega pretoka / mT',fontsize=18)\n",
        "plt.tick_params(labelsize=18)\n",
        "\n",
        "plt.plot(z*1e2,B*1e3)\n",
        "plt.grid()\n",
        "plt.show()\n"
      ],
      "execution_count": 0,
      "outputs": [
        {
          "output_type": "display_data",
          "data": {
            "image/png": "[encoded data removed]",
            "text/plain": [
              "<Figure size 1080x720 with 1 Axes>"
            ]
          },
          "metadata": {
            "tags": []
          }
        }
      ]
    },
    {
      "cell_type": "code",
      "metadata": {
        "id": "4ADs7wmsU5ml",
        "colab_type": "code",
        "colab": {}
      },
      "source": [
        "\n",
        "\t"
      ],
      "execution_count": 0,
      "outputs": []
    },
    {
      "cell_type": "markdown",
      "metadata": {
        "id": "ahQHtEZvBBxM",
        "colab_type": "text"
      },
      "source": [
        "## Izračun induktivnosti \n",
        "po http://info.ee.surrey.ac.uk/Workshop/advice/coils/air_coils.html\n"
      ]
    },
    {
      "cell_type": "code",
      "metadata": {
        "id": "AlsGFnN3U5mn",
        "colab_type": "code",
        "outputId": "ce445b7d-1b2f-46aa-a0c6-257e5f5b4d30",
        "colab": {
          "base_uri": "https://localhost:8080/",
          "height": 325
        }
      },
      "source": [
        "Image(url= \"https://raw.githubusercontent.com/osnove/Slike/master/mult_layer_air_coil.png\")\n"
      ],
      "execution_count": 0,
      "outputs": [
        {
          "output_type": "execute_result",
          "data": {
            "text/html": [
              "<img src=\"https://raw.githubusercontent.com/osnove/Slike/master/mult_layer_air_coil.png\"/>"
            ],
            "text/plain": [
              "<IPython.core.display.Image object>"
            ]
          },
          "metadata": {
            "tags": []
          },
          "execution_count": 28
        }
      ]
    },
    {
      "cell_type": "code",
      "metadata": {
        "id": "lEHZIRz8Bxpw",
        "colab_type": "code",
        "outputId": "ae6f81dc-a24a-4b73-fcf8-78d27db9963e",
        "colab": {
          "base_uri": "https://localhost:8080/",
          "height": 259
        }
      },
      "source": [
        "Image(url= \"https://raw.githubusercontent.com/osnove/Slike/master/Brooks_ratio.png\")"
      ],
      "execution_count": 0,
      "outputs": [
        {
          "output_type": "execute_result",
          "data": {
            "text/html": [
              "<img src=\"https://raw.githubusercontent.com/osnove/Slike/master/Brooks_ratio.png\"/>"
            ],
            "text/plain": [
              "<IPython.core.display.Image object>"
            ]
          },
          "metadata": {
            "tags": []
          },
          "execution_count": 29
        }
      ]
    },
    {
      "cell_type": "code",
      "metadata": {
        "id": "1aqoxe8lU5mp",
        "colab_type": "code",
        "outputId": "217742cb-416b-488a-ac2b-7ba06521f9ab",
        "colab": {
          "base_uri": "https://localhost:8080/",
          "height": 35
        }
      },
      "source": [
        "d= 0.05  # premer tuljave\n",
        "c=0.03  # debelina (višina) ovojev\n",
        "b=0.10   # dolžina tuljave\n",
        "N=1000    # število ovojev\n",
        "\n",
        "\n",
        "a=(d+c)/2 # srednji polmer v m\n",
        "\n",
        "S1 = (c/(2*a))**2 \n",
        "\n",
        "\n",
        "L = 4E-7*np.pi*a*N**2*((0.5+S1/12)*np.log(8/S1) - 0.84834+0.2041*S1)\n",
        "L   # v Henryjih\n",
        "\n"
      ],
      "execution_count": 0,
      "outputs": [
        {
          "output_type": "execute_result",
          "data": {
            "text/plain": [
              "0.06274480469336968"
            ]
          },
          "metadata": {
            "tags": []
          },
          "execution_count": 42
        }
      ]
    },
    {
      "cell_type": "markdown",
      "metadata": {
        "id": "YZQ-4wvpIthv",
        "colab_type": "text"
      },
      "source": [
        "## Izračun polja s sumacijo po višini"
      ]
    },
    {
      "cell_type": "code",
      "metadata": {
        "id": "-dchQoWcDnsa",
        "colab_type": "code",
        "outputId": "28fa01e8-57bc-4d15-c477-bd06adac5adf",
        "colab": {
          "base_uri": "https://localhost:8080/",
          "height": 284
        }
      },
      "source": [
        "I=6 # Tok v žici\n",
        "NI=N*I # A-ovoji\n",
        "nl=15 # Number of layers (debelina žice * nl = c)\n",
        "Il=NI/nl  # tok v enem layerju\n",
        "Ball=0\n",
        "\n",
        "def B2(r,z):\n",
        "\t# This function returns B for specific radius and position z \n",
        "  B2=mi0*Il/(2*l)*((z2-z)/np.sqrt((z-z2)**2+r**2)-(z1-z)/np.sqrt((z-z1)**2+r**2))\n",
        "  return B2\n",
        " \n",
        "for i in range(1,nl):\n",
        "  r=(d/2)+i/nl*c\n",
        "  Bl=B2(r,0)\n",
        "  Ball=Ball+Bl \n",
        "  print(Bl)\n",
        "\n",
        "print(\"Polje v sredini je \",Ball*1e3, \"mT\")"
      ],
      "execution_count": 0,
      "outputs": [
        {
          "output_type": "stream",
          "text": [
            "0.004422886933014146\n",
            "0.004348121006897477\n",
            "0.004272076884079683\n",
            "0.0041952044484340045\n",
            "0.0041179087729422\n",
            "0.0040405500882946055\n",
            "0.003963444883078566\n",
            "0.0038868678558097542\n",
            "0.0038110544684693097\n",
            "0.003736203886890232\n",
            "0.003662482130919684\n",
            "0.0035900252936793744\n",
            "0.003518942722485669\n",
            "0.0034493200830061493\n",
            "Polje v sredini je  55.015089458000865 mT\n"
          ],
          "name": "stdout"
        }
      ]
    },
    {
      "cell_type": "code",
      "metadata": {
        "id": "X4GvTH0BLaLE",
        "colab_type": "code",
        "colab": {}
      },
      "source": [
        ""
      ],
      "execution_count": 0,
      "outputs": []
    }
  ]
}