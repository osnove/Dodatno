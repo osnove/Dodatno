{
  "nbformat": 4,
  "nbformat_minor": 0,
  "metadata": {
    "kernelspec": {
      "display_name": "Python 3",
      "language": "python",
      "name": "python3"
    },
    "language_info": {
      "codemirror_mode": {
        "name": "ipython",
        "version": 3
      },
      "file_extension": ".py",
      "mimetype": "text/x-python",
      "name": "python",
      "nbconvert_exporter": "python",
      "pygments_lexer": "ipython3",
      "version": "3.7.0"
    },
    "nbTranslate": {
      "displayLangs": [
        "*"
      ],
      "hotkey": "alt-t",
      "langInMainMenu": true,
      "sourceLang": "en",
      "targetLang": "fr",
      "useGoogleTranslate": true
    },
    "toc": {
      "base_numbering": 1,
      "nav_menu": {},
      "number_sections": true,
      "sideBar": true,
      "skip_h1_title": true,
      "title_cell": "Kazalo",
      "title_sidebar": "Kazalo",
      "toc_cell": false,
      "toc_position": {
        "height": "calc(100% - 180px)",
        "left": "10px",
        "top": "150px",
        "width": "165px"
      },
      "toc_section_display": true,
      "toc_window_display": true
    },
    "colab": {
      "name": "Obravnava_resonancnega_pojava.ipynb",
      "provenance": []
    },
    "widgets": {
      "application/vnd.jupyter.widget-state+json": {
        "1d4d3222fbaa46aa86e96ccd27ac6441": {
          "model_module": "@jupyter-widgets/controls",
          "model_name": "VBoxModel",
          "state": {
            "_view_name": "VBoxView",
            "_dom_classes": [
              "widget-interact"
            ],
            "_model_name": "VBoxModel",
            "_view_module": "@jupyter-widgets/controls",
            "_model_module_version": "1.5.0",
            "_view_count": null,
            "_view_module_version": "1.5.0",
            "box_style": "",
            "layout": "IPY_MODEL_b78507245e1c4607b11f2b12118db2d0",
            "_model_module": "@jupyter-widgets/controls",
            "children": [
              "IPY_MODEL_c517bf5270ff45f59012ee8f5a39c555",
              "IPY_MODEL_79bb165659a648cd84c7c5823308e350"
            ]
          }
        },
        "b78507245e1c4607b11f2b12118db2d0": {
          "model_module": "@jupyter-widgets/base",
          "model_name": "LayoutModel",
          "state": {
            "_view_name": "LayoutView",
            "grid_template_rows": null,
            "right": null,
            "justify_content": null,
            "_view_module": "@jupyter-widgets/base",
            "overflow": null,
            "_model_module_version": "1.2.0",
            "_view_count": null,
            "flex_flow": null,
            "width": null,
            "min_width": null,
            "border": null,
            "align_items": null,
            "bottom": null,
            "_model_module": "@jupyter-widgets/base",
            "top": null,
            "grid_column": null,
            "overflow_y": null,
            "overflow_x": null,
            "grid_auto_flow": null,
            "grid_area": null,
            "grid_template_columns": null,
            "flex": null,
            "_model_name": "LayoutModel",
            "justify_items": null,
            "grid_row": null,
            "max_height": null,
            "align_content": null,
            "visibility": null,
            "align_self": null,
            "height": null,
            "min_height": null,
            "padding": null,
            "grid_auto_rows": null,
            "grid_gap": null,
            "max_width": null,
            "order": null,
            "_view_module_version": "1.2.0",
            "grid_template_areas": null,
            "object_position": null,
            "object_fit": null,
            "grid_auto_columns": null,
            "margin": null,
            "display": null,
            "left": null
          }
        },
        "c517bf5270ff45f59012ee8f5a39c555": {
          "model_module": "@jupyter-widgets/controls",
          "model_name": "IntSliderModel",
          "state": {
            "_view_name": "IntSliderView",
            "style": "IPY_MODEL_35bfa863e6c94cbb8e46aec2d774e4f0",
            "_dom_classes": [],
            "description": "omega",
            "step": 25,
            "_model_name": "IntSliderModel",
            "orientation": "horizontal",
            "max": 1500,
            "_view_module": "@jupyter-widgets/controls",
            "_model_module_version": "1.5.0",
            "value": 1000,
            "_view_count": null,
            "disabled": false,
            "_view_module_version": "1.5.0",
            "min": 500,
            "continuous_update": true,
            "readout_format": "d",
            "description_tooltip": null,
            "readout": true,
            "_model_module": "@jupyter-widgets/controls",
            "layout": "IPY_MODEL_afb13967dbd24c91b82f65bbc98727aa"
          }
        },
        "79bb165659a648cd84c7c5823308e350": {
          "model_module": "@jupyter-widgets/output",
          "model_name": "OutputModel",
          "state": {
            "_view_name": "OutputView",
            "msg_id": "",
            "_dom_classes": [],
            "_model_name": "OutputModel",
            "outputs": [
              {
                "output_type": "display_data",
                "metadata": {
                  "tags": []
                },
                "image/png": "iVBORw0KGgoAAAANSUhEUgAAAaoAAAEICAYAAAAOW7ATAAAABHNCSVQICAgIfAhkiAAAAAlwSFlz\nAAALEgAACxIB0t1+/AAAADh0RVh0U29mdHdhcmUAbWF0cGxvdGxpYiB2ZXJzaW9uMy4xLjIsIGh0\ndHA6Ly9tYXRwbG90bGliLm9yZy8li6FKAAAgAElEQVR4nOydd3gU57W439mq3kASqLHaBbEDplcb\n44qr3OKC7diOHTtx6k1yU36W03OT3JBy0xMnTpy4xDZgY2PHcok7YDBIYPosSFo1JIQkUC9b5/fH\n7gqBkbR9V9K8z7OPYXdmvsN45jvnO98pgizLKCgoKCgoxCuqWAugoKCgoKAwGoqiUlBQUFCIaxRF\npaCgoKAQ1yiKSkFBQUEhrlEUlYKCgoJCXKMoKgUFBQWFuEYTawHCgUqlkhMTE4M61+12o1LFn76O\nV7kgfmVT5AoMRa7AmIhy9ff3y7Isx98/6mxkWR73n6SkJDlY3n333aDPjSTxKpcsx69silyBocgV\nGBNRLqBPjoM5fKxP/GtSBQUFBYVJjaKoFBQUFBTiGkVRKSgoKCjENYqiUlBQUFCIaxRFpaCgoKAQ\n1yiKSkFBQUEhrlEUlYKCgoJCXKMoqgggyzKn/vU01VdehTRvPvWfupeB/ftjLdakwXnyJM0PlXFk\nyVKOLF9By0//F1dPT6zFmjT0fvABtbffjjT3PGpKr6PrlfJYi6QwzlEUVZiRZZnjD3+bEz/5Cdqc\nHLLuugt7XR31d91NzzvvxFq8CY+jqYnaW26l+7XXSL3malIuuoiOZ56h/p5P4ezoiLV4E56ODRtp\nfOAzuDo7ybr3XgS9juZvfpPW3/0u1qIpjGMmRAmleOLkXx+la/Nmpn7xi0z9ry8jCAJTP/85Gj77\nIE3f+CbFz21EP3NmrMWcmNjtNH7+87j7+zGsf5aEOXMASL/pJo598Ys0f+ObFP7tUQS1OsaCTkz6\nPtxJy49+RPLFF1Hw29+iSkxEdrk4/v3vc/KRv6A3mki//rpYi6kwDlFWVGFk8OhR2v70J9KuvWZI\nSQGoMzIo+OMfUSUm0vyd7yC73TGWdGKSUl6Oraqa/P/7vyElBZBy4Spyv/Md+rZvp3PjxhhKOHFx\n9/dz/DvfQVdYSMFvfoPKW3tTUKuZ/qMfkbhkCS0/+hHO9vYYS6owHlEUVRhp/cUvUScnk/u97w0p\nKR/a3BxyH/p/DO7bT9fml2Ik4cTF0dRE0ltvk37zzaSsvvBjv2esvY2kFSto++3vcHV1xUDCic2p\np/6Fo6mJ6T/9CaqkpDN+EzQapv/kx7htNlp/85sYSagwnlEUVZjo/+gj+rZtY8pnHkCTmXnOY9Ju\nuIGEuXNp/+tfkF2uKEs4sWn/y19AEMj+yn+d83dBEMh9uAxXVxcdzzwTZekmNq7ubk4+9hgpl1xC\n0tKl5zxGX1xM5p130LX5JezHmqIsocJ4R1FUYaL9kUdQZ2WR+clPjniMIAhMefBBHPUN9LzxRhSl\nm9g4WlrofHEzA6svRDtt2ojHJZjNpFx8MaeefAr3wEAUJZzYdDy7Hnd394hGgo8p998PKhWn/vnP\nKEmmMFFQFFUYsDc20rdlK5l33vkxt8fZpF6xBl1xMScffyJK0k18Ojc+By4XfZevGfPYKQ9+FldH\nB10vKe7XcCC7XHRsWE/SypVn7AueC+20aaRfdx2dmzYp7leFgFAUVRjo3PgcqNVkrL1tzGMFlYqM\n29cyuH8/g0ePRkG6iY3scND53HMkX7Qa99QpYx6fuHgx+pISOje9EAXpJj69W7bgbD5O5h13+HV8\n5l13IQ8O0v3qqxGWbHLQsX4DmmPHYi1GxFEUVYjITiedL7xAyiWXoM3N9euc9BtvBK2Wrk2bIizd\nxKd3yxacbW1k3u7fRCkIAhm33MzggQMMHlEMhVDp3LQJdfZUUi+/zK/jE+bO8RgKL7wYYckmPs5T\np2j58Y9JqKyM2BiGsvJCQ1n5u4ay8sOGsvJDhrLyr0ZssFFQFFWI9O/ahevkSdJvutHvczSZmaRe\ndhldL/8b2emMoHQTn+5XX0OdkUHKRav9Pifthhs8hsKLymQZCq7eXvre30LaNdcgaLV+nTPcULBV\nVUVYwolNz3/+Ay4XgyMEsIQJJ/CNunWlc4CVwJcMZeWj+3gjgKKoQqT7tddRJSWRstr/iRIgrfRa\nXB0d9FdUREiyiY97cJDed98l9YorEDT+565rMjNJWbWK7v+8gacbt0Iw9L79NrLDQdo11wR0Xlpp\nKQgC3a8rAUWh0P3qa+iKi3Hm50dsjLp1pcfr1pXu8f65B5CAyA04AoqiCgHZ6aTnzTdJufRSVAkJ\nAZ2bsno1QmIi3f/5T4Skm/j0bt2Ku7+ftGuuDvjc1CuvxNl8nMGDByMg2eSg+9XX0ORNJ3HhwoDO\n00ydStKSJZ4VgUJQOFpb6a+oIO3aa+GsnM1IYSgrNwCLgJ1RGXAYiqIKgb6dO3F1dgY1UaoSE0m5\n+GJ63nxLyakKkp7XXkedmUnS8uUBn5t62aWg0SiTZZC4urvp3b6dtKuu/lhyuz+kXnkltqoqbLW1\nEZBu4tPz5psgy6RdG9hq9hxoBEGoHPZ58FwHGcrKU4BNwNfq1pV2hzpooCiKKgR6334HITGR5As/\nXgnBH1KvWIOrvV2prB4EssNB75YtpFx+WUBuPx/qjAySly+n5623IyDdxKfvgw/A4SD1iiuCOj/1\nCk8qQc9bb4VTrElD73vvozMY0JtMoV7KKcvy0mGfR88+wFBWrsWjpJ6uW1cak3BZRVGFQO+2bSSv\nWBGw289HyqpVoFLRt+2DMEs28RnYtw93by8pF10U9DVSLr4Ie22tUikhCHq3bEWVnk7igvlBna+d\nPh292Uzf1m1hlmzi4x4cpH/XLpIDCCAKFkNZuQA8Bkh160p/HfEBR0BRVEFir6/H0dBA8jnqyvmL\nOiODxPnz6d22NYySTQ56t24DjYbk888P+hrJ3gCYvm3KZBkIsttN77atpKy6IKRK9CkXrqL/o49w\n9/WFUbqJT/+uXcg2GymrgzfSAmAVcA9wmaGsfK/3c200Bh5OzNt8SGZRDVQCTaJFuk4yi8XAemAK\nsBu4R7RI9ljKeC56vZZgoNF+Z5O8+kLa//gnnB0dI9YIVPg4vVu3kLRwIerU1KCvoSsuRpM3nd5t\nW8m84/YwSjexsR05gqutneQQJ8rkCy/k5N8fo2/nLs+eoYJf9G7ZipCQQNLyZREfq25d6TYgOtEa\noxAPK6qv4gl59PFz4DeiRZoJdAAPxESqMejbuhXtjCJ0RUUhXSdl9WqQZfq2bw+TZBMfZ1sbtsPS\n0IooWARBIOXC1fTv+BDZ4QiTdBOf3i0eD0DKhatCuk7i4sUIiYnKijZAerduIWnFclR6faxFiRox\nVVSSWSwASoG/e/8uAJcBz3sPeQK4KTbSjYxst9O3axcpq4J3+/lImDsXdUaG4qsPgL4dOwBIDnGi\n9F3D3dfHwN69IV9rstC3fTt6UUSTnR3SdVQ6HckrVtD7gfLs+4ujqQlHfUNY5p7xRKxXVL8F/h/g\n6yQ4BegULZKvXMMxYpBcNhYDBw8hDwyQdP7KkK8lqNUkLV9O/65dYZBsctBfUYEqLY0EUQz5Wskr\nV4Ig0LdTuf/+INvtDOzdS3KY3E7JF1yAo74BR3NzWK430en3lkuKhtsvnoiZopLM4nVAq2iRdgdz\nviAID/pi/51RLkM09LAsWRKW6yUtW4ajuRlHkxJ95g/9FZUkLVmCoAr98VWnpaE3m4f+nyqMzsDB\ng8g2G0nLwjNR+iZc5f77R19FBar0dPQlJbEWJarEckW1CrhBMot1eIInLgN+B2RIZtEX5FEAnHP2\nlmX5UV/svyaIPJpQ6K+sQDfThCYrKyzXS1q21Htd5WUdC2dbG/a6uhEb9AVD0rKlDOzdi2yPu5id\nuKO/wvOMJobJSNPPmoUqLW3ougqj019RETYjbTwRs3+taJEeFi1SgWiRDMAdwDuiRboLeBe41XvY\nvUBcNQ6SXS4Gdu8J60SpLylBlZZGn1L3b0yGVrPLwqioli5FHhxk4OChsF1zotJfUYF+1sywRagK\najVJixcrRpofOE604qhvCNtqdjwRj2r5IeDrklmsxrNn9ViM5TmDQYsFd18fSUvD97AIKhVJS5Yo\nBWr9oL+iEiEpacwmfYHgMzqUyXJ0ZKeTgT17wj5RJi1bir22Fmd7e1ivO9Hor/TMD+E0kscLMc+j\nAhAt0nvAe94/W4HAi7dFiQGfRb80PK4PH0nLltH77rs4TrSizc0J67UnEv2VlSQtWhRU2aSR0GRl\noZtp8kwED342bNedaAxKFtz9/WGfKE8bCrtJu/qqsF57ItFfUYEqOZkE0RxrUaJOPK6o4pr+ykq0\nhYVop00L63WTliwGUMKkR8HV2Ynt6NGwuv18JC1ZysCej5Dd7rEPnqT4VpyJYVZUCXPmICQmKiva\nMRjYvduTexblPfl4QFFUASDLMv0f7SVp8eKwX1svighaLQP79oX92hMF371JXBT++5+4YAHu3l7s\nSjXvERnYtw9tfj7anPCu+AWtloS5c5TizKPg6u3FVl1D4qLAWqpMFBRFFQDO48dxtbeTEGQhztFQ\n6XTo54gM7FcU1UgM7D8AKhWJ580N+7V9xVUH9imT5UgM7N8XdBHasUicvwCbJOFWIi/PyeDBgyDL\nJM6LzP2PdxRFFQAD+w8AROxhSZy/gMGDh5RyPiMwcGA/epMJVXJy2K+tKy5GlZqqrGhHwNnWhrP5\nOAmRevYXLEB2OLBJ0tgHT0J8BlTivPNiLElsUBRVAAwc2O9xU8yOTLJd4oIFyIOD2KqqInL98Yws\nywzuP0DC/HkRub6gUpE4b57ifhqBgQOeTsgRW1EpK9pRGTiwH92MGagzMmItSkxQFFUADO4/gH6O\niKDTReT6Qy+rMll+DMexY7g6OyPq+khYMB/b0aO4BwYiNsZ4ZeDAflCrw1K26lxop01Dk5OjPPvn\nQJZlBvftJ2H+5HT7gaKo/EZ2uRg4dCiiE6W2oAB1VhYDexX309n4JrDECK2oPNeeDy4Xg4eUxN+z\nGdy335OYnpgYsTESF8xXFNU5cJ44gbOtzfN8TlIUReUntpoa5P7+iE6UgiCQOF95Wc/F4P4DCHo9\n+lmzIjZG4oIFAMo+1VnIbjcDBw9GfKJMmD8fR0MDQm9vRMcZb0TDSIt3FEXlJ4MHPIEUCfMi+7Ak\nLpiP3WpFUNxPZzBw4IAn30arjdgYmqwstIWFyj7JWdjr63F3d0d8okyc7zEUtLV1ER1nvDG4fz9o\ntejNky/R14eiqPxkYP8BVGlp6GbMiOg4CXM9odeaxsaIjjOekB0OBg8diorrI2HuXAYPH474OOOJ\naBlpCXPngiCgbWiI6DjjjYH9B0gwmydVo8SzURSVnwwc2E/ieedFvGqxb7Na26AoKh+2qipkmy1i\nEX/DSZgzxxO40dUV8bHGCwP7D6BKSkJvMkV0HHVKMrqiIsVIG4bsdjN48OCkDUv3oSgqP3DbbNiO\nVkXcogTQZGd7PsrLOsSAN7gh8bzIv6w+Q2FQskR8rPHC4KFDnsopanXEx9LPEZUV1TDs9fW4+/uH\nPC2TFUVR+YGtuhqczoiF5p5Nwpw5aBuVl9WHTbKgSk5GW1gY8bES5vgUlZJ4Cl6L/siRqD776lOn\ncHV2RmW8eMeXAB2t+x+vKIrKD2wWj3UdrarF+jki6pYTuAcHozJevDMoSejN5qg0i9NMmYImN5dB\nSdmnAnA0NCD390dPUYme9i2DFmVFC96VvUaDbubMWIsSUxRF5QeDkgVVUlJULHrwVpN2u7EdPRqV\n8eKZIYs+ihFPCaKoBFR4GRyy6KNz/4dWtIeVFS14jbSZM1FFqMjAeEFRVH4waJHQz54dtfbPQ1al\nMlmetujnRM/1kTBnDnZrrVKhguhb9JqsLFwZGcqz72XQYpn0bj9QFNWYyLKMzXIkqs3KtPl5uJOS\nFKuS0y6gaOaQJMwRwe3GduRI1MaMV2Jh0TuLCpU9QsDR2urp1jAJGyWejaKoxsDR1IS7tzeqE6Ug\nCDiKChWrEq8LSKOJaEWKszkd+adMloMWKapuVwBHYSH2WmVFe3pvXFlRKYpqDAZjFHXjLCzEdvTo\npG/5MWiRPK09omjRa/LyUKenT3pDwdnWhqst+ha9s7BQWdFyep9uMlek8KEoqjGwSRZQqaJq0YPn\nZZXtdmzWyd1x1iZZom7RC4KAfo446V2vQ27XKBtpDm/Q0sAkNxQGLRa0hYWoU1NjLUrMURTVGAxa\nLJ6megkJUR3XkZ8PMKkj/5zt7Tjb2tDHwEefMNuMrboa2eWK+tjxgi/pOdqGgjsrC1V6OrYjk/fZ\nBxiUDkf93scriqIag1j46AFc06aBVjupFdXQROmNgowm+lmzkG027JO4SoLNIqHNz0edlhbdgQUB\n/ayZk/rZd/X24ahviGq0azyjKKpRcHV2etpvxyLqRq1GX1w8qV9W2xGfRT876mPrSzxdnG1HJ2+3\n5UHLkZjtjySUlHhqPMpyTMaPNfZqz3Onnx39Zz8eURTVKAxaPJu5enNsrBp9SQmDVZNYUVVVocnN\nRZ2eHvWx9TNNIAiT1lBw22zY6+vRl0R3b9aHftYs3L29OI8fj8n4sWawyquovAbTZEdRVKNgO+pR\nVLGw6MHzkDqbj+Pq6YnJ+LFmsKoq6kEsPlSJieiKiiatorLX1oLLRUKM7r9vgh6cpPffVlWFkJSE\nNi8v1qLEBYqiGgVbVRXqzEw0U6fGZHyfNWurmnzuJ9nlwl5dEzNFBZ7JcrIqKt8zF6v77xt3srpe\nbVVV6GfOjFo1nHhHuQujYDsaO4seGLJmJ+NkaW9oQLbbY66o7A0NkzLx1Ha0CrTaiDcKHQl1Whqa\n6dMn5bMPYKuqRj8r9oVoDWXl/zCUlbcaysoPxlIORVGNgCzL2Kqr0cewarEmLw9VSsqkfFljbdGD\n1/0ky9hqrDGTIVbYqqrQGwwIMSyGqi+ZNSmffeepU7ja22P67A/jceDqWAuhKKoRcB4/jruvL2ab\nyeBNPJ01a1L66W1VVZ4wZZMxZjIMuV4n6f2P9USZUFKCrbZ20lVnsVVVA7E10nzUrSvdApyKtRyK\nohoBW7X3YYlxHxjPPsnkC9O1VVejLSxElZQUMxl0RUUICQmTTlG5evtwNDXF1EgD70TtcGCvq4up\nHNEmHrwJ8YYmVgNLZrEQeBLIBWTgUdEi/U4yi1nABsAA1AFrRYvUEW35hh6WmCuqWbg3bMB54gTa\nadNiKks0iQeLXlCr0ZtMk05R2Wviw6IfHvkXa1miia2qCnV6Oprs7GgMpxEEoXLY3x+VZfnRaAwc\nCLFcUTmBb4gWaQ6wEviSZBbnAGXA26JFmgW87f171LFVVaPJzkadkRGL4YdIGEo8nTyTpdtux15X\nH3MjATyT9WTLZYsXi15nNIJaPeki/3xGmiAI0RjOKcvy0mGfuFNSEMMVlWiRjgPHvX/ukcyiBOQD\nNwKXeA97AngPeCja8tmqqtDMmsn2mnYOHOuia8BBdqqe801TmJ2bGq2HaFiFhKOkXHRRVMaMNfba\nOnA6GTDM4qW9TVjb+pABU3Yyl5TkkJ6kjZos+pISujZvxtnRgSYzM2rjxhJbVRVCQgJV6jR2fVDL\nyV47yXoNCwrTWVE8BbUqOs++SqdDV2yYVEaaLMvYqqpIuO563rGc4FBTN4NOFwWZSawyTaVoSuxc\n4bEkZopqOJJZNACLgJ1ArleJAbTgcQ1GFbfLxasDqTxVcj0tf9sJgFol4HJ79omWGTJ5+FqRxUWR\nn7jU6elocnMnVUBF6+Eq/jz/E7xeIeDYuRcAQQBZBp1axSdXFPG1NbPISIp8RNrwUkqaFcsjPl48\nsKf2JH+8+Csc+sMHwJnPfkFmIt+6ajY3LMiLirGWUFLCwL79ER8nXhg83sLzOYt43rGQjsc9HjmV\nAN7bz+XmHL573RyKpyZHRR5DWfmzeBYOUw1l5ceAH9StK30sKoMPI+aKSjKLKcAm4GuiReqWhpUr\nEi2SLJnFc0YRCILwIPAggC6MIbQ9gw6++dRO3ph/K2Kii+/etIjVs7JJS9BwvGuQ1w+28OgWK7c+\nsp2vrSnhvy6bGfEXVm8yYZ8kIdJ7Gjr4fIWDk4aV3LYojztXGpibl4YMHGruZv2uBp7cUcd/DrXw\n57uXsLAwsq5ZXy6Lraaa5AmuqGRZ5g/vVPObzEvIFuz84Po5XH3eNKanJ9LV72BLVRuPbrHy1fV7\neeNQC7+6bQFJushOIbqZM+l+9TXc/f0xDayJBq09g3z2yX3sm3cDF07R8ZlrF7C8OIsEjZq6k328\nvK+Zx7bWctVvt7Du5nncvLgg4jLVrSu9M+KD+EFMo/4ks6jFo6SeFi3SC96vT0hmcbr39+lA67nO\nlWX5UZ9fVaMJz8vSNeDg7sd28Za1iwcO/pvnry/kuvl5pCdqEQSBvIxE7r+wmDe/fhE3LMjj128e\n5eEXDuB2RzYiT2cyecJ03e6IjhNrtla1cdffdqJx2vmD9UXW3baQBYUZaNQqtGoVCwszWHfLfF78\n4ipUKoE7Ht3Btqr2iMqkyclBlZw84Q0Ft1umbNMBfv3mUS49tofnZ3bz6VXFTE9PBCA9Scv1C/LY\n/KVVlF1j5vWDLdz5t530DEY2dFxv8hoKE7wvW+Opfj7xp+0c6XLyUMW/ePy+pVwyO4cknQaVSsCY\nncLX1pTw9jcuZklRJl/fuI+/vF8Ta7GjxoiKSjKLEQ0xk8yiADwGSKJF+vWwn14G7vX++V7gpUjK\n4WPQ4eLef+zicHMXP88+ya3V749Y5yw1Qctvbl/Ily41sb6ikZ+9FtkGe3qTCbm/f0IX6Nxd38ED\nT1QyY0oSvzvwDPNHWSktKMzgxS+uwjAlmQeeqOCjhsgFhQqCgG6mCVvNxJ0UZFnmx+WH2VDZyIOz\nk/jm7mfJmn3uQBa1SuDzF5v4y91LONTUxf2PVzBgj1zPLl8end06ce9/a88gdz/mUfp/lveyxtE8\n4n5oTloCTz6wnOsX5LHuNQtP7qiLqqyxYrQV1V7JLL4lmcUHJLMYCf/KKuAe4DLJLO71fq4F1gFX\nSGaxCljj/XtEkWWZhzbtZ9+xTv5w5yLObz6AJm866pSUEc8RBIFvXjmbe8+fwd+21vLUjrqIyed7\nWW3WiWnVN57q58EnK8lLT+Bfd88npfbImBFn2al6nv7MCnLS9Hz2yUqOdfRHTD690YR9AiuqJ7bX\n8c8P6rh/VTGf0zYjwJg5VFfOncbv7lhEZX0H337xQMTy/HRFRaDRYKuemPff7nTzuad209Zj4/H7\nl1NctXfMaFetWsWv1y5gjZjLD14+xN5WZ5SkjR2j+czy8SiKO4D/lczih8CzwEuiRQq5+JlokbYB\nI23uXB7q9QPhie11vLS3mW9dNZurz5uO1c/SSYIg8P3r59LYMcCPX5FYVJTJefnhb0mh88piq64h\nZfXqsF8/ljhcbr787Ec4XG4eu28ZycfraMO//LUpKXr+ed8yPvGn7Xzl2Y/4kjkyk6V+pomuF1/E\n1d0d/SaCEWb/sU5++qrEGjGX75aKtP7keVSpqWhycsY8t3T+dGraSvj1m0dZXJTBPecbwi6foNN5\nqthP0BXVz16T+Kihkz/ftZhFBekcsVrJXHvbmOdp1Sr+cOci7nh0B+2ToBbliCsq0SK5RIv0hmiR\nPg0UAv/AEzpeK5nFp6MlYKRp6XPzs9csXGbO4YuXmJCdTuw1/lftVqsEfnXbArKSdXz5mT0RcYNo\nMjNRZ2VNSPfH79+uYl9jJz+7eT6m7BTstZ5Vo95k8uv8mTmp/PTmeexp6OTf1sjsl+iM3hXtBFtV\n2Zwy//XsR2Sn6PnVbfNRqQRs1lp0xmK/A4S+fOlMLp2dzU/KJWraeiMip95kwj4BV1TvH23jnx/U\ncd8FBq6dNx1nSwvywAC6Yv/KhiXq1Dz/hQtYMyN66Rqxwq9gCtEi2YHDgAR0AxOiP7LLLfP3AzYS\ntGrW3TwPQRCwNzQiOxzoZ/qf7JiVrOPXty+g7mQ/v3s7MsmJeqNxwrk/DjZ18ad3q7l1SQGl86cD\nXvemWo2usNDv69ywII+bF+Xzco2Dw83dYZfTt7qbaO6/F6sd1J/s5ze3LxwK9bfX1KA3+mckAKhU\nAj+/ZT4JWjXfem7fUBh7ONGZjNgbG3Hb7WG/dqzoszn59gsHMGUnU3aNp4uyL2BEZyz2+zpa9eSo\ngjfqv1Iyi4WSWfyWZBb3AK94j79BtEiLoyJdhHmuspHqTjf/c+NcctISAIZZ9IEVQ73ANJXblhTw\n961WLC3hnyx1M03YrNYJU/PP7Zb57uaDZCXr+N51c4a+t1tr0RUWBly1+/vXzyFZA9976WDYozC1\neXkIev2EqqJ+qLmL/9Q7uHN5ISuMUwBw9fTgbGsLaKIEzwb/D2+Yw56GTp7ZWR92WfWmmeByTaia\nf7984wjNXQNDSh7A7t2D1htjV4g5Xhkt6m87sA3IAT4rWqTZokX6oWiRLFGTLsLcvLiAz8/Xc8OC\n0100fQELuuLAXlaAb18rkpao5dsvhH9zWW804e7qwtUe2XDsaLGxspG9jZ08fI1IeuJp14W91jrk\naguEjCQda2fr2F3fwfN7joVTVAS1Gp3RiM1bA2+8I8sy33nxIClaeOhq89D39lqPRR/MRHnTwnxW\nGrP49ZtH6eoPrwv2dOTfxDAUjrT08OSOOu5eMYOlhqyh7221VlRpaainTImdcHHKaCuqMsAgWqRv\niRZpd7QEiiY6jYqVeZoz/PF2ay2anBzUqakBXy8zWcdDV89mT0Mnrx1sCaeo6Gd63DETYZ+kZ9DB\nL944wnJDFjcvzh/6XnY6PTX+gmztsSpfw5IZmfzidQu9tvBGQumNxgmzT/LqgRb2NnZyW4nujOoe\np420wO+/IAh8/7q5dA04+O3b4a2ioisuBkGYMK7v/31VIkWv4etXlJzxvd1ai95ojFp5tvHEaMEU\nW0SLNDH8TAFgs9YEZdH7uHVJISW5KfzyjSM4XOFL0NX5Eh8ngKJ6bFstp/rsfKdUPOOldDQ1ITsc\nQU2UACpB4LulIu29dv6xLYRGtrIAACAASURBVLwJovqZJhzNzbj7IxcGHw0cLje/fMPC7NxUVuWf\nGfRrt9aCRoOuMLiKB3Py0rhjeRFP7qintr0vHOICoEpMRJufPyGCibYcbeP9o23812WzyEw+070d\n6twzkZkcO3F+Isuy16oJ3O3nQ60SeOhqM7Xtfazf1RA22TQ52ahSUsb9hv6pPjt/31rL1XOnseCs\npF7fHlAo939RUSZXzc3l0S1WTvWFb/Nd5w0wGO8VEjZUNFJ3sp+HrpmN6izL3V5r9fTg0gYfRfbf\na0rQqgX+EOagIr3JNO73CGVZ5uevWyjMSuRTF8w44zdXdzeutvaQnv2JzGh7VOd7q0dMGlzt7bh7\neoK26H1cZs5huSGLP75bjc0ZnnB1QRAmxMv6yHvV9NudfOPKko/95gtkCWZ/cDjfvHI2/XYnj7wX\nvj0ln+t1PFv1A3YXv3u7iuWGLC6d/fE8KV9oeihkp+q5Z+UMNu9tCmu4us5kwl5bi+yKXBWMSPO2\n1Mqh5m6+enkJeo36jN98+4PKiurcjLai+hSwWzKL6yWzeF+kSyrFA8GEh54LQRD4yuWzONFt4/nd\n4dvY15nGdymfth4bT+6o56ZF+czK/fgeoM1qRT11Kur00JKmZ+WmctPCfP71YUPYVlUToULCxspG\n2npsfOPKko/tg8gOB/aGBvQhGmkAn7vYhF6j5vdhXFXpTSZkux3HsfAGykQLWZb5/TtVFGYlcuPC\nvI/9PjT3hGikTVRG26P6gjcM/YdAJvC4ZBZ3SGbxfyWzeJFkFtUjnTteGQpND4NVs2rmFBYWZvDI\nezVh26vSm0y42ttxdXaG5XrR5vHttdhdbr586bmrTtittejD9KJ+/hITAw4Xj2+vC8v1BK0W3YwZ\n47ZCgsPl5tEtVpYZMofC0YdjbzwGDge6IANZhjM1Rc+nLpjBy/uaqW4Nz6pqqIzYODXU3jvaxv5j\nXXzpkpnnzH2yW62g1QaUPziZGHOPSrRIFtEi/Ua0SFcDl+EJWb8NT++oCYXNakVISkIThpbvgiDw\n5UtncqxjgJf3NodBumGRf+MwTLfX5uSpHfVcPXcaxuyP11CUZRmbNbjQ9HNRkpvKlXNyeWJ7Xdgi\nAMdz5N9Le5tp6hzgi5eMYCSE0UgDeHC1EZ1axWPbwvOs6kzjN+pVlmX+8HYV+RmJI7bmsNVa0c0o\nQghTJ4iJRkDBFKJFGhAt0quiRfov0SItjZRQscJeY0Vf7H/5mLG4XMxBnJ7GI+/XhCUJdehlrR5/\n+TzrdzXQPejkcxefu+qBq6MDd1dXWDeTv3jpTLoGHGFLQtXNNI3LCglut8wj71UjTk/jktnZ5zwm\nlPzBczElRc/NiwvYtKeJth5byNdTe+sPjkdDYU9DB3saOnnwIiM6zbmnXM/co+xPjYQS9TcMW5DJ\npiMhCAIPXlRMdWsvW6tDT9TV5uUhJCSMu95Idqebv2+tZaUxa8RGh75kTl0A5XvGYmFhBheYpvCP\nbXVhcb/qjaZxWSHhHUsrNW19fOES04hGmN1aiyY7O6j8wZH4zOpi7E43T30YHkNB763OMt54bFst\naQkabl1y7tWU7HBgb2xUAilGQVFUXtz9/Tibj4c9PLR0Xh7Zqfqw5PUIKhU6Y/G4c3/8e18zLd2D\nfH6E1RSctujDff8fuLCYlu5B3jgUegL26ci/8TVZPr69junpCVxz3sgubXsY3a4+TNkprBFz+NeH\n9Qw6Qo/W0xk9wUTjqYxY46l+T5PJFUUk68/t1rM3NoLTqYSmj4KiqLz4rORQQ9PPRqdRcc/KGbx/\ntC0sG8t6o2lcTZSyLPP49jpm5qRwccm53U7gcX0ICQlopk8P6/iXzs5hxpQkHv+gLuRr6QwGT4WE\ncWQoVJ3oYVt1O3evnDFiAVNZlrHVhh6afi4+s9rIqT47m8JQ1kpvMnoaiLaEt+pLJHliex2CIHDv\nKC1QTnsTlBXVSIypqCSz2COZxe6zPo2SWXxRMosT5s6GKzT9XHxyRRE6tYrHt4e+qtIZi8dVhYS9\njZ0caOri3vNnjLr3Z6u1oisuRlCF13ZSqTyTRGV9BweOdYV2rcREtHl5ngoO44QndtSh06i4Y9nI\n0WSukydxd3dHZI9kRXEW8/LT+ecHdSGvhE4nXY8PQ63X5mRDRSPXzptOXkbiiMcpoelj48+s8Fvg\nW3gaKRYA3wSeAdbj6VE1IbBbraBSeazmMDM1Rc+NC/PYtLsp5IKdvhYM42Wf5Kkd9aToNXxihGgn\nH+EMTT+bW5cWkKxThyVUXWcyjpuJsmvAwabdTdywII8pKfoRj/MlkUfCohcEgXvOn0F1ay87a0+F\ndK2h4rTjZI/2xT3H6LE5uX+VYdTj7FYrmtzcUTuKT3b8UVQ3iBbpr6JF6hEtUrdokR4FrhIt0gY8\n+VUTApvVirawAFWA7SX85b5VBgYcrpAre5/OJ4n/l/Vkr41X9h/n5sX5pIzgnwdwDw7iaGqKmOsj\nLUHLrUsK+Pe+Ztp7Q4tA0xcbPRUS3OGr4xgpnqtsZMDh4r4LDKMeF2xrG3+5fn4eaQka/hViUIV6\nyhRUaWnYauP/2QfYUNmIOD1txAAiH560DGU1NRr+KKp+ySyulcyiyvtZCwx6fxs/u5pjYLdGNjx0\nbl46CwszeGZnfUguEO2MGaBSjYvE0/UVjdhdbu5ZOWPU4+z19SDLEd1M/tQFBuwuN89VhmYo6ExG\n5MFBHM3HwyRZZHC7ZZ7cUc8yQybn5Y9e6WMofzA3NyKyJOrU3LqkkNcPttDaMzj2CSMgCIInl20c\nGGkHm7o42NTNHcsKR3V5e+qLTt7QdENZuV+FI/xRVHcB9wCtwAnvn++WzGIi8OWgJYwjZG/IcaQ3\nMz+5ooiatj4q6jqCvoZKp0NXWBj3+yQut8wzOxs43zjlnOWShhONzWRTdgorirNYX9EQUk6bLyE2\n3mv+ba85ScOpfu4ew0gAr9vVYAj7/uBw7lpZhNMts7GiMaTr6Izjw/W6sbIRnUbFTQvzRz3O2daG\nu7d30gVSGMrKLzaUlf8VaPLn+DHToEWLZAWuH+HnbQHIFrc4mpuR7faIh4dePz+PH79ymGd21rO8\nOGvsE0ZAZzLF/UT53pFWmjoH+G6pOOaxNqsVBCEi+4PD+eSKIr66fi87rCdZNXNqUNcYSrq2Wkm5\n6KJwihdWnq1oICNJy1Vzx66yYrdaSVwc2abdpuwUVs2cwrO7GvnCJTNRq4JLqtebjHS98AKurq6Q\na0JGikGHi80fNXH13GmkJ41eid5ncE6G0HRDWflS4JPALcBU4CvAd/w5d0xFJZnFf3IOF59oke4P\nTMz4JRLJpuciUafmE4vyWV/RyA/67B/rR+MvepOR3q1bkZ3OuC25srGykakpOtbMGdudZLfWos3P\nR5WQEFGZrpo7jYwkLc/saghaUWkyM1FnZsa1++lkr43/HGrh7pUzhtqcj4R7YABHczPpt94Scbnu\nXjGDLzy9h3ctrX49F+fCt/KwWa0kLVoUTvHCxhuHWugedHL7KJGWPoY6BkzgFZWhrPx/gNuBFuBZ\nYCmwq25d6WP+XsOftf4rQLn38zaQBoSvfn8ccDo81BDxsT65ogi70x1SXomu2AjebPZ4pL3XxttS\nK59YlD9i7s5worWZnKBVc/OiAv5zqIWTIQRVxLv76cWPmnC4ZO5YVjTmsb7o0XDV+BuNNXNyyU7V\nsz4E999p12v83v8NFY0UZiVy/jmK/56NzVqLKoL7g3HCl/BsG/0G+EfdutI2Aoxv8Kco7aZhn6eB\ntXg04oTBbq1BnZWFJjPyQYzmaWksLsrg2V0NQQdVDIXp1sbnPtXmj5pwumXWLh3bopTdbuy1tVHb\nTL5zeSEOlxySoaA3GuN2opRlmWd3NbCoKIPZ08YuhzQUmh6F+69Vq7h5cT7vHmmltTu4oAptQQGC\nThe3hkLDyX6215xk7ZJCVH64N30VQSZ4+/lpwC/wFDO3GsrK/wkkGsrK/d4UDWb3dBbw8a5r45hw\nNIwLhE+umEFNWx+7gswrGXJ/xGGFBFmW2VDRyKKijDGDKACcx48jDw5GzfUxKzeVpTMyeXZXY9CG\ngs5oxNXRgbMj+KCYSFFZ30FNWx93+rGaguH5g2MHXYSDtUsLcbllXvjIrz30jyGo1egMhrh1vT63\nuxGV4Mnd84fJEJpet67UUbeu9JW6daV34dEfr+PpvtFkKCt/0p9rBFyZAvg38FAogscb0Q4PLZ03\nnVS9ho1BhkqrU1PRZGfH5cu6t7GTqtZev1ZTcNrtGs3N5DuXF1Hb3scO68mgzh9a0cahVb9+VyMp\neg2l8/0rRWWrtaItKEClHzkhOJyYslNYOiOTjRWhGQrxmEvlcss8V3mMi0qymZ4+ciUKH+6+PpzH\nj0fF7Rov1K0rHahbV7qhbl3pTYAIvOfPef64/lJFi5Q27FMiWqRNIcobNwi9vbg6OqK6mZmoU3Pd\ngum8euB40L2SdCZTXL6sGyuPkaBVcZ2fE2UsNpOvnTed1ARN0KHSQ6V84mxF2zXgoPxAM9cvyBux\nAOrZRLIiyEisXVaItb2P3fXBrUj1RiOOxmO4baG3DwknW4620dI9yO3+GmkRqi86XqhbV9pZt67U\nr+pGk74orablBBC5rPyRuHVJIQMOF6/uDy5x1Jf4GE+VpAfsLv69r9mrCEYPy/Vhs1pRp6ejzgo+\nXD9QEnVqblyYx6sHW4IqaaXNmx6X7VZe3tfMoMPNncv97BLrdkclf/BsSudNJ1mnZkPQhoLRK3t4\n2oeEiw0VjUxJ1nG56F9gxGQKTQ+VSa+o1Cc8lZij/bIuLsrAlJ3MxsrgX1Z3by/O1rYwSxY8rx30\nrBD9tSjB87LGYjP5jmWe6MuX9gW+VyKoVOiKi+NuRbuxwlOyZ94YlSh8qE6dQrbZor5HkqzXcN38\nPMqD9CicDiaKn/vf3mvjLekENy/OH7E54tnYa62gVnuqzUxgDGXlIcc0THpFpTnegqDXow1ze4mx\nEASB25YWUlnfgbUt8Gj/eHxZN1Q0YpiSFFAys6dZZfQtyvPy05mbl8b6XcEZCvri4rhaUVlaujnQ\n1MXapQV+K32Nt11GLPZI1i4roN/uonx/c8DnxmO7lRf3eCJd/cmd8mGz1qIriFx90TjiX4ay8u2G\nsvKfGMrKLwwk2s+HP8EUT/nz3XhFc6IFncGAoPar5FRYuXlRPmqVwPO7Aw+qiLd9krr2PnbWnuK2\npaPXNhuOq7sbV1t7zDaTb19WyOHj3RxsCrz9h85k9LRbGRiIgGSB81zlMbRqgRvHKNkzHJ+iikWy\n6eKiTK9HIfBnP97arciyzIbKRhYXZTAzx/8Oyfaamgmd6Oujbl3plcAa4EPgTqDSUFb+nKGs/H5D\nWXmeP9fwR7PNHf4XySyqgSWBChsoklm8WjKLRySzWC2ZxbJIjaNuORGz8NCctAQuLslm055juAKs\nP6fJyUaVnBw3Vv3zu4+hEuCWMdp5DGeoIkiMNpNvXJCPXqNifUVDwOfqTSaQ5bhot2J3unnxoybW\niLlkBVDtRN1yAnVGRlTyB89GEATWLi1kd30H1a09AZ8fT+1W9jR0Ut3aG9Bq6nR90fjfnzKUlV9t\nKCs/YigrrzaUlQc1F9etK+33hqh/qW5d6WI8pZNSgL8bysp3jnX+iIpKMosPS2axB5g/LDy9B09x\n2peCEdZfvMrwT8A1wBzgTskszgn3OG6bDXV7e0wrF9+2pIAT3Ta2VAW21yQIQtxE/rncMs/vPsbF\nJdlMS/e/DFIsQtOHk56k5ZrzpvHSR80M2ANrle5TrvHQbuUdSyun+uzc5mfujg9NS0tMLfqbFxeg\nVglBrar0RlPctFvZUNFAkk5N6Xy/FgcAOJqakB2OuA9N91Y3P2MuNpSVhzwX160rPVq3rvT3detK\nrwUuHuv4ERWVaJF+JlqkVOCXw0LTU0WLNEW0SA+HKugYLAeqRYtkFS2SHU+TxhvDPYi9vh5BltFF\nOeJvOJeLuWQmaXk+qJc1PloebKnyhOX6mzvlw15rBa0WbUFgE2w4uX1ZET02J68dDCz6UmfwtFuJ\nh1yq53c3kpOq56JZ2QGdpznREvVo1+Fkp+q5zJzDC3uacLgCUzg6Y3FctFvptTl5Zf9xrps/fdSe\na2dji7E3IQCWA9V160qtdetKIzIX160rHbNMiV+1/iSzmAwgmcW7JbP4a8ksRjpMJR8Yvst9zPtd\nWDkdHhq7h0WnUXHjwnzePHyCzn57YOcajThbW3H1BO46CSfPVTaSFUBYrg+btRbdjKKYFtZdaczC\nMCUp4PpzKr0ebUFBzN1PrT2DvHukjZsXF6Dxo66iD2dHB6qe3phPlGuXFtLea+NdS2tA5+m9Vexj\n3UWgfH8z/XYXt/tZCcTHOApNj8pcPBb+PNmP4GmeuAD4BlAD+FX2IpIIgvCgIAiVgiBUOp3BJc0m\nLlpE1/2fRhflhMezWbu0ELvLzUt7A4uAioeaf6f67Lx5+ASfWOR/WK4Pu9WKPsIV68fCF325q/ZU\nwNGXnhVtbCfKzR814XLLAbv97LV1ADHfI7l0djbZqfqA3X/Dq6jHkg0VjczMSWFx0ehdfM/GXmtF\nPWUK6ozAzosAGt886v08GKmBDGXlC8/x3TX+nOvPzOIULZKMZ7n3R9Ei/QnwP7QlOJqA4X6kAs5q\nsCXL8qOyLC+VZXmpJkiLXJubw+Dy5RFvLzEWc/LSmJuXFnBO1emaf7F7WTd7K3UH6vaTvdXfYz1R\nAty6JLi9Ep3JiL2uDtkV2P5WuJBlmY2Vx7w5eSkBnTvUfj7GeySa4YVqA+j+Gw/tVqpbe9jT0Mnt\nAUS6+rDFoCLICDh986j38+hZv485FwfAP4bvbxnKym8D/sefE/1RVD2SWXwYT2ffcsksqgD/yg4E\nTwUwSzKLxZJZ1AF3AC9HeMyYctuSAg41d3O4udvvc3SFhaDVxsz94ZkoG1lQkO5Xpe7h2BsbwemM\n+UQJkJuWwKWzc9i051hAeyV6oxHZ4cBxLLT29sGyt9ETbXZbgEYCeFYiskaDNj/qXpyPcdsSb6Ha\nPYHNf7GO/NtQ0YhGJfCJxYHfw3EUml4BzDKUlRcbyspDnYvX4smpKjGUlX8a+BpwpT8n+qOobgds\nwP2iRWrBo1F/GaSgfiFaJCeeNvdvABKwUbRIhyI5Zqy5cWE+OrWK53b7v6oSNBp0M4qGoueizf5j\nXVhaelgbQFiuj1iHpp/N7csKaesJbK8k1u6n53YHVldxOPYaK86cnJjkD57NzBxvodrKwArV6otj\n127F01POkxIwNSWwgr7Ojg5cnZ1x4U0Yi7p1pR+bi+vWlQY1F9etK63G0+F3s/e/V9StK/Wr4KM/\nrehbJLP4NLBMMovXAbtEixTxPSrRIr0KvBrpceKFzGQda+bksPmjJsquMft9nt5ownb0aAQlG5mN\nlY0kaFVcv8D/sFwfp/sgxcfLeunsbHJS9WyoaORKP9q3w1lN/C69NJLifYxBh7eu4nn+11Ucjq3W\nimuaf//OaLB2aSH/b9P+gArV6kxGXM952q1EOxfsbekEp/rs3O5vXcVh+JRrPHgT/KFuXWlIc7Gh\nrPwjzmyU6NuY22YoK8ebVzUq/lSmWAvswtP0ai2wUzKLtwYhr8IY3La0kI5+B28dDsCqNxmxNzYi\n2wOLGAyVAbuLl/d6Jsq0ICZKu9WKJjcXdUpyBKQLHI1axS1LCnj3SCstXf7tlajT01FPnRqTPcI3\nDrXQM+j0u+/RcNx2O47GYzinxU9X2WvnTydJpw5on3bIUIhBQMuGykampycEnBIAw0LTYxxIFEVu\nxaM/fJ/VwPXD/j4m/rj+vgMsEy3SvaJF+hSeuPrvBSWuwqhcNCubvPSEgCol6I1GcLmw10e3kvTr\nh47TY3MGtT8CYKuNbrNKf1i7tBC3TEDdf2PV7XdjZSMFmYmsLB673fnZOOrrwe2OqxVVil7DdfOn\n88r+4ww6/XP/DZURi/L9P941wJajbUNBOIFit9Z66ovmRbe+aKyoW1da4/sACcAV3k+C97sx8UdR\nqUSLNNzEP+nneQoBolZ5QqW3VbfT1u/fpv7pfZLo7lNtqGhkxpQkVhoDb88hy3LUm1X6Q/HUZFYa\ns9hY2Yjbz5JWOmOxJzAhiu1WjnV42p3fuqTAr3bnZ+N7VpxxpKjAYyj0213savEv3SRW7VaeqzyG\nW/YEgQSD3WpFV1yMoJpc06ihrPzLwHNAkfez0VBW/kV/zvXnTr0umcU3JLN4n2QW7wPKgdeCFVZh\ndHz5MNua/HtZfSGu0Yz8a+1386H1FGuDCMsFcLa14e7tjWlFkJG4fVkh9Sf7+bDWv+6/eqMJd3c3\nrpPBdQsOhk27PdFxty4JrqKHLzTdlRNy94WwsmRGJsbsZLYe8+/Zj0W7FZdbZkNFIxfOnErRlKSg\nrmGzWtEVG8Iq1zjhQWB53brSb9etK/02sAL4vD8n+tPh91vAX4H53s+jokX6fyEIqzAKBZlJXDQr\nm61NTr8K1aqSktDkTY/qPsnWY86AC9AOZ2gzOU4CKYZzzXmBdf+Ndi6by+1JCbjANIWCzCAnyhor\nmunTkWOcP3g2vkK1VZ1uavxMvo52GbGtVW00dQ5wRxBBFOCpL+o4dizmie4xQgCGb6Y7vN+NiT/B\nFD8XLdILokX6uvfzomQWfx6koAp+cMeyQk4Nymw56l+hWr3RFLV9EpdbZluTM+ACtMMZ2kw2xd/L\nmqBVc9PCfL+7/w5VB4nSinaLd6L85PLgq5h53K7xZyQA3Lw4H5WA30EV0W63sn6Xp4vvlXOCc5va\n6+pAlmNaYzHaGMrKfdHlTwE7DWXl3zWUlX8X2A484c81/HH9XXGO7/wqe6EQHJeLuaTq8DuoQm8y\nYotSJektR9vosAVeiWI49horquRkNHHmevJx+7JC7E43m/eOnYCqmTYNISkpanuEz+5sYGqKjivm\nBBexJ7vdnkCWODQSAHJSE1iQrWbTbv8K1eqNxqi1W+m0uXlLOsEtSwoCLhfmYyh/cJyEpoeJXQB1\n60p/AXwO6Pd+Pl+3rvRX/lxgxDwqySx+AfgiYJTM4v5hP6UCHwQrscLY6DQqLszX8qbkKSuTkzr6\nykVXbEQeGMB5/HjEKw08u6uBVB0BF6Adjr3WGpP28/5yXn465+Wnsb6ikU+dP2NUOQVB8Hb7jfyK\n6kT3IG9bWvnsamPQE6XzxAnk/v64Loa6Ol/D7z+y8d6RtjEV8nDXa4IoRlSubU3OgLv4no3NagVB\n8HQpnjwMvUB160p34VVcgTBawu8zeIImfgYMb5bVI1qkU4EOpBAYF+VreK3WwabdTXzhktGtX58b\nwWatjaiiOt41wFvSCa4xaIOeKMEjZ/KK5WGULPzcvrSQ7710iINN3cwrSB/1WJ3JSH9FZcRl2ljR\niMstc0eoEyXe0O6B/nCJFlbmZ6uZmuJJvh5TURkMUWm34nbLbDnmZEVxVsB1FYdjr7Gizc+PeX3R\nKJNtKCv/+kg/1q0r/fVYFxitH1WXaJHqRIt0J56ihJeJFqkeUElmMX7NsQnC9BQVy4uz2FDRMGbo\nsy5KLQ+e3dmADFxSGHxbDldvH86WlrhPdrxhoaf774bKsd2veqMR5/HjuPv6IiaPyy2zvqKRVTOn\nYJgafJK0L/AgnldUGpXArUsKeMdygqbO0feeVDod2sLIt1vZYT1Ja7/MncsDa+dxNvGYPxgF1Hi6\n+aaO8BmTMWccySz+AFgKzAb+CeiAfwGrghJZwW/uXF7If2/Yx7bqdlaPkgGvzsxEnZ4e0cgzh8vN\n+opGLinJJjspeEvc15Ik3l/W9EQt186bzksfNfOda+eQqBu5Jt7wXLbEeedFRB5fEMW3rw3NvWWr\ntaJKS0M9dWqYJIsMd60o4tEtNTyzs55vXTV6STG90RRx1+szuxpI1sLV5wWfeya73dhra0lesSKM\nko0LjtetK/WrSvpI+OO/+QRwA9AHIFqkZiLf5kMBuHbedKam6Hhie92ox/na0kfS/fHm4RO09ti4\n5/zQemb6Vn36ON3MH87tywr96v471MQvgvk8T38YWhCFD3uNJ+IvXvcHfRRmJXGZOZf1uxqxOUdv\no6IzFke03cqJ7kHeONjChXkaErTBF/F1NB9HHhyMeyMtAoT8sPmjqOzeflQygK/br0Lk0WvU3Lm8\niLctrTScHH0Vo49wy4OndtSTn5HIxSWhRerZrLWg0XhalMQ5K4r96/6rKywEtTpiK9r6k328bTnB\n7csKQ9obBM+KarxEnN17wQxO9tl59cAYhoLRFNF2K09/WI9Llrl8RmjdjYZ6gI0DIy3MXB7qBfx5\n6jdKZvGvQIZkFj8LvAX8LdSBFfzjrhUzUAsCT+6oG/U4ndGE69QpnB3+V5/2l+rWXnZYT3LXyqKg\napsNx26tQVdUhKCNdEuz0BEEgbXLPN1/R0tAFXQ6dEVFEdsjfGJ7PWpB4FPnG0K6jqu7G1db+7jJ\n4VllmooxO5knto9ex9K3QomEoWZzunh6ZwOXm3PISQrRSPC6J8eLoRAu6taVhhx8509lil8BzwOb\ngBLg+6JF+kOoAyv4x7T0BK4+bxobKxvpt49cWsa3OR6JtvT/+KAWnUYVUu6UD5t1fG0m37akEJ1a\nxeMf1I16nM5ojEguVa/NyXOVjVw7bzq5aaFFio23HB6VSuCelTPY29jJgWNdIx435HqNgKJ6Zd9x\nTvbZue+C0J9Zu7UWdUZG1FuSTAT8NREOAFuBLd4/K0SR+y4w0D3o5MWPRk5A9UX+2cK8qdzea2PT\n7mPcsrgg4AZxZyM7HNjr68dV+ZjsVD03Lcrjud2NdPSN3EpFbzRir69HdoxdzSIQnq9spMfm5P4L\nQ58ofYp0vPRBArhlSQFJOjX/+GBkI0CdloY6O/ztVmRZ5vHtdczMSWHVzMCr1J+NzVoTt4nW8Y4/\nJZQ+gydB62Y8fUU+bBXJogAAIABJREFUlMzi/ZEWTOE0S2Zkcl5+Gv/8oG7Eqt7avDwEvT7sdc+e\n2lGPzenmgTBMlPbGY+B0jqsVFcBnVhsZdLj514cju6B0JiM4nZ5/Y5hwu2We2FHPoqIMFhZmjH3C\nGNitNQhaLdqC4Go0xoK0BC13LCvi3/uaRw1Vj0S338r6Dg40dXHvBYawBJ/YrbVxnRYQz/izovoW\nsEi0SPeJFuleYAnwUGTFUhiOIAh8drWR6tZe3pROnPuYCFSSHnS4eOrDetaIOczMCT7J0cd4ivgb\nTkluKpfMzuaJHXUMOs4dWXa622/4VrT/OXyC2vY+Pr0qPJObzVqLzjADQRN8Hlws+Mxqz7//71tH\nfrZ13mCicLZb+fO71UxJ1nFrkMWXh+Ps6MB16lTc5w/GK/4oqpNAz7C/93i/U4gipfOmU5SVxJ/f\nqxnxZQx3JelNe45xqs/OZ1eHx1Xkcz3FS/v5QHhwtZH2XjsvjVD/L9xV1GVZ5k/vVmOYksS1IeTu\nDMfTB2n8uP185GUkcsPCPNbvGtn9OtRupb09LGMeau7i3SNtfHqVYdQcOn/x7R0rK6rg8EdRVeNp\nP/9Db/Lvh8BRySx+XTKLI5bFUAgvGrWKz11sZF9jJztqzm0n6ExGHE1NuAf9a6U+Gg6Xm0e3WJlf\nkM7y4sCbI54Le00Nmpwc1Cmhr86izfmmKZyXn8Yj79XgPEexVHVKCprc3LC5n7ZUtXOgqYsvXGJC\now69wZ5st2NvbBx3blcfn7/YxIDDxZM7zu1+PR35F56AlkfeqyFFr+GeECMtfYy3QJZ4w583oAbY\njDePCngJqCWA8hcK4eGWxQVkp+r503vV5/x9qJJ0GCL/XtzTRP3Jfr56+aywJYd6qnaPzxdVEAS+\nctks6k72s3lv8zmP8XX7DQd/fKeKvPQEPrEoPPtJ9oYGcLnGndvVR0luKpebc3h8ey29to9Hv+rD\nWEasrr2PVw8c566VRaQnhieNwlZj9bafzwvL9SYbYzqrRYv0o2gIojA2CVo1D6428tNXJXbUnOR8\n05mRSD7/t80aWiVpu9PN79+pYkFBOpeZw9OKQ5Zl7DU1pN94Y1iuFwuumJPLeflp/P7tKm5cmIf2\nrJWO3miia/NmZFkOSbnvqDlJRV0HP7x+TsgJvj58Lsnx6Prz8ZXLZ3Hjnz7gsa21fHXNrDN+0+Tm\nogpTu5XfvnUUnUbFA2HaGwSv29VgQFCH7kacjPgT9ZctmcVfSmbxVcksvuP7REM4hY9zz/kzmJ6e\nwLrXLR/bq9IZZngqSYe4T/L87mMc6xjga1eUhG015Wxtw93XN25XVOBZVf33mhIaTvXzwp6PR/fp\njMW4+/pwtrYGPYYsy/z8dQvT0hK4I8QCqMMZqopQbAjbNaPNgsIMrpqby9+2Wjl11l6VIAjojMaQ\na/5Jx7t5aV8z911QTE6IeWvDsVmt4ybROh7xx1x7GrAAxcCPgDqgIoIyKYxCglbN19bMYl9jJ28c\najnjN5Vej7YgtErS/XYnf3inikVFGVxSMnIh3EAZivgb5z76y8w5LChI53dvVTFgPzMCcMj9FMJk\n+frBFvY2dvL1K0pCqit3Njarp/28Knl8V0D75pWz6bc7eeQc7u9wlBH71RtHSNFr+MLF4XOR+trP\nj+fVbKzxR1FNES3SY4BDtEjvixbpfuCyCMulMAq3LC7AlJ3ML9448rEuqHpjaPkkf3nfyvGuQb59\nrRjWwqVn9EEaxwiCwMPXijR3DfLoljPv8/Aq6sHgcLn55RtHKMlN4ZYl4c11stdYx72RADArN5VP\nLCrgiR31NJ46s/6lrtiIs6UFV29w7Va217TztqWVz19sIj0pfCW+fO3nx2sgSzzgj6Lypdofl8xi\nqWQWFwHhCQNTCAqNWkXZNSLWtj7+eVbGvs5kDLqS9LGOfv76fg3XL8hjmSG8/4tPt58P3yotVqw0\nTqF03nQeeb+a5mFJqJrsbFQpKUFv6P99ay3W9j7KrjGHXFNxOLIse/sgjX9FBfCNK0vQqAR+9O/D\nZ3zvcysHE0xkd7r5/kuHKMxKDEty+xnXtk7aYrRhwx9F9RPJLKYD3wC+Cfwd+O+ISqUwJmvEHNaI\nOfzmzSqOdZy2LPVGE7LdHnAlaVmW+Z9/H0YQ4OFrRu//Ewy2Wis6kynu20v4S9k1ZmQZfvzK4aG9\nQk+7FWNQuVSNp/r53dtHuXJOLpeZQ2vlcTbOlpa4bz8fCHkZiXxtzSzekk7w5uHTCfChtFv55we1\nVLf28sPr54bV5QreQBZBQDcjtBY5kxl/itK+4u32e1C0SJeKFmmJaJFejoZwCiMjCAI/vGEuAN9/\n6dDQZBlsJemX9zXzn8Mn+NqaEvIyEsMrLGCvrkE/DhN9R6IwK4mvrpnFawdb+Pf+020oginlI8sy\n3918EPWw/6fhxFbtrdo9gSz6T68qpiQ3hR++fIjuQY/TR1dYCBpNwIZCbXsfv32rijViDpeL4TUS\nAGzV1WgLClAlhv+9miyMGJ4umcXvj3KeLFqkH0dAHoUAKMhM4ptXzebHrxzm6Z0N3L1yxpmVpC+9\n1K/rnOge5AcvH2JRUUbYqlAMx9XVhbOtDX3JrLEPHkc8uNrIfw6d4HubD7KyOIuctAR0JiNdmzfj\n6ulBnepfmuGTO+p5/2gbP7h+TkSMBFu1J/BAP2vi3H+tWsXPb5nPrX/ZwXdfPMjv7liIoNUG3G7F\n4XLztQ170WlU/PimyHRntlVXTah7HwtGW1H1neMD8ABKrb+44dMXGLioJJsfv3IY6Xh3wJWk7U43\nX/jXbuxON7+6bUFY90Z8DE2UM2eG/dqxRKNW8X9rF2Bzuvjysx9hd7oDbjlxsKmLn74qcZk5h/su\nMERETltVFeqpUydce4lFRZl87fJZvLyvmY2VnuaWnqRr//eofvnGEfY1dvK/n5jH9PTwGwmy3Y69\nrn7CPfvRZkRFJVqk//N9gEeBRODTwHogJLPbm5dlkczifsksviiZxYxhvz0smcVqySwekcziVaGM\nMxlQqQT+77YFZCRpuf/xClq6Bv12P8myzPdfOsiehk5+eesCTNmRKW1kq6oCJp6iAjBlp/DzW+az\nq/YUP/z3IbQGA+Bfzb/mzgEeeKKCKck6fnnr/Ijt39mqqyfkvQf44qUzuXDmVL67+SA7ak6iN5r8\nbreysaKRR7dYuWflDErnT4+IfPb6enA60c+amPc/Woy6RyWZxSzJLP4E2I/HTbhYtEgPiRYp+IxG\nD28C54kWaT5wFHjYO94c4A5gLnA18GfJLCqp3GOQnarnH/cto3vg/7d37uFRVefC/63MZGYySUi4\nQwAJSJIZuWgCBURaRURpEfHS7+hpK1K/Htue3qyep4dqrfYqPbbVr0dPra16bK234ymVNvYcrWDL\n1QsJQsJMSIBwCXcigSRzyWTW98feE8aQSUiy955hZv2eZx4me6/9rpc1e+93rXet9b4dLH/mHU5P\nLuszkrSUkh/82cdL7x3gKwsuNu1BBQjVN5DldmNP0/Axyy4bx5evupgX3tnPI7XtyOzsPt1Px04H\nueOZd2kPdfLs5z/G8EHm+kqEjEYJp7GhsmUJnvhsBROH53LX795n58jzS7dSuf0w963ewfwpI/ju\n0ktM0y+dO2lWktBQ+TzeR9A29p4Bpnv9voe8fp8hec69ft8bXr8vFrBrCxDbNLIMeMnr94W8ft9e\ntIC4s42oM92ZWlTAr5fP4uCHAe7qnMZuchNGkg6EO7nnlQ94ZuNePn9FMf9ybZmpuoUaGnCUTEmb\nFX898a3rylgxr5inN+7jsXl30LInce6qmqYWbnlyE02nAjy1fBaeMUNM06vj0GGi7e1pPUdSkJPN\nc3fOZmSeky/5s1lfNCNhR0FKyVN/383XXqzisgmF/PJzFeeEwjKSUEMDZGWlzdaAZNHbL3QvUAR8\nBzjk83hP658zPo/3tIE63An8Rf8+DjgQd+6gfkxxHsybMoKX77qcjiw7X7/qG/xozQ4Ot5zd5xPs\n6OSP1U0sevRv/HFbE/cuKuW7119iugEJ1denfY9SCMGDSy/hGwtLeLOwjDucc/ljddNH8lcdOhXg\nR5U7uek/NhKORHnxn+aeE6/RaEINeo8+zV1P4wpzeOVLl1M2Oo8fz17O3ZtOUdPU0uVViEYlm3af\n4NZfbeHHr/u59pIxPHfnbPJdxm3s7YlQfQOOiy4iy2nOiDlTSLjqz+v3Daqb4fN4/wr0lEjnfq/f\n95pe5n4gghamqV8IIe4C7gJwOByD0DS9mD6+gMoVM7jv/qd5Lmsmzz68lvFDc3Bl29jf3E44EqV0\ndB4v/tNc5k429yUJEGluprO5Oa179DGEEHxzUSml1W/zb4027n55G87/zmK4UyK2rKXpVIAsATeV\nj+c7S7wMzTX/vg2n6UKWnhiR5+TVr8znB8vv59Xxc3nr3zcwIs/BsFwHh1uCnAlGGJ7r4OGbp3Pb\nxyZYMsIPNTSkbSeheGXl/wEeArzA7MZVS943qy7TUn16/b5rejvv83hXANcDC71+X2wypQmYEFds\nvH7sHKSUT6Et8iA3N9e4tJ5pwKjicXzLv4Yve9xsvfJmag+dJhyJsqBsJFeWjmLexcPJMmF1X0+E\n6mMvyvQ3VDHme8cy8Zl/5fiTL7Ch1cG2+v1MGDuU5WMnsnjaGCYOty7eXqi+Hvvo0diGmOdeTCWy\nbVl8wXmUmxtfxX/vj9i670NaAh3MnjSMjxUPY9Elo3E7rMlwHA2FCO/bR/7itF0TVgPcDPzK7IqS\nkpPa5/EuBr4FXOn1++IDdq0BXvB5vD9HczuWAO8mQcULmlgk6VGNfr743eRu8uyaTE7TXmVPOCZP\nxoZkZvAoC66/jrffPsZVV5UnRZdQffoupEiEY/LF5Kxeza0fm2BoBPr+Et67F6LRtG3/xlVLfADF\nKytNr8u8WcTeeRwt6eKbPo93m8/jfRLA6/fVAq8AO4H/Ab7i9fv6H7ROYUgkaSMINdSTNWQI9lHG\n5LW6EIhF4BhIKB8jkZ2dWnqJNH1RJsKIdCtG0OVNyAC3t9kkZUTl9fsSPjlev+9HwI8sVCctcUy+\nmJbX1tDZ2oYtL3mpHWJ7eNJ5xV93tKX4YwcU889IOg4eRAaDaRcRpC+ck8+mW8kebXxIpPMlVF8P\ndjtOfW9dimIXQsTPLT2lT6sAULyyMuFag8ZVS14zXTudpBgqhfnEYv6F9+4lZ7o5oWH6QkpJqL6B\nIYsXJ6X+ZOKcfPGg0q0YQbpGBOmLWILC0J695M6blzQ9Qg0NOCZORKT2Yq+IlHJWopONq5b0utbA\nKpLl+lOYzNlQPoPLeDoYIsePE21pybgXJeihfPbuRUajfRc2iZjryXFxZrW/bcQIsvLzk3rvQ3pH\nBLEaZajSlIFGkjaSrqXRGbSQIoartBQZCNCxf3/SdAjV15NdVJRU128yEELgnDKF4K5dSdMhGgjQ\nceBAWhuq4pWVNxWvrDwIXA5UFq+s/F+z6lKuvzRFZGfjKJ7YteouGZxd8ZdZcyQAzjItp1ewbhc4\nk+P6iUUEyUScnjJO/7kSKWVS5kdDu/eAlGl97zeuWrIaWG1FXWpElca4yjwE6/xJqz9YX49t6FDs\nw83fWJxqOEumQFYWoSS1v+zoILxnD640flH2hqvMQ/TMGTqaDiWl/lBdHUDGLWQxC2Wo0hiX10Pk\n0GE6W1qSUn/IX4fTY24cwVQly+XCUVxM0F+XlPpDe/YiOzq6RnaZhku/75LVUQjW+REul8rqaxDK\nUKUxXe6nJLwsZSRCqL4eV4a+KEF7WcZ61lYT8vs0HbyZ2f7O0lIQgqA/OYYq5K/DWVqKsKnkD0ag\nDFUak8xeZbixERkKZeyLErSOQkdTEyIQ6LuwwQT9dQiHA0dq7+ExjSy3G8dFFxGqs35BhZSSYF0d\nrrLM9CaYgTJUaYx95Ehsw4cnZUQVq9PpyVxDFeso2A/2nhvJDEJ1fpwlJQh75q6XcpaVJWWONnLk\niLYtI4M7aUajDFWa4/J4COpuICsJ+X2I7OyucEKZiFPvUdubeoyrbBpSSoIZPD8Yw+kpo2P/AaJt\nbZbWG/RpxtGVwZ00o1GGKs1xesoI1zecV2puIwn663BMmZLqu/JNxT56NLaCAuwHrTVUkWPH6Wxu\nxuXxWlpvquHyeEBKy/dTxVztztLM7igYiTJUaY7L40F2dBDau9fSeoN+f8b3KIUQOD0esi12/cVe\nlK4MH1HF5oisXtAS9NeRPWFCxm20NhNlqNIcZxIe1sjx43SeOJHxL0rQjIW9qQnZaV0SgK75wQyf\nzLcXFZE1ZIjlK/9CqpNmOMpQpTnOSZMQDkeX39wKzr4o1cPqLC1DdHQQtjCUUsjv00InZUiyxEQI\nIXCVlhKycDFRtL2d8P79GT8/aDTKUKU5Ijsb55QphCzsVSrX01mcHutHtEF/HU5vZs9PxXCWlRHc\ntcuy4MChXbtASjWiMhhlqDIAp8dD0O9HSmlJfUF/HfaxY7EVFlpSXyrjLClB2mwEa3daUl80ECDc\n2Kj28Oi4vB5kezvhffssqS/o01bYKm+CsShDlQG4PB46m5sty3garK3FpXr0AGQ5HETGFRGsrbGk\nvqDfD9EorqmXWFJfquOapuViC9bUWlJfoLYWW2Eh2eOKLKkvU1CGKgPoelh37DC9rs7W1qQma0xF\nOiZOJFBTa8mINrhDM4iuadNNr+tCwDllCsLpJFhjUUehphbXtGkZldHaCpShygBcXg/YbAR2mP+w\nxnquMeOogMjEiURPn7YkN1Wwtgb7yJFkjx5lel0XAsJux+X1ErDAUEWDQS2+5bSppteVaShDlQFk\n5eTgLCmxZEQVc3EpQ3WWDj2CthUvy4Deo1ecxTVtGsGdO03fIhDy+6GzkxzV/oajDFWGkDN9GoFa\n891PgZoasseNwz50qKn1XEhEiop095O58ySdrW1aDirVo/8IOdOnIQMBwnvMzXYdUN4E01CGKkNw\nTZ9OtKXFdPdTcEeNelC7Y7NpMRdNHtGGfDtBSnKmq/mpeGL3o9mu72BNDbYRI7CPHm1qPZmIMlQZ\nQuzlZebDGvnwQzoOHlQLKXrACvdT7Ld1TVUjqngcxcVkud2mL6gI1taQoxZSmIIyVBlC1+onE3v1\nsb1CakR1Lq5p07SoBY2NptURrKnBXjQW+/DhptVxISJsNlxTpxIwcYtAtK2N0O496t43CWWoMgSR\nnW366qdgjWYEVY/+XHL0eSMze/WBmhpypqoXZU+4pk0j5PMjw2FT5Ad37lT710xEGaoMwjV9uuZ+\nikRMkR+o3oZj8mRs+fmmyL+QcUyeTJbbTeCD7abIj5w4Qcf+/eRcdqkp8i90XNOmIsNhgrvqTZHf\nXr0NgJzLLjNFfqajDFUGEVv9FNq923DZMhqlfds2cirKDZedDgibDdelM2ivrjZFfmCb/qIsrzBF\n/oWOWzcgAbPav6oKx+TJarWrSShDlUHklGtGpH3rVsNlh/fsIdrSglu9KBPiLq8gVFdHZ2ur4bLb\nq6o1965amt4j9qIi7GPGEKiuMly2lJJAdTU55Wo0ZRbKUGUQ2ePHYx81isBW4x/W9ipNphpRJSZn\nZgVEowS2fWC47EBVFa5p08jK4IzKvSGEwF1RQfvWKsP3Eob37qWzpQV3heqkmYUyVBmEEIKcmRW0\nb91q+MMaqKrGNmwYjuJiQ+WmEzmXXgZZWQSqjO0oREMhgrW1qpPQBzkzK4gcPUrk0CFD5cZ+z5jH\nQmE8ylBlGO6Zs4gcOWL4w9peXUVOebnaQ9ILtrxcnJ6yrtGnUQRrapAdHapH3wex9jG6/durq7EV\nFOCYNMlQuYqzJNVQ+Tzee30er/R5vCP0v4XP4/2Fz+Nt8Hm8230er3ryDMY9ayZg7DxV5MQJOvbt\nx6169H3iLq8gsH27oSsvYwsEVI++d5ylpWTl5ho+RxuoqladNJNJmqHyebwTgGuB+Jg+nwRK9M9d\nwC+ToFpa4ywpISsvj3YD56nau16Uql/RFzkV5cj2doIGpkdv31qFY+JE7MOGGSYzHRE2Gznl5QSq\njFv5F2lu1tLaqNGsqSRzRPUo8C0gfrJkGfBbr98nvX7fFqDQ5/GOTYp2aYqw2cipKKd96/uGyWzf\n8g4iJ0etODsP3DP1Ee277xoiT0YitL/3Hu45cwyRl+64Z1YQqq+n89QpQ+S1b9kCQO6c2YbIU/RM\nUgyVz+NdBjR5/b7uy5/GAQfi/j6oH1MYiHvmLMINu4mcPGmIvLYtW3DPmqVWnJ0H2WPG4Jg0ibYt\nmw2RF6ypIdraSu7lcw2Rl+6458wFKWnb8o4h8to2byErL09FYzEZu1mCfR7vX4ExPZy6H7gPze03\nYIQQd6G5B3GoF2S/yJ03j+OPPkrbps0ULL1+ULI6jh4lvHs3hTffbJB26U/u5ZdzavVqouHwoI17\nm96jVyOq8yNnxnSy8vJo27yZIYuvG7S8ti1bcM+ejbCb9ipVYKKh8vp91/R03OfxTgcmAR/4PF6A\n8UCVz+OdDTQBE+KKj9ePnYOU8ingKYDc3Fzzc3ynEa5LvNgKC2nbuHHQhqrL9THvciNUywhyr5jH\nhy+8QGDbNnJnD85l1LZ5C06vV81PnSfCbsc9Zw5tmzYNWlb4YBMdBw4w7PbbDdBM0RuWu/68ft8O\nr983yuv3FXv9vmI0916F1+87AqwBluur/+YCLV6/77DVOqY7wmYjd97ltG3cOOj9VG2bNmMbOhRn\nWZlB2qU/7tmzwWajbfPg3H/RQIBAVRW5c5Xbrz/kXn45HQcOED5woO/CvdCuu2+V29V8Um0f1evA\nHqAB+DXwz8lVJ33JveIKIsePE6ofeJBOGY3Stnkz7jlzEFmpdiulLrb8fHKmTx90r779/feRHR1q\nNNtPcufNA7RO1mBo3bAR+8iROKZMMUItRS8k3bGqj6pi3yXwleRpkzl0PawbNuIqLR2QjGDtTiLH\njpF31ZVGqpYR5M6fz4knniBy8uSA80edWbsW4XZrIzTFeeOYVEx2URGtf/sbQ2/9hwHJiIbDtK1f\nz5AlSzJ2/1TxyspHgKVAGNgNfL5x1RJjllN2Q3WDM5TssWNxlpVxZu1bA5ZxZu1bYLORd6UyVP0l\n/5qFICWt69YN6HopJa1r15F3xRVkOZ0Ga5feCCHIW7iQto0biba3D0hG+7vvEW1rI+/qBQZrd0Hx\nJjCtcdWSGcAu4NtmVaQMVQaTv2gRga1VRI4fH9D1rW+txV1RoVIbDABnWRnZ48Zx5q8D6ygEa3cS\nOXqUvKuvNlizzCB/4UJkKETrhg0Dur517VpETk5Gzw82rlryRuOqJbEQK1vQFr+ZgjJUGUz+tYtA\nSs68tbbf14YPHiS0axd5C9WLciAIIci/ZiFtmzYRbWvr9/Wta9+CrCzldh0g7lkzsRUU0PpW/zsK\nUkrOrFtH7hXzyHK5TNDuguRO4C9mCU/6HJUieThLSnBMnMiZN95g6G239uvaM2+8CUC+6tEPmLyF\nC2l+7re0rl/PkMWLz/s6KSWn//cNNZodBMJuJ2/BAs6sXYvs6EBkZ5/3tcHt24kcPkz+175mooaW\nYRdCxIepeUrf+gNA8crKhPthG1cteU0vcz8QAX5vmpJmCVakPkII8q9dxMlnniXS3NyvvTgta9bg\nmjEDx0UXmahheuOuqMA2cgQta/7UL0MVrN1JePduhn3veyZql/7kX3ctLX/8I63r1/erw9Xy2hqE\n06l5JC58IlLKWYlONq5a0uN+2BjFKytXANcDCxtXLTFtP6ty/WU4Q5Yuhc5OWtasOe9r7AcPEvL7\nKVh2g4mapT/Cbqfghhto/fvf+xXOqmXNa4jsbEMiK2QyefPnYxsxgpbVq8/7GhkOc/r118lfeDW2\nvDwTtUt9ildWLkaL13pD46olA1uVcp4oQ5XhuEpLybn0Uk69+up5b/51bd4C2dkM+dSnTNYu/Sm8\n8UaIRGj505/Oq3w0HOb0nyvJW7AAW0GBydqlNyI7m4KlSzmz7m0izc3ndc2Zt9+m89QphtygOmnA\n40A+8GbxysptxSsrnzSrIuX6U1Dw6Vs48sB3CVRX95l8r7O1jZxNm8i/ZqGaHzEAZ0kJrktncOrF\nlxh2++0Im63X8qcrX6ezuZnCfxjY/h/FRym85Waan32WU6/8FyO+9MU+y3/4u+fJLioib/58C7RL\nbRpXLbFsp7MaUSkoWLIEW2EhJ3/9mz7LtvzhD2QFAgz//Oct0CwzGL5iBeF9+ziztvfVl1JKmp97\nDmfJFHKvmGeRdumNc8oUcufPp/n554mGQr2Wte8/QPt77zH0c59TQWgtRhkqBVluN0OX307runUE\n6xIn9IuGQpz8z2cJT55MzowZFmqY3uQvWkT2+PGc/PVvenW/tq1fT8jvZ+jy5RkbDcEMhn/h/9J5\n4kSfc1W5f/kLWW43hZ++xSLNFDGUoVIAMOyznyUrL49jj/w04cvyw+d/T+TQYdoGGXFd8VGE3c6I\nL3+J4PbtnE4wVyUjEY799GdkX3QRhcuWWaxheuOeM4ecigqO/+Lf6Wxp6bFMe3U1rupqht15J7Yh\nQyzWUKEMlQIAW0EBI7/+ddo2bOD0nyvPOR/et4/jTzxB7pWfIOz1JkHD9KbgpptwTZ/OsUd+SuTD\nD885f/I3TxPatYtR996LUPnXDEUIwZgHvkPnqVMc+/mj55yPhkIcfuABOgsKGLZihfUKKpShUpxl\n6Gf+kZzycg4/+CCBHTu6jneeOsXBr30dYbczVu3dMQWRlcWYhx6k89Qpmu7+JtFAoOvcmXXrOP74\n4+R/cjFDrhtUvlFFAlxeL8NWrODUyy/z4cuvdB2XnZ0cvu9+wg27OX3757Dl5SZRy8xFzQgquhB2\nO+Mee4x9n/kM+5bfwbA7lmMfOZLmp58hcuIEE578JdljxoDfn2xV05KcqVMZ84Pvc/jb99F4620M\n/cxnCO/dS/OehH2DAAAJ20lEQVTzz+PyeBj7gx8kW8W0ZtQ93yS0axdHHnyQwLZtuGfN5NTq1QTe\n38rIe+7haGlJslXMWJShUnyE7NGjmPjiCxz53vc5+eSvAHCWTOGin/0n7vLyJGuX/hTeeCO2ggKO\nPryKIw89BDYbBUuXMvq+b2f8BlOzEXY7E/7jCY79/FE+fPFFWlavxjZ0KGMffpjCm26Et99OtooZ\nizJUinPIHjWKCU88TqS5GRkIYC8qUqvMLCR/wQLyPvEJOg4fxjZkiJq8txDhcDB65b8y8mtfJXLy\nJNljx/YrDqDCHJShUiSkP7H/FMYibDYc403LmqDog6zcXBy5aj4qVVCLKRQKhUKR0ihDpVAoFIqU\nRhkqhUKhUKQ0ylApFAqFIqVRhkqhUCgUKY0yVAqFQqFIaZShUigUCkVKI843q2sqI4SIAoE+C/aM\nHYgYqI5RpKpekLq6Kb36h9Krf6SjXjlSypQfsKSFoRoMQoj3pZSzkq1Hd1JVL0hd3ZRe/UPp1T+U\nXskj5S2pQqFQKDIbZagUCoVCkdIoQwVPJVuBBKSqXpC6uim9+ofSq38ovZJExs9RKRQKhSK1USMq\nhUKhUKQ0ylApFAqFIqVJC0MlhFgshKgTQjQIIVb2cN4phHhZP/+OEKI47ty39eN1Qojr+pIphJik\ny2jQZTqs0ksIMUEIsU4IsVMIUSuE+EZc+YeEEE1CiG3651MWt1ejEGKHXvf7cceHCSHeFELU6/8O\ntbC9yuLaY5sQ4rQQ4m6r2ksIMVz/vVqFEI93u2am3l4NQohfCD0zpRXtlUgvIYRbCFEphPDr99eq\nuHMrhBDH49rrCxa319u6zFj9o3qTZVF75Xe7v04IIR6zsL0WCSG26vfRViHE1XHXDPr+SimklBf0\nB7ABu4HJgAP4ALikW5l/Bp7Uv98GvKx/v0Qv7wQm6XJsvckEXgFu078/CXzZQr3GAhV6mXxgV5xe\nDwH/koz20s81AiN6qO/fgJX695XAT6zUq5v8I8BEC9srF5gPfAl4vNs17wJzAQH8Bfikhe3Vo16A\nG1igf3cA6+P0WtH9/2Bxe70NzOqhvh5lWaVXt+u3Ap+wsL3KgSL9+zSgyaj7K9U+6TCimg00SCn3\nSCnDwEvAsm5llgHP6d9fBRbqPYxlwEtSypCUci/QoMvrUaZ+zdW6DHSZN1qll5TysJSyCkBKeQbw\nAePOs51M06uP+uJlWdpe3a5dCOyWUu7rQ1/D9JJStkkpNwDB+MJCiLHAECnlFqm9MX7L2XYxvb0S\n6SWlbJdSrtO/h4EqoL9phg3Xqw8S3ROW6iWEKAVGoRn3/jAYvaqllIf047VAjj76MuL+SinSwVCN\nAw7E/X2Qc1/eXWWklBGgBRjey7WJjg8HTukyEtVlpl5d6MP/cuCduMNfFUJsF0I808uQ3iy9JPCG\n7oK4K67MaCnlYf37EWC0xXrFuA14sdsxs9srEeN0OT3JtKK9+kQIUQgsBd6KO3yL3l6vCiEmJEGv\nZ3U32gNxxuh8ZZnaXpwd6cQvo7ayvW4BqqSUIYy5v1KKdDBUGYcQIg/4b+BuKeVp/fAvgYuBy4DD\nwM8sVmu+lLIC+CTwFSHEJ7oX0B9iy/dDCG0e8Qbgv+IOJ7u9+iSJ7WVHM+q/kFLu0Q//CSiWUs4A\n3uRsr9wqPiulnA58XP/cbnH9fdG9I2RZewkhpgI/Ab7Yn+uSdX8NhHQwVE1AfG9lvH6sxzL6Q1gA\nnOzl2kTHTwKFuoxEdZmpF0KIbDQj9Xsp5R9iBaSUR6WUnVLKKPBrErvkTNFLShn79xiwOq7+o7or\nIubyOmalXjqfROttHo0dsKi9EtHER11q8TKtaK++eAqol1I+FjsgpTyp99YBfgPMtFKvuPvrDPAC\nZ3+v85VlWnsJIS4F7FLKrXH6WtJeQojxaM/bcinl7rjyg72/Uop0MFTvASVCW43nQOvZrOlWZg1w\nh/7908BavTexBrhN9+tOAkrQJiF7lKlfs06XgS7zNav00t0dTwM+KeXP4wXFbj6dm4AaC/XKFULk\n63rkAtfG1R8vy9L2irvuH+nm9rOovXpEd72cFkLM1X/T5ZxtFyvaKyFCiB+ivQjv7nY8vr1uQJsf\ntUQvIYRdCDFC/54NXE/P91dvskxpL52+7i9T2kt3z1aiLY7YGCts0P2VWshBrsZIhQ/wKbQVcLuB\n+/Vj3wdu0L+70Nw+DWgvsMlx196vX1eHvjImkUz9+GRdRoMu02mVXmgrjySwHdimfz6ln/sdsEM/\ntwYYa6Fek9FWK32ANqkb317D0eY56oG/AsMs/h1z0XqfBd3qsqq9GoFmoBVtriC2SnMW2st2N/A4\nZ6PEWNVe5+iF1vOWaC/V2P31Bb38w/pv+wFaZ81joV65aCvqtus6/D/OrjZNKMuK31E/t6d7e1jR\nXsB3gLa432obMMqo+yuVPiqEkkKhUChSmnRw/SkUCoUijVGGSqFQKBQpjTJUCoVCoUhplKFSKBQK\nRUqjDJVCoVAoUhp730UUisxGCLEI+BhQCnxHSnmwj0sUCoWBKEOlUPSBlPJNIcQ4YIsyUgqF9SjX\nn0LRC0KIMUKIl4AHgEeEEK/rkbIHK/exnuIhxp3/qhDizsHWo1CkA2rDr0KRAD38zCbgOSnlk/qx\nS9FSKPQ3nUO83OFApZRybi9l3MBGKWX5QOtRKNIFNaJSKBKzAOiIGSkAKeUHUsr1Qog8IcRbQogq\noWVSXQZarEOhZcn9QAhRI4S4tQe5twD/E/tDCLFKaFmbtwshfqrX0w40CiH6yvelUKQ9ao5KoUjM\nNLQYcz0RBG6SUp7WA6ZuEUKsARYDh6SUSwCEEAU9XHsFevJNfXR1E1osuFig0Rjvo6W0ePdcEQpF\n5qBGVArFwBDAj4UQ29GCe45DS0K3A1gkhPiJEOLjUsqWHq4dCxzXv7egGb2nhRA3A+1x5Y4BRWb9\nBxSKCwVlqBSKxNSSOI/QZ4GRwEwp5WXAUcAlpdwFVKAZrB8KIb7bw7UBtIjYSC1j62y0Edb1xLkE\n9TIBA/4fCsUFjTJUCkVi1gJOIcRdsQNCiBlCiI+j5Ww6JqXsEEIsACbq54uAdinl88AjaEarOz5g\nil4+Dy0FyevAN4FL48qVkjhPlkKRMShDpVAkQGpLYm8CrhFC7BZC1KLlGToC/B6YJYTYgZaYzq9f\nNh0tmeQ24EHghz2IrgSu0r/nA3/WXYgbgHviyl2BlsZcocho1PJ0hSIJCCE2ANdLKU8lOF8O3COl\nvN1azRSK1EMZKoUiCQgh5gABKeX2BOcXAfVSykZLFVMoUhBlqBQKhUKR0qg5KoVCoVCkNMpQKRQK\nhSKlUYZKoVAoFCmNMlQKhUKhSGmUoVIoFApFSvP/AaOUWiOxU9OdAAAAAElFTkSuQmCC\n",
                "text/plain": "<Figure size 432x288 with 2 Axes>"
              }
            ],
            "_view_module": "@jupyter-widgets/output",
            "_model_module_version": "1.0.0",
            "_view_count": null,
            "_view_module_version": "1.0.0",
            "layout": "IPY_MODEL_ff6aa714d0214021835caa6e6ac55bd3",
            "_model_module": "@jupyter-widgets/output"
          }
        },
        "35bfa863e6c94cbb8e46aec2d774e4f0": {
          "model_module": "@jupyter-widgets/controls",
          "model_name": "SliderStyleModel",
          "state": {
            "_view_name": "StyleView",
            "handle_color": null,
            "_model_name": "SliderStyleModel",
            "description_width": "",
            "_view_module": "@jupyter-widgets/base",
            "_model_module_version": "1.5.0",
            "_view_count": null,
            "_view_module_version": "1.2.0",
            "_model_module": "@jupyter-widgets/controls"
          }
        },
        "afb13967dbd24c91b82f65bbc98727aa": {
          "model_module": "@jupyter-widgets/base",
          "model_name": "LayoutModel",
          "state": {
            "_view_name": "LayoutView",
            "grid_template_rows": null,
            "right": null,
            "justify_content": null,
            "_view_module": "@jupyter-widgets/base",
            "overflow": null,
            "_model_module_version": "1.2.0",
            "_view_count": null,
            "flex_flow": null,
            "width": null,
            "min_width": null,
            "border": null,
            "align_items": null,
            "bottom": null,
            "_model_module": "@jupyter-widgets/base",
            "top": null,
            "grid_column": null,
            "overflow_y": null,
            "overflow_x": null,
            "grid_auto_flow": null,
            "grid_area": null,
            "grid_template_columns": null,
            "flex": null,
            "_model_name": "LayoutModel",
            "justify_items": null,
            "grid_row": null,
            "max_height": null,
            "align_content": null,
            "visibility": null,
            "align_self": null,
            "height": null,
            "min_height": null,
            "padding": null,
            "grid_auto_rows": null,
            "grid_gap": null,
            "max_width": null,
            "order": null,
            "_view_module_version": "1.2.0",
            "grid_template_areas": null,
            "object_position": null,
            "object_fit": null,
            "grid_auto_columns": null,
            "margin": null,
            "display": null,
            "left": null
          }
        },
        "2380cfd18fc6439b941bda0326d7cee1": {
          "model_module": "@jupyter-widgets/controls",
          "model_name": "VBoxModel",
          "state": {
            "_view_name": "VBoxView",
            "_dom_classes": [
              "widget-interact"
            ],
            "_model_name": "VBoxModel",
            "_view_module": "@jupyter-widgets/controls",
            "_model_module_version": "1.5.0",
            "_view_count": null,
            "_view_module_version": "1.5.0",
            "box_style": "",
            "layout": "IPY_MODEL_72d3b217255e4386a6b03a6ee8ab0968",
            "_model_module": "@jupyter-widgets/controls",
            "children": [
              "IPY_MODEL_50b3f17a713048068182daccd7afa9f1",
              "IPY_MODEL_057482e9be684f9892a097ffeae9a2d3"
            ]
          }
        },
        "72d3b217255e4386a6b03a6ee8ab0968": {
          "model_module": "@jupyter-widgets/base",
          "model_name": "LayoutModel",
          "state": {
            "_view_name": "LayoutView",
            "grid_template_rows": null,
            "right": null,
            "justify_content": null,
            "_view_module": "@jupyter-widgets/base",
            "overflow": null,
            "_model_module_version": "1.2.0",
            "_view_count": null,
            "flex_flow": null,
            "width": null,
            "min_width": null,
            "border": null,
            "align_items": null,
            "bottom": null,
            "_model_module": "@jupyter-widgets/base",
            "top": null,
            "grid_column": null,
            "overflow_y": null,
            "overflow_x": null,
            "grid_auto_flow": null,
            "grid_area": null,
            "grid_template_columns": null,
            "flex": null,
            "_model_name": "LayoutModel",
            "justify_items": null,
            "grid_row": null,
            "max_height": null,
            "align_content": null,
            "visibility": null,
            "align_self": null,
            "height": null,
            "min_height": null,
            "padding": null,
            "grid_auto_rows": null,
            "grid_gap": null,
            "max_width": null,
            "order": null,
            "_view_module_version": "1.2.0",
            "grid_template_areas": null,
            "object_position": null,
            "object_fit": null,
            "grid_auto_columns": null,
            "margin": null,
            "display": null,
            "left": null
          }
        },
        "50b3f17a713048068182daccd7afa9f1": {
          "model_module": "@jupyter-widgets/controls",
          "model_name": "IntSliderModel",
          "state": {
            "_view_name": "IntSliderView",
            "style": "IPY_MODEL_8b9b09f6d74e400ea21c14ff38517e1b",
            "_dom_classes": [],
            "description": "omega",
            "step": 25,
            "_model_name": "IntSliderModel",
            "orientation": "horizontal",
            "max": 1500,
            "_view_module": "@jupyter-widgets/controls",
            "_model_module_version": "1.5.0",
            "value": 1000,
            "_view_count": null,
            "disabled": false,
            "_view_module_version": "1.5.0",
            "min": 500,
            "continuous_update": true,
            "readout_format": "d",
            "description_tooltip": null,
            "readout": true,
            "_model_module": "@jupyter-widgets/controls",
            "layout": "IPY_MODEL_4388205335a847ac9fce2b6972b6cf00"
          }
        },
        "057482e9be684f9892a097ffeae9a2d3": {
          "model_module": "@jupyter-widgets/output",
          "model_name": "OutputModel",
          "state": {
            "_view_name": "OutputView",
            "msg_id": "",
            "_dom_classes": [],
            "_model_name": "OutputModel",
            "outputs": [
              {
                "output_type": "display_data",
                "metadata": {
                  "tags": []
                },
                "image/png": "iVBORw0KGgoAAAANSUhEUgAAApAAAAF1CAYAAABf1Nr8AAAABHNCSVQICAgIfAhkiAAAAAlwSFlz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\ngg==\n",
                "text/plain": "<Figure size 720x432 with 2 Axes>"
              }
            ],
            "_view_module": "@jupyter-widgets/output",
            "_model_module_version": "1.0.0",
            "_view_count": null,
            "_view_module_version": "1.0.0",
            "layout": "IPY_MODEL_77a49625fd4f4674a3d60b562f2b03e5",
            "_model_module": "@jupyter-widgets/output"
          }
        },
        "8b9b09f6d74e400ea21c14ff38517e1b": {
          "model_module": "@jupyter-widgets/controls",
          "model_name": "SliderStyleModel",
          "state": {
            "_view_name": "StyleView",
            "handle_color": null,
            "_model_name": "SliderStyleModel",
            "description_width": "",
            "_view_module": "@jupyter-widgets/base",
            "_model_module_version": "1.5.0",
            "_view_count": null,
            "_view_module_version": "1.2.0",
            "_model_module": "@jupyter-widgets/controls"
          }
        },
        "4388205335a847ac9fce2b6972b6cf00": {
          "model_module": "@jupyter-widgets/base",
          "model_name": "LayoutModel",
          "state": {
            "_view_name": "LayoutView",
            "grid_template_rows": null,
            "right": null,
            "justify_content": null,
            "_view_module": "@jupyter-widgets/base",
            "overflow": null,
            "_model_module_version": "1.2.0",
            "_view_count": null,
            "flex_flow": null,
            "width": null,
            "min_width": null,
            "border": null,
            "align_items": null,
            "bottom": null,
            "_model_module": "@jupyter-widgets/base",
            "top": null,
            "grid_column": null,
            "overflow_y": null,
            "overflow_x": null,
            "grid_auto_flow": null,
            "grid_area": null,
            "grid_template_columns": null,
            "flex": null,
            "_model_name": "LayoutModel",
            "justify_items": null,
            "grid_row": null,
            "max_height": null,
            "align_content": null,
            "visibility": null,
            "align_self": null,
            "height": null,
            "min_height": null,
            "padding": null,
            "grid_auto_rows": null,
            "grid_gap": null,
            "max_width": null,
            "order": null,
            "_view_module_version": "1.2.0",
            "grid_template_areas": null,
            "object_position": null,
            "object_fit": null,
            "grid_auto_columns": null,
            "margin": null,
            "display": null,
            "left": null
          }
        },
        "c28964bf8ec749c3b180d8cb9e1a43c6": {
          "model_module": "@jupyter-widgets/controls",
          "model_name": "VBoxModel",
          "state": {
            "_view_name": "VBoxView",
            "_dom_classes": [
              "widget-interact"
            ],
            "_model_name": "VBoxModel",
            "_view_module": "@jupyter-widgets/controls",
            "_model_module_version": "1.5.0",
            "_view_count": null,
            "_view_module_version": "1.5.0",
            "box_style": "",
            "layout": "IPY_MODEL_10adc0be74f04ac0b7cda0486a02a1ea",
            "_model_module": "@jupyter-widgets/controls",
            "children": [
              "IPY_MODEL_ef281d48afc947b09838145b1eaec236",
              "IPY_MODEL_32add9493f304a0fbf51fd8b7e038c61"
            ]
          }
        },
        "10adc0be74f04ac0b7cda0486a02a1ea": {
          "model_module": "@jupyter-widgets/base",
          "model_name": "LayoutModel",
          "state": {
            "_view_name": "LayoutView",
            "grid_template_rows": null,
            "right": null,
            "justify_content": null,
            "_view_module": "@jupyter-widgets/base",
            "overflow": null,
            "_model_module_version": "1.2.0",
            "_view_count": null,
            "flex_flow": null,
            "width": null,
            "min_width": null,
            "border": null,
            "align_items": null,
            "bottom": null,
            "_model_module": "@jupyter-widgets/base",
            "top": null,
            "grid_column": null,
            "overflow_y": null,
            "overflow_x": null,
            "grid_auto_flow": null,
            "grid_area": null,
            "grid_template_columns": null,
            "flex": null,
            "_model_name": "LayoutModel",
            "justify_items": null,
            "grid_row": null,
            "max_height": null,
            "align_content": null,
            "visibility": null,
            "align_self": null,
            "height": null,
            "min_height": null,
            "padding": null,
            "grid_auto_rows": null,
            "grid_gap": null,
            "max_width": null,
            "order": null,
            "_view_module_version": "1.2.0",
            "grid_template_areas": null,
            "object_position": null,
            "object_fit": null,
            "grid_auto_columns": null,
            "margin": null,
            "display": null,
            "left": null
          }
        },
        "ef281d48afc947b09838145b1eaec236": {
          "model_module": "@jupyter-widgets/controls",
          "model_name": "FloatSliderModel",
          "state": {
            "_view_name": "FloatSliderView",
            "style": "IPY_MODEL_228f94b113674abbaa4865b989d70b80",
            "_dom_classes": [],
            "description": "omega",
            "step": 25,
            "_model_name": "FloatSliderModel",
            "orientation": "horizontal",
            "max": 950,
            "_view_module": "@jupyter-widgets/controls",
            "_model_module_version": "1.5.0",
            "value": 650,
            "_view_count": null,
            "disabled": false,
            "_view_module_version": "1.5.0",
            "min": 650,
            "continuous_update": true,
            "readout_format": ".2f",
            "description_tooltip": null,
            "readout": true,
            "_model_module": "@jupyter-widgets/controls",
            "layout": "IPY_MODEL_2a2e352af55947d6883726d799bce72c"
          }
        },
        "32add9493f304a0fbf51fd8b7e038c61": {
          "model_module": "@jupyter-widgets/output",
          "model_name": "OutputModel",
          "state": {
            "_view_name": "OutputView",
            "msg_id": "",
            "_dom_classes": [],
            "_model_name": "OutputModel",
            "outputs": [
              {
                "output_type": "stream",
                "metadata": {
                  "tags": []
                },
                "text": "UR= (6+16j)\nUL= (-77+27j)\nUC= (121-43j)\n",
                "stream": "stdout"
              },
              {
                "output_type": "pyerr",
                "metadata": {
                  "tags": []
                },
                "ename": "NameError",
                "evalue": "ignored",
                "traceback": [
                  "\u001b[0;31m---------------------------------------------------------------------------\u001b[0m",
                  "\u001b[0;31mNameError\u001b[0m                                 Traceback (most recent call last)",
                  "\u001b[0;32m/usr/local/lib/python3.6/dist-packages/ipywidgets/widgets/interaction.py\u001b[0m in \u001b[0;36mupdate\u001b[0;34m(self, *args)\u001b[0m\n\u001b[1;32m    254\u001b[0m                     \u001b[0mvalue\u001b[0m \u001b[0;34m=\u001b[0m \u001b[0mwidget\u001b[0m\u001b[0;34m.\u001b[0m\u001b[0mget_interact_value\u001b[0m\u001b[0;34m(\u001b[0m\u001b[0;34m)\u001b[0m\u001b[0;34m\u001b[0m\u001b[0;34m\u001b[0m\u001b[0m\n\u001b[1;32m    255\u001b[0m                     \u001b[0mself\u001b[0m\u001b[0;34m.\u001b[0m\u001b[0mkwargs\u001b[0m\u001b[0;34m[\u001b[0m\u001b[0mwidget\u001b[0m\u001b[0;34m.\u001b[0m\u001b[0m_kwarg\u001b[0m\u001b[0;34m]\u001b[0m \u001b[0;34m=\u001b[0m \u001b[0mvalue\u001b[0m\u001b[0;34m\u001b[0m\u001b[0;34m\u001b[0m\u001b[0m\n\u001b[0;32m--> 256\u001b[0;31m                 \u001b[0mself\u001b[0m\u001b[0;34m.\u001b[0m\u001b[0mresult\u001b[0m \u001b[0;34m=\u001b[0m \u001b[0mself\u001b[0m\u001b[0;34m.\u001b[0m\u001b[0mf\u001b[0m\u001b[0;34m(\u001b[0m\u001b[0;34m**\u001b[0m\u001b[0mself\u001b[0m\u001b[0;34m.\u001b[0m\u001b[0mkwargs\u001b[0m\u001b[0;34m)\u001b[0m\u001b[0;34m\u001b[0m\u001b[0;34m\u001b[0m\u001b[0m\n\u001b[0m\u001b[1;32m    257\u001b[0m                 \u001b[0mshow_inline_matplotlib_plots\u001b[0m\u001b[0;34m(\u001b[0m\u001b[0;34m)\u001b[0m\u001b[0;34m\u001b[0m\u001b[0;34m\u001b[0m\u001b[0m\n\u001b[1;32m    258\u001b[0m                 \u001b[0;32mif\u001b[0m \u001b[0mself\u001b[0m\u001b[0;34m.\u001b[0m\u001b[0mauto_display\u001b[0m \u001b[0;32mand\u001b[0m \u001b[0mself\u001b[0m\u001b[0;34m.\u001b[0m\u001b[0mresult\u001b[0m \u001b[0;32mis\u001b[0m \u001b[0;32mnot\u001b[0m \u001b[0;32mNone\u001b[0m\u001b[0;34m:\u001b[0m\u001b[0;34m\u001b[0m\u001b[0;34m\u001b[0m\u001b[0m\n",
                  "\u001b[0;32m<ipython-input-11-ccdb826be566>\u001b[0m in \u001b[0;36mrun_complex\u001b[0;34m(omega)\u001b[0m\n\u001b[1;32m     14\u001b[0m \u001b[0;34m\u001b[0m\u001b[0m\n\u001b[1;32m     15\u001b[0m     \u001b[0mKazalci\u001b[0m\u001b[0;34m=\u001b[0m\u001b[0;34m[\u001b[0m\u001b[0mUR\u001b[0m\u001b[0;34m,\u001b[0m\u001b[0mUL\u001b[0m\u001b[0;34m,\u001b[0m\u001b[0mUC\u001b[0m\u001b[0;34m]\u001b[0m\u001b[0;34m\u001b[0m\u001b[0;34m\u001b[0m\u001b[0m\n\u001b[0;32m---> 16\u001b[0;31m     \u001b[0mcomplex_plane3\u001b[0m\u001b[0;34m(\u001b[0m\u001b[0mKazalci\u001b[0m\u001b[0;34m,\u001b[0m\u001b[0;36m2\u001b[0m\u001b[0;34m,\u001b[0m\u001b[0;36m300\u001b[0m\u001b[0;34m)\u001b[0m  \u001b[0;31m# po potrebi razširi za ogled kode\u001b[0m\u001b[0;34m\u001b[0m\u001b[0;34m\u001b[0m\u001b[0m\n\u001b[0m\u001b[1;32m     17\u001b[0m \u001b[0;34m\u001b[0m\u001b[0m\n\u001b[1;32m     18\u001b[0m \u001b[0minteract\u001b[0m\u001b[0;34m(\u001b[0m\u001b[0mrun_complex\u001b[0m\u001b[0;34m,\u001b[0m\u001b[0momega\u001b[0m\u001b[0;34m=\u001b[0m\u001b[0mFloatSlider\u001b[0m\u001b[0;34m(\u001b[0m\u001b[0mmin\u001b[0m\u001b[0;34m=\u001b[0m\u001b[0;36m650\u001b[0m\u001b[0;34m,\u001b[0m \u001b[0mmax\u001b[0m\u001b[0;34m=\u001b[0m\u001b[0;36m950\u001b[0m\u001b[0;34m,\u001b[0m \u001b[0mstep\u001b[0m\u001b[0;34m=\u001b[0m\u001b[0;36m25\u001b[0m\u001b[0;34m)\u001b[0m\u001b[0;34m)\u001b[0m\u001b[0;34m;\u001b[0m\u001b[0;34m\u001b[0m\u001b[0;34m\u001b[0m\u001b[0m\n",
                  "\u001b[0;31mNameError\u001b[0m: name 'complex_plane3' is not defined"
                ]
              }
            ],
            "_view_module": "@jupyter-widgets/output",
            "_model_module_version": "1.0.0",
            "_view_count": null,
            "_view_module_version": "1.0.0",
            "layout": "IPY_MODEL_7c41bb3f2c954aba90c74dbb8fbed653",
            "_model_module": "@jupyter-widgets/output"
          }
        },
        "228f94b113674abbaa4865b989d70b80": {
          "model_module": "@jupyter-widgets/controls",
          "model_name": "SliderStyleModel",
          "state": {
            "_view_name": "StyleView",
            "handle_color": null,
            "_model_name": "SliderStyleModel",
            "description_width": "",
            "_view_module": "@jupyter-widgets/base",
            "_model_module_version": "1.5.0",
            "_view_count": null,
            "_view_module_version": "1.2.0",
            "_model_module": "@jupyter-widgets/controls"
          }
        },
        "2a2e352af55947d6883726d799bce72c": {
          "model_module": "@jupyter-widgets/base",
          "model_name": "LayoutModel",
          "state": {
            "_view_name": "LayoutView",
            "grid_template_rows": null,
            "right": null,
            "justify_content": null,
            "_view_module": "@jupyter-widgets/base",
            "overflow": null,
            "_model_module_version": "1.2.0",
            "_view_count": null,
            "flex_flow": null,
            "width": null,
            "min_width": null,
            "border": null,
            "align_items": null,
            "bottom": null,
            "_model_module": "@jupyter-widgets/base",
            "top": null,
            "grid_column": null,
            "overflow_y": null,
            "overflow_x": null,
            "grid_auto_flow": null,
            "grid_area": null,
            "grid_template_columns": null,
            "flex": null,
            "_model_name": "LayoutModel",
            "justify_items": null,
            "grid_row": null,
            "max_height": null,
            "align_content": null,
            "visibility": null,
            "align_self": null,
            "height": null,
            "min_height": null,
            "padding": null,
            "grid_auto_rows": null,
            "grid_gap": null,
            "max_width": null,
            "order": null,
            "_view_module_version": "1.2.0",
            "grid_template_areas": null,
            "object_position": null,
            "object_fit": null,
            "grid_auto_columns": null,
            "margin": null,
            "display": null,
            "left": null
          }
        }
      }
    }
  },
  "cells": [
    {
      "cell_type": "markdown",
      "metadata": {
        "id": "C0sMEXVqtWNA",
        "colab_type": "text"
      },
      "source": [
        "#  <center> Obravnava resonančnega pojava</center>"
      ]
    },
    {
      "cell_type": "markdown",
      "metadata": {
        "id": "ISL9pg10tWNC",
        "colab_type": "text"
      },
      "source": [
        "<br>\n",
        "<center>Dejan Križaj, 2019</center>\n",
        "\n",
        "**Namen:** Zvezek je namenjen seznanjanju študentov z uporabo Jupytra za analizo resonančnega pojava. Pri tem bomo uporabili analizo vezja s kompleksnim računom. Spoznali boste različne načine obravnave in vizualizacije resonančnega pojava, tako v časovnem prostoru kot tudi s kazalci v kompleksni ravnini in predvsem s prikazom v frekvenčnem prostoru. Pokazali bomo tudi, kako se računalniško določi pomembne parametre kot so resonančna frekvenca, bočni frekvenci in pasovna širina.\n",
        "\n",
        "**Povezani zvezki**:\n",
        "* O obravnavi vezij vzbujanih z izmeničnimi signali s kompleksnim računom"
      ]
    },
    {
      "cell_type": "markdown",
      "metadata": {
        "id": "0_Eu8sJDtWND",
        "colab_type": "text"
      },
      "source": [
        "<div class=\"alert alert-block alert-info\">\n",
        "<b>Namig:</b> Obstajata dve verziji tega dokumenta. Ena je v obliki html datoteke (končnica html), ki je ni mogoče izvajati, druga pa ima končnico ipny (Jupyter Notebook), ki jo lahko izvajamo z Jupyter aplikacijo. To aplikacijo imate lahko naloženo na vašem računalniku in se izvaja v brskalniku, lahko jo ogledujete s spletno aplikacijo nbViewer, s spletnimi aplikacijami Binder ali Google Colab pa jo lahko tudi zaganjate in spreminjate. Več o tem si preberite v \n",
        "<a href=\"http://lbm.fe.uni-lj.si/index.php?option=com_content&view=article&id=59&Itemid=135&lang=si\">tem članku</a>.\n",
        "<br>    \n",
        "Za izvajanje tega zvezka ne potrebujete posebnega znanja programiranja v Pythonu, lahko pa poljubno spreminjate kodo in se sproti učite tudi uporabe programskega jezika. Več podobnih primerov je na Githubu na https://github.com/osnove/Dodatno/\n",
        "</div>"
      ]
    },
    {
      "cell_type": "markdown",
      "metadata": {
        "id": "jxtR2mGptWND",
        "colab_type": "text"
      },
      "source": [
        "## Teorija - supernakratko\n",
        "\n",
        "Analizo vezij s kompleksnim računom smo že spoznali v predhodnem zvezku. Analiza resonančnega pojava se nanaša na analizo vezja, vzbujanega z izmeničnim signalom, s pomočjo kompleksnega računa. Resonančni pojav nastopi tedaj, ko pride v vezju do največjega prehajanja iz magnetne energije v električno in nazaj. Tedaj pride v vezju do bolj ali manj izrazitega povečanja tokov ali napetosti, kar  imenujemo tokovna ali napetostna resonanca. Očitno je za to potrebno, da imamo v vezju vsaj en element, ki je sposoben shranjevati električno energijo (kondezator) in en element, ki je sposoben shranjevati magnetno energijo (tuljava). V praksi pa je to lahko tudi en sam element, na primer tuljava, ki pa ima zaradi realne strukture tudi medovojne kapacitivnosti, ki povzročijo, da ima sama tuljava resonančne lastnosti pri določeni frekvenci.\n",
        "\n",
        "Vzemimo preprost primer vzbujanja zaporedne vezave upora, kondenzatorja in tuljave na izmenični vir napetosti. Za analizo takega preprostega vezja bi morali rešiti enačbo \n",
        "\n",
        "$u_g(t)=R i(t)+\\frac{1}{C}\\int{i(t) dt} + L \\frac {d i(t)}{dt}$. \n",
        "\n",
        "To enačbo bi morali prevesti v diferencialno enačbo in jo rešiti, kar je tudi potrebno, če analiziramo prehodni pojav. Če pa nas zanima kvazistacionarno stanje (prehodni pojav že izzveni), pa tako tok kot napetostni nihajo z vzbujalno napetostjo. Analizo takega vezja lahko opravimo s prehodom v kompleksni račun, ki zgornjo enačbo prevede v algebrajsko enačbo za kompleksor toka $\\underline{I}$ \n",
        "\n",
        "$\\underline{U}=R \\underline{I}+j\\omega L \\underline{I} + \\frac{ 1}{j\\omega C}\\underline{I} $. \n",
        "\n",
        "Od tod sledi, da je kompleksor toka \n",
        "$\\underline{I}=\\frac{\\underline{U}}{R +j\\omega L +1/(j\\omega C)}$. \n",
        "\n",
        "Če analiziramo zgornjo enačbo, ugotovimo, da bo tok največji tedaj, ko bo imenovalec najmanjši, to pa bo, ko bo $ \\omega L = 1/(\\omega C)$. Tedaj bo vezje v resonanci, tok pa bo enak kar $I=U/R$.\n",
        "\n",
        "V nadaljevanju si oglejmo, kako izračunavamo in analiziramo resonančni pojav z Jupytrom."
      ]
    },
    {
      "cell_type": "markdown",
      "metadata": {
        "id": "ush0doG7tWNF",
        "colab_type": "text"
      },
      "source": [
        "## Obravnava zaporednega RLC vezja s kompleksnim računom\n",
        "<img src=\"https://raw.githubusercontent.com/osnove/Slike/master/impedanca_RLC2.png\" style=\"height:150px\" align=\"left\"> \n",
        "\n",
        "Izračunajmo tok v vezju za naslednje podatke:\n",
        "\n",
        "$\\quad u_G(t)=50 \\cos (20 t) $  V  <br>\n",
        "$\\quad L=100 $ mH <br>\n",
        "$\\quad R = 2 \\, \\Omega$ <br>\n",
        "$\\quad C = 2 10^{-6} \\, $ F <br>"
      ]
    },
    {
      "cell_type": "code",
      "metadata": {
        "id": "LZb50iaWtWNG",
        "colab_type": "code",
        "colab": {
          "base_uri": "https://localhost:8080/",
          "height": 117
        },
        "outputId": "c02631e2-c715-443f-8412-1394e48426a4"
      },
      "source": [
        "import numpy as np\n",
        "L=150e-3\n",
        "R=20\n",
        "C=1e-5\n",
        "U=50\n",
        "omega=1000\n",
        "ZL=1j*omega*L\n",
        "ZC=1/(1j*omega*C)\n",
        "# Izračun impedance\n",
        "ZRLC=R+ZL+ZC\n",
        "print('ZRLC = ',ZRLC)\n",
        "om0=1/(np.sqrt(L*C))\n",
        "print(om0)\n",
        "\n",
        "# Izračun kompleksorja toka\n",
        "I=U/ZRLC\n",
        "print('I = ',I)\n",
        "\n",
        "# Izračun amplitude in faze\n",
        "Iabs=abs(I); print('Iabs = ',Iabs)\n",
        "fi=np.angle(I,deg=True); print('Faza = ',fi)\n",
        "print('i(t) = ',np.round(Iabs,2),'sin (',np.round(omega,0),'t + ',np.round(fi),') A')"
      ],
      "execution_count": 5,
      "outputs": [
        {
          "output_type": "stream",
          "text": [
            "ZRLC =  (20+50j)\n",
            "816.496580927726\n",
            "I =  (0.3448275862068966-0.8620689655172413j)\n",
            "Iabs =  0.9284766908852593\n",
            "Faza =  -68.19859051364818\n",
            "i(t) =  0.93 sin ( 1000 t +  -68.0 ) A\n"
          ],
          "name": "stdout"
        }
      ]
    },
    {
      "cell_type": "markdown",
      "metadata": {
        "id": "MVZLJpsBtWNK",
        "colab_type": "text"
      },
      "source": [
        "### Prikaz toka in napetosti v časovnem prostoru\n",
        "Določili smo amplitudo in fazni kot toka. Sedaj lahko tvorimo časovni signal, kot smo to opisali v uvodu. Formalno to naredimo tako, da pomnožimo dobljeni kompleksor z $e^{j \\omega t}$ in vzamemo realni del. V praksi to pomeni, da je rezultat $i(t)=I \\sin (\\omega t + \\varphi)$. "
      ]
    },
    {
      "cell_type": "code",
      "metadata": {
        "id": "eOardC_NtWNK",
        "colab_type": "code",
        "colab": {
          "base_uri": "https://localhost:8080/",
          "height": 281
        },
        "outputId": "24e5e657-9a38-41f9-ff69-818966640ffb"
      },
      "source": [
        "import matplotlib\n",
        "import matplotlib.pyplot as plt\n",
        "%matplotlib inline \n",
        "\n",
        "t = np.linspace(0.0, 20/omega, 1000)\n",
        "ug=U*np.sin(omega*t)\n",
        "i=Iabs*np.sin(omega*t+fi)\n",
        "\n",
        "fig, ax1 = plt.subplots()\n",
        "\n",
        "color = 'tab:red'\n",
        "ax1.set_xlabel('Čas (s)')\n",
        "ax1.set_ylabel('Napetost ug / V', color=color)\n",
        "ax1.plot(t, ug, color=color)\n",
        "\n",
        "ax1.tick_params(axis='y', labelcolor=color)\n",
        "ax1.grid(axis='x')\n",
        "\n",
        "ax2 = ax1.twinx()  # x os za drugi plot naj bo enaka x osi prvega plota\n",
        "ax2.set_ylim(-U/R,U/R)\n",
        "color = 'tab:blue'\n",
        "ax2.set_ylabel('Tok / A', color=color)  \n",
        "ax2.plot(t, i, color=color)\n",
        "ax2.tick_params(axis='y', labelcolor=color)\n",
        "plt.show()"
      ],
      "execution_count": 6,
      "outputs": [
        {
          "output_type": "display_data",
          "data": {
            "image/png": "[encoded data removed]",
            "text/plain": [
              "<Figure size 432x288 with 2 Axes>"
            ]
          },
          "metadata": {
            "tags": []
          }
        }
      ]
    },
    {
      "cell_type": "markdown",
      "metadata": {
        "id": "7MiHXKA-tWNN",
        "colab_type": "text"
      },
      "source": [
        "#### Opravi naslednje analize:\n",
        "1. Spreminjaj vrednosti krožne frekvence od 200 do 1200 s$^{-1}$ in opazuj amplitudo in fazni kot toka. X os je izdelana tako, da se normira na ogled par časovnih period, Y os je fiksirana na največjo možno amplitudo."
      ]
    },
    {
      "cell_type": "markdown",
      "metadata": {
        "id": "ABXuG5mOtWNO",
        "colab_type": "text"
      },
      "source": [
        "Nekoliko nerodno je stalno spreminjati krožno frekvenco in opazovati spremembe na grafu. Bolj elegantno se da to storiti z uporabo interaktivnih gradnikov, kot je na primer ipwidget. Spodnja celica kaže, kako narediti drsnik (slider), s katerim lahko spreminjamo krožno frekvenco vezja in opazujemo spremembe na grafu."
      ]
    },
    {
      "cell_type": "code",
      "metadata": {
        "code_folding": [
          2
        ],
        "id": "ZAUe7Z6utWNO",
        "colab_type": "code",
        "colab": {
          "base_uri": "https://localhost:8080/",
          "height": 313,
          "referenced_widgets": [
            "1d4d3222fbaa46aa86e96ccd27ac6441",
            "b78507245e1c4607b11f2b12118db2d0",
            "c517bf5270ff45f59012ee8f5a39c555",
            "79bb165659a648cd84c7c5823308e350",
            "35bfa863e6c94cbb8e46aec2d774e4f0",
            "afb13967dbd24c91b82f65bbc98727aa"
          ]
        },
        "outputId": "ab7ade04-e5d9-458c-ddda-bc1464b855ce"
      },
      "source": [
        "from ipywidgets import interactive\n",
        "\n",
        "def f(omega):\n",
        "    ZRLC=R+1j*omega*L+1/(1j*omega*C)\n",
        "    I=U/ZRLC\n",
        "    t = np.linspace(0.0, 20/omega, 1000)\n",
        "    ug=U*np.sin(omega*t)\n",
        "    i=abs(I)*np.sin(omega*t+np.angle(I,deg=True))\n",
        "\n",
        "    fig, ax1 = plt.subplots()\n",
        "    color = 'tab:red'\n",
        "    ax1.set_xlabel('Čas (s)')\n",
        "    ax1.set_ylabel('Napetost ug / V', color=color)\n",
        "    ax1.plot(t, ug, color=color)\n",
        "    ax1.tick_params(axis='y', labelcolor=color)\n",
        "    ax1.grid(axis='x')\n",
        "    ax2 = ax1.twinx()  # x os za drugi plot naj bo enaka x osi prvega plota\n",
        "    ax2.set_ylim(-U/R,U/R)\n",
        "    color = 'tab:blue'\n",
        "    ax2.set_ylabel('Tok / A', color=color)  \n",
        "    ax2.plot(t, i, color=color)\n",
        "    ax2.tick_params(axis='y', labelcolor=color)\n",
        "    plt.show()      # tok se izračunava znotraj funkcije, ki tudi vsakič znova izdela graf za vsako spremembo omega  # Razširi, če želiš videti vsebino\n",
        "\n",
        "interactive_plot = interactive(f, omega=(500, 1500,25)) # spreminjamo omega od 500 do 1500 s korakom po 25\n",
        "output = interactive_plot.children[-1]\n",
        "interactive_plot"
      ],
      "execution_count": 7,
      "outputs": [
        {
          "output_type": "display_data",
          "data": {
            "application/vnd.jupyter.widget-view+json": {
              "model_id": "1d4d3222fbaa46aa86e96ccd27ac6441",
              "version_minor": 0,
              "version_major": 2
            },
            "text/plain": [
              "interactive(children=(IntSlider(value=1000, description='omega', max=1500, min=500, step=25), Output()), _dom_…"
            ]
          },
          "metadata": {
            "tags": []
          }
        }
      ]
    },
    {
      "cell_type": "markdown",
      "metadata": {
        "id": "9kiLc8qgtWNR",
        "colab_type": "text"
      },
      "source": [
        "Ob spreminjanju frekvence vzbujalnega signala ugotovimo, da pri določeni krožni frekvenci, ki je v konkretnem primeru okoli 825 1/s, tok doseže največjo amplitudo. To stanje vezja imenujemo **tokovna resonanca**. \n",
        "\n",
        "Zanimivo je pogledati tudi napetosti na posameznih elementih vezja pri spreminjanju frekvence. Pripravimo naslednjo celico tako, da bo prikazovala napetosti na posameznih elementih in tok v vezju. (Graf bo nekoliko natlačen, zato ga za lažje opazovanje povečamo.)"
      ]
    },
    {
      "cell_type": "code",
      "metadata": {
        "code_folding": [],
        "id": "C8Wov4hitWNR",
        "colab_type": "code",
        "colab": {
          "base_uri": "https://localhost:8080/",
          "height": 422,
          "referenced_widgets": [
            "2380cfd18fc6439b941bda0326d7cee1",
            "72d3b217255e4386a6b03a6ee8ab0968",
            "50b3f17a713048068182daccd7afa9f1",
            "057482e9be684f9892a097ffeae9a2d3",
            "8b9b09f6d74e400ea21c14ff38517e1b",
            "4388205335a847ac9fce2b6972b6cf00"
          ]
        },
        "outputId": "970a310d-a79e-4df9-a7f1-26bb751c439a"
      },
      "source": [
        "from ipywidgets import interactive\n",
        "\n",
        "def f(omega):\n",
        "    ZRLC=R+1j*omega*L+1/(1j*omega*C)\n",
        "    I=U/ZRLC\n",
        "    UL=1j*omega*L*I\n",
        "    UC=I/(1j*omega*C)\n",
        "    UR=R*I\n",
        "    t = np.linspace(0.0, 20/omega, 1000)\n",
        "    ug=U*np.sin(omega*t)\n",
        "    i=abs(I)*np.sin(omega*t+np.angle(I,deg=True))\n",
        "    ur=i*R\n",
        "    uL=abs(UL)*np.sin(omega*t+np.angle(UL,deg=True))\n",
        "    uC=abs(UC)*np.sin(omega*t+np.angle(UC,deg=True))\n",
        "    \n",
        "    fig, ax1 = plt.subplots(figsize=(10, 6))\n",
        "    color = 'tab:red'\n",
        "    ax1.set_xlabel('Čas (s)')\n",
        "    ax1.set_ylabel('Napetost ug / V', color=color)\n",
        "    ax1.plot(t, ug, color=color,label='ug')\n",
        "    ax1.plot(t, uL,linestyle='--',color=color,label='uL')\n",
        "    ax1.plot(t, uC,linestyle=':',color=color,label='uC')\n",
        "    ax1.plot(t, ur,linestyle='-.',color='black',label='uR')\n",
        "    ax1.legend()\n",
        "    ax1.tick_params(axis='y', labelcolor=color)\n",
        "    ax1.grid(axis='x')\n",
        "    ax1.set_ylim(-10*U,10*U)\n",
        "    ax2 = ax1.twinx()  # x os za drugi plot naj bo enaka x osi prvega plota\n",
        "    ax2.set_ylim(-U/R,U/R)\n",
        "    color = 'tab:blue'\n",
        "    ax2.set_ylabel('Tok / A', color=color)  \n",
        "    ax2.plot(t, i, color=color)\n",
        "    ax2.tick_params(axis='y', labelcolor=color)\n",
        "    plt.show()      # tok se izračunava znotraj funkcije, ki tudi vsakič znova izdela graf za vsako spremembo omega  # po potrebi razširi za ogled kode\n",
        "    \n",
        "\n",
        "interactive_plot = interactive(f, omega=(500, 1500,25)) # spreminjamo omega od 500 do 1500 s korakom po 25\n",
        "output = interactive_plot.children[-1]\n",
        "interactive_plot"
      ],
      "execution_count": 8,
      "outputs": [
        {
          "output_type": "display_data",
          "data": {
            "application/vnd.jupyter.widget-view+json": {
              "model_id": "2380cfd18fc6439b941bda0326d7cee1",
              "version_minor": 0,
              "version_major": 2
            },
            "text/plain": [
              "interactive(children=(IntSlider(value=1000, description='omega', max=1500, min=500, step=25), Output()), _dom_…"
            ]
          },
          "metadata": {
            "tags": []
          }
        }
      ]
    },
    {
      "cell_type": "markdown",
      "metadata": {
        "id": "qklljkfctWNU",
        "colab_type": "text"
      },
      "source": [
        "**Analiza opazovanja:** \n",
        "1. Najprej ugotovimo, da so napetosti na posameznih elementih vezja precej večje od amplitude napajalne napetosti. To je seveda možno, saj mora biti vsota vseh napetosti na elementih enaka vzbujalni napetosti, ker pa so napetosti na elementih vezja med sabo zamaknjene za četrt periode, so lahko v določenih razmerah zelo velike a se med seboj \"navzven\" odštejejo. Predvsem to velja za napetost na kondenzatorju in tuljavi. Napetost na kondenzatorju zaostaja za tokom za četrt periode, na tuljavi pa ga prehiteva za četrt periode. Napetost na kondenzatorju in tuljavi sta tako fazno zamaknjeni za pol periode ali 180 stopinj, kar pomeni, da se med seboj (navzven) odštevata.\n",
        "2. Ker napetosti na posameznih elementih vezja precej presegajo napetost vzbujanja, to popravi v zgornji celici (išči ylim) in jo ponovno zaženi.\n",
        "3. Kako izrazita je resonanca (kako izrazito je povečanje toka), je odvisno od velikosti upora. Če je ta majhen v primerjavi z reaktancama pri resonanci ($\\omega_0 L$ in $\\frac{1}{\\omega_0 C}$), bo povečanje toka ob resonanci izrazito, sicer pa ne. Preveri to s spreminjanjem upornosti in ponovnim zagonom celic.\n"
      ]
    },
    {
      "cell_type": "markdown",
      "metadata": {
        "id": "tKcD93HLtWNU",
        "colab_type": "text"
      },
      "source": [
        "### Prikaz  kazalcev (kompleksorjev) toka in napetosti v kompleksni ravnini \n",
        "\n",
        "Način prikaza vzamemo iz datoteke <a href=\"https://github.com/osnove/Dodatno/blob/master/Obravnava_vezij_kompleksni_racun.ipynb\">Obravnava_vezij_kompleksni_racun.ipynb </a>\n",
        "  in uporabimo že izdelano funkcijo complex_plane3. Funkcija se nahaja v datoteki  <a href=\"https://github.com/osnove/other/blob/master/funkcije.py\">funkcije.py </a>. To funkcijo morate imeti naloženo v isti mapi od koder zaganjate Jupytra. Če delate preko Colaba pa je najlažje, da se iz datoteke funkcije.py skopira funkcijo complex_plane3 v novo celico in se jo zažene, s čemer postane aktivna znotraj celotnega zvezka. v tem primer je potrebno zakomentirati prvo vrstico *from funkcije import complex_plane3*, saj je funkcija že zagnana znotraj zvezka.\n",
        "\n",
        "Vsi kompleksorji napetosti so relativni na napetost vzbujanja, ki ima kazalec, ki je usmerjen v smeri realne osi (ker je fazni kot nič). Kazalec toka je odvisen od vrednosti impedanc, te pa od vrednosti elementov v vezju in frekvence. \n",
        "\n",
        "Kazalec napetosti na uporu je na sredini med kazalcema napetosti na kondenzatorju in tuljavi in je v fazi s kazalcev toka (ga ne rišemo, a vemo, da je tako). Če ima ta kazalec pozitivni fazni kot, pomeni, da tok v vezju prehiteva napetost na zunanjih sponkah. Takrat ima vezje kapacitivni značaj - napetost na kondenzatorju bo večja od napetosti na tuljavi. To bo pri nižjih frekvencah od resonančne, saj je tedaj je tedaj reaktanca kondenzatorja velika.\n",
        "\n",
        "Z višanjem frekvence pa narašča napetost na tuljavi. Pri frekvenci večji od resonančne bo napetost na tuljavi večja od napetosti na kondenzatorju.\n",
        "\n",
        "Pri resonančni frekvenci bo kazalec toka poravnan s kazalcem vzbujalne napetosti - torej usmerjen v smeri realne osi. Kazalca napetosti na tuljavi bosta tedaj enako velika."
      ]
    },
    {
      "cell_type": "code",
      "metadata": {
        "id": "2pm8u-LPtWNV",
        "colab_type": "code",
        "colab": {
          "base_uri": "https://localhost:8080/",
          "height": 33
        },
        "outputId": "a1e099e6-16a0-4f31-f2a2-861cfbc169fa"
      },
      "source": [
        "complex_plane3?"
      ],
      "execution_count": 9,
      "outputs": [
        {
          "output_type": "stream",
          "text": [
            "Object `complex_plane3` not found.\n"
          ],
          "name": "stdout"
        }
      ]
    },
    {
      "cell_type": "code",
      "metadata": {
        "id": "KIXCDwyztWNY",
        "colab_type": "code",
        "colab": {
          "base_uri": "https://localhost:8080/",
          "height": 245
        },
        "outputId": "0bf24fda-4457-457d-f97c-cc6b8b508297"
      },
      "source": [
        "#from funkcije import complex_plane3\n",
        "\n",
        "omega=820\n",
        "ZRLC=R+1j*omega*L+1/(1j*omega*C)\n",
        "I=U/ZRLC\n",
        "UL=1j*omega*L*I\n",
        "UC=I/(1j*omega*C)\n",
        "UR=R*I\n",
        "print('UR=',np.round(UR))\n",
        "print('UL=',np.round(UL))\n",
        "print('UC=',np.round(UC))\n",
        "\n",
        "Kazalci=[UR,UL,UC]\n",
        "complex_plane3(Kazalci,2,300) "
      ],
      "execution_count": 10,
      "outputs": [
        {
          "output_type": "stream",
          "text": [
            "UR= (50-3j)\n",
            "UL= (16+307j)\n",
            "UC= (-16-304j)\n"
          ],
          "name": "stdout"
        },
        {
          "output_type": "error",
          "ename": "NameError",
          "evalue": "ignored",
          "traceback": [
            "\u001b[0;31m---------------------------------------------------------------------------\u001b[0m",
            "\u001b[0;31mNameError\u001b[0m                                 Traceback (most recent call last)",
            "\u001b[0;32m<ipython-input-10-0e516b7d37cf>\u001b[0m in \u001b[0;36m<module>\u001b[0;34m()\u001b[0m\n\u001b[1;32m     11\u001b[0m \u001b[0;34m\u001b[0m\u001b[0m\n\u001b[1;32m     12\u001b[0m \u001b[0mKazalci\u001b[0m\u001b[0;34m=\u001b[0m\u001b[0;34m[\u001b[0m\u001b[0mUR\u001b[0m\u001b[0;34m,\u001b[0m\u001b[0mUL\u001b[0m\u001b[0;34m,\u001b[0m\u001b[0mUC\u001b[0m\u001b[0;34m]\u001b[0m\u001b[0;34m\u001b[0m\u001b[0;34m\u001b[0m\u001b[0m\n\u001b[0;32m---> 13\u001b[0;31m \u001b[0mcomplex_plane3\u001b[0m\u001b[0;34m(\u001b[0m\u001b[0mKazalci\u001b[0m\u001b[0;34m,\u001b[0m\u001b[0;36m2\u001b[0m\u001b[0;34m,\u001b[0m\u001b[0;36m300\u001b[0m\u001b[0;34m)\u001b[0m\u001b[0;34m\u001b[0m\u001b[0;34m\u001b[0m\u001b[0m\n\u001b[0m",
            "\u001b[0;31mNameError\u001b[0m: name 'complex_plane3' is not defined"
          ]
        }
      ]
    },
    {
      "cell_type": "markdown",
      "metadata": {
        "id": "Ra0Fl2jDtWNc",
        "colab_type": "text"
      },
      "source": [
        "Za lažje opazovanje zopet izdelajmo interaktivni gradnik (widget), s katerim lahko spreminjamo krožno frekvenco. Ugotovimo, da se kazalci \"vrtijo\" v odvisnosti od izbrane frekvence. To je OK, saj je fiksiran kazalec vzbujalne napetosti (ker gre za vzbujanje s kosinusnim signalom brez dodane faze, je njegov kompleksor usmerjen v smeri realne osi), kazalec toka pa je odvisen od impedance, ta pa od frekvence. Kazalec toka ne izrisujemo, vendar vemo, da je usmerjen v isti smeri kot kompleksor napetosti na uporu, ki je umeščen med kazalca napetosti na kondenzatorju in tuljavi. \n",
        "Kazalec napetosti na tuljavi prehiteva kazalec toka za četrt periode, kazalec napetosti na kondenzatorju pa zaostaja za kazalcem toka za četrt periode.\n",
        "\n",
        "Ko je vezje v resonanci, je kazalec toka usmerjen v isti smeri kot kazalec vzbujalne napetosti - torej v smeri realne osi. Tedaj sta kazalca napetosti na kondenzatorju in tuljavi največja. V bistvu so največji vsi trije kazalci. \n",
        "\n",
        "(Za bolj natančno spreminjanje frekvence spremeni step v ukazu interact.)"
      ]
    },
    {
      "cell_type": "code",
      "metadata": {
        "code_folding": [
          4
        ],
        "id": "31iO4cbstWNd",
        "colab_type": "code",
        "colab": {
          "base_uri": "https://localhost:8080/",
          "height": 427,
          "referenced_widgets": [
            "c28964bf8ec749c3b180d8cb9e1a43c6",
            "10adc0be74f04ac0b7cda0486a02a1ea",
            "ef281d48afc947b09838145b1eaec236",
            "32add9493f304a0fbf51fd8b7e038c61",
            "228f94b113674abbaa4865b989d70b80",
            "2a2e352af55947d6883726d799bce72c"
          ]
        },
        "outputId": "4f6c9422-a9ab-409d-89c4-0908090f6950"
      },
      "source": [
        "from ipywidgets import FloatSlider\n",
        "from ipywidgets import interact, interactive, fixed, interact_manual\n",
        "import ipywidgets as widgets\n",
        "\n",
        "def run_complex(omega):\n",
        "    ZRLC=R+1j*omega*L+1/(1j*omega*C)\n",
        "    I=U/ZRLC\n",
        "    UL=1j*omega*L*I\n",
        "    UC=I/(1j*omega*C)\n",
        "    UR=R*I\n",
        "    print('UR=',np.round(UR))\n",
        "    print('UL=',np.round(UL))\n",
        "    print('UC=',np.round(UC))\n",
        "\n",
        "    Kazalci=[UR,UL,UC]\n",
        "    complex_plane3(Kazalci,2,300)  # po potrebi razširi za ogled kode\n",
        "\n",
        "interact(run_complex,omega=FloatSlider(min=650, max=950, step=25));"
      ],
      "execution_count": 11,
      "outputs": [
        {
          "output_type": "display_data",
          "data": {
            "application/vnd.jupyter.widget-view+json": {
              "model_id": "c28964bf8ec749c3b180d8cb9e1a43c6",
              "version_minor": 0,
              "version_major": 2
            },
            "text/plain": [
              "interactive(children=(FloatSlider(value=650.0, description='omega', max=950.0, min=650.0, step=25.0), Output()…"
            ]
          },
          "metadata": {
            "tags": []
          }
        }
      ]
    },
    {
      "cell_type": "markdown",
      "metadata": {
        "id": "70i81kvZtWNf",
        "colab_type": "text"
      },
      "source": [
        "### Prikaz toka, napetosti in faze v frekvenčnem prostoru\n",
        "\n",
        "Še najbolj informativen pa je prikaz v frekvenčnem prostoru. To pomeni, da nas zanima, kako se spreminjajo veličine (tok, napetost, faza) s spreminjanjem frekvence. Na X osi bo torej frekvenca, na Y osi pa absolutne vrednosti toka ali napetosti,  ali pa fazni kot."
      ]
    },
    {
      "cell_type": "code",
      "metadata": {
        "code_folding": [
          14
        ],
        "id": "1SAJDirRtWNf",
        "colab_type": "code",
        "colab": {
          "base_uri": "https://localhost:8080/",
          "height": 283
        },
        "outputId": "d6b6235b-c925-4da6-f8c9-2887f5cc42c3"
      },
      "source": [
        "## Prikaz v frekvenčnem prostoru\n",
        "L=150e-3\n",
        "R=50\n",
        "C=1e-5\n",
        "U=50\n",
        "freq=np.arange(1,500,1)\n",
        "omega=2*np.pi*freq\n",
        "\n",
        "\n",
        "ZRLC=R+1j*omega*L+1/(1j*omega*C)\n",
        "I=U/ZRLC\n",
        "Uc=I/(1j*omega*C)\n",
        "UL=I*1j*omega*L\n",
        "\n",
        "def f():\n",
        "    fig, ax1 = plt.subplots()\n",
        "\n",
        "    color = 'tab:red'\n",
        "    ax1.set_xlabel('Frekvenca (Hz)')\n",
        "    ax1.set_ylabel('Napetost  / V', color=color)\n",
        "    ax1.plot(freq, abs(Uc), color=color,label='Uc')\n",
        "    ax1.plot(freq, abs(UL), color=color,Linestyle='--',label='UL')\n",
        "    ax1.plot(freq, abs(I*R), color=color,Linestyle=':',label='UR')\n",
        "    ax1.legend()\n",
        "    ax1.tick_params(axis='y', labelcolor=color)\n",
        "    ax1.grid(axis='x')\n",
        "\n",
        "    ax2 = ax1.twinx()  # x os za drugi plot naj bo enaka x osi prvega plota\n",
        "    ax2.set_ylim(0,U/R)\n",
        "    color = 'tab:blue'\n",
        "    ax2.set_ylabel('Tok / A', color=color)  \n",
        "    ax2.plot(freq, abs(I), color=color)\n",
        "    ax2.tick_params(axis='y', labelcolor=color)\n",
        "    plt.show() # po potrebi razširi\n",
        "f() # razširi po potrebi"
      ],
      "execution_count": 12,
      "outputs": [
        {
          "output_type": "display_data",
          "data": {
            "image/png": "[encoded data removed]",
            "text/plain": [
              "<Figure size 432x288 with 2 Axes>"
            ]
          },
          "metadata": {
            "tags": []
          }
        }
      ]
    },
    {
      "cell_type": "markdown",
      "metadata": {
        "id": "zLFWkvxttWNh",
        "colab_type": "text"
      },
      "source": [
        "**Razlaga slike:** Zgornja slika nazorno prikaže frekvence, pri katerih je odziv vezja (tok) največji. Ko je tok največji, so največje tudi napetosti na posameznih elementih vezja. Napetost na tuljavi je enako velika kot napetost na kondenzatorju. Sta pa ti napetosti v protifazi (zamaknjeni za $\\pi$), kar pa na tej sliki ni razvidno. Za ta vpogled je boljši prikaz v časovnem prostoru ali prikaz s kompleksorji v kompleksni ravnini. Napetost na kondenzatorju in tuljavi lahko tudi večkrat preseže amplitudo napajalne napetosti.\n",
        "\n",
        "Opazimo tudi, da je pri nizkih frekvencah večina napetosti na kondenzatorju (ki ima veliko upornost pri nizkih frekvencah ($1/\\omega C$), pri frekvencah nad resonančno pa je večina napetosti na tuljavi (saj upornost (reaktanca) tuljave linearno narašča s frekvenco - $\\omega L$."
      ]
    },
    {
      "cell_type": "markdown",
      "metadata": {
        "id": "7VXZV3MvtWNi",
        "colab_type": "text"
      },
      "source": [
        "#### Opravi naslednje analize:\n",
        "1. Spreminjaj kapacitivnost kondenzatorja in opazuj spremembe odziva.\n",
        "2. Spreminjaj induktivnost tuljave in opazuj spremembe odziva.\n",
        "3. Spreminjaj upornost in opazuj spremembe odziva.\n",
        "4. Spremeni graf tako, da bo namesto napetosti in toka prikazoval fazni kot in tok. Poišči razlago za spreminjanje faze in poglej, koliko je fazni kot v resonanci. Za boljše opazovanje nariši še dodatno črto pri faznem kotu enakem 0 za celo frekvenčno področje. (Rešitev je na koncu zvezka)\n",
        "5. Spremeni graf tako, da boš izrisal več krivulj toka za več različnih upornosti (lahko tudi kapacitivnosti ali induktivnosti). Za primer poglej zadnji primer v https://github.com/osnove/Dodatno/blob/master/Primer_diff_enacbe_analiticno.ipynb. (Rešitev je na koncu zvezka)"
      ]
    },
    {
      "cell_type": "code",
      "metadata": {
        "id": "JsaLdElhtWNi",
        "colab_type": "code",
        "colab": {
          "base_uri": "https://localhost:8080/",
          "height": 283
        },
        "outputId": "9c85831a-5244-4a4c-975a-5fa23fef58a8"
      },
      "source": [
        "R=50\n",
        "C=1e-5\n",
        "U=50\n",
        "freq=np.arange(1,500,1)\n",
        "omega=2*np.pi*freq\n",
        "\n",
        "\n",
        "ZRLC=R+1j*omega*L+1/(1j*omega*C)\n",
        "I=U/ZRLC\n",
        "Uc=I/(1j*omega*C)\n",
        "UL=I*1j*omega*L\n",
        "\n",
        "def f():\n",
        "    fig, ax1 = plt.subplots()\n",
        "\n",
        "    color = 'tab:red'\n",
        "    ax1.set_xlabel('Frekvenca (Hz)')\n",
        "    ax1.set_ylabel('Napetost  / V', color=color)\n",
        "    ax1.plot(freq, abs(Uc), color=color,label='Uc')\n",
        "    ax1.plot(freq, abs(UL), color=color,Linestyle='--',label='UL')\n",
        "    ax1.plot(freq, abs(I*R), color=color,Linestyle=':',label='UR')\n",
        "    ax1.legend()\n",
        "    ax1.tick_params(axis='y', labelcolor=color)\n",
        "    ax1.grid(axis='x')\n",
        "\n",
        "    ax2 = ax1.twinx()  # x os za drugi plot naj bo enaka x osi prvega plota\n",
        "    ax2.set_ylim(0,U/R)\n",
        "    color = 'tab:blue'\n",
        "    ax2.set_ylabel('Tok / A', color=color)  \n",
        "    ax2.plot(freq, abs(I), color=color)\n",
        "    ax2.tick_params(axis='y', labelcolor=color)\n",
        "    plt.show() # po potrebi razširi\n",
        "f() # razširi po potrebi\n"
      ],
      "execution_count": 13,
      "outputs": [
        {
          "output_type": "display_data",
          "data": {
            "image/png": "[encoded data removed]",
            "text/plain": [
              "<Figure size 432x288 with 2 Axes>"
            ]
          },
          "metadata": {
            "tags": []
          }
        }
      ]
    },
    {
      "cell_type": "markdown",
      "metadata": {
        "id": "uliCtT_ptWNk",
        "colab_type": "text"
      },
      "source": [
        "### Dodatni izračuni - resonančna frekvenca, bočni frekvenci, pasovna širina, kvaliteta vezja\n",
        "\n",
        "Iz teorije vemo, da je pri zaporednem RLC vezju resonančna krožna frekvenca $\\omega_0 = \\frac{1}{\\sqrt (LC)}$. Za bolj splošno RLC vezje je težje priti do analitičnega izraza zato si poglejmo, kako bi ga določili iz slike. Poiskati moramo največjo vrednost toka in pogledati, pri kateri frekvenci nastopi. Podoben primer smo obravnavali že pri iskanju časovne konstante v tem zvezku: https://github.com/osnove/Dodatno/blob/master/Primer_diff_enacbe_analiticno.ipynb.\n",
        "\n",
        "Bočni frekvenci in pasovna širina sta podatka, ki dajeta informacije o obliki resonančne krivulje. Bočni frekvenci poiščemo tako, da poiščemo frekvenci, pri kateri je amplituda toka za koren iz 2 manjša od amplitude toka pri resonanci, torej $f_{bočna} = f(I=I(f_0)/\\sqrt2)$. Za zaporedno RLC vezje jo je mogoče določiti analitično, mi bomo to naredili numerično, podobno, kot smo poiskali resonančno frekvenco.\n",
        "\n",
        "Pasovna širina je preprosto razlika med zgornjo in spodnjo bočno frekvenco: $B=f_{zgornja}-f_{spodnja}$.\n",
        "\n",
        "Poznamo tudi pojem normirane pasovne širine - normiramo jo z resonančno frekvenco, torej $B_{norm}=\\frac{f_{zgornja}-f_{spodnja}}{f_0}$. Obratna vrednost od normirane pasovne širine je kvaliteta vezja $Q$. \n",
        "**Sam dopiši enačbe za izračun in izpis normirane pasovne širine in kvalitete v spodnjo celico.**"
      ]
    },
    {
      "cell_type": "code",
      "metadata": {
        "code_folding": [],
        "id": "W3p6Xi1vtWNl",
        "colab_type": "code",
        "colab": {
          "base_uri": "https://localhost:8080/",
          "height": 117
        },
        "outputId": "01c604fa-85a7-4f60-98c6-668d18d162e0"
      },
      "source": [
        "## Analitičen izračun resonančne frekvence\n",
        "freq_0=1/(2*np.pi*np.sqrt(L*C))\n",
        "print('Resonančna frekvenca = ',freq_0)\n",
        "\n",
        "index_tok=np.where(abs(I)==max( abs(I))) # indeksi, kjer je izpolnjen pogoj\n",
        "res_freq=freq[index_tok]\n",
        "print('Iz grafa določena resonančna frekvenca = ',res_freq)\n",
        "print()\n",
        "\n",
        "## Poiščemo indekse, kjer je I>I/sqrt(2)\n",
        "index_tok=np.where(abs(I)>( abs(max(I))/np.sqrt(2))) # indeksi, kjer je izpolnjen pogoj\n",
        "#print(index_tok) # prvi indeks je kjer je spodnja bočna, zadnji, kjer je zgornja bočna frekvenca\n",
        "f_spodnja=freq[index_tok[0][0]]\n",
        "f_zgornja=freq[max(index_tok[0])]\n",
        "f_pasovna=f_zgornja-f_spodnja\n",
        "print('Spodnja bočna frekvenca = ',f_spodnja)\n",
        "print('Zgornja bočna frekvenca = ',f_zgornja)\n",
        "print('Pasovna širina = ',f_pasovna)"
      ],
      "execution_count": 14,
      "outputs": [
        {
          "output_type": "stream",
          "text": [
            "Resonančna frekvenca =  129.94946687227934\n",
            "Iz grafa določena resonančna frekvenca =  [130]\n",
            "\n",
            "Spodnja bočna frekvenca =  107\n",
            "Zgornja bočna frekvenca =  159\n",
            "Pasovna širina =  52\n"
          ],
          "name": "stdout"
        }
      ]
    },
    {
      "cell_type": "markdown",
      "metadata": {
        "id": "ajyf6EXZtWNn",
        "colab_type": "text"
      },
      "source": [
        "Spodaj je izris spodnje in zgornje bočne frekvence, ki sta izračunani v zgornji celici. \n",
        "\n",
        "**Opravi naslednje analize:** Spreminjaj vrednost upornosti in opazuj spremembe pasovne širine. Ali sprememba kapacitivnosti ali induktivnosti vpliva na spremembo pasovne širine? "
      ]
    },
    {
      "cell_type": "code",
      "metadata": {
        "code_folding": [
          0
        ],
        "id": "XD-JBAGbtWNo",
        "colab_type": "code",
        "colab": {
          "base_uri": "https://localhost:8080/",
          "height": 302
        },
        "outputId": "bf347c38-6571-4611-9aae-75944ff95a04"
      },
      "source": [
        "def f():\n",
        "    fig, ax2 = plt.subplots()\n",
        "    ax2.set_ylim(0,U/R)\n",
        "    color = 'tab:blue'\n",
        "    ax2.set_ylabel('Tok / A', color=color)  \n",
        "    ax2.plot(freq, abs(I), color=color)\n",
        "    #ax2.plot([min(freq),max(freq)], [max(I)/np.sqrt(2),max(I)/np.sqrt(2)], color=color,Linestyle=':') # naredi linijo pri faza=0\n",
        "    #ax2.plot([f_spodnja,f_spodnja], [0,U/R], color=color,Linestyle=':') # naredi linijo pri f_spodnja\n",
        "    #ax2.plot([f_zgornja,f_zgornja], [0,U/R], color=color,Linestyle=':') # naredi linijo pri f_zgornja\n",
        "    ax2.axhline(max(I)/np.sqrt(2),Linestyle=':') # horizontalna linija\n",
        "    ax2.axvline(f_zgornja,Linestyle=':') # krajši zapis za vertikalno linijo\n",
        "    ax2.axvline(f_spodnja,Linestyle=':')\n",
        "    ax2.axvspan(f_spodnja, f_zgornja, facecolor='g', alpha=0.1) # zelena površina\n",
        "    \n",
        "    ax2.tick_params(axis='y', labelcolor=color)\n",
        "    plt.show()\n",
        "f()"
      ],
      "execution_count": 29,
      "outputs": [
        {
          "output_type": "stream",
          "text": [
            "/usr/local/lib/python3.6/dist-packages/numpy/core/_asarray.py:85: ComplexWarning: Casting complex values to real discards the imaginary part\n",
            "  return array(a, dtype, copy=False, order=order)\n"
          ],
          "name": "stderr"
        },
        {
          "output_type": "display_data",
          "data": {
            "image/png": "[encoded data removed]",
            "text/plain": [
              "<Figure size 432x288 with 1 Axes>"
            ]
          },
          "metadata": {
            "tags": []
          }
        }
      ]
    },
    {
      "cell_type": "code",
      "metadata": {
        "id": "xP86tLuVtWNr",
        "colab_type": "code",
        "colab": {}
      },
      "source": [
        "### Dodatni prikazi in izračuni"
      ],
      "execution_count": 0,
      "outputs": []
    },
    {
      "cell_type": "markdown",
      "metadata": {
        "id": "qkAyEqdatWNt",
        "colab_type": "text"
      },
      "source": [
        "### Zdaj pa ti\n",
        "\n",
        "V tem zvezku smo pokazali možno obravnavo zaporednega RLC vezja in resonančnega pojava. V bistvu ima vsako vezje, ki vsebuje več kot en reaktivni element (element, ki shranjuje energijo v magnetnem ali električnem polju) možno resonančno stanje. Druga najbolj pogosta analiza je analiza vezja vporedno vezanih RLC elementov. Tam je seveda skupna enaka napetost, različni pa so tokovi v vezju. Privošči si analizo takega ali kakšnega podobnega vezja. Najlažje tako, da ta zvezek skopiraš, ga preimenuješ in preoblikuješ po svojih potrebah.\n"
      ]
    },
    {
      "cell_type": "markdown",
      "metadata": {
        "id": "WE1lfMsltWNu",
        "colab_type": "text"
      },
      "source": [
        "## Zaključek\n",
        "\n",
        "V zvezku smo spoznali način način obravnave resonančnega pojava s kompleksnim računom. Pokazali smo, da je za resonanco značilno izrazito povečanje toka ali napetosti na zunanjih sponkah vezja, kar pa se odraža tudi na tokovih ali napetostih v vezju, ki lahko celo večkratno presežejo vrednost napajalne napetosti ali toka. To je lahko v določenih aplikacijah izkoriščeno v prid, v drugih pa je morda lahko velik problem in povzroči uničenje elementov oz. naprave.\n",
        "\n",
        "Za karakterizacijo resonančne krivulje uporabimo pojem spodnje in zgornje bočne frekvence, ki je določena kot frekvenca, pri kateri se tok ali napetost (odvisno kaj \"resonira\") pri resonanci zmanjša za $\\sqrt 2$. Razliko med bočnima frekvencama imenujemo pasovna širina, obratna vrednost od normirane pasovna širine pa je kvaliteta.\n",
        "\n",
        "**Naslednje branje:** O frekvečnih lastnostih realnih elementov."
      ]
    },
    {
      "cell_type": "code",
      "metadata": {
        "id": "XiEOmbBrtWNu",
        "colab_type": "code",
        "colab": {}
      },
      "source": [
        ""
      ],
      "execution_count": 0,
      "outputs": []
    },
    {
      "cell_type": "code",
      "metadata": {
        "id": "cecgf-ZqtWNw",
        "colab_type": "code",
        "colab": {}
      },
      "source": [
        ""
      ],
      "execution_count": 0,
      "outputs": []
    },
    {
      "cell_type": "markdown",
      "metadata": {
        "id": "MUnWuCIytWNy",
        "colab_type": "text"
      },
      "source": [
        "## Rešitve"
      ]
    },
    {
      "cell_type": "code",
      "metadata": {
        "code_folding": [
          0,
          12
        ],
        "id": "jKy09tR_tWNz",
        "colab_type": "code",
        "colab": {},
        "outputId": "367db2ac-8c39-4a39-b5ba-123f87ae473e"
      },
      "source": [
        "## Izris faznega kota in toka v odvisnosti od frekvence - izziv 2.3.1\n",
        "L=150e-3\n",
        "R=20\n",
        "C=1e-5\n",
        "U=50\n",
        "freq=np.arange(1,500,1)\n",
        "omega=2*np.pi*freq\n",
        "\n",
        "ZRLC=R+1j*omega*L+1/(1j*omega*C)\n",
        "I=U/ZRLC\n",
        "faza= np.angle(I)\n",
        "\n",
        "def f():\n",
        "    fig, ax1 = plt.subplots()\n",
        "\n",
        "    color = 'tab:red'\n",
        "    ax1.set_xlabel('Frekvenca (Hz)')\n",
        "    ax1.set_ylabel('fazni kot / stopinje', color=color)\n",
        "    ax1.plot(freq, faza, color=color)\n",
        "    ax1.plot([min(freq),max(freq)], [0,0], color=color,Linestyle=':') # naredi linijo pri faza=0\n",
        "    ax1.tick_params(axis='y', labelcolor=color)\n",
        "    ax1.grid(axis='x')\n",
        "\n",
        "    ax2 = ax1.twinx()  # x os za drugi plot naj bo enaka x osi prvega plota\n",
        "    ax2.set_ylim(0,U/R)\n",
        "    color = 'tab:blue'\n",
        "    ax2.set_ylabel('Tok / A', color=color)  \n",
        "    ax2.plot(freq, abs(I), color=color)\n",
        "    ax2.tick_params(axis='y', labelcolor=color)\n",
        "    plt.show()\n",
        "f()"
      ],
      "execution_count": 0,
      "outputs": [
        {
          "output_type": "display_data",
          "data": {
            "text/html": [
              "<script src='https://www.gstatic.com/external_hosted/mathjax/latest/MathJax.js?config=default'></script>"
            ],
            "text/plain": [
              "<IPython.core.display.HTML object>"
            ]
          },
          "metadata": {
            "tags": []
          }
        },
        {
          "output_type": "display_data",
          "data": {
            "text/html": [
              "<script src='https://www.gstatic.com/external_hosted/mathjax/latest/MathJax.js?config=default'></script>"
            ],
            "text/plain": [
              "<IPython.core.display.HTML object>"
            ]
          },
          "metadata": {
            "tags": []
          }
        },
        {
          "output_type": "display_data",
          "data": {
            "image/png": "[encoded data removed]",
            "text/plain": [
              "<Figure size 432x288 with 2 Axes>"
            ]
          },
          "metadata": {
            "tags": [],
            "needs_background": "light"
          }
        }
      ]
    },
    {
      "cell_type": "code",
      "metadata": {
        "code_folding": [
          0
        ],
        "id": "XZpj2ZZwtWN3",
        "colab_type": "code",
        "colab": {},
        "outputId": "2641a79b-3646-4fa7-cb60-69dc3e8a6895"
      },
      "source": [
        "## Izris resonančne krivulje za več upornosti\n",
        "R=[10,20,50]\n",
        "C=1e-5\n",
        "U=50\n",
        "freq=np.arange(1,300,1)\n",
        "omega=2*np.pi*freq\n",
        "\n",
        "Linestyle=['-','--',':']\n",
        "\n",
        "\n",
        "fig, ax2 = plt.subplots()\n",
        "\n",
        "ax2.set_ylim(0,U/min(R))\n",
        "color = 'tab:blue'\n",
        "for i in range(len(R)):\n",
        "    ZRLC=R[i]+1j*omega*L+1/(1j*omega*C)\n",
        "    I=U/ZRLC\n",
        "    labela=r'$R = $'+str(R[i] ) + r'$ \\;\\Omega $'\n",
        "    ax2.plot(freq, abs(I), Linestyle=Linestyle[i],color=color,label=labela)\n",
        "\n",
        "ax2.set_ylabel('Tok / A', color=color)\n",
        "ax2.legend()\n",
        "ax2.tick_params(axis='y', labelcolor=color)\n",
        "plt.show() # po potrebi razširi"
      ],
      "execution_count": 0,
      "outputs": [
        {
          "output_type": "display_data",
          "data": {
            "text/html": [
              "<script src='https://www.gstatic.com/external_hosted/mathjax/latest/MathJax.js?config=default'></script>"
            ],
            "text/plain": [
              "<IPython.core.display.HTML object>"
            ]
          },
          "metadata": {
            "tags": []
          }
        },
        {
          "output_type": "display_data",
          "data": {
            "text/html": [
              "<script src='https://www.gstatic.com/external_hosted/mathjax/latest/MathJax.js?config=default'></script>"
            ],
            "text/plain": [
              "<IPython.core.display.HTML object>"
            ]
          },
          "metadata": {
            "tags": []
          }
        },
        {
          "output_type": "display_data",
          "data": {
            "image/png": "[encoded data removed]",
            "text/plain": [
              "<Figure size 432x288 with 1 Axes>"
            ]
          },
          "metadata": {
            "tags": [],
            "needs_background": "light"
          }
        }
      ]
    },
    {
      "cell_type": "code",
      "metadata": {
        "id": "ja7nPIKItWN6",
        "colab_type": "code",
        "colab": {}
      },
      "source": [
        ""
      ],
      "execution_count": 0,
      "outputs": []
    }
  ]
}